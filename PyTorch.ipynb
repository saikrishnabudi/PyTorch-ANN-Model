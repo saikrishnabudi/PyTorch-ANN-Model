{
  "nbformat": 4,
  "nbformat_minor": 0,
  "metadata": {
    "colab": {
      "provenance": []
    },
    "kernelspec": {
      "name": "python3",
      "display_name": "Python 3"
    },
    "language_info": {
      "name": "python"
    }
  },
  "cells": [
    {
      "cell_type": "markdown",
      "source": [
        "We are using the PyTorch Library to build the Artificial Neural Netowrk model on Indian Diabeties classification dataset\n"
      ],
      "metadata": {
        "id": "lcSO6OZl12Y1"
      }
    },
    {
      "cell_type": "code",
      "source": [
        "# Importing the required libraries\n",
        "import numpy as np\n",
        "import torch\n",
        "import torch.nn as nn\n",
        "import torch.optim as optim\n",
        "import tqdm\n",
        "from sklearn.model_selection import train_test_split"
      ],
      "metadata": {
        "id": "24xaLMwH2Hvn"
      },
      "execution_count": 25,
      "outputs": []
    },
    {
      "cell_type": "code",
      "source": [
        "# Load and read the dataset\n",
        "data=np.loadtxt(\"/content/pima-indians-diabetes.data.csv\",delimiter=\",\")\n",
        "\n",
        "# Seperating the data into X & Y\n",
        "X=data[:,0:8]\n",
        "y=data[:,8]\n",
        "\n",
        "#Converting the data into Tensors (Multidimensional Arrays)\n",
        "X=torch.tensor(X,dtype=torch.float32)\n",
        "y=torch.tensor(y,dtype=torch.float32).reshape(-1,1)\n",
        "X_train,X_test,y_train,y_test=train_test_split(X,y,test_size=0.33)\n",
        "\n",
        "#Building the Neural Network Model\n",
        "model=nn.Sequential(nn.Linear(8,12),  # 8 inputs( 8 indepenndent variables), 12 Hidden layers\n",
        "                    nn.ReLU(),        # Using ReLU activation function\n",
        "                    nn.Linear(12,8),  # Connecting Again\n",
        "                    nn.ReLU(),        # Using ReLU function\n",
        "                    nn.Linear(8,1),   #Again Connecting to output layer ( Binary Classification Problem (0 or 1)) for this we use the Sigmoid function\n",
        "                    nn.Sigmoid()\n",
        ")\n",
        "\n",
        "# Loss Function Optimizer (For Loss function used the Binary Class Entropy)\n",
        "loss_fn=nn.BCELoss()\n",
        "optimizer=optim.Adam(model.parameters(),lr=0.0001)    # Optimizer we used Adam / Learning Rate is can changes\n",
        "\n",
        "n_epochs=50\n",
        "batch_size=10\n",
        "batches_per_epoch=len(X_train)//batch_size\n",
        "\n",
        "# Training the model for total no of batches\n",
        "for epoch in range(n_epochs):\n",
        "  with tqdm.trange(batches_per_epoch,unit=\"batch\",mininterval=0) as bar:   # Bar is able to display each batch run and accuracy getting for the batch\n",
        "    bar.set_description(f\"Epoch {epoch}\")\n",
        "    for i in bar:\n",
        "\n",
        "      #Take a batch\n",
        "      start=i*batch_size\n",
        "\n",
        "      # Splitting the batch into Xtrain & Ytrain\n",
        "      X_batch=X_train[start:start+batch_size]\n",
        "      y_batch=y_train[start:start+batch_size]\n",
        "\n",
        "      #Forward Pass\n",
        "      y_pred=model(X_batch)\n",
        "      loss=loss_fn(y_pred,y_batch)\n",
        "\n",
        "      #Backward Pass\n",
        "      optimizer.zero_grad()\n",
        "      loss.backward()\n",
        "\n",
        "      # Update weights\n",
        "      optimizer.step()\n",
        "\n",
        "      #Print Progress\n",
        "      acc=(y_pred.round() == y_batch).float().mean()\n",
        "      acc=float(acc)\n",
        "      print(f\"End of {epoch},accuracy{acc}\")\n",
        "\n"
      ],
      "metadata": {
        "colab": {
          "base_uri": "https://localhost:8080/"
        },
        "id": "fragggG32iKP",
        "outputId": "17a0e5fe-2521-4002-87a3-6290747c5b28"
      },
      "execution_count": 26,
      "outputs": [
        {
          "output_type": "stream",
          "name": "stderr",
          "text": [
            "Epoch 0:  41%|████      | 21/51 [00:00<00:00, 100.15batch/s]"
          ]
        },
        {
          "output_type": "stream",
          "name": "stdout",
          "text": [
            "End of 0,accuracy0.5\n",
            "End of 0,accuracy0.699999988079071\n",
            "End of 0,accuracy0.699999988079071\n",
            "End of 0,accuracy0.800000011920929\n",
            "End of 0,accuracy0.6000000238418579\n",
            "End of 0,accuracy0.699999988079071\n",
            "End of 0,accuracy0.699999988079071\n",
            "End of 0,accuracy0.699999988079071\n",
            "End of 0,accuracy0.5\n",
            "End of 0,accuracy0.4000000059604645\n",
            "End of 0,accuracy0.5\n",
            "End of 0,accuracy0.800000011920929\n",
            "End of 0,accuracy0.800000011920929\n",
            "End of 0,accuracy0.699999988079071\n",
            "End of 0,accuracy0.699999988079071\n",
            "End of 0,accuracy0.800000011920929\n",
            "End of 0,accuracy0.699999988079071\n",
            "End of 0,accuracy0.5\n",
            "End of 0,accuracy0.6000000238418579\n",
            "End of 0,accuracy0.20000000298023224\n",
            "End of 0,accuracy0.800000011920929\n",
            "End of 0,accuracy0.5"
          ]
        },
        {
          "output_type": "stream",
          "name": "stderr",
          "text": [
            "Epoch 0:  82%|████████▏ | 42/51 [00:00<00:00, 177.44batch/s]"
          ]
        },
        {
          "output_type": "stream",
          "name": "stdout",
          "text": [
            "\n",
            "End of 0,accuracy0.5\n",
            "End of 0,accuracy0.30000001192092896\n",
            "End of 0,accuracy0.5\n",
            "End of 0,accuracy0.30000001192092896\n",
            "End of 0,accuracy0.30000001192092896\n",
            "End of 0,accuracy0.4000000059604645\n",
            "End of 0,accuracy0.4000000059604645\n",
            "End of 0,accuracy0.5\n",
            "End of 0,accuracy0.6000000238418579\n",
            "End of 0,accuracy0.6000000238418579\n",
            "End of 0,accuracy0.4000000059604645\n",
            "End of 0,accuracy0.5\n",
            "End of 0,accuracy0.30000001192092896\n",
            "End of 0,accuracy0.30000001192092896\n",
            "End of 0,accuracy0.800000011920929\n",
            "End of 0,accuracy0.6000000238418579\n",
            "End of 0,accuracy0.5\n",
            "End of 0,accuracy0.6000000238418579\n",
            "End of 0,accuracy0.4000000059604645\n",
            "End of 0,accuracy0.5\n",
            "End of 0,accuracy0.6000000238418579\n"
          ]
        },
        {
          "output_type": "stream",
          "name": "stderr",
          "text": [
            "Epoch 0: 100%|██████████| 51/51 [00:00<00:00, 104.69batch/s]\n"
          ]
        },
        {
          "output_type": "stream",
          "name": "stdout",
          "text": [
            "End of 0,accuracy0.800000011920929\n",
            "End of 0,accuracy0.5\n",
            "End of 0,accuracy0.5\n",
            "End of 0,accuracy0.699999988079071\n",
            "End of 0,accuracy0.5\n",
            "End of 0,accuracy0.4000000059604645\n",
            "End of 0,accuracy0.800000011920929\n",
            "End of 0,accuracy0.6000000238418579\n"
          ]
        },
        {
          "output_type": "stream",
          "name": "stderr",
          "text": [
            "Epoch 1:  27%|██▋       | 14/51 [00:00<00:00, 103.89batch/s]"
          ]
        },
        {
          "output_type": "stream",
          "name": "stdout",
          "text": [
            "End of 1,accuracy0.6000000238418579\n",
            "End of 1,accuracy0.699999988079071\n",
            "End of 1,accuracy0.699999988079071\n",
            "End of 1,accuracy0.800000011920929\n",
            "End of 1,accuracy0.6000000238418579\n",
            "End of 1,accuracy0.800000011920929\n",
            "End of 1,accuracy0.6000000238418579\n",
            "End of 1,accuracy0.699999988079071\n",
            "End of 1,accuracy0.6000000238418579\n",
            "End of 1,accuracy0.5\n",
            "End of 1,accuracy0.5\n",
            "End of 1,accuracy0.699999988079071\n",
            "End of 1,accuracy0.8999999761581421\n",
            "End of 1,accuracy0.699999988079071\n"
          ]
        },
        {
          "output_type": "stream",
          "name": "stderr",
          "text": [
            "Epoch 1:  45%|████▌     | 23/51 [00:00<00:00, 125.75batch/s]"
          ]
        },
        {
          "output_type": "stream",
          "name": "stdout",
          "text": [
            "End of 1,accuracy0.699999988079071\n",
            "End of 1,accuracy0.800000011920929\n",
            "End of 1,accuracy0.699999988079071\n",
            "End of 1,accuracy0.5\n",
            "End of 1,accuracy0.5\n",
            "End of 1,accuracy0.5\n",
            "End of 1,accuracy0.800000011920929\n",
            "End of 1,accuracy0.5\n",
            "End of 1,accuracy0.5\n"
          ]
        },
        {
          "output_type": "stream",
          "name": "stderr",
          "text": [
            "Epoch 1:  71%|███████   | 36/51 [00:00<00:00, 144.31batch/s]"
          ]
        },
        {
          "output_type": "stream",
          "name": "stdout",
          "text": [
            "End of 1,accuracy0.4000000059604645\n",
            "End of 1,accuracy0.5\n",
            "End of 1,accuracy0.30000001192092896\n",
            "End of 1,accuracy0.30000001192092896\n",
            "End of 1,accuracy0.5\n",
            "End of 1,accuracy0.4000000059604645\n",
            "End of 1,accuracy0.6000000238418579\n",
            "End of 1,accuracy0.5\n",
            "End of 1,accuracy0.6000000238418579\n",
            "End of 1,accuracy0.5\n",
            "End of 1,accuracy0.5\n",
            "End of 1,accuracy0.20000000298023224\n",
            "End of 1,accuracy0.4000000059604645\n"
          ]
        },
        {
          "output_type": "stream",
          "name": "stderr",
          "text": [
            "Epoch 1:  90%|█████████ | 46/51 [00:00<00:00, 120.78batch/s]"
          ]
        },
        {
          "output_type": "stream",
          "name": "stdout",
          "text": [
            "End of 1,accuracy0.800000011920929\n",
            "End of 1,accuracy0.6000000238418579\n",
            "End of 1,accuracy0.5\n",
            "End of 1,accuracy0.6000000238418579\n",
            "End of 1,accuracy0.6000000238418579\n",
            "End of 1,accuracy0.5\n",
            "End of 1,accuracy0.699999988079071\n",
            "End of 1,accuracy0.800000011920929\n",
            "End of 1,accuracy0.6000000238418579\n",
            "End of 1,accuracy0.6000000238418579\n"
          ]
        },
        {
          "output_type": "stream",
          "name": "stderr",
          "text": [
            "Epoch 1: 100%|██████████| 51/51 [00:00<00:00, 108.34batch/s]\n"
          ]
        },
        {
          "output_type": "stream",
          "name": "stdout",
          "text": [
            "End of 1,accuracy0.699999988079071\n",
            "End of 1,accuracy0.5\n",
            "End of 1,accuracy0.4000000059604645\n",
            "End of 1,accuracy0.8999999761581421\n",
            "End of 1,accuracy0.5\n"
          ]
        },
        {
          "output_type": "stream",
          "name": "stderr",
          "text": [
            "Epoch 2:  10%|▉         | 5/51 [00:00<00:00, 82.88batch/s] "
          ]
        },
        {
          "output_type": "stream",
          "name": "stdout",
          "text": [
            "End of 2,accuracy0.6000000238418579\n",
            "End of 2,accuracy0.699999988079071\n",
            "End of 2,accuracy0.699999988079071\n",
            "End of 2,accuracy0.8999999761581421\n",
            "End of 2,accuracy0.699999988079071\n",
            "End of 2,accuracy0.800000011920929\n"
          ]
        },
        {
          "output_type": "stream",
          "name": "stderr",
          "text": [
            "Epoch 2:  31%|███▏      | 16/51 [00:00<00:00, 110.09batch/s]"
          ]
        },
        {
          "output_type": "stream",
          "name": "stdout",
          "text": [
            "End of 2,accuracy0.6000000238418579\n",
            "End of 2,accuracy0.699999988079071\n",
            "End of 2,accuracy0.699999988079071\n",
            "End of 2,accuracy0.5\n",
            "End of 2,accuracy0.4000000059604645\n",
            "End of 2,accuracy0.6000000238418579\n",
            "End of 2,accuracy0.8999999761581421\n",
            "End of 2,accuracy0.8999999761581421\n",
            "End of 2,accuracy0.699999988079071\n",
            "End of 2,accuracy0.8999999761581421\n"
          ]
        },
        {
          "output_type": "stream",
          "name": "stderr",
          "text": [
            "Epoch 2:  41%|████      | 21/51 [00:00<00:00, 76.89batch/s]"
          ]
        },
        {
          "output_type": "stream",
          "name": "stdout",
          "text": [
            "End of 2,accuracy0.800000011920929\n",
            "End of 2,accuracy0.6000000238418579\n",
            "End of 2,accuracy0.4000000059604645\n",
            "End of 2,accuracy0.6000000238418579\n",
            "End of 2,accuracy0.800000011920929\n"
          ]
        },
        {
          "output_type": "stream",
          "name": "stderr",
          "text": [
            "Epoch 2:  51%|█████     | 26/51 [00:00<00:00, 80.66batch/s] "
          ]
        },
        {
          "output_type": "stream",
          "name": "stdout",
          "text": [
            "End of 2,accuracy0.5\n",
            "End of 2,accuracy0.5\n",
            "End of 2,accuracy0.4000000059604645\n",
            "End of 2,accuracy0.5\n",
            "End of 2,accuracy0.30000001192092896\n"
          ]
        },
        {
          "output_type": "stream",
          "name": "stderr",
          "text": [
            "Epoch 2:  63%|██████▎   | 32/51 [00:00<00:00, 79.55batch/s]"
          ]
        },
        {
          "output_type": "stream",
          "name": "stdout",
          "text": [
            "End of 2,accuracy0.4000000059604645\n",
            "End of 2,accuracy0.6000000238418579\n",
            "End of 2,accuracy0.5\n",
            "End of 2,accuracy0.6000000238418579\n",
            "End of 2,accuracy0.6000000238418579\n",
            "End of 2,accuracy0.5\n",
            "End of 2,accuracy0.5"
          ]
        },
        {
          "output_type": "stream",
          "name": "stderr",
          "text": [
            "Epoch 2:  76%|███████▋  | 39/51 [00:00<00:00, 101.02batch/s]"
          ]
        },
        {
          "output_type": "stream",
          "name": "stdout",
          "text": [
            "\n",
            "End of 2,accuracy0.4000000059604645\n",
            "End of 2,accuracy0.10000000149011612\n",
            "End of 2,accuracy0.4000000059604645\n",
            "End of 2,accuracy0.699999988079071\n",
            "End of 2,accuracy0.5\n",
            "End of 2,accuracy0.699999988079071\n"
          ]
        },
        {
          "output_type": "stream",
          "name": "stderr",
          "text": [
            "Epoch 2:  90%|█████████ | 46/51 [00:00<00:00, 91.33batch/s] "
          ]
        },
        {
          "output_type": "stream",
          "name": "stdout",
          "text": [
            "End of 2,accuracy0.6000000238418579\n",
            "End of 2,accuracy0.699999988079071\n",
            "End of 2,accuracy0.5\n",
            "End of 2,accuracy0.699999988079071\n",
            "End of 2,accuracy0.800000011920929\n",
            "End of 2,accuracy0.6000000238418579\n",
            "End of 2,accuracy0.699999988079071\n"
          ]
        },
        {
          "output_type": "stream",
          "name": "stderr",
          "text": [
            "Epoch 2:  98%|█████████▊| 50/51 [00:00<00:00, 67.49batch/s]"
          ]
        },
        {
          "output_type": "stream",
          "name": "stdout",
          "text": [
            "End of 2,accuracy0.699999988079071\n",
            "End of 2,accuracy0.5\n",
            "End of 2,accuracy0.4000000059604645\n",
            "End of 2,accuracy0.8999999761581421\n",
            "End of 2,accuracy0.6000000238418579"
          ]
        },
        {
          "output_type": "stream",
          "name": "stderr",
          "text": [
            "Epoch 2: 100%|██████████| 51/51 [00:00<00:00, 92.88batch/s]\n"
          ]
        },
        {
          "output_type": "stream",
          "name": "stdout",
          "text": [
            "\n"
          ]
        },
        {
          "output_type": "stream",
          "name": "stderr",
          "text": [
            "Epoch 3:   4%|▍         | 2/51 [00:00<00:00, 51.42batch/s]"
          ]
        },
        {
          "output_type": "stream",
          "name": "stdout",
          "text": [
            "End of 3,accuracy0.699999988079071\n",
            "End of 3,accuracy0.699999988079071\n"
          ]
        },
        {
          "output_type": "stream",
          "name": "stderr",
          "text": [
            "Epoch 3:  16%|█▌        | 8/51 [00:00<00:00, 76.56batch/s]"
          ]
        },
        {
          "output_type": "stream",
          "name": "stdout",
          "text": [
            "End of 3,accuracy0.5\n",
            "End of 3,accuracy1.0\n",
            "End of 3,accuracy0.800000011920929\n",
            "End of 3,accuracy0.699999988079071\n",
            "End of 3,accuracy0.800000011920929\n",
            "End of 3,accuracy0.699999988079071\n"
          ]
        },
        {
          "output_type": "stream",
          "name": "stderr",
          "text": [
            "Epoch 3:  24%|██▎       | 12/51 [00:00<00:00, 74.16batch/s]"
          ]
        },
        {
          "output_type": "stream",
          "name": "stdout",
          "text": [
            "End of 3,accuracy0.699999988079071\n",
            "End of 3,accuracy0.5\n",
            "End of 3,accuracy0.4000000059604645\n",
            "End of 3,accuracy0.6000000238418579\n",
            "End of 3,accuracy0.8999999761581421\n"
          ]
        },
        {
          "output_type": "stream",
          "name": "stderr",
          "text": [
            "Epoch 3:  27%|██▋       | 14/51 [00:00<00:00, 59.70batch/s]"
          ]
        },
        {
          "output_type": "stream",
          "name": "stdout",
          "text": [
            "End of 3,accuracy0.8999999761581421\n"
          ]
        },
        {
          "output_type": "stream",
          "name": "stderr",
          "text": [
            "Epoch 3:  33%|███▎      | 17/51 [00:00<00:00, 64.40batch/s]"
          ]
        },
        {
          "output_type": "stream",
          "name": "stdout",
          "text": [
            "End of 3,accuracy0.699999988079071\n",
            "End of 3,accuracy0.8999999761581421\n",
            "End of 3,accuracy0.800000011920929\n",
            "End of 3,accuracy0.699999988079071"
          ]
        },
        {
          "output_type": "stream",
          "name": "stderr",
          "text": [
            "Epoch 3:  41%|████      | 21/51 [00:00<00:00, 65.01batch/s]"
          ]
        },
        {
          "output_type": "stream",
          "name": "stdout",
          "text": [
            "\n",
            "End of 3,accuracy0.4000000059604645\n",
            "End of 3,accuracy0.699999988079071\n",
            "End of 3,accuracy0.800000011920929\n"
          ]
        },
        {
          "output_type": "stream",
          "name": "stderr",
          "text": [
            "Epoch 3:  47%|████▋     | 24/51 [00:00<00:00, 45.23batch/s]"
          ]
        },
        {
          "output_type": "stream",
          "name": "stdout",
          "text": [
            "End of 3,accuracy0.800000011920929\n",
            "End of 3,accuracy0.6000000238418579\n",
            "End of 3,accuracy0.4000000059604645\n",
            "End of 3,accuracy0.5"
          ]
        },
        {
          "output_type": "stream",
          "name": "stderr",
          "text": [
            "\rEpoch 3:  49%|████▉     | 25/51 [00:00<00:00, 46.08batch/s]"
          ]
        },
        {
          "output_type": "stream",
          "name": "stdout",
          "text": [
            "\n",
            "End of 3,accuracy0.30000001192092896"
          ]
        },
        {
          "output_type": "stream",
          "name": "stderr",
          "text": [
            "Epoch 3:  57%|█████▋    | 29/51 [00:00<00:00, 65.82batch/s]"
          ]
        },
        {
          "output_type": "stream",
          "name": "stdout",
          "text": [
            "\n",
            "End of 3,accuracy0.6000000238418579\n",
            "End of 3,accuracy0.5\n",
            "End of 3,accuracy0.6000000238418579\n"
          ]
        },
        {
          "output_type": "stream",
          "name": "stderr",
          "text": [
            "Epoch 3:  71%|███████   | 36/51 [00:00<00:00, 94.32batch/s]"
          ]
        },
        {
          "output_type": "stream",
          "name": "stdout",
          "text": [
            "End of 3,accuracy0.699999988079071\n",
            "End of 3,accuracy0.5\n",
            "End of 3,accuracy0.5\n",
            "End of 3,accuracy0.5\n",
            "End of 3,accuracy0.4000000059604645\n",
            "End of 3,accuracy0.20000000298023224\n",
            "End of 3,accuracy0.4000000059604645\n"
          ]
        },
        {
          "output_type": "stream",
          "name": "stderr",
          "text": [
            "Epoch 3:  80%|████████  | 41/51 [00:00<00:00, 82.30batch/s]"
          ]
        },
        {
          "output_type": "stream",
          "name": "stdout",
          "text": [
            "End of 3,accuracy0.699999988079071\n",
            "End of 3,accuracy0.6000000238418579\n",
            "End of 3,accuracy0.800000011920929\n",
            "End of 3,accuracy0.6000000238418579\n",
            "End of 3,accuracy0.800000011920929\n",
            "End of 3,accuracy0.4000000059604645"
          ]
        },
        {
          "output_type": "stream",
          "name": "stderr",
          "text": [
            "\rEpoch 3:  82%|████████▏ | 42/51 [00:00<00:00, 72.10batch/s]"
          ]
        },
        {
          "output_type": "stream",
          "name": "stdout",
          "text": [
            "\n",
            "End of 3,accuracy0.699999988079071\n"
          ]
        },
        {
          "output_type": "stream",
          "name": "stderr",
          "text": [
            "Epoch 3:  90%|█████████ | 46/51 [00:00<00:00, 72.41batch/s]"
          ]
        },
        {
          "output_type": "stream",
          "name": "stdout",
          "text": [
            "End of 3,accuracy0.800000011920929\n",
            "End of 3,accuracy0.5\n",
            "End of 3,accuracy0.800000011920929\n"
          ]
        },
        {
          "output_type": "stream",
          "name": "stderr",
          "text": [
            "Epoch 3:  98%|█████████▊| 50/51 [00:00<00:00, 60.66batch/s]"
          ]
        },
        {
          "output_type": "stream",
          "name": "stdout",
          "text": [
            "End of 3,accuracy0.699999988079071\n",
            "End of 3,accuracy0.6000000238418579\n",
            "End of 3,accuracy0.5\n",
            "End of 3,accuracy0.8999999761581421\n"
          ]
        },
        {
          "output_type": "stream",
          "name": "stderr",
          "text": [
            "Epoch 3: 100%|██████████| 51/51 [00:00<00:00, 67.36batch/s]\n"
          ]
        },
        {
          "output_type": "stream",
          "name": "stdout",
          "text": [
            "End of 3,accuracy0.6000000238418579\n"
          ]
        },
        {
          "output_type": "stream",
          "name": "stderr",
          "text": [
            "Epoch 4:   2%|▏         | 1/51 [00:00<00:00, 93.32batch/s]"
          ]
        },
        {
          "output_type": "stream",
          "name": "stdout",
          "text": [
            "End of 4,accuracy0.800000011920929\n"
          ]
        },
        {
          "output_type": "stream",
          "name": "stderr",
          "text": [
            "Epoch 4:   6%|▌         | 3/51 [00:00<00:00, 63.53batch/s]"
          ]
        },
        {
          "output_type": "stream",
          "name": "stdout",
          "text": [
            "End of 4,accuracy0.6000000238418579\n",
            "End of 4,accuracy0.699999988079071\n"
          ]
        },
        {
          "output_type": "stream",
          "name": "stderr",
          "text": [
            "Epoch 4:  12%|█▏        | 6/51 [00:00<00:00, 62.30batch/s]"
          ]
        },
        {
          "output_type": "stream",
          "name": "stdout",
          "text": [
            "End of 4,accuracy1.0\n",
            "End of 4,accuracy0.800000011920929\n",
            "End of 4,accuracy0.800000011920929\n"
          ]
        },
        {
          "output_type": "stream",
          "name": "stderr",
          "text": [
            "Epoch 4:  20%|█▉        | 10/51 [00:00<00:00, 62.82batch/s]"
          ]
        },
        {
          "output_type": "stream",
          "name": "stdout",
          "text": [
            "End of 4,accuracy0.699999988079071\n",
            "End of 4,accuracy0.699999988079071\n",
            "End of 4,accuracy0.6000000238418579\n",
            "End of 4,accuracy0.6000000238418579\n",
            "End of 4,accuracy0.5\n"
          ]
        },
        {
          "output_type": "stream",
          "name": "stderr",
          "text": [
            "Epoch 4:  25%|██▌       | 13/51 [00:00<00:00, 60.98batch/s]"
          ]
        },
        {
          "output_type": "stream",
          "name": "stdout",
          "text": [
            "End of 4,accuracy0.6000000238418579\n",
            "End of 4,accuracy0.8999999761581421\n"
          ]
        },
        {
          "output_type": "stream",
          "name": "stderr",
          "text": [
            "Epoch 4:  29%|██▉       | 15/51 [00:00<00:00, 74.55batch/s]"
          ]
        },
        {
          "output_type": "stream",
          "name": "stdout",
          "text": [
            "End of 4,accuracy0.8999999761581421\n",
            "End of 4,accuracy0.6000000238418579\n",
            "End of 4,accuracy0.800000011920929"
          ]
        },
        {
          "output_type": "stream",
          "name": "stderr",
          "text": [
            "Epoch 4:  33%|███▎      | 17/51 [00:00<00:00, 75.17batch/s]"
          ]
        },
        {
          "output_type": "stream",
          "name": "stdout",
          "text": [
            "\n",
            "End of 4,accuracy0.699999988079071\n"
          ]
        },
        {
          "output_type": "stream",
          "name": "stderr",
          "text": [
            "Epoch 4:  41%|████      | 21/51 [00:00<00:00, 83.91batch/s]"
          ]
        },
        {
          "output_type": "stream",
          "name": "stdout",
          "text": [
            "End of 4,accuracy0.699999988079071\n",
            "End of 4,accuracy0.4000000059604645\n",
            "End of 4,accuracy0.699999988079071\n",
            "End of 4,accuracy0.699999988079071\n"
          ]
        },
        {
          "output_type": "stream",
          "name": "stderr",
          "text": [
            "Epoch 4:  59%|█████▉    | 30/51 [00:00<00:00, 101.51batch/s]"
          ]
        },
        {
          "output_type": "stream",
          "name": "stdout",
          "text": [
            "End of 4,accuracy0.8999999761581421\n",
            "End of 4,accuracy0.6000000238418579\n",
            "End of 4,accuracy0.4000000059604645\n",
            "End of 4,accuracy0.5\n",
            "End of 4,accuracy0.5\n",
            "End of 4,accuracy0.6000000238418579\n",
            "End of 4,accuracy0.6000000238418579\n",
            "End of 4,accuracy0.699999988079071\n",
            "End of 4,accuracy0.699999988079071\n",
            "End of 4,accuracy0.5"
          ]
        },
        {
          "output_type": "stream",
          "name": "stderr",
          "text": [
            "\rEpoch 4:  61%|██████    | 31/51 [00:00<00:00, 56.73batch/s] "
          ]
        },
        {
          "output_type": "stream",
          "name": "stdout",
          "text": [
            "\n"
          ]
        },
        {
          "output_type": "stream",
          "name": "stderr",
          "text": [
            "Epoch 4:  65%|██████▍   | 33/51 [00:00<00:00, 54.71batch/s]"
          ]
        },
        {
          "output_type": "stream",
          "name": "stdout",
          "text": [
            "End of 4,accuracy0.5\n",
            "End of 4,accuracy0.4000000059604645\n"
          ]
        },
        {
          "output_type": "stream",
          "name": "stderr",
          "text": [
            "Epoch 4:  69%|██████▊   | 35/51 [00:00<00:00, 57.80batch/s]"
          ]
        },
        {
          "output_type": "stream",
          "name": "stdout",
          "text": [
            "End of 4,accuracy0.4000000059604645\n",
            "End of 4,accuracy0.20000000298023224\n",
            "End of 4,accuracy0.4000000059604645\n"
          ]
        },
        {
          "output_type": "stream",
          "name": "stderr",
          "text": [
            "Epoch 4:  86%|████████▋ | 44/51 [00:00<00:00, 66.14batch/s]"
          ]
        },
        {
          "output_type": "stream",
          "name": "stdout",
          "text": [
            "End of 4,accuracy0.6000000238418579\n",
            "End of 4,accuracy0.6000000238418579\n",
            "End of 4,accuracy0.800000011920929\n",
            "End of 4,accuracy0.6000000238418579\n",
            "End of 4,accuracy0.800000011920929\n",
            "End of 4,accuracy0.30000001192092896\n",
            "End of 4,accuracy0.699999988079071\n",
            "End of 4,accuracy0.800000011920929\n"
          ]
        },
        {
          "output_type": "stream",
          "name": "stderr",
          "text": [
            "Epoch 4:  90%|█████████ | 46/51 [00:00<00:00, 63.88batch/s]"
          ]
        },
        {
          "output_type": "stream",
          "name": "stdout",
          "text": [
            "End of 4,accuracy0.699999988079071\n",
            "End of 4,accuracy0.800000011920929\n"
          ]
        },
        {
          "output_type": "stream",
          "name": "stderr",
          "text": [
            "Epoch 4:  94%|█████████▍| 48/51 [00:00<00:00, 69.34batch/s]"
          ]
        },
        {
          "output_type": "stream",
          "name": "stdout",
          "text": [
            "End of 4,accuracy0.800000011920929\n",
            "End of 4,accuracy0.5\n"
          ]
        },
        {
          "output_type": "stream",
          "name": "stderr",
          "text": [
            "Epoch 4:  98%|█████████▊| 50/51 [00:00<00:00, 65.38batch/s]"
          ]
        },
        {
          "output_type": "stream",
          "name": "stdout",
          "text": [
            "End of 4,accuracy0.5\n",
            "End of 4,accuracy0.8999999761581421\n"
          ]
        },
        {
          "output_type": "stream",
          "name": "stderr",
          "text": [
            "Epoch 4: 100%|██████████| 51/51 [00:00<00:00, 67.57batch/s]\n"
          ]
        },
        {
          "output_type": "stream",
          "name": "stdout",
          "text": [
            "End of 4,accuracy0.699999988079071\n"
          ]
        },
        {
          "output_type": "stream",
          "name": "stderr",
          "text": [
            "Epoch 5:   8%|▊         | 4/51 [00:00<00:00, 62.60batch/s]"
          ]
        },
        {
          "output_type": "stream",
          "name": "stdout",
          "text": [
            "End of 5,accuracy0.800000011920929\n",
            "End of 5,accuracy0.699999988079071\n",
            "End of 5,accuracy0.699999988079071\n",
            "End of 5,accuracy0.800000011920929\n"
          ]
        },
        {
          "output_type": "stream",
          "name": "stderr",
          "text": [
            "Epoch 5:  12%|█▏        | 6/51 [00:00<00:00, 64.04batch/s]"
          ]
        },
        {
          "output_type": "stream",
          "name": "stdout",
          "text": [
            "End of 5,accuracy0.699999988079071\n",
            "End of 5,accuracy0.6000000238418579\n"
          ]
        },
        {
          "output_type": "stream",
          "name": "stderr",
          "text": [
            "Epoch 5:  16%|█▌        | 8/51 [00:00<00:00, 64.30batch/s]"
          ]
        },
        {
          "output_type": "stream",
          "name": "stdout",
          "text": [
            "End of 5,accuracy0.699999988079071\n",
            "End of 5,accuracy0.699999988079071\n"
          ]
        },
        {
          "output_type": "stream",
          "name": "stderr",
          "text": [
            "Epoch 5:  22%|██▏       | 11/51 [00:00<00:00, 69.94batch/s]"
          ]
        },
        {
          "output_type": "stream",
          "name": "stdout",
          "text": [
            "End of 5,accuracy0.6000000238418579\n",
            "End of 5,accuracy0.6000000238418579\n",
            "End of 5,accuracy0.5\n"
          ]
        },
        {
          "output_type": "stream",
          "name": "stderr",
          "text": [
            "Epoch 5:  27%|██▋       | 14/51 [00:00<00:00, 61.89batch/s]"
          ]
        },
        {
          "output_type": "stream",
          "name": "stdout",
          "text": [
            "End of 5,accuracy0.6000000238418579\n",
            "End of 5,accuracy0.8999999761581421\n",
            "End of 5,accuracy1.0\n"
          ]
        },
        {
          "output_type": "stream",
          "name": "stderr",
          "text": [
            "Epoch 5:  33%|███▎      | 17/51 [00:00<00:00, 58.30batch/s]"
          ]
        },
        {
          "output_type": "stream",
          "name": "stdout",
          "text": [
            "End of 5,accuracy0.6000000238418579\n",
            "End of 5,accuracy0.800000011920929\n",
            "End of 5,accuracy0.699999988079071\n",
            "End of 5,accuracy0.699999988079071\n"
          ]
        },
        {
          "output_type": "stream",
          "name": "stderr",
          "text": [
            "Epoch 5:  37%|███▋      | 19/51 [00:00<00:00, 58.47batch/s]"
          ]
        },
        {
          "output_type": "stream",
          "name": "stdout",
          "text": [
            "End of 5,accuracy0.5\n"
          ]
        },
        {
          "output_type": "stream",
          "name": "stderr",
          "text": [
            "Epoch 5:  41%|████      | 21/51 [00:00<00:00, 63.63batch/s]"
          ]
        },
        {
          "output_type": "stream",
          "name": "stdout",
          "text": [
            "End of 5,accuracy0.699999988079071\n",
            "End of 5,accuracy0.699999988079071\n",
            "End of 5,accuracy0.8999999761581421"
          ]
        },
        {
          "output_type": "stream",
          "name": "stderr",
          "text": [
            "Epoch 5:  47%|████▋     | 24/51 [00:00<00:00, 67.67batch/s]"
          ]
        },
        {
          "output_type": "stream",
          "name": "stdout",
          "text": [
            "\n",
            "End of 5,accuracy0.699999988079071\n",
            "End of 5,accuracy0.5\n"
          ]
        },
        {
          "output_type": "stream",
          "name": "stderr",
          "text": [
            "Epoch 5:  53%|█████▎    | 27/51 [00:00<00:00, 61.39batch/s]"
          ]
        },
        {
          "output_type": "stream",
          "name": "stdout",
          "text": [
            "End of 5,accuracy0.6000000238418579\n",
            "End of 5,accuracy0.5\n",
            "End of 5,accuracy0.6000000238418579\n"
          ]
        },
        {
          "output_type": "stream",
          "name": "stderr",
          "text": [
            "Epoch 5:  63%|██████▎   | 32/51 [00:00<00:00, 67.96batch/s]"
          ]
        },
        {
          "output_type": "stream",
          "name": "stdout",
          "text": [
            "End of 5,accuracy0.6000000238418579\n",
            "End of 5,accuracy0.699999988079071\n",
            "End of 5,accuracy0.6000000238418579\n",
            "End of 5,accuracy0.5\n",
            "End of 5,accuracy0.5\n"
          ]
        },
        {
          "output_type": "stream",
          "name": "stderr",
          "text": [
            "\rEpoch 5:  65%|██████▍   | 33/51 [00:00<00:00, 49.70batch/s]"
          ]
        },
        {
          "output_type": "stream",
          "name": "stdout",
          "text": [
            "End of 5,accuracy0.5\n",
            "End of 5,accuracy0.30000001192092896"
          ]
        },
        {
          "output_type": "stream",
          "name": "stderr",
          "text": [
            "Epoch 5:  73%|███████▎  | 37/51 [00:00<00:00, 72.79batch/s]"
          ]
        },
        {
          "output_type": "stream",
          "name": "stdout",
          "text": [
            "\n",
            "End of 5,accuracy0.20000000298023224\n",
            "End of 5,accuracy0.4000000059604645\n",
            "End of 5,accuracy0.699999988079071\n"
          ]
        },
        {
          "output_type": "stream",
          "name": "stderr",
          "text": [
            "Epoch 5:  78%|███████▊  | 40/51 [00:00<00:00, 59.56batch/s]"
          ]
        },
        {
          "output_type": "stream",
          "name": "stdout",
          "text": [
            "End of 5,accuracy0.6000000238418579\n",
            "End of 5,accuracy0.800000011920929\n",
            "End of 5,accuracy0.6000000238418579\n",
            "End of 5,accuracy0.800000011920929"
          ]
        },
        {
          "output_type": "stream",
          "name": "stderr",
          "text": [
            "Epoch 5:  90%|█████████ | 46/51 [00:00<00:00, 67.36batch/s]"
          ]
        },
        {
          "output_type": "stream",
          "name": "stdout",
          "text": [
            "\n",
            "End of 5,accuracy0.4000000059604645\n",
            "End of 5,accuracy0.699999988079071\n",
            "End of 5,accuracy0.800000011920929\n",
            "End of 5,accuracy0.6000000238418579\n",
            "End of 5,accuracy0.800000011920929\n"
          ]
        },
        {
          "output_type": "stream",
          "name": "stderr",
          "text": [
            "\rEpoch 5:  92%|█████████▏| 47/51 [00:00<00:00, 66.92batch/s]"
          ]
        },
        {
          "output_type": "stream",
          "name": "stdout",
          "text": [
            "End of 5,accuracy0.800000011920929\n",
            "End of 5,accuracy0.4000000059604645"
          ]
        },
        {
          "output_type": "stream",
          "name": "stderr",
          "text": [
            "Epoch 5:  98%|█████████▊| 50/51 [00:00<00:00, 66.02batch/s]"
          ]
        },
        {
          "output_type": "stream",
          "name": "stdout",
          "text": [
            "\n",
            "End of 5,accuracy0.6000000238418579\n",
            "End of 5,accuracy0.8999999761581421\n"
          ]
        },
        {
          "output_type": "stream",
          "name": "stderr",
          "text": [
            "Epoch 5: 100%|██████████| 51/51 [00:00<00:00, 63.64batch/s]\n"
          ]
        },
        {
          "output_type": "stream",
          "name": "stdout",
          "text": [
            "End of 5,accuracy0.699999988079071\n"
          ]
        },
        {
          "output_type": "stream",
          "name": "stderr",
          "text": [
            "Epoch 6:   4%|▍         | 2/51 [00:00<00:00, 78.30batch/s]"
          ]
        },
        {
          "output_type": "stream",
          "name": "stdout",
          "text": [
            "End of 6,accuracy0.800000011920929\n",
            "End of 6,accuracy0.699999988079071\n"
          ]
        },
        {
          "output_type": "stream",
          "name": "stderr",
          "text": [
            "Epoch 6:  16%|█▌        | 8/51 [00:00<00:00, 81.13batch/s]"
          ]
        },
        {
          "output_type": "stream",
          "name": "stdout",
          "text": [
            "End of 6,accuracy0.699999988079071\n",
            "End of 6,accuracy0.800000011920929\n",
            "End of 6,accuracy0.699999988079071\n",
            "End of 6,accuracy0.6000000238418579\n",
            "End of 6,accuracy0.6000000238418579\n",
            "End of 6,accuracy0.699999988079071\n",
            "End of 6,accuracy0.6000000238418579"
          ]
        },
        {
          "output_type": "stream",
          "name": "stderr",
          "text": [
            "Epoch 6:  20%|█▉        | 10/51 [00:00<00:00, 92.49batch/s]"
          ]
        },
        {
          "output_type": "stream",
          "name": "stdout",
          "text": [
            "\n",
            "End of 6,accuracy0.6000000238418579\n"
          ]
        },
        {
          "output_type": "stream",
          "name": "stderr",
          "text": [
            "Epoch 6:  27%|██▋       | 14/51 [00:00<00:00, 96.79batch/s]"
          ]
        },
        {
          "output_type": "stream",
          "name": "stdout",
          "text": [
            "End of 6,accuracy0.5\n",
            "End of 6,accuracy0.6000000238418579\n",
            "End of 6,accuracy0.8999999761581421\n",
            "End of 6,accuracy0.8999999761581421\n",
            "End of 6,accuracy0.6000000238418579"
          ]
        },
        {
          "output_type": "stream",
          "name": "stderr",
          "text": [
            "Epoch 6:  33%|███▎      | 17/51 [00:00<00:00, 88.77batch/s]"
          ]
        },
        {
          "output_type": "stream",
          "name": "stdout",
          "text": [
            "\n",
            "End of 6,accuracy0.800000011920929\n",
            "End of 6,accuracy0.699999988079071\n"
          ]
        },
        {
          "output_type": "stream",
          "name": "stderr",
          "text": [
            "Epoch 6:  37%|███▋      | 19/51 [00:00<00:00, 75.51batch/s]"
          ]
        },
        {
          "output_type": "stream",
          "name": "stdout",
          "text": [
            "End of 6,accuracy0.699999988079071\n",
            "End of 6,accuracy0.6000000238418579\n"
          ]
        },
        {
          "output_type": "stream",
          "name": "stderr",
          "text": [
            "Epoch 6:  47%|████▋     | 24/51 [00:00<00:00, 71.71batch/s]"
          ]
        },
        {
          "output_type": "stream",
          "name": "stdout",
          "text": [
            "End of 6,accuracy0.699999988079071\n",
            "End of 6,accuracy0.699999988079071\n",
            "End of 6,accuracy0.8999999761581421\n",
            "End of 6,accuracy0.699999988079071\n",
            "End of 6,accuracy0.699999988079071\n",
            "End of 6,accuracy0.6000000238418579"
          ]
        },
        {
          "output_type": "stream",
          "name": "stderr",
          "text": [
            "Epoch 6:  51%|█████     | 26/51 [00:00<00:00, 81.95batch/s]"
          ]
        },
        {
          "output_type": "stream",
          "name": "stdout",
          "text": [
            "\n",
            "End of 6,accuracy0.6000000238418579\n",
            "End of 6,accuracy0.699999988079071"
          ]
        },
        {
          "output_type": "stream",
          "name": "stderr",
          "text": [
            "Epoch 6:  59%|█████▉    | 30/51 [00:00<00:00, 88.06batch/s]"
          ]
        },
        {
          "output_type": "stream",
          "name": "stdout",
          "text": [
            "\n",
            "End of 6,accuracy0.6000000238418579\n",
            "End of 6,accuracy0.699999988079071\n",
            "End of 6,accuracy0.6000000238418579\n"
          ]
        },
        {
          "output_type": "stream",
          "name": "stderr",
          "text": [
            "Epoch 6:  67%|██████▋   | 34/51 [00:00<00:00, 107.80batch/s]"
          ]
        },
        {
          "output_type": "stream",
          "name": "stdout",
          "text": [
            "End of 6,accuracy0.5\n",
            "End of 6,accuracy0.5\n",
            "End of 6,accuracy0.5\n",
            "End of 6,accuracy0.30000001192092896\n",
            "End of 6,accuracy0.30000001192092896\n"
          ]
        },
        {
          "output_type": "stream",
          "name": "stderr",
          "text": [
            "Epoch 6:  73%|███████▎  | 37/51 [00:00<00:00, 99.60batch/s] "
          ]
        },
        {
          "output_type": "stream",
          "name": "stdout",
          "text": [
            "End of 6,accuracy0.30000001192092896\n",
            "End of 6,accuracy0.699999988079071\n",
            "End of 6,accuracy0.6000000238418579\n"
          ]
        },
        {
          "output_type": "stream",
          "name": "stderr",
          "text": [
            "Epoch 6:  84%|████████▍ | 43/51 [00:00<00:00, 89.81batch/s]"
          ]
        },
        {
          "output_type": "stream",
          "name": "stdout",
          "text": [
            "End of 6,accuracy0.800000011920929\n",
            "End of 6,accuracy0.6000000238418579\n",
            "End of 6,accuracy0.800000011920929\n",
            "End of 6,accuracy0.4000000059604645\n",
            "End of 6,accuracy0.800000011920929\n"
          ]
        },
        {
          "output_type": "stream",
          "name": "stderr",
          "text": [
            "Epoch 6:  88%|████████▊ | 45/51 [00:00<00:00, 82.03batch/s]"
          ]
        },
        {
          "output_type": "stream",
          "name": "stdout",
          "text": [
            "End of 6,accuracy0.800000011920929\n",
            "End of 6,accuracy0.6000000238418579\n"
          ]
        },
        {
          "output_type": "stream",
          "name": "stderr",
          "text": [
            "Epoch 6:  92%|█████████▏| 47/51 [00:00<00:00, 57.91batch/s]"
          ]
        },
        {
          "output_type": "stream",
          "name": "stdout",
          "text": [
            "End of 6,accuracy0.800000011920929\n",
            "End of 6,accuracy0.800000011920929\n"
          ]
        },
        {
          "output_type": "stream",
          "name": "stderr",
          "text": [
            "Epoch 6:  98%|█████████▊| 50/51 [00:00<00:00, 75.09batch/s]"
          ]
        },
        {
          "output_type": "stream",
          "name": "stdout",
          "text": [
            "End of 6,accuracy0.4000000059604645\n",
            "End of 6,accuracy0.4000000059604645\n",
            "End of 6,accuracy0.800000011920929\n",
            "End of 6,accuracy0.800000011920929\n"
          ]
        },
        {
          "output_type": "stream",
          "name": "stderr",
          "text": [
            "Epoch 6: 100%|██████████| 51/51 [00:00<00:00, 76.02batch/s]\n",
            "Epoch 7:   4%|▍         | 2/51 [00:00<00:00, 68.58batch/s] "
          ]
        },
        {
          "output_type": "stream",
          "name": "stdout",
          "text": [
            "End of 7,accuracy0.800000011920929\n",
            "End of 7,accuracy0.699999988079071\n",
            "End of 7,accuracy0.699999988079071"
          ]
        },
        {
          "output_type": "stream",
          "name": "stderr",
          "text": [
            "Epoch 7:  12%|█▏        | 6/51 [00:00<00:00, 73.14batch/s]"
          ]
        },
        {
          "output_type": "stream",
          "name": "stdout",
          "text": [
            "\n",
            "End of 7,accuracy0.699999988079071\n",
            "End of 7,accuracy0.699999988079071\n",
            "End of 7,accuracy0.6000000238418579\n"
          ]
        },
        {
          "output_type": "stream",
          "name": "stderr",
          "text": [
            "\rEpoch 7:  14%|█▎        | 7/51 [00:00<00:00, 58.57batch/s]"
          ]
        },
        {
          "output_type": "stream",
          "name": "stdout",
          "text": [
            "End of 7,accuracy0.699999988079071\n",
            "End of 7,accuracy0.800000011920929"
          ]
        },
        {
          "output_type": "stream",
          "name": "stderr",
          "text": [
            "Epoch 7:  20%|█▉        | 10/51 [00:00<00:00, 64.94batch/s]"
          ]
        },
        {
          "output_type": "stream",
          "name": "stdout",
          "text": [
            "\n",
            "End of 7,accuracy0.699999988079071\n",
            "End of 7,accuracy0.699999988079071\n",
            "End of 7,accuracy0.699999988079071"
          ]
        },
        {
          "output_type": "stream",
          "name": "stderr",
          "text": [
            "Epoch 7:  27%|██▋       | 14/51 [00:00<00:00, 74.53batch/s]"
          ]
        },
        {
          "output_type": "stream",
          "name": "stdout",
          "text": [
            "\n",
            "End of 7,accuracy0.5\n",
            "End of 7,accuracy0.8999999761581421\n",
            "End of 7,accuracy0.8999999761581421\n"
          ]
        },
        {
          "output_type": "stream",
          "name": "stderr",
          "text": [
            "Epoch 7:  33%|███▎      | 17/51 [00:00<00:00, 84.00batch/s]"
          ]
        },
        {
          "output_type": "stream",
          "name": "stdout",
          "text": [
            "End of 7,accuracy0.6000000238418579\n",
            "End of 7,accuracy0.800000011920929\n",
            "End of 7,accuracy0.699999988079071\n"
          ]
        },
        {
          "output_type": "stream",
          "name": "stderr",
          "text": [
            "Epoch 7:  45%|████▌     | 23/51 [00:00<00:00, 96.33batch/s]"
          ]
        },
        {
          "output_type": "stream",
          "name": "stdout",
          "text": [
            "End of 7,accuracy0.699999988079071\n",
            "End of 7,accuracy0.6000000238418579\n",
            "End of 7,accuracy0.800000011920929\n",
            "End of 7,accuracy0.699999988079071\n",
            "End of 7,accuracy0.8999999761581421\n",
            "End of 7,accuracy0.699999988079071\n",
            "End of 7,accuracy0.699999988079071"
          ]
        },
        {
          "output_type": "stream",
          "name": "stderr",
          "text": [
            "Epoch 7:  55%|█████▍    | 28/51 [00:00<00:00, 101.58batch/s]"
          ]
        },
        {
          "output_type": "stream",
          "name": "stdout",
          "text": [
            "\n",
            "End of 7,accuracy0.6000000238418579\n",
            "End of 7,accuracy0.6000000238418579\n",
            "End of 7,accuracy0.800000011920929\n",
            "End of 7,accuracy0.6000000238418579\n"
          ]
        },
        {
          "output_type": "stream",
          "name": "stderr",
          "text": [
            "Epoch 7:  63%|██████▎   | 32/51 [00:00<00:00, 87.37batch/s]"
          ]
        },
        {
          "output_type": "stream",
          "name": "stdout",
          "text": [
            "End of 7,accuracy0.699999988079071\n",
            "End of 7,accuracy0.5\n",
            "End of 7,accuracy0.5\n",
            "End of 7,accuracy0.5\n"
          ]
        },
        {
          "output_type": "stream",
          "name": "stderr",
          "text": [
            "Epoch 7:  67%|██████▋   | 34/51 [00:00<00:00, 73.23batch/s]"
          ]
        },
        {
          "output_type": "stream",
          "name": "stdout",
          "text": [
            "End of 7,accuracy0.5\n",
            "End of 7,accuracy0.30000001192092896\n",
            "End of 7,accuracy0.5\n"
          ]
        },
        {
          "output_type": "stream",
          "name": "stderr",
          "text": [
            "Epoch 7:  78%|███████▊  | 40/51 [00:00<00:00, 96.60batch/s]"
          ]
        },
        {
          "output_type": "stream",
          "name": "stdout",
          "text": [
            "End of 7,accuracy0.30000001192092896\n",
            "End of 7,accuracy0.699999988079071\n",
            "End of 7,accuracy0.699999988079071\n",
            "End of 7,accuracy0.8999999761581421\n",
            "End of 7,accuracy0.6000000238418579\n",
            "End of 7,accuracy0.800000011920929"
          ]
        },
        {
          "output_type": "stream",
          "name": "stderr",
          "text": [
            "Epoch 7:  94%|█████████▍| 48/51 [00:00<00:00, 153.30batch/s]"
          ]
        },
        {
          "output_type": "stream",
          "name": "stdout",
          "text": [
            "\n",
            "End of 7,accuracy0.4000000059604645\n",
            "End of 7,accuracy0.800000011920929\n",
            "End of 7,accuracy0.800000011920929\n",
            "End of 7,accuracy0.6000000238418579\n",
            "End of 7,accuracy0.8999999761581421\n",
            "End of 7,accuracy0.800000011920929\n",
            "End of 7,accuracy0.4000000059604645\n"
          ]
        },
        {
          "output_type": "stream",
          "name": "stderr",
          "text": [
            "Epoch 7: 100%|██████████| 51/51 [00:00<00:00, 84.67batch/s] \n"
          ]
        },
        {
          "output_type": "stream",
          "name": "stdout",
          "text": [
            "End of 7,accuracy0.4000000059604645\n",
            "End of 7,accuracy0.800000011920929\n",
            "End of 7,accuracy0.800000011920929\n"
          ]
        },
        {
          "output_type": "stream",
          "name": "stderr",
          "text": [
            "Epoch 8:   4%|▍         | 2/51 [00:00<00:00, 124.65batch/s]"
          ]
        },
        {
          "output_type": "stream",
          "name": "stdout",
          "text": [
            "End of 8,accuracy0.800000011920929\n",
            "End of 8,accuracy0.699999988079071\n"
          ]
        },
        {
          "output_type": "stream",
          "name": "stderr",
          "text": [
            "Epoch 8:  10%|▉         | 5/51 [00:00<00:00, 82.66batch/s]"
          ]
        },
        {
          "output_type": "stream",
          "name": "stdout",
          "text": [
            "End of 8,accuracy0.699999988079071\n",
            "End of 8,accuracy0.699999988079071\n",
            "End of 8,accuracy0.699999988079071\n"
          ]
        },
        {
          "output_type": "stream",
          "name": "stderr",
          "text": [
            "Epoch 8:  16%|█▌        | 8/51 [00:00<00:00, 70.13batch/s]"
          ]
        },
        {
          "output_type": "stream",
          "name": "stdout",
          "text": [
            "End of 8,accuracy0.5\n",
            "End of 8,accuracy0.699999988079071\n",
            "End of 8,accuracy0.699999988079071\n",
            "End of 8,accuracy0.699999988079071"
          ]
        },
        {
          "output_type": "stream",
          "name": "stderr",
          "text": [
            "Epoch 8:  20%|█▉        | 10/51 [00:00<00:00, 48.05batch/s]"
          ]
        },
        {
          "output_type": "stream",
          "name": "stdout",
          "text": [
            "\n",
            "End of 8,accuracy0.699999988079071\n",
            "End of 8,accuracy0.699999988079071"
          ]
        },
        {
          "output_type": "stream",
          "name": "stderr",
          "text": [
            "Epoch 8:  24%|██▎       | 12/51 [00:00<00:00, 57.29batch/s]"
          ]
        },
        {
          "output_type": "stream",
          "name": "stdout",
          "text": [
            "\n",
            "End of 8,accuracy0.6000000238418579\n",
            "End of 8,accuracy0.8999999761581421\n"
          ]
        },
        {
          "output_type": "stream",
          "name": "stderr",
          "text": [
            "Epoch 8:  27%|██▋       | 14/51 [00:00<00:00, 58.69batch/s]"
          ]
        },
        {
          "output_type": "stream",
          "name": "stdout",
          "text": [
            "End of 8,accuracy0.8999999761581421\n"
          ]
        },
        {
          "output_type": "stream",
          "name": "stderr",
          "text": [
            "Epoch 8:  33%|███▎      | 17/51 [00:00<00:00, 67.65batch/s]"
          ]
        },
        {
          "output_type": "stream",
          "name": "stdout",
          "text": [
            "End of 8,accuracy0.6000000238418579\n",
            "End of 8,accuracy0.800000011920929\n",
            "End of 8,accuracy0.699999988079071\n"
          ]
        },
        {
          "output_type": "stream",
          "name": "stderr",
          "text": [
            "Epoch 8:  43%|████▎     | 22/51 [00:00<00:00, 76.59batch/s]"
          ]
        },
        {
          "output_type": "stream",
          "name": "stdout",
          "text": [
            "End of 8,accuracy0.699999988079071\n",
            "End of 8,accuracy0.6000000238418579\n",
            "End of 8,accuracy0.800000011920929\n",
            "End of 8,accuracy0.699999988079071\n",
            "End of 8,accuracy0.800000011920929\n",
            "End of 8,accuracy0.800000011920929"
          ]
        },
        {
          "output_type": "stream",
          "name": "stderr",
          "text": [
            "Epoch 8:  49%|████▉     | 25/51 [00:00<00:00, 82.78batch/s]"
          ]
        },
        {
          "output_type": "stream",
          "name": "stdout",
          "text": [
            "\n",
            "End of 8,accuracy0.699999988079071\n",
            "End of 8,accuracy0.6000000238418579\n",
            "End of 8,accuracy0.6000000238418579\n"
          ]
        },
        {
          "output_type": "stream",
          "name": "stderr",
          "text": [
            "Epoch 8:  55%|█████▍    | 28/51 [00:00<00:00, 72.70batch/s]"
          ]
        },
        {
          "output_type": "stream",
          "name": "stdout",
          "text": [
            "End of 8,accuracy0.699999988079071\n",
            "End of 8,accuracy0.5\n"
          ]
        },
        {
          "output_type": "stream",
          "name": "stderr",
          "text": [
            "Epoch 8:  59%|█████▉    | 30/51 [00:00<00:00, 76.05batch/s]"
          ]
        },
        {
          "output_type": "stream",
          "name": "stdout",
          "text": [
            "End of 8,accuracy0.800000011920929\n",
            "End of 8,accuracy0.5\n"
          ]
        },
        {
          "output_type": "stream",
          "name": "stderr",
          "text": [
            "Epoch 8:  67%|██████▋   | 34/51 [00:00<00:00, 111.16batch/s]"
          ]
        },
        {
          "output_type": "stream",
          "name": "stdout",
          "text": [
            "End of 8,accuracy0.5\n",
            "End of 8,accuracy0.5\n",
            "End of 8,accuracy0.5\n",
            "End of 8,accuracy0.30000001192092896\n",
            "End of 8,accuracy0.5"
          ]
        },
        {
          "output_type": "stream",
          "name": "stderr",
          "text": [
            "Epoch 8:  78%|███████▊  | 40/51 [00:00<00:00, 99.41batch/s] "
          ]
        },
        {
          "output_type": "stream",
          "name": "stdout",
          "text": [
            "\n",
            "End of 8,accuracy0.5\n",
            "End of 8,accuracy0.699999988079071\n",
            "End of 8,accuracy0.699999988079071\n",
            "End of 8,accuracy0.8999999761581421\n",
            "End of 8,accuracy0.6000000238418579\n",
            "End of 8,accuracy0.800000011920929"
          ]
        },
        {
          "output_type": "stream",
          "name": "stderr",
          "text": [
            "Epoch 8:  92%|█████████▏| 47/51 [00:00<00:00, 107.59batch/s]"
          ]
        },
        {
          "output_type": "stream",
          "name": "stdout",
          "text": [
            "\n",
            "End of 8,accuracy0.4000000059604645\n",
            "End of 8,accuracy0.800000011920929\n",
            "End of 8,accuracy0.699999988079071\n",
            "End of 8,accuracy0.6000000238418579\n",
            "End of 8,accuracy0.8999999761581421\n",
            "End of 8,accuracy0.800000011920929\n"
          ]
        },
        {
          "output_type": "stream",
          "name": "stderr",
          "text": [
            "Epoch 8:  98%|█████████▊| 50/51 [00:00<00:00, 122.92batch/s]"
          ]
        },
        {
          "output_type": "stream",
          "name": "stdout",
          "text": [
            "End of 8,accuracy0.4000000059604645\n",
            "End of 8,accuracy0.4000000059604645\n",
            "End of 8,accuracy0.800000011920929\n"
          ]
        },
        {
          "output_type": "stream",
          "name": "stderr",
          "text": [
            "Epoch 8: 100%|██████████| 51/51 [00:00<00:00, 79.42batch/s]\n"
          ]
        },
        {
          "output_type": "stream",
          "name": "stdout",
          "text": [
            "End of 8,accuracy0.800000011920929\n"
          ]
        },
        {
          "output_type": "stream",
          "name": "stderr",
          "text": [
            "Epoch 9:   4%|▍         | 2/51 [00:00<00:00, 75.67batch/s] "
          ]
        },
        {
          "output_type": "stream",
          "name": "stdout",
          "text": [
            "End of 9,accuracy0.800000011920929\n",
            "End of 9,accuracy0.699999988079071\n"
          ]
        },
        {
          "output_type": "stream",
          "name": "stderr",
          "text": [
            "Epoch 9:  16%|█▌        | 8/51 [00:00<00:00, 90.90batch/s]"
          ]
        },
        {
          "output_type": "stream",
          "name": "stdout",
          "text": [
            "End of 9,accuracy0.699999988079071\n",
            "End of 9,accuracy0.699999988079071\n",
            "End of 9,accuracy0.699999988079071\n",
            "End of 9,accuracy0.5\n",
            "End of 9,accuracy0.699999988079071\n",
            "End of 9,accuracy0.6000000238418579\n"
          ]
        },
        {
          "output_type": "stream",
          "name": "stderr",
          "text": [
            "Epoch 9:  31%|███▏      | 16/51 [00:00<00:00, 144.62batch/s]"
          ]
        },
        {
          "output_type": "stream",
          "name": "stdout",
          "text": [
            "End of 9,accuracy0.699999988079071\n",
            "End of 9,accuracy0.699999988079071\n",
            "End of 9,accuracy0.699999988079071\n",
            "End of 9,accuracy0.6000000238418579\n",
            "End of 9,accuracy0.8999999761581421\n",
            "End of 9,accuracy0.800000011920929\n",
            "End of 9,accuracy0.6000000238418579\n",
            "End of 9,accuracy0.800000011920929\n"
          ]
        },
        {
          "output_type": "stream",
          "name": "stderr",
          "text": [
            "Epoch 9:  39%|███▉      | 20/51 [00:00<00:00, 129.61batch/s]"
          ]
        },
        {
          "output_type": "stream",
          "name": "stdout",
          "text": [
            "End of 9,accuracy0.699999988079071\n",
            "End of 9,accuracy0.800000011920929\n",
            "End of 9,accuracy0.6000000238418579\n",
            "End of 9,accuracy0.800000011920929\n"
          ]
        },
        {
          "output_type": "stream",
          "name": "stderr",
          "text": [
            "Epoch 9:  43%|████▎     | 22/51 [00:00<00:00, 111.51batch/s]"
          ]
        },
        {
          "output_type": "stream",
          "name": "stdout",
          "text": [
            "End of 9,accuracy0.699999988079071\n",
            "End of 9,accuracy0.800000011920929\n"
          ]
        },
        {
          "output_type": "stream",
          "name": "stderr",
          "text": [
            "Epoch 9:  49%|████▉     | 25/51 [00:00<00:00, 108.35batch/s]"
          ]
        },
        {
          "output_type": "stream",
          "name": "stdout",
          "text": [
            "End of 9,accuracy0.699999988079071\n",
            "End of 9,accuracy0.699999988079071\n",
            "End of 9,accuracy0.6000000238418579\n"
          ]
        },
        {
          "output_type": "stream",
          "name": "stderr",
          "text": [
            "Epoch 9:  59%|█████▉    | 30/51 [00:00<00:00, 99.33batch/s]"
          ]
        },
        {
          "output_type": "stream",
          "name": "stdout",
          "text": [
            "End of 9,accuracy0.699999988079071\n",
            "End of 9,accuracy0.699999988079071\n",
            "End of 9,accuracy0.5\n",
            "End of 9,accuracy0.800000011920929\n",
            "End of 9,accuracy0.5\n"
          ]
        },
        {
          "output_type": "stream",
          "name": "stderr",
          "text": [
            "Epoch 9:  67%|██████▋   | 34/51 [00:00<00:00, 78.57batch/s]"
          ]
        },
        {
          "output_type": "stream",
          "name": "stdout",
          "text": [
            "End of 9,accuracy0.6000000238418579\n",
            "End of 9,accuracy0.4000000059604645\n",
            "End of 9,accuracy0.5\n",
            "End of 9,accuracy0.30000001192092896\n"
          ]
        },
        {
          "output_type": "stream",
          "name": "stderr",
          "text": [
            "Epoch 9:  71%|███████   | 36/51 [00:00<00:00, 58.67batch/s]"
          ]
        },
        {
          "output_type": "stream",
          "name": "stdout",
          "text": [
            "End of 9,accuracy0.5\n",
            "End of 9,accuracy0.5\n"
          ]
        },
        {
          "output_type": "stream",
          "name": "stderr",
          "text": [
            "\rEpoch 9:  73%|███████▎  | 37/51 [00:00<00:00, 55.83batch/s]"
          ]
        },
        {
          "output_type": "stream",
          "name": "stdout",
          "text": [
            "End of 9,accuracy0.699999988079071\n"
          ]
        },
        {
          "output_type": "stream",
          "name": "stderr",
          "text": [
            "\rEpoch 9:  75%|███████▍  | 38/51 [00:00<00:00, 49.69batch/s]"
          ]
        },
        {
          "output_type": "stream",
          "name": "stdout",
          "text": [
            "End of 9,accuracy0.699999988079071\n"
          ]
        },
        {
          "output_type": "stream",
          "name": "stderr",
          "text": [
            "Epoch 9:  86%|████████▋ | 44/51 [00:00<00:00, 83.80batch/s]"
          ]
        },
        {
          "output_type": "stream",
          "name": "stdout",
          "text": [
            "End of 9,accuracy0.8999999761581421\n",
            "End of 9,accuracy0.6000000238418579\n",
            "End of 9,accuracy0.800000011920929\n",
            "End of 9,accuracy0.4000000059604645\n",
            "End of 9,accuracy0.699999988079071\n",
            "End of 9,accuracy0.699999988079071\n"
          ]
        },
        {
          "output_type": "stream",
          "name": "stderr",
          "text": [
            "Epoch 9:  98%|█████████▊| 50/51 [00:00<00:00, 97.67batch/s]"
          ]
        },
        {
          "output_type": "stream",
          "name": "stdout",
          "text": [
            "End of 9,accuracy0.6000000238418579\n",
            "End of 9,accuracy0.8999999761581421\n",
            "End of 9,accuracy0.800000011920929\n",
            "End of 9,accuracy0.4000000059604645\n",
            "End of 9,accuracy0.4000000059604645\n",
            "End of 9,accuracy0.800000011920929\n"
          ]
        },
        {
          "output_type": "stream",
          "name": "stderr",
          "text": [
            "Epoch 9: 100%|██████████| 51/51 [00:00<00:00, 84.66batch/s]\n"
          ]
        },
        {
          "output_type": "stream",
          "name": "stdout",
          "text": [
            "End of 9,accuracy0.800000011920929\n"
          ]
        },
        {
          "output_type": "stream",
          "name": "stderr",
          "text": [
            "Epoch 10:   4%|▍         | 2/51 [00:00<00:00, 152.93batch/s]"
          ]
        },
        {
          "output_type": "stream",
          "name": "stdout",
          "text": [
            "End of 10,accuracy0.800000011920929\n",
            "End of 10,accuracy0.699999988079071\n"
          ]
        },
        {
          "output_type": "stream",
          "name": "stderr",
          "text": [
            "\rEpoch 10:   6%|▌         | 3/51 [00:00<00:00, 71.10batch/s] "
          ]
        },
        {
          "output_type": "stream",
          "name": "stdout",
          "text": [
            "End of 10,accuracy0.699999988079071\n",
            "End of 10,accuracy0.699999988079071\n"
          ]
        },
        {
          "output_type": "stream",
          "name": "stderr",
          "text": [
            "Epoch 10:  16%|█▌        | 8/51 [00:00<00:00, 77.44batch/s] "
          ]
        },
        {
          "output_type": "stream",
          "name": "stdout",
          "text": [
            "End of 10,accuracy0.699999988079071\n",
            "End of 10,accuracy0.5\n",
            "End of 10,accuracy0.699999988079071\n",
            "End of 10,accuracy0.6000000238418579\n"
          ]
        },
        {
          "output_type": "stream",
          "name": "stderr",
          "text": [
            "Epoch 10:  33%|███▎      | 17/51 [00:00<00:00, 132.81batch/s]"
          ]
        },
        {
          "output_type": "stream",
          "name": "stdout",
          "text": [
            "End of 10,accuracy0.699999988079071\n",
            "End of 10,accuracy0.699999988079071\n",
            "End of 10,accuracy0.699999988079071\n",
            "End of 10,accuracy0.6000000238418579\n",
            "End of 10,accuracy0.8999999761581421\n",
            "End of 10,accuracy0.800000011920929\n",
            "End of 10,accuracy0.6000000238418579\n",
            "End of 10,accuracy0.699999988079071\n",
            "End of 10,accuracy0.699999988079071\n"
          ]
        },
        {
          "output_type": "stream",
          "name": "stderr",
          "text": [
            "Epoch 10:  39%|███▉      | 20/51 [00:00<00:00, 103.59batch/s]"
          ]
        },
        {
          "output_type": "stream",
          "name": "stdout",
          "text": [
            "End of 10,accuracy0.800000011920929\n",
            "End of 10,accuracy0.6000000238418579\n",
            "End of 10,accuracy0.800000011920929\n",
            "End of 10,accuracy0.699999988079071\n"
          ]
        },
        {
          "output_type": "stream",
          "name": "stderr",
          "text": [
            "Epoch 10:  47%|████▋     | 24/51 [00:00<00:00, 109.23batch/s]"
          ]
        },
        {
          "output_type": "stream",
          "name": "stdout",
          "text": [
            "End of 10,accuracy0.699999988079071\n",
            "End of 10,accuracy0.699999988079071\n",
            "End of 10,accuracy0.699999988079071\n"
          ]
        },
        {
          "output_type": "stream",
          "name": "stderr",
          "text": [
            "Epoch 10:  51%|█████     | 26/51 [00:00<00:00, 95.70batch/s]"
          ]
        },
        {
          "output_type": "stream",
          "name": "stdout",
          "text": [
            "End of 10,accuracy0.6000000238418579\n",
            "End of 10,accuracy0.699999988079071\n"
          ]
        },
        {
          "output_type": "stream",
          "name": "stderr",
          "text": [
            "Epoch 10:  59%|█████▉    | 30/51 [00:00<00:00, 88.90batch/s]"
          ]
        },
        {
          "output_type": "stream",
          "name": "stdout",
          "text": [
            "End of 10,accuracy0.800000011920929\n",
            "End of 10,accuracy0.5\n",
            "End of 10,accuracy0.800000011920929\n",
            "End of 10,accuracy0.5\n"
          ]
        },
        {
          "output_type": "stream",
          "name": "stderr",
          "text": [
            "Epoch 10:  69%|██████▊   | 35/51 [00:00<00:00, 75.23batch/s]"
          ]
        },
        {
          "output_type": "stream",
          "name": "stdout",
          "text": [
            "End of 10,accuracy0.6000000238418579\n",
            "End of 10,accuracy0.4000000059604645\n",
            "End of 10,accuracy0.6000000238418579\n",
            "End of 10,accuracy0.30000001192092896\n",
            "End of 10,accuracy0.5\n"
          ]
        },
        {
          "output_type": "stream",
          "name": "stderr",
          "text": [
            "Epoch 10:  75%|███████▍  | 38/51 [00:00<00:00, 89.61batch/s]"
          ]
        },
        {
          "output_type": "stream",
          "name": "stdout",
          "text": [
            "End of 10,accuracy0.5\n",
            "End of 10,accuracy0.800000011920929\n",
            "End of 10,accuracy0.699999988079071\n"
          ]
        },
        {
          "output_type": "stream",
          "name": "stderr",
          "text": [
            "Epoch 10:  80%|████████  | 41/51 [00:00<00:00, 96.54batch/s]"
          ]
        },
        {
          "output_type": "stream",
          "name": "stdout",
          "text": [
            "End of 10,accuracy0.8999999761581421\n",
            "End of 10,accuracy0.6000000238418579\n",
            "End of 10,accuracy0.800000011920929\n",
            "End of 10,accuracy0.4000000059604645\n"
          ]
        },
        {
          "output_type": "stream",
          "name": "stderr",
          "text": [
            "Epoch 10:  88%|████████▊ | 45/51 [00:00<00:00, 59.31batch/s]"
          ]
        },
        {
          "output_type": "stream",
          "name": "stdout",
          "text": [
            "End of 10,accuracy0.699999988079071\n",
            "End of 10,accuracy0.699999988079071\n",
            "End of 10,accuracy0.6000000238418579\n"
          ]
        },
        {
          "output_type": "stream",
          "name": "stderr",
          "text": [
            "Epoch 10: 100%|██████████| 51/51 [00:00<00:00, 92.89batch/s]"
          ]
        },
        {
          "output_type": "stream",
          "name": "stdout",
          "text": [
            "End of 10,accuracy0.8999999761581421\n",
            "End of 10,accuracy0.800000011920929\n",
            "End of 10,accuracy0.4000000059604645\n",
            "End of 10,accuracy0.4000000059604645\n",
            "End of 10,accuracy0.800000011920929\n",
            "End of 10,accuracy0.800000011920929\n"
          ]
        },
        {
          "output_type": "stream",
          "name": "stderr",
          "text": [
            "Epoch 10: 100%|██████████| 51/51 [00:00<00:00, 86.42batch/s]\n",
            "Epoch 11:   6%|▌         | 3/51 [00:00<00:00, 61.80batch/s]"
          ]
        },
        {
          "output_type": "stream",
          "name": "stdout",
          "text": [
            "End of 11,accuracy0.800000011920929\n",
            "End of 11,accuracy0.699999988079071\n",
            "End of 11,accuracy0.699999988079071\n"
          ]
        },
        {
          "output_type": "stream",
          "name": "stderr",
          "text": [
            "\rEpoch 11:   8%|▊         | 4/51 [00:00<00:00, 69.98batch/s]"
          ]
        },
        {
          "output_type": "stream",
          "name": "stdout",
          "text": [
            "End of 11,accuracy0.699999988079071\n"
          ]
        },
        {
          "output_type": "stream",
          "name": "stderr",
          "text": [
            "Epoch 11:  16%|█▌        | 8/51 [00:00<00:00, 75.96batch/s]"
          ]
        },
        {
          "output_type": "stream",
          "name": "stdout",
          "text": [
            "End of 11,accuracy0.699999988079071\n",
            "End of 11,accuracy0.5\n",
            "End of 11,accuracy0.699999988079071\n",
            "End of 11,accuracy0.6000000238418579\n"
          ]
        },
        {
          "output_type": "stream",
          "name": "stderr",
          "text": [
            "Epoch 11:  31%|███▏      | 16/51 [00:00<00:00, 90.34batch/s]"
          ]
        },
        {
          "output_type": "stream",
          "name": "stdout",
          "text": [
            "End of 11,accuracy0.699999988079071\n",
            "End of 11,accuracy0.699999988079071\n",
            "End of 11,accuracy0.6000000238418579\n",
            "End of 11,accuracy0.6000000238418579\n",
            "End of 11,accuracy0.8999999761581421\n",
            "End of 11,accuracy0.800000011920929\n",
            "End of 11,accuracy0.6000000238418579\n",
            "End of 11,accuracy0.699999988079071\n",
            "End of 11,accuracy0.699999988079071\n"
          ]
        },
        {
          "output_type": "stream",
          "name": "stderr",
          "text": [
            "Epoch 11:  35%|███▌      | 18/51 [00:00<00:00, 84.95batch/s]"
          ]
        },
        {
          "output_type": "stream",
          "name": "stdout",
          "text": [
            "End of 11,accuracy0.800000011920929\n"
          ]
        },
        {
          "output_type": "stream",
          "name": "stderr",
          "text": [
            "Epoch 11:  39%|███▉      | 20/51 [00:00<00:00, 81.91batch/s]"
          ]
        },
        {
          "output_type": "stream",
          "name": "stdout",
          "text": [
            "End of 11,accuracy0.6000000238418579\n",
            "End of 11,accuracy0.800000011920929\n"
          ]
        },
        {
          "output_type": "stream",
          "name": "stderr",
          "text": [
            "\rEpoch 11:  41%|████      | 21/51 [00:00<00:00, 80.69batch/s]"
          ]
        },
        {
          "output_type": "stream",
          "name": "stdout",
          "text": [
            "End of 11,accuracy0.699999988079071\n"
          ]
        },
        {
          "output_type": "stream",
          "name": "stderr",
          "text": [
            "Epoch 11:  47%|████▋     | 24/51 [00:00<00:00, 71.12batch/s]"
          ]
        },
        {
          "output_type": "stream",
          "name": "stdout",
          "text": [
            "End of 11,accuracy0.699999988079071\n",
            "End of 11,accuracy0.699999988079071\n",
            "End of 11,accuracy0.699999988079071\n",
            "End of 11,accuracy0.6000000238418579\n"
          ]
        },
        {
          "output_type": "stream",
          "name": "stderr",
          "text": [
            "Epoch 11:  61%|██████    | 31/51 [00:00<00:00, 63.17batch/s]"
          ]
        },
        {
          "output_type": "stream",
          "name": "stdout",
          "text": [
            "End of 11,accuracy0.699999988079071\n",
            "End of 11,accuracy0.800000011920929\n",
            "End of 11,accuracy0.5\n",
            "End of 11,accuracy0.800000011920929\n",
            "End of 11,accuracy0.5\n",
            "End of 11,accuracy0.6000000238418579\n",
            "End of 11,accuracy0.4000000059604645"
          ]
        },
        {
          "output_type": "stream",
          "name": "stderr",
          "text": [
            "\rEpoch 11:  63%|██████▎   | 32/51 [00:00<00:00, 48.79batch/s]"
          ]
        },
        {
          "output_type": "stream",
          "name": "stdout",
          "text": [
            "\n",
            "End of 11,accuracy0.6000000238418579\n"
          ]
        },
        {
          "output_type": "stream",
          "name": "stderr",
          "text": [
            "\rEpoch 11:  65%|██████▍   | 33/51 [00:00<00:00, 52.71batch/s]"
          ]
        },
        {
          "output_type": "stream",
          "name": "stdout",
          "text": [
            "End of 11,accuracy0.30000001192092896"
          ]
        },
        {
          "output_type": "stream",
          "name": "stderr",
          "text": [
            "Epoch 11:  73%|███████▎  | 37/51 [00:00<00:00, 60.14batch/s]"
          ]
        },
        {
          "output_type": "stream",
          "name": "stdout",
          "text": [
            "\n",
            "End of 11,accuracy0.5\n",
            "End of 11,accuracy0.6000000238418579\n",
            "End of 11,accuracy0.800000011920929\n"
          ]
        },
        {
          "output_type": "stream",
          "name": "stderr",
          "text": [
            "Epoch 11:  90%|█████████ | 46/51 [00:00<00:00, 120.88batch/s]"
          ]
        },
        {
          "output_type": "stream",
          "name": "stdout",
          "text": [
            "End of 11,accuracy0.699999988079071\n",
            "End of 11,accuracy0.8999999761581421\n",
            "End of 11,accuracy0.6000000238418579\n",
            "End of 11,accuracy0.699999988079071\n",
            "End of 11,accuracy0.4000000059604645\n",
            "End of 11,accuracy0.6000000238418579\n",
            "End of 11,accuracy0.699999988079071\n",
            "End of 11,accuracy0.6000000238418579\n",
            "End of 11,accuracy0.8999999761581421\n",
            "End of 11,accuracy0.800000011920929\n"
          ]
        },
        {
          "output_type": "stream",
          "name": "stderr",
          "text": [
            "Epoch 11:  94%|█████████▍| 48/51 [00:00<00:00, 67.09batch/s]"
          ]
        },
        {
          "output_type": "stream",
          "name": "stdout",
          "text": [
            "End of 11,accuracy0.5\n",
            "End of 11,accuracy0.4000000059604645\n"
          ]
        },
        {
          "output_type": "stream",
          "name": "stderr",
          "text": [
            "Epoch 11: 100%|██████████| 51/51 [00:00<00:00, 70.13batch/s]\n"
          ]
        },
        {
          "output_type": "stream",
          "name": "stdout",
          "text": [
            "End of 11,accuracy0.800000011920929\n",
            "End of 11,accuracy0.800000011920929\n"
          ]
        },
        {
          "output_type": "stream",
          "name": "stderr",
          "text": [
            "Epoch 12:   4%|▍         | 2/51 [00:00<00:00, 103.25batch/s]"
          ]
        },
        {
          "output_type": "stream",
          "name": "stdout",
          "text": [
            "End of 12,accuracy0.800000011920929\n",
            "End of 12,accuracy0.699999988079071\n"
          ]
        },
        {
          "output_type": "stream",
          "name": "stderr",
          "text": [
            "Epoch 12:  18%|█▊        | 9/51 [00:00<00:00, 60.88batch/s]"
          ]
        },
        {
          "output_type": "stream",
          "name": "stdout",
          "text": [
            "End of 12,accuracy0.699999988079071\n",
            "End of 12,accuracy0.699999988079071\n",
            "End of 12,accuracy0.699999988079071\n",
            "End of 12,accuracy0.5\n",
            "End of 12,accuracy0.699999988079071\n",
            "End of 12,accuracy0.6000000238418579\n",
            "End of 12,accuracy0.699999988079071\n"
          ]
        },
        {
          "output_type": "stream",
          "name": "stderr",
          "text": [
            "Epoch 12:  22%|██▏       | 11/51 [00:00<00:00, 60.04batch/s]"
          ]
        },
        {
          "output_type": "stream",
          "name": "stdout",
          "text": [
            "End of 12,accuracy0.699999988079071\n",
            "End of 12,accuracy0.6000000238418579\n"
          ]
        },
        {
          "output_type": "stream",
          "name": "stderr",
          "text": [
            "Epoch 12:  27%|██▋       | 14/51 [00:00<00:00, 69.83batch/s]"
          ]
        },
        {
          "output_type": "stream",
          "name": "stdout",
          "text": [
            "End of 12,accuracy0.6000000238418579\n",
            "End of 12,accuracy0.8999999761581421\n",
            "End of 12,accuracy0.800000011920929\n"
          ]
        },
        {
          "output_type": "stream",
          "name": "stderr",
          "text": [
            "Epoch 12:  31%|███▏      | 16/51 [00:00<00:00, 77.88batch/s]"
          ]
        },
        {
          "output_type": "stream",
          "name": "stdout",
          "text": [
            "End of 12,accuracy0.6000000238418579\n",
            "End of 12,accuracy0.699999988079071\n"
          ]
        },
        {
          "output_type": "stream",
          "name": "stderr",
          "text": [
            "Epoch 12:  49%|████▉     | 25/51 [00:00<00:00, 83.01batch/s]"
          ]
        },
        {
          "output_type": "stream",
          "name": "stdout",
          "text": [
            "End of 12,accuracy0.699999988079071\n",
            "End of 12,accuracy0.800000011920929\n",
            "End of 12,accuracy0.6000000238418579\n",
            "End of 12,accuracy0.800000011920929\n",
            "End of 12,accuracy0.699999988079071\n",
            "End of 12,accuracy0.699999988079071\n",
            "End of 12,accuracy0.699999988079071\n",
            "End of 12,accuracy0.699999988079071\n",
            "End of 12,accuracy0.6000000238418579\n"
          ]
        },
        {
          "output_type": "stream",
          "name": "stderr",
          "text": [
            "Epoch 12:  53%|█████▎    | 27/51 [00:00<00:00, 70.09batch/s]"
          ]
        },
        {
          "output_type": "stream",
          "name": "stdout",
          "text": [
            "End of 12,accuracy0.699999988079071\n",
            "End of 12,accuracy0.800000011920929\n"
          ]
        },
        {
          "output_type": "stream",
          "name": "stderr",
          "text": [
            "Epoch 12:  57%|█████▋    | 29/51 [00:00<00:00, 69.36batch/s]"
          ]
        },
        {
          "output_type": "stream",
          "name": "stdout",
          "text": [
            "End of 12,accuracy0.5\n",
            "End of 12,accuracy0.800000011920929\n",
            "End of 12,accuracy0.5\n"
          ]
        },
        {
          "output_type": "stream",
          "name": "stderr",
          "text": [
            "Epoch 12:  61%|██████    | 31/51 [00:00<00:00, 61.81batch/s]"
          ]
        },
        {
          "output_type": "stream",
          "name": "stdout",
          "text": [
            "End of 12,accuracy0.6000000238418579\n"
          ]
        },
        {
          "output_type": "stream",
          "name": "stderr",
          "text": [
            "Epoch 12:  75%|███████▍  | 38/51 [00:00<00:00, 68.29batch/s]"
          ]
        },
        {
          "output_type": "stream",
          "name": "stdout",
          "text": [
            "End of 12,accuracy0.4000000059604645\n",
            "End of 12,accuracy0.6000000238418579\n",
            "End of 12,accuracy0.4000000059604645\n",
            "End of 12,accuracy0.5\n",
            "End of 12,accuracy0.6000000238418579\n",
            "End of 12,accuracy0.800000011920929\n",
            "End of 12,accuracy0.699999988079071\n",
            "End of 12,accuracy0.8999999761581421"
          ]
        },
        {
          "output_type": "stream",
          "name": "stderr",
          "text": [
            "Epoch 12:  80%|████████  | 41/51 [00:00<00:00, 84.28batch/s]"
          ]
        },
        {
          "output_type": "stream",
          "name": "stdout",
          "text": [
            "\n",
            "End of 12,accuracy0.6000000238418579\n",
            "End of 12,accuracy0.699999988079071\n"
          ]
        },
        {
          "output_type": "stream",
          "name": "stderr",
          "text": [
            "Epoch 12:  90%|█████████ | 46/51 [00:00<00:00, 98.59batch/s] "
          ]
        },
        {
          "output_type": "stream",
          "name": "stdout",
          "text": [
            "End of 12,accuracy0.4000000059604645\n",
            "End of 12,accuracy0.6000000238418579\n",
            "End of 12,accuracy0.699999988079071\n",
            "End of 12,accuracy0.6000000238418579\n",
            "End of 12,accuracy0.8999999761581421\n",
            "End of 12,accuracy0.800000011920929\n"
          ]
        },
        {
          "output_type": "stream",
          "name": "stderr",
          "text": [
            "Epoch 12:  94%|█████████▍| 48/51 [00:00<00:00, 91.10batch/s]"
          ]
        },
        {
          "output_type": "stream",
          "name": "stdout",
          "text": [
            "End of 12,accuracy0.5\n"
          ]
        },
        {
          "output_type": "stream",
          "name": "stderr",
          "text": [
            "Epoch 12: 100%|██████████| 51/51 [00:00<00:00, 74.61batch/s]\n"
          ]
        },
        {
          "output_type": "stream",
          "name": "stdout",
          "text": [
            "End of 12,accuracy0.4000000059604645\n",
            "End of 12,accuracy0.800000011920929\n",
            "End of 12,accuracy0.800000011920929\n"
          ]
        },
        {
          "output_type": "stream",
          "name": "stderr",
          "text": [
            "Epoch 13:  12%|█▏        | 6/51 [00:00<00:00, 108.46batch/s]"
          ]
        },
        {
          "output_type": "stream",
          "name": "stdout",
          "text": [
            "End of 13,accuracy0.800000011920929\n",
            "End of 13,accuracy0.699999988079071\n",
            "End of 13,accuracy0.699999988079071\n",
            "End of 13,accuracy0.699999988079071\n",
            "End of 13,accuracy0.699999988079071\n",
            "End of 13,accuracy0.4000000059604645\n",
            "End of 13,accuracy0.699999988079071\n"
          ]
        },
        {
          "output_type": "stream",
          "name": "stderr",
          "text": [
            "Epoch 13:  18%|█▊        | 9/51 [00:00<00:00, 102.13batch/s]"
          ]
        },
        {
          "output_type": "stream",
          "name": "stdout",
          "text": [
            "End of 13,accuracy0.6000000238418579\n",
            "End of 13,accuracy0.699999988079071\n"
          ]
        },
        {
          "output_type": "stream",
          "name": "stderr",
          "text": [
            "Epoch 13:  29%|██▉       | 15/51 [00:00<00:00, 106.25batch/s]"
          ]
        },
        {
          "output_type": "stream",
          "name": "stdout",
          "text": [
            "End of 13,accuracy0.699999988079071\n",
            "End of 13,accuracy0.6000000238418579\n",
            "End of 13,accuracy0.6000000238418579\n",
            "End of 13,accuracy0.8999999761581421\n",
            "End of 13,accuracy0.800000011920929\n",
            "End of 13,accuracy0.6000000238418579\n"
          ]
        },
        {
          "output_type": "stream",
          "name": "stderr",
          "text": [
            "\rEpoch 13:  31%|███▏      | 16/51 [00:00<00:00, 110.29batch/s]"
          ]
        },
        {
          "output_type": "stream",
          "name": "stdout",
          "text": [
            "End of 13,accuracy0.699999988079071\n"
          ]
        },
        {
          "output_type": "stream",
          "name": "stderr",
          "text": [
            "Epoch 13:  37%|███▋      | 19/51 [00:00<00:00, 77.33batch/s]"
          ]
        },
        {
          "output_type": "stream",
          "name": "stdout",
          "text": [
            "End of 13,accuracy0.699999988079071\n",
            "End of 13,accuracy0.800000011920929\n",
            "End of 13,accuracy0.6000000238418579\n"
          ]
        },
        {
          "output_type": "stream",
          "name": "stderr",
          "text": [
            "Epoch 13:  47%|████▋     | 24/51 [00:00<00:00, 83.89batch/s]"
          ]
        },
        {
          "output_type": "stream",
          "name": "stdout",
          "text": [
            "End of 13,accuracy0.800000011920929\n",
            "End of 13,accuracy0.699999988079071\n",
            "End of 13,accuracy0.699999988079071\n",
            "End of 13,accuracy0.699999988079071\n",
            "End of 13,accuracy0.699999988079071\n"
          ]
        },
        {
          "output_type": "stream",
          "name": "stderr",
          "text": [
            "Epoch 13:  51%|█████     | 26/51 [00:00<00:00, 78.68batch/s]"
          ]
        },
        {
          "output_type": "stream",
          "name": "stdout",
          "text": [
            "End of 13,accuracy0.6000000238418579\n",
            "End of 13,accuracy0.699999988079071\n"
          ]
        },
        {
          "output_type": "stream",
          "name": "stderr",
          "text": [
            "Epoch 13:  57%|█████▋    | 29/51 [00:00<00:00, 55.75batch/s]"
          ]
        },
        {
          "output_type": "stream",
          "name": "stdout",
          "text": [
            "End of 13,accuracy0.800000011920929\n",
            "End of 13,accuracy0.5\n",
            "End of 13,accuracy0.800000011920929\n"
          ]
        },
        {
          "output_type": "stream",
          "name": "stderr",
          "text": [
            "Epoch 13:  65%|██████▍   | 33/51 [00:00<00:00, 63.09batch/s]"
          ]
        },
        {
          "output_type": "stream",
          "name": "stdout",
          "text": [
            "End of 13,accuracy0.5\n",
            "End of 13,accuracy0.6000000238418579\n",
            "End of 13,accuracy0.4000000059604645\n",
            "End of 13,accuracy0.6000000238418579\n"
          ]
        },
        {
          "output_type": "stream",
          "name": "stderr",
          "text": [
            "Epoch 13:  71%|███████   | 36/51 [00:00<00:00, 64.56batch/s]"
          ]
        },
        {
          "output_type": "stream",
          "name": "stdout",
          "text": [
            "End of 13,accuracy0.4000000059604645\n",
            "End of 13,accuracy0.5\n",
            "End of 13,accuracy0.6000000238418579\n"
          ]
        },
        {
          "output_type": "stream",
          "name": "stderr",
          "text": [
            "Epoch 13:  78%|███████▊  | 40/51 [00:00<00:00, 89.84batch/s]"
          ]
        },
        {
          "output_type": "stream",
          "name": "stdout",
          "text": [
            "End of 13,accuracy0.800000011920929\n",
            "End of 13,accuracy0.699999988079071\n",
            "End of 13,accuracy0.8999999761581421\n",
            "End of 13,accuracy0.6000000238418579\n",
            "End of 13,accuracy0.699999988079071\n"
          ]
        },
        {
          "output_type": "stream",
          "name": "stderr",
          "text": [
            "Epoch 13:  86%|████████▋ | 44/51 [00:00<00:00, 70.35batch/s]"
          ]
        },
        {
          "output_type": "stream",
          "name": "stdout",
          "text": [
            "End of 13,accuracy0.4000000059604645\n",
            "End of 13,accuracy0.6000000238418579\n",
            "End of 13,accuracy0.699999988079071\n",
            "End of 13,accuracy0.6000000238418579"
          ]
        },
        {
          "output_type": "stream",
          "name": "stderr",
          "text": [
            "Epoch 13:  90%|█████████ | 46/51 [00:00<00:00, 67.49batch/s]"
          ]
        },
        {
          "output_type": "stream",
          "name": "stdout",
          "text": [
            "\n",
            "End of 13,accuracy0.8999999761581421\n"
          ]
        },
        {
          "output_type": "stream",
          "name": "stderr",
          "text": [
            "Epoch 13:  96%|█████████▌| 49/51 [00:00<00:00, 86.56batch/s]"
          ]
        },
        {
          "output_type": "stream",
          "name": "stdout",
          "text": [
            "End of 13,accuracy0.800000011920929\n",
            "End of 13,accuracy0.5\n",
            "End of 13,accuracy0.4000000059604645\n",
            "End of 13,accuracy0.800000011920929\n"
          ]
        },
        {
          "output_type": "stream",
          "name": "stderr",
          "text": [
            "Epoch 13: 100%|██████████| 51/51 [00:00<00:00, 77.40batch/s]\n"
          ]
        },
        {
          "output_type": "stream",
          "name": "stdout",
          "text": [
            "End of 13,accuracy0.800000011920929\n"
          ]
        },
        {
          "output_type": "stream",
          "name": "stderr",
          "text": [
            "Epoch 14:   2%|▏         | 1/51 [00:00<00:01, 44.81batch/s]"
          ]
        },
        {
          "output_type": "stream",
          "name": "stdout",
          "text": [
            "End of 14,accuracy0.800000011920929\n"
          ]
        },
        {
          "output_type": "stream",
          "name": "stderr",
          "text": [
            "Epoch 14:  10%|▉         | 5/51 [00:00<00:00, 67.48batch/s]"
          ]
        },
        {
          "output_type": "stream",
          "name": "stdout",
          "text": [
            "End of 14,accuracy0.699999988079071\n",
            "End of 14,accuracy0.699999988079071\n",
            "End of 14,accuracy0.699999988079071\n",
            "End of 14,accuracy0.800000011920929\n"
          ]
        },
        {
          "output_type": "stream",
          "name": "stderr",
          "text": [
            "Epoch 14:  14%|█▎        | 7/51 [00:00<00:00, 68.40batch/s]"
          ]
        },
        {
          "output_type": "stream",
          "name": "stdout",
          "text": [
            "End of 14,accuracy0.4000000059604645\n",
            "End of 14,accuracy0.699999988079071\n"
          ]
        },
        {
          "output_type": "stream",
          "name": "stderr",
          "text": [
            "Epoch 14:  20%|█▉        | 10/51 [00:00<00:00, 72.04batch/s]"
          ]
        },
        {
          "output_type": "stream",
          "name": "stdout",
          "text": [
            "End of 14,accuracy0.6000000238418579\n",
            "End of 14,accuracy0.699999988079071\n",
            "End of 14,accuracy0.699999988079071\n"
          ]
        },
        {
          "output_type": "stream",
          "name": "stderr",
          "text": [
            "Epoch 14:  24%|██▎       | 12/51 [00:00<00:00, 84.76batch/s]"
          ]
        },
        {
          "output_type": "stream",
          "name": "stdout",
          "text": [
            "End of 14,accuracy0.6000000238418579\n",
            "End of 14,accuracy0.6000000238418579\n",
            "End of 14,accuracy0.8999999761581421\n"
          ]
        },
        {
          "output_type": "stream",
          "name": "stderr",
          "text": [
            "Epoch 14:  27%|██▋       | 14/51 [00:00<00:00, 58.68batch/s]"
          ]
        },
        {
          "output_type": "stream",
          "name": "stdout",
          "text": [
            "End of 14,accuracy0.800000011920929\n",
            "End of 14,accuracy0.6000000238418579"
          ]
        },
        {
          "output_type": "stream",
          "name": "stderr",
          "text": [
            "\rEpoch 14:  29%|██▉       | 15/51 [00:00<00:00, 64.41batch/s]"
          ]
        },
        {
          "output_type": "stream",
          "name": "stdout",
          "text": [
            "\n",
            "End of 14,accuracy0.699999988079071"
          ]
        },
        {
          "output_type": "stream",
          "name": "stderr",
          "text": [
            "Epoch 14:  35%|███▌      | 18/51 [00:00<00:00, 56.13batch/s]"
          ]
        },
        {
          "output_type": "stream",
          "name": "stdout",
          "text": [
            "\n",
            "End of 14,accuracy0.699999988079071\n",
            "End of 14,accuracy0.800000011920929\n"
          ]
        },
        {
          "output_type": "stream",
          "name": "stderr",
          "text": [
            "\rEpoch 14:  37%|███▋      | 19/51 [00:00<00:00, 48.68batch/s]"
          ]
        },
        {
          "output_type": "stream",
          "name": "stdout",
          "text": [
            "End of 14,accuracy0.6000000238418579\n",
            "End of 14,accuracy0.800000011920929"
          ]
        },
        {
          "output_type": "stream",
          "name": "stderr",
          "text": [
            "Epoch 14:  41%|████      | 21/51 [00:00<00:00, 51.93batch/s]"
          ]
        },
        {
          "output_type": "stream",
          "name": "stdout",
          "text": [
            "\n",
            "End of 14,accuracy0.699999988079071\n",
            "End of 14,accuracy0.699999988079071\n"
          ]
        },
        {
          "output_type": "stream",
          "name": "stderr",
          "text": [
            "Epoch 14:  45%|████▌     | 23/51 [00:00<00:00, 54.80batch/s]"
          ]
        },
        {
          "output_type": "stream",
          "name": "stdout",
          "text": [
            "End of 14,accuracy0.699999988079071\n",
            "End of 14,accuracy0.699999988079071\n"
          ]
        },
        {
          "output_type": "stream",
          "name": "stderr",
          "text": [
            "Epoch 14:  51%|█████     | 26/51 [00:00<00:00, 77.63batch/s]"
          ]
        },
        {
          "output_type": "stream",
          "name": "stdout",
          "text": [
            "End of 14,accuracy0.6000000238418579\n",
            "End of 14,accuracy0.699999988079071\n"
          ]
        },
        {
          "output_type": "stream",
          "name": "stderr",
          "text": [
            "Epoch 14:  55%|█████▍    | 28/51 [00:00<00:00, 77.14batch/s]"
          ]
        },
        {
          "output_type": "stream",
          "name": "stdout",
          "text": [
            "End of 14,accuracy0.800000011920929\n",
            "End of 14,accuracy0.5\n",
            "End of 14,accuracy0.800000011920929"
          ]
        },
        {
          "output_type": "stream",
          "name": "stderr",
          "text": [
            "Epoch 14:  69%|██████▊   | 35/51 [00:00<00:00, 110.50batch/s]"
          ]
        },
        {
          "output_type": "stream",
          "name": "stdout",
          "text": [
            "\n",
            "End of 14,accuracy0.5\n",
            "End of 14,accuracy0.6000000238418579\n",
            "End of 14,accuracy0.4000000059604645\n",
            "End of 14,accuracy0.6000000238418579\n",
            "End of 14,accuracy0.4000000059604645\n",
            "End of 14,accuracy0.5\n"
          ]
        },
        {
          "output_type": "stream",
          "name": "stderr",
          "text": [
            "Epoch 14:  73%|███████▎  | 37/51 [00:00<00:00, 115.83batch/s]"
          ]
        },
        {
          "output_type": "stream",
          "name": "stdout",
          "text": [
            "End of 14,accuracy0.6000000238418579\n",
            "End of 14,accuracy0.800000011920929\n",
            "End of 14,accuracy0.699999988079071\n"
          ]
        },
        {
          "output_type": "stream",
          "name": "stderr",
          "text": [
            "Epoch 14:  76%|███████▋  | 39/51 [00:00<00:00, 114.18batch/s]"
          ]
        },
        {
          "output_type": "stream",
          "name": "stdout",
          "text": [
            "End of 14,accuracy0.8999999761581421\n",
            "End of 14,accuracy0.6000000238418579\n"
          ]
        },
        {
          "output_type": "stream",
          "name": "stderr",
          "text": [
            "Epoch 14:  82%|████████▏ | 42/51 [00:00<00:00, 90.02batch/s]"
          ]
        },
        {
          "output_type": "stream",
          "name": "stdout",
          "text": [
            "End of 14,accuracy0.699999988079071\n",
            "End of 14,accuracy0.4000000059604645\n",
            "End of 14,accuracy0.6000000238418579"
          ]
        },
        {
          "output_type": "stream",
          "name": "stderr",
          "text": [
            "Epoch 14:  86%|████████▋ | 44/51 [00:00<00:00, 83.78batch/s]"
          ]
        },
        {
          "output_type": "stream",
          "name": "stdout",
          "text": [
            "\n",
            "End of 14,accuracy0.699999988079071\n",
            "End of 14,accuracy0.6000000238418579"
          ]
        },
        {
          "output_type": "stream",
          "name": "stderr",
          "text": [
            "Epoch 14:  90%|█████████ | 46/51 [00:00<00:00, 76.54batch/s]"
          ]
        },
        {
          "output_type": "stream",
          "name": "stdout",
          "text": [
            "\n",
            "End of 14,accuracy0.8999999761581421\n",
            "End of 14,accuracy0.800000011920929"
          ]
        },
        {
          "output_type": "stream",
          "name": "stderr",
          "text": [
            "Epoch 14: 100%|██████████| 51/51 [00:00<00:00, 71.96batch/s]\n"
          ]
        },
        {
          "output_type": "stream",
          "name": "stdout",
          "text": [
            "\n",
            "End of 14,accuracy0.5\n",
            "End of 14,accuracy0.4000000059604645\n",
            "End of 14,accuracy0.800000011920929\n",
            "End of 14,accuracy0.800000011920929\n"
          ]
        },
        {
          "output_type": "stream",
          "name": "stderr",
          "text": [
            "Epoch 15:   4%|▍         | 2/51 [00:00<00:00, 124.21batch/s]"
          ]
        },
        {
          "output_type": "stream",
          "name": "stdout",
          "text": [
            "End of 15,accuracy0.800000011920929\n",
            "End of 15,accuracy0.699999988079071\n"
          ]
        },
        {
          "output_type": "stream",
          "name": "stderr",
          "text": [
            "Epoch 15:   8%|▊         | 4/51 [00:00<00:00, 79.00batch/s]"
          ]
        },
        {
          "output_type": "stream",
          "name": "stdout",
          "text": [
            "End of 15,accuracy0.699999988079071\n",
            "End of 15,accuracy0.699999988079071\n",
            "End of 15,accuracy0.800000011920929\n"
          ]
        },
        {
          "output_type": "stream",
          "name": "stderr",
          "text": [
            "Epoch 15:  12%|█▏        | 6/51 [00:00<00:00, 77.56batch/s]"
          ]
        },
        {
          "output_type": "stream",
          "name": "stdout",
          "text": [
            "End of 15,accuracy0.4000000059604645\n"
          ]
        },
        {
          "output_type": "stream",
          "name": "stderr",
          "text": [
            "Epoch 15:  16%|█▌        | 8/51 [00:00<00:00, 65.23batch/s]"
          ]
        },
        {
          "output_type": "stream",
          "name": "stdout",
          "text": [
            "End of 15,accuracy0.699999988079071\n",
            "End of 15,accuracy0.6000000238418579\n"
          ]
        },
        {
          "output_type": "stream",
          "name": "stderr",
          "text": [
            "\rEpoch 15:  18%|█▊        | 9/51 [00:00<00:00, 72.17batch/s]"
          ]
        },
        {
          "output_type": "stream",
          "name": "stdout",
          "text": [
            "End of 15,accuracy0.699999988079071\n"
          ]
        },
        {
          "output_type": "stream",
          "name": "stderr",
          "text": [
            "Epoch 15:  25%|██▌       | 13/51 [00:00<00:00, 55.29batch/s]"
          ]
        },
        {
          "output_type": "stream",
          "name": "stdout",
          "text": [
            "End of 15,accuracy0.699999988079071\n",
            "End of 15,accuracy0.6000000238418579\n",
            "End of 15,accuracy0.6000000238418579\n",
            "End of 15,accuracy0.8999999761581421\n"
          ]
        },
        {
          "output_type": "stream",
          "name": "stderr",
          "text": [
            "\rEpoch 15:  27%|██▋       | 14/51 [00:00<00:00, 51.72batch/s]"
          ]
        },
        {
          "output_type": "stream",
          "name": "stdout",
          "text": [
            "End of 15,accuracy0.800000011920929\n"
          ]
        },
        {
          "output_type": "stream",
          "name": "stderr",
          "text": [
            "Epoch 15:  31%|███▏      | 16/51 [00:00<00:00, 65.11batch/s]"
          ]
        },
        {
          "output_type": "stream",
          "name": "stdout",
          "text": [
            "End of 15,accuracy0.6000000238418579\n",
            "End of 15,accuracy0.699999988079071\n",
            "End of 15,accuracy0.699999988079071"
          ]
        },
        {
          "output_type": "stream",
          "name": "stderr",
          "text": [
            "Epoch 15:  35%|███▌      | 18/51 [00:00<00:00, 68.57batch/s]"
          ]
        },
        {
          "output_type": "stream",
          "name": "stdout",
          "text": [
            "\n",
            "End of 15,accuracy0.800000011920929\n",
            "End of 15,accuracy0.6000000238418579\n"
          ]
        },
        {
          "output_type": "stream",
          "name": "stderr",
          "text": [
            "Epoch 15:  43%|████▎     | 22/51 [00:00<00:00, 92.97batch/s]"
          ]
        },
        {
          "output_type": "stream",
          "name": "stdout",
          "text": [
            "End of 15,accuracy0.800000011920929\n",
            "End of 15,accuracy0.699999988079071\n",
            "End of 15,accuracy0.699999988079071\n"
          ]
        },
        {
          "output_type": "stream",
          "name": "stderr",
          "text": [
            "\rEpoch 15:  45%|████▌     | 23/51 [00:00<00:00, 96.98batch/s]"
          ]
        },
        {
          "output_type": "stream",
          "name": "stdout",
          "text": [
            "End of 15,accuracy0.699999988079071\n",
            "End of 15,accuracy0.699999988079071\n"
          ]
        },
        {
          "output_type": "stream",
          "name": "stderr",
          "text": [
            "Epoch 15:  63%|██████▎   | 32/51 [00:00<00:00, 115.14batch/s]"
          ]
        },
        {
          "output_type": "stream",
          "name": "stdout",
          "text": [
            "End of 15,accuracy0.6000000238418579\n",
            "End of 15,accuracy0.699999988079071\n",
            "End of 15,accuracy0.800000011920929\n",
            "End of 15,accuracy0.5\n",
            "End of 15,accuracy0.800000011920929\n",
            "End of 15,accuracy0.5\n",
            "End of 15,accuracy0.6000000238418579\n",
            "End of 15,accuracy0.4000000059604645\n",
            "End of 15,accuracy0.6000000238418579\n"
          ]
        },
        {
          "output_type": "stream",
          "name": "stderr",
          "text": [
            "Epoch 15:  69%|██████▊   | 35/51 [00:00<00:00, 112.08batch/s]"
          ]
        },
        {
          "output_type": "stream",
          "name": "stdout",
          "text": [
            "End of 15,accuracy0.4000000059604645\n",
            "End of 15,accuracy0.5\n"
          ]
        },
        {
          "output_type": "stream",
          "name": "stderr",
          "text": [
            "Epoch 15:  75%|███████▍  | 38/51 [00:00<00:00, 117.38batch/s]"
          ]
        },
        {
          "output_type": "stream",
          "name": "stdout",
          "text": [
            "End of 15,accuracy0.6000000238418579\n",
            "End of 15,accuracy0.800000011920929\n",
            "End of 15,accuracy0.699999988079071\n"
          ]
        },
        {
          "output_type": "stream",
          "name": "stderr",
          "text": [
            "Epoch 15:  80%|████████  | 41/51 [00:00<00:00, 116.29batch/s]"
          ]
        },
        {
          "output_type": "stream",
          "name": "stdout",
          "text": [
            "End of 15,accuracy0.8999999761581421\n",
            "End of 15,accuracy0.6000000238418579\n",
            "End of 15,accuracy0.699999988079071\n"
          ]
        },
        {
          "output_type": "stream",
          "name": "stderr",
          "text": [
            "Epoch 15:  88%|████████▊ | 45/51 [00:00<00:00, 114.92batch/s]"
          ]
        },
        {
          "output_type": "stream",
          "name": "stdout",
          "text": [
            "End of 15,accuracy0.4000000059604645\n",
            "End of 15,accuracy0.699999988079071\n",
            "End of 15,accuracy0.699999988079071\n",
            "End of 15,accuracy0.6000000238418579\n"
          ]
        },
        {
          "output_type": "stream",
          "name": "stderr",
          "text": [
            "Epoch 15:  92%|█████████▏| 47/51 [00:00<00:00, 107.28batch/s]"
          ]
        },
        {
          "output_type": "stream",
          "name": "stdout",
          "text": [
            "End of 15,accuracy0.800000011920929\n",
            "End of 15,accuracy0.800000011920929\n"
          ]
        },
        {
          "output_type": "stream",
          "name": "stderr",
          "text": [
            "Epoch 15: 100%|██████████| 51/51 [00:00<00:00, 84.94batch/s]\n"
          ]
        },
        {
          "output_type": "stream",
          "name": "stdout",
          "text": [
            "End of 15,accuracy0.5\n",
            "End of 15,accuracy0.4000000059604645\n",
            "End of 15,accuracy0.800000011920929\n",
            "End of 15,accuracy0.800000011920929\n"
          ]
        },
        {
          "output_type": "stream",
          "name": "stderr",
          "text": [
            "Epoch 16:   6%|▌         | 3/51 [00:00<00:00, 127.01batch/s]"
          ]
        },
        {
          "output_type": "stream",
          "name": "stdout",
          "text": [
            "End of 16,accuracy0.800000011920929\n",
            "End of 16,accuracy0.699999988079071\n",
            "End of 16,accuracy0.699999988079071\n"
          ]
        },
        {
          "output_type": "stream",
          "name": "stderr",
          "text": [
            "Epoch 16:  10%|▉         | 5/51 [00:00<00:00, 115.75batch/s]"
          ]
        },
        {
          "output_type": "stream",
          "name": "stdout",
          "text": [
            "End of 16,accuracy0.699999988079071\n",
            "End of 16,accuracy0.800000011920929\n"
          ]
        },
        {
          "output_type": "stream",
          "name": "stderr",
          "text": [
            "Epoch 16:  16%|█▌        | 8/51 [00:00<00:00, 99.95batch/s] "
          ]
        },
        {
          "output_type": "stream",
          "name": "stdout",
          "text": [
            "End of 16,accuracy0.4000000059604645\n",
            "End of 16,accuracy0.699999988079071\n",
            "End of 16,accuracy0.6000000238418579\n"
          ]
        },
        {
          "output_type": "stream",
          "name": "stderr",
          "text": [
            "Epoch 16:  20%|█▉        | 10/51 [00:00<00:00, 100.66batch/s]"
          ]
        },
        {
          "output_type": "stream",
          "name": "stdout",
          "text": [
            "End of 16,accuracy0.699999988079071\n",
            "End of 16,accuracy0.699999988079071\n",
            "End of 16,accuracy0.6000000238418579\n"
          ]
        },
        {
          "output_type": "stream",
          "name": "stderr",
          "text": [
            "Epoch 16:  27%|██▋       | 14/51 [00:00<00:00, 97.44batch/s] "
          ]
        },
        {
          "output_type": "stream",
          "name": "stdout",
          "text": [
            "End of 16,accuracy0.6000000238418579\n",
            "End of 16,accuracy0.8999999761581421\n",
            "End of 16,accuracy0.800000011920929\n",
            "End of 16,accuracy0.6000000238418579"
          ]
        },
        {
          "output_type": "stream",
          "name": "stderr",
          "text": [
            "Epoch 16:  39%|███▉      | 20/51 [00:00<00:00, 104.80batch/s]"
          ]
        },
        {
          "output_type": "stream",
          "name": "stdout",
          "text": [
            "\n",
            "End of 16,accuracy0.699999988079071\n",
            "End of 16,accuracy0.699999988079071\n",
            "End of 16,accuracy0.800000011920929\n",
            "End of 16,accuracy0.6000000238418579\n",
            "End of 16,accuracy0.800000011920929\n",
            "End of 16,accuracy0.699999988079071"
          ]
        },
        {
          "output_type": "stream",
          "name": "stderr",
          "text": [
            "Epoch 16:  43%|████▎     | 22/51 [00:00<00:00, 100.22batch/s]"
          ]
        },
        {
          "output_type": "stream",
          "name": "stdout",
          "text": [
            "\n",
            "End of 16,accuracy0.699999988079071\n",
            "End of 16,accuracy0.699999988079071\n"
          ]
        },
        {
          "output_type": "stream",
          "name": "stderr",
          "text": [
            "\rEpoch 16:  45%|████▌     | 23/51 [00:00<00:00, 76.73batch/s] "
          ]
        },
        {
          "output_type": "stream",
          "name": "stdout",
          "text": [
            "End of 16,accuracy0.699999988079071"
          ]
        },
        {
          "output_type": "stream",
          "name": "stderr",
          "text": [
            "Epoch 16:  51%|█████     | 26/51 [00:00<00:00, 82.41batch/s]"
          ]
        },
        {
          "output_type": "stream",
          "name": "stdout",
          "text": [
            "\n",
            "End of 16,accuracy0.6000000238418579\n",
            "End of 16,accuracy0.699999988079071\n"
          ]
        },
        {
          "output_type": "stream",
          "name": "stderr",
          "text": [
            "Epoch 16:  55%|█████▍    | 28/51 [00:00<00:00, 93.96batch/s]"
          ]
        },
        {
          "output_type": "stream",
          "name": "stdout",
          "text": [
            "End of 16,accuracy0.800000011920929\n",
            "End of 16,accuracy0.5\n",
            "End of 16,accuracy0.800000011920929"
          ]
        },
        {
          "output_type": "stream",
          "name": "stderr",
          "text": [
            "Epoch 16:  61%|██████    | 31/51 [00:00<00:00, 66.70batch/s]"
          ]
        },
        {
          "output_type": "stream",
          "name": "stdout",
          "text": [
            "\n",
            "End of 16,accuracy0.5\n",
            "End of 16,accuracy0.6000000238418579\n"
          ]
        },
        {
          "output_type": "stream",
          "name": "stderr",
          "text": [
            "Epoch 16:  73%|███████▎  | 37/51 [00:00<00:00, 105.83batch/s]"
          ]
        },
        {
          "output_type": "stream",
          "name": "stdout",
          "text": [
            "End of 16,accuracy0.4000000059604645\n",
            "End of 16,accuracy0.6000000238418579\n",
            "End of 16,accuracy0.4000000059604645\n",
            "End of 16,accuracy0.5\n",
            "End of 16,accuracy0.6000000238418579\n",
            "End of 16,accuracy0.800000011920929\n",
            "End of 16,accuracy0.699999988079071"
          ]
        },
        {
          "output_type": "stream",
          "name": "stderr",
          "text": [
            "Epoch 16:  82%|████████▏ | 42/51 [00:00<00:00, 111.24batch/s]"
          ]
        },
        {
          "output_type": "stream",
          "name": "stdout",
          "text": [
            "\n",
            "End of 16,accuracy0.8999999761581421\n",
            "End of 16,accuracy0.6000000238418579\n",
            "End of 16,accuracy0.699999988079071\n",
            "End of 16,accuracy0.4000000059604645\n",
            "End of 16,accuracy0.699999988079071\n"
          ]
        },
        {
          "output_type": "stream",
          "name": "stderr",
          "text": [
            "Epoch 16:  88%|████████▊ | 45/51 [00:00<00:00, 96.69batch/s]"
          ]
        },
        {
          "output_type": "stream",
          "name": "stdout",
          "text": [
            "End of 16,accuracy0.699999988079071\n",
            "End of 16,accuracy0.6000000238418579\n"
          ]
        },
        {
          "output_type": "stream",
          "name": "stderr",
          "text": [
            "\rEpoch 16:  90%|█████████ | 46/51 [00:00<00:00, 101.83batch/s]"
          ]
        },
        {
          "output_type": "stream",
          "name": "stdout",
          "text": [
            "End of 16,accuracy0.800000011920929\n"
          ]
        },
        {
          "output_type": "stream",
          "name": "stderr",
          "text": [
            "Epoch 16:  96%|█████████▌| 49/51 [00:00<00:00, 67.90batch/s]"
          ]
        },
        {
          "output_type": "stream",
          "name": "stdout",
          "text": [
            "End of 16,accuracy0.800000011920929\n",
            "End of 16,accuracy0.5\n",
            "End of 16,accuracy0.4000000059604645\n"
          ]
        },
        {
          "output_type": "stream",
          "name": "stderr",
          "text": [
            "Epoch 16: 100%|██████████| 51/51 [00:00<00:00, 87.68batch/s]\n"
          ]
        },
        {
          "output_type": "stream",
          "name": "stdout",
          "text": [
            "End of 16,accuracy0.800000011920929\n",
            "End of 16,accuracy0.800000011920929\n"
          ]
        },
        {
          "output_type": "stream",
          "name": "stderr",
          "text": [
            "Epoch 17:   2%|▏         | 1/51 [00:00<00:00, 143.20batch/s]"
          ]
        },
        {
          "output_type": "stream",
          "name": "stdout",
          "text": [
            "End of 17,accuracy0.800000011920929\n"
          ]
        },
        {
          "output_type": "stream",
          "name": "stderr",
          "text": [
            "Epoch 17:   8%|▊         | 4/51 [00:00<00:00, 67.93batch/s]"
          ]
        },
        {
          "output_type": "stream",
          "name": "stdout",
          "text": [
            "End of 17,accuracy0.699999988079071\n",
            "End of 17,accuracy0.699999988079071\n",
            "End of 17,accuracy0.699999988079071\n"
          ]
        },
        {
          "output_type": "stream",
          "name": "stderr",
          "text": [
            "\rEpoch 17:  10%|▉         | 5/51 [00:00<00:00, 75.33batch/s]"
          ]
        },
        {
          "output_type": "stream",
          "name": "stdout",
          "text": [
            "End of 17,accuracy0.800000011920929\n"
          ]
        },
        {
          "output_type": "stream",
          "name": "stderr",
          "text": [
            "Epoch 17:  16%|█▌        | 8/51 [00:00<00:00, 91.58batch/s]"
          ]
        },
        {
          "output_type": "stream",
          "name": "stdout",
          "text": [
            "End of 17,accuracy0.4000000059604645\n",
            "End of 17,accuracy0.699999988079071\n",
            "End of 17,accuracy0.6000000238418579\n"
          ]
        },
        {
          "output_type": "stream",
          "name": "stderr",
          "text": [
            "Epoch 17:  24%|██▎       | 12/51 [00:00<00:00, 68.75batch/s]"
          ]
        },
        {
          "output_type": "stream",
          "name": "stdout",
          "text": [
            "End of 17,accuracy0.699999988079071\n",
            "End of 17,accuracy0.699999988079071\n",
            "End of 17,accuracy0.6000000238418579\n",
            "End of 17,accuracy0.6000000238418579\n"
          ]
        },
        {
          "output_type": "stream",
          "name": "stderr",
          "text": [
            "Epoch 17:  29%|██▉       | 15/51 [00:00<00:00, 84.26batch/s]"
          ]
        },
        {
          "output_type": "stream",
          "name": "stdout",
          "text": [
            "End of 17,accuracy0.8999999761581421\n",
            "End of 17,accuracy0.699999988079071\n",
            "End of 17,accuracy0.6000000238418579\n"
          ]
        },
        {
          "output_type": "stream",
          "name": "stderr",
          "text": [
            "Epoch 17:  33%|███▎      | 17/51 [00:00<00:00, 45.18batch/s]"
          ]
        },
        {
          "output_type": "stream",
          "name": "stdout",
          "text": [
            "End of 17,accuracy0.699999988079071\n",
            "End of 17,accuracy0.699999988079071\n"
          ]
        },
        {
          "output_type": "stream",
          "name": "stderr",
          "text": [
            "Epoch 17:  37%|███▋      | 19/51 [00:00<00:00, 52.79batch/s]"
          ]
        },
        {
          "output_type": "stream",
          "name": "stdout",
          "text": [
            "End of 17,accuracy0.800000011920929\n",
            "End of 17,accuracy0.6000000238418579\n"
          ]
        },
        {
          "output_type": "stream",
          "name": "stderr",
          "text": [
            "\rEpoch 17:  39%|███▉      | 20/51 [00:00<00:00, 37.96batch/s]"
          ]
        },
        {
          "output_type": "stream",
          "name": "stdout",
          "text": [
            "End of 17,accuracy0.800000011920929\n"
          ]
        },
        {
          "output_type": "stream",
          "name": "stderr",
          "text": [
            "\rEpoch 17:  41%|████      | 21/51 [00:00<00:00, 38.88batch/s]"
          ]
        },
        {
          "output_type": "stream",
          "name": "stdout",
          "text": [
            "End of 17,accuracy0.699999988079071\n"
          ]
        },
        {
          "output_type": "stream",
          "name": "stderr",
          "text": [
            "Epoch 17:  49%|████▉     | 25/51 [00:00<00:00, 48.35batch/s]"
          ]
        },
        {
          "output_type": "stream",
          "name": "stdout",
          "text": [
            "End of 17,accuracy0.699999988079071\n",
            "End of 17,accuracy0.800000011920929\n",
            "End of 17,accuracy0.699999988079071\n",
            "End of 17,accuracy0.6000000238418579\n"
          ]
        },
        {
          "output_type": "stream",
          "name": "stderr",
          "text": [
            "Epoch 17:  57%|█████▋    | 29/51 [00:00<00:00, 77.82batch/s]"
          ]
        },
        {
          "output_type": "stream",
          "name": "stdout",
          "text": [
            "End of 17,accuracy0.699999988079071\n",
            "End of 17,accuracy0.800000011920929\n",
            "End of 17,accuracy0.5\n",
            "End of 17,accuracy0.800000011920929\n"
          ]
        },
        {
          "output_type": "stream",
          "name": "stderr",
          "text": [
            "Epoch 17:  63%|██████▎   | 32/51 [00:00<00:00, 86.63batch/s]"
          ]
        },
        {
          "output_type": "stream",
          "name": "stdout",
          "text": [
            "End of 17,accuracy0.5\n",
            "End of 17,accuracy0.6000000238418579\n",
            "End of 17,accuracy0.4000000059604645\n",
            "End of 17,accuracy0.6000000238418579"
          ]
        },
        {
          "output_type": "stream",
          "name": "stderr",
          "text": [
            "Epoch 17:  67%|██████▋   | 34/51 [00:00<00:00, 70.62batch/s]"
          ]
        },
        {
          "output_type": "stream",
          "name": "stdout",
          "text": [
            "\n",
            "End of 17,accuracy0.4000000059604645\n",
            "End of 17,accuracy0.5\n"
          ]
        },
        {
          "output_type": "stream",
          "name": "stderr",
          "text": [
            "Epoch 17:  71%|███████   | 36/51 [00:00<00:00, 70.64batch/s]"
          ]
        },
        {
          "output_type": "stream",
          "name": "stdout",
          "text": [
            "End of 17,accuracy0.5\n"
          ]
        },
        {
          "output_type": "stream",
          "name": "stderr",
          "text": [
            "Epoch 17:  84%|████████▍ | 43/51 [00:00<00:00, 106.59batch/s]"
          ]
        },
        {
          "output_type": "stream",
          "name": "stdout",
          "text": [
            "End of 17,accuracy0.800000011920929\n",
            "End of 17,accuracy0.699999988079071\n",
            "End of 17,accuracy0.8999999761581421\n",
            "End of 17,accuracy0.699999988079071\n",
            "End of 17,accuracy0.699999988079071\n",
            "End of 17,accuracy0.4000000059604645\n",
            "End of 17,accuracy0.699999988079071\n"
          ]
        },
        {
          "output_type": "stream",
          "name": "stderr",
          "text": [
            "Epoch 17:  92%|█████████▏| 47/51 [00:00<00:00, 105.41batch/s]"
          ]
        },
        {
          "output_type": "stream",
          "name": "stdout",
          "text": [
            "End of 17,accuracy0.699999988079071\n",
            "End of 17,accuracy0.6000000238418579\n",
            "End of 17,accuracy0.800000011920929\n",
            "End of 17,accuracy0.800000011920929\n"
          ]
        },
        {
          "output_type": "stream",
          "name": "stderr",
          "text": [
            "Epoch 17: 100%|██████████| 51/51 [00:00<00:00, 70.42batch/s] \n"
          ]
        },
        {
          "output_type": "stream",
          "name": "stdout",
          "text": [
            "End of 17,accuracy0.5\n",
            "End of 17,accuracy0.4000000059604645\n",
            "End of 17,accuracy0.800000011920929\n",
            "End of 17,accuracy0.800000011920929\n"
          ]
        },
        {
          "output_type": "stream",
          "name": "stderr",
          "text": [
            "Epoch 18:   6%|▌         | 3/51 [00:00<00:00, 158.74batch/s]"
          ]
        },
        {
          "output_type": "stream",
          "name": "stdout",
          "text": [
            "End of 18,accuracy0.800000011920929\n",
            "End of 18,accuracy0.699999988079071\n",
            "End of 18,accuracy0.800000011920929\n"
          ]
        },
        {
          "output_type": "stream",
          "name": "stderr",
          "text": [
            "\rEpoch 18:   8%|▊         | 4/51 [00:00<00:00, 75.17batch/s] "
          ]
        },
        {
          "output_type": "stream",
          "name": "stdout",
          "text": [
            "End of 18,accuracy0.699999988079071\n"
          ]
        },
        {
          "output_type": "stream",
          "name": "stderr",
          "text": [
            "Epoch 18:  20%|█▉        | 10/51 [00:00<00:00, 83.10batch/s]"
          ]
        },
        {
          "output_type": "stream",
          "name": "stdout",
          "text": [
            "End of 18,accuracy0.800000011920929\n",
            "End of 18,accuracy0.4000000059604645\n",
            "End of 18,accuracy0.6000000238418579\n",
            "End of 18,accuracy0.6000000238418579\n",
            "End of 18,accuracy0.699999988079071\n",
            "End of 18,accuracy0.699999988079071\n"
          ]
        },
        {
          "output_type": "stream",
          "name": "stderr",
          "text": [
            "Epoch 18:  27%|██▋       | 14/51 [00:00<00:00, 100.80batch/s]"
          ]
        },
        {
          "output_type": "stream",
          "name": "stdout",
          "text": [
            "End of 18,accuracy0.6000000238418579\n",
            "End of 18,accuracy0.6000000238418579\n",
            "End of 18,accuracy0.8999999761581421\n",
            "End of 18,accuracy0.699999988079071\n"
          ]
        },
        {
          "output_type": "stream",
          "name": "stderr",
          "text": [
            "Epoch 18:  37%|███▋      | 19/51 [00:00<00:00, 96.04batch/s]"
          ]
        },
        {
          "output_type": "stream",
          "name": "stdout",
          "text": [
            "End of 18,accuracy0.6000000238418579\n",
            "End of 18,accuracy0.800000011920929\n",
            "End of 18,accuracy0.699999988079071\n",
            "End of 18,accuracy0.800000011920929\n",
            "End of 18,accuracy0.6000000238418579\n"
          ]
        },
        {
          "output_type": "stream",
          "name": "stderr",
          "text": [
            "Epoch 18:  43%|████▎     | 22/51 [00:00<00:00, 86.37batch/s]"
          ]
        },
        {
          "output_type": "stream",
          "name": "stdout",
          "text": [
            "End of 18,accuracy0.800000011920929\n",
            "End of 18,accuracy0.699999988079071\n",
            "End of 18,accuracy0.699999988079071\n",
            "End of 18,accuracy0.800000011920929"
          ]
        },
        {
          "output_type": "stream",
          "name": "stderr",
          "text": [
            "\rEpoch 18:  45%|████▌     | 23/51 [00:00<00:00, 98.31batch/s]"
          ]
        },
        {
          "output_type": "stream",
          "name": "stdout",
          "text": [
            "\n"
          ]
        },
        {
          "output_type": "stream",
          "name": "stderr",
          "text": [
            "Epoch 18:  57%|█████▋    | 29/51 [00:00<00:00, 104.30batch/s]"
          ]
        },
        {
          "output_type": "stream",
          "name": "stdout",
          "text": [
            "End of 18,accuracy0.699999988079071\n",
            "End of 18,accuracy0.6000000238418579\n",
            "End of 18,accuracy0.699999988079071\n",
            "End of 18,accuracy0.8999999761581421\n",
            "End of 18,accuracy0.5\n",
            "End of 18,accuracy0.800000011920929\n"
          ]
        },
        {
          "output_type": "stream",
          "name": "stderr",
          "text": [
            "Epoch 18:  65%|██████▍   | 33/51 [00:00<00:00, 94.13batch/s]"
          ]
        },
        {
          "output_type": "stream",
          "name": "stdout",
          "text": [
            "End of 18,accuracy0.5\n",
            "End of 18,accuracy0.6000000238418579\n",
            "End of 18,accuracy0.4000000059604645\n",
            "End of 18,accuracy0.6000000238418579\n"
          ]
        },
        {
          "output_type": "stream",
          "name": "stderr",
          "text": [
            "Epoch 18:  75%|███████▍  | 38/51 [00:00<00:00, 103.15batch/s]"
          ]
        },
        {
          "output_type": "stream",
          "name": "stdout",
          "text": [
            "End of 18,accuracy0.4000000059604645\n",
            "End of 18,accuracy0.5\n",
            "End of 18,accuracy0.5\n",
            "End of 18,accuracy0.800000011920929\n",
            "End of 18,accuracy0.699999988079071\n"
          ]
        },
        {
          "output_type": "stream",
          "name": "stderr",
          "text": [
            "Epoch 18:  78%|███████▊  | 40/51 [00:00<00:00, 93.35batch/s]"
          ]
        },
        {
          "output_type": "stream",
          "name": "stdout",
          "text": [
            "End of 18,accuracy0.8999999761581421\n",
            "End of 18,accuracy0.699999988079071\n",
            "End of 18,accuracy0.699999988079071"
          ]
        },
        {
          "output_type": "stream",
          "name": "stderr",
          "text": [
            "\rEpoch 18:  80%|████████  | 41/51 [00:00<00:00, 81.31batch/s]"
          ]
        },
        {
          "output_type": "stream",
          "name": "stdout",
          "text": [
            "\n"
          ]
        },
        {
          "output_type": "stream",
          "name": "stderr",
          "text": [
            "Epoch 18:  92%|█████████▏| 47/51 [00:00<00:00, 85.15batch/s]"
          ]
        },
        {
          "output_type": "stream",
          "name": "stdout",
          "text": [
            "End of 18,accuracy0.4000000059604645\n",
            "End of 18,accuracy0.699999988079071\n",
            "End of 18,accuracy0.699999988079071\n",
            "End of 18,accuracy0.6000000238418579\n",
            "End of 18,accuracy0.800000011920929\n",
            "End of 18,accuracy0.800000011920929\n"
          ]
        },
        {
          "output_type": "stream",
          "name": "stderr",
          "text": [
            "\rEpoch 18:  94%|█████████▍| 48/51 [00:00<00:00, 77.64batch/s]"
          ]
        },
        {
          "output_type": "stream",
          "name": "stdout",
          "text": [
            "End of 18,accuracy0.5\n",
            "End of 18,accuracy0.4000000059604645"
          ]
        },
        {
          "output_type": "stream",
          "name": "stderr",
          "text": [
            "Epoch 18: 100%|██████████| 51/51 [00:00<00:00, 83.26batch/s]\n"
          ]
        },
        {
          "output_type": "stream",
          "name": "stdout",
          "text": [
            "\n",
            "End of 18,accuracy0.800000011920929\n",
            "End of 18,accuracy0.800000011920929\n"
          ]
        },
        {
          "output_type": "stream",
          "name": "stderr",
          "text": [
            "Epoch 19:   4%|▍         | 2/51 [00:00<00:00, 111.87batch/s]"
          ]
        },
        {
          "output_type": "stream",
          "name": "stdout",
          "text": [
            "End of 19,accuracy0.800000011920929\n",
            "End of 19,accuracy0.699999988079071\n"
          ]
        },
        {
          "output_type": "stream",
          "name": "stderr",
          "text": [
            "Epoch 19:  12%|█▏        | 6/51 [00:00<00:00, 60.34batch/s]"
          ]
        },
        {
          "output_type": "stream",
          "name": "stdout",
          "text": [
            "End of 19,accuracy0.800000011920929\n",
            "End of 19,accuracy0.699999988079071\n",
            "End of 19,accuracy0.800000011920929\n",
            "End of 19,accuracy0.4000000059604645\n"
          ]
        },
        {
          "output_type": "stream",
          "name": "stderr",
          "text": [
            "Epoch 19:  18%|█▊        | 9/51 [00:00<00:00, 80.69batch/s]"
          ]
        },
        {
          "output_type": "stream",
          "name": "stdout",
          "text": [
            "End of 19,accuracy0.6000000238418579\n",
            "End of 19,accuracy0.6000000238418579\n",
            "End of 19,accuracy0.800000011920929\n",
            "End of 19,accuracy0.699999988079071"
          ]
        },
        {
          "output_type": "stream",
          "name": "stderr",
          "text": [
            "Epoch 19:  31%|███▏      | 16/51 [00:00<00:00, 78.03batch/s]"
          ]
        },
        {
          "output_type": "stream",
          "name": "stdout",
          "text": [
            "\n",
            "End of 19,accuracy0.6000000238418579\n",
            "End of 19,accuracy0.6000000238418579\n",
            "End of 19,accuracy0.8999999761581421\n",
            "End of 19,accuracy0.699999988079071\n",
            "End of 19,accuracy0.6000000238418579\n",
            "End of 19,accuracy0.800000011920929\n"
          ]
        },
        {
          "output_type": "stream",
          "name": "stderr",
          "text": [
            "Epoch 19:  35%|███▌      | 18/51 [00:00<00:00, 71.95batch/s]"
          ]
        },
        {
          "output_type": "stream",
          "name": "stdout",
          "text": [
            "End of 19,accuracy0.699999988079071\n",
            "End of 19,accuracy0.800000011920929\n"
          ]
        },
        {
          "output_type": "stream",
          "name": "stderr",
          "text": [
            "Epoch 19:  43%|████▎     | 22/51 [00:00<00:00, 72.75batch/s]"
          ]
        },
        {
          "output_type": "stream",
          "name": "stdout",
          "text": [
            "End of 19,accuracy0.6000000238418579\n",
            "End of 19,accuracy0.800000011920929\n",
            "End of 19,accuracy0.699999988079071\n",
            "End of 19,accuracy0.699999988079071\n",
            "End of 19,accuracy0.800000011920929"
          ]
        },
        {
          "output_type": "stream",
          "name": "stderr",
          "text": [
            "Epoch 19:  47%|████▋     | 24/51 [00:00<00:00, 68.86batch/s]"
          ]
        },
        {
          "output_type": "stream",
          "name": "stdout",
          "text": [
            "\n",
            "End of 19,accuracy0.699999988079071\n",
            "End of 19,accuracy0.6000000238418579"
          ]
        },
        {
          "output_type": "stream",
          "name": "stderr",
          "text": [
            "Epoch 19:  61%|██████    | 31/51 [00:00<00:00, 85.66batch/s]"
          ]
        },
        {
          "output_type": "stream",
          "name": "stdout",
          "text": [
            "\n",
            "End of 19,accuracy0.699999988079071\n",
            "End of 19,accuracy0.8999999761581421\n",
            "End of 19,accuracy0.5\n",
            "End of 19,accuracy0.800000011920929\n",
            "End of 19,accuracy0.5\n",
            "End of 19,accuracy0.6000000238418579\n",
            "End of 19,accuracy0.4000000059604645\n"
          ]
        },
        {
          "output_type": "stream",
          "name": "stderr",
          "text": [
            "Epoch 19:  67%|██████▋   | 34/51 [00:00<00:00, 85.18batch/s]"
          ]
        },
        {
          "output_type": "stream",
          "name": "stdout",
          "text": [
            "End of 19,accuracy0.6000000238418579\n",
            "End of 19,accuracy0.4000000059604645\n"
          ]
        },
        {
          "output_type": "stream",
          "name": "stderr",
          "text": [
            "Epoch 19:  75%|███████▍  | 38/51 [00:00<00:00, 87.08batch/s]"
          ]
        },
        {
          "output_type": "stream",
          "name": "stdout",
          "text": [
            "End of 19,accuracy0.5\n",
            "End of 19,accuracy0.5\n",
            "End of 19,accuracy0.800000011920929\n",
            "End of 19,accuracy0.699999988079071\n"
          ]
        },
        {
          "output_type": "stream",
          "name": "stderr",
          "text": [
            "Epoch 19:  78%|███████▊  | 40/51 [00:00<00:00, 69.36batch/s]"
          ]
        },
        {
          "output_type": "stream",
          "name": "stdout",
          "text": [
            "End of 19,accuracy0.800000011920929\n",
            "End of 19,accuracy0.699999988079071\n"
          ]
        },
        {
          "output_type": "stream",
          "name": "stderr",
          "text": [
            "Epoch 19:  92%|█████████▏| 47/51 [00:00<00:00, 77.68batch/s]"
          ]
        },
        {
          "output_type": "stream",
          "name": "stdout",
          "text": [
            "End of 19,accuracy0.699999988079071\n",
            "End of 19,accuracy0.4000000059604645\n",
            "End of 19,accuracy0.699999988079071\n",
            "End of 19,accuracy0.699999988079071\n",
            "End of 19,accuracy0.6000000238418579\n",
            "End of 19,accuracy0.800000011920929\n",
            "End of 19,accuracy0.800000011920929\n",
            "End of 19,accuracy0.5"
          ]
        },
        {
          "output_type": "stream",
          "name": "stderr",
          "text": [
            "Epoch 19:  98%|█████████▊| 50/51 [00:00<00:00, 84.70batch/s]"
          ]
        },
        {
          "output_type": "stream",
          "name": "stdout",
          "text": [
            "\n",
            "End of 19,accuracy0.4000000059604645\n",
            "End of 19,accuracy0.800000011920929\n"
          ]
        },
        {
          "output_type": "stream",
          "name": "stderr",
          "text": [
            "Epoch 19: 100%|██████████| 51/51 [00:00<00:00, 76.59batch/s]\n"
          ]
        },
        {
          "output_type": "stream",
          "name": "stdout",
          "text": [
            "End of 19,accuracy0.800000011920929\n"
          ]
        },
        {
          "output_type": "stream",
          "name": "stderr",
          "text": [
            "Epoch 20:   6%|▌         | 3/51 [00:00<00:00, 104.00batch/s]"
          ]
        },
        {
          "output_type": "stream",
          "name": "stdout",
          "text": [
            "End of 20,accuracy0.800000011920929\n",
            "End of 20,accuracy0.699999988079071\n",
            "End of 20,accuracy0.800000011920929\n"
          ]
        },
        {
          "output_type": "stream",
          "name": "stderr",
          "text": [
            "Epoch 20:  12%|█▏        | 6/51 [00:00<00:00, 105.84batch/s]"
          ]
        },
        {
          "output_type": "stream",
          "name": "stdout",
          "text": [
            "End of 20,accuracy0.699999988079071\n",
            "End of 20,accuracy0.800000011920929\n",
            "End of 20,accuracy0.4000000059604645\n"
          ]
        },
        {
          "output_type": "stream",
          "name": "stderr",
          "text": [
            "Epoch 20:  33%|███▎      | 17/51 [00:00<00:00, 171.71batch/s]"
          ]
        },
        {
          "output_type": "stream",
          "name": "stdout",
          "text": [
            "End of 20,accuracy0.6000000238418579\n",
            "End of 20,accuracy0.6000000238418579\n",
            "End of 20,accuracy0.800000011920929\n",
            "End of 20,accuracy0.699999988079071\n",
            "End of 20,accuracy0.6000000238418579\n",
            "End of 20,accuracy0.6000000238418579\n",
            "End of 20,accuracy0.8999999761581421\n",
            "End of 20,accuracy0.699999988079071\n",
            "End of 20,accuracy0.6000000238418579\n",
            "End of 20,accuracy0.800000011920929\n",
            "End of 20,accuracy0.699999988079071\n",
            "End of 20,accuracy0.800000011920929\n"
          ]
        },
        {
          "output_type": "stream",
          "name": "stderr",
          "text": [
            "Epoch 20:  39%|███▉      | 20/51 [00:00<00:00, 125.23batch/s]"
          ]
        },
        {
          "output_type": "stream",
          "name": "stdout",
          "text": [
            "End of 20,accuracy0.6000000238418579\n",
            "End of 20,accuracy0.800000011920929\n"
          ]
        },
        {
          "output_type": "stream",
          "name": "stderr",
          "text": [
            "Epoch 20:  45%|████▌     | 23/51 [00:00<00:00, 96.15batch/s]"
          ]
        },
        {
          "output_type": "stream",
          "name": "stdout",
          "text": [
            "End of 20,accuracy0.699999988079071\n",
            "End of 20,accuracy0.699999988079071\n",
            "End of 20,accuracy0.800000011920929\n"
          ]
        },
        {
          "output_type": "stream",
          "name": "stderr",
          "text": [
            "Epoch 20:  49%|████▉     | 25/51 [00:00<00:00, 86.99batch/s]"
          ]
        },
        {
          "output_type": "stream",
          "name": "stdout",
          "text": [
            "End of 20,accuracy0.699999988079071\n",
            "End of 20,accuracy0.6000000238418579\n"
          ]
        },
        {
          "output_type": "stream",
          "name": "stderr",
          "text": [
            "Epoch 20:  57%|█████▋    | 29/51 [00:00<00:00, 127.77batch/s]"
          ]
        },
        {
          "output_type": "stream",
          "name": "stdout",
          "text": [
            "End of 20,accuracy0.699999988079071\n",
            "End of 20,accuracy0.8999999761581421\n",
            "End of 20,accuracy0.5\n",
            "End of 20,accuracy0.800000011920929\n",
            "End of 20,accuracy0.5\n"
          ]
        },
        {
          "output_type": "stream",
          "name": "stderr",
          "text": [
            "Epoch 20:  71%|███████   | 36/51 [00:00<00:00, 71.57batch/s]"
          ]
        },
        {
          "output_type": "stream",
          "name": "stdout",
          "text": [
            "End of 20,accuracy0.6000000238418579\n",
            "End of 20,accuracy0.4000000059604645\n",
            "End of 20,accuracy0.6000000238418579\n",
            "End of 20,accuracy0.4000000059604645\n",
            "End of 20,accuracy0.5\n",
            "End of 20,accuracy0.5\n"
          ]
        },
        {
          "output_type": "stream",
          "name": "stderr",
          "text": [
            "\rEpoch 20:  73%|███████▎  | 37/51 [00:00<00:00, 72.08batch/s]"
          ]
        },
        {
          "output_type": "stream",
          "name": "stdout",
          "text": [
            "End of 20,accuracy0.800000011920929\n",
            "End of 20,accuracy0.699999988079071\n"
          ]
        },
        {
          "output_type": "stream",
          "name": "stderr",
          "text": [
            "Epoch 20:  78%|███████▊  | 40/51 [00:00<00:00, 64.40batch/s]"
          ]
        },
        {
          "output_type": "stream",
          "name": "stdout",
          "text": [
            "End of 20,accuracy0.800000011920929\n",
            "End of 20,accuracy0.699999988079071\n"
          ]
        },
        {
          "output_type": "stream",
          "name": "stderr",
          "text": [
            "\rEpoch 20:  80%|████████  | 41/51 [00:00<00:00, 58.38batch/s]"
          ]
        },
        {
          "output_type": "stream",
          "name": "stdout",
          "text": [
            "End of 20,accuracy0.699999988079071\n"
          ]
        },
        {
          "output_type": "stream",
          "name": "stderr",
          "text": [
            "Epoch 20:  84%|████████▍ | 43/51 [00:00<00:00, 56.85batch/s]"
          ]
        },
        {
          "output_type": "stream",
          "name": "stdout",
          "text": [
            "End of 20,accuracy0.4000000059604645\n",
            "End of 20,accuracy0.699999988079071\n"
          ]
        },
        {
          "output_type": "stream",
          "name": "stderr",
          "text": [
            "Epoch 20:  94%|█████████▍| 48/51 [00:00<00:00, 63.85batch/s]"
          ]
        },
        {
          "output_type": "stream",
          "name": "stdout",
          "text": [
            "End of 20,accuracy0.6000000238418579\n",
            "End of 20,accuracy0.6000000238418579\n",
            "End of 20,accuracy0.800000011920929\n",
            "End of 20,accuracy0.800000011920929\n",
            "End of 20,accuracy0.5\n",
            "End of 20,accuracy0.4000000059604645\n"
          ]
        },
        {
          "output_type": "stream",
          "name": "stderr",
          "text": [
            "Epoch 20:  98%|█████████▊| 50/51 [00:00<00:00, 59.59batch/s]"
          ]
        },
        {
          "output_type": "stream",
          "name": "stdout",
          "text": [
            "End of 20,accuracy0.800000011920929\n"
          ]
        },
        {
          "output_type": "stream",
          "name": "stderr",
          "text": [
            "Epoch 20: 100%|██████████| 51/51 [00:00<00:00, 83.03batch/s]\n"
          ]
        },
        {
          "output_type": "stream",
          "name": "stdout",
          "text": [
            "End of 20,accuracy0.800000011920929\n"
          ]
        },
        {
          "output_type": "stream",
          "name": "stderr",
          "text": [
            "Epoch 21:   2%|▏         | 1/51 [00:00<00:00, 111.38batch/s]"
          ]
        },
        {
          "output_type": "stream",
          "name": "stdout",
          "text": [
            "End of 21,accuracy0.800000011920929\n"
          ]
        },
        {
          "output_type": "stream",
          "name": "stderr",
          "text": [
            "\rEpoch 21:   4%|▍         | 2/51 [00:00<00:00, 66.56batch/s] "
          ]
        },
        {
          "output_type": "stream",
          "name": "stdout",
          "text": [
            "End of 21,accuracy0.699999988079071\n"
          ]
        },
        {
          "output_type": "stream",
          "name": "stderr",
          "text": [
            "Epoch 21:   8%|▊         | 4/51 [00:00<00:00, 71.88batch/s]"
          ]
        },
        {
          "output_type": "stream",
          "name": "stdout",
          "text": [
            "End of 21,accuracy0.800000011920929\n",
            "End of 21,accuracy0.699999988079071\n"
          ]
        },
        {
          "output_type": "stream",
          "name": "stderr",
          "text": [
            "Epoch 21:  35%|███▌      | 18/51 [00:00<00:00, 158.21batch/s]"
          ]
        },
        {
          "output_type": "stream",
          "name": "stdout",
          "text": [
            "End of 21,accuracy0.800000011920929\n",
            "End of 21,accuracy0.4000000059604645\n",
            "End of 21,accuracy0.6000000238418579\n",
            "End of 21,accuracy0.699999988079071\n",
            "End of 21,accuracy0.800000011920929\n",
            "End of 21,accuracy0.699999988079071\n",
            "End of 21,accuracy0.6000000238418579\n",
            "End of 21,accuracy0.6000000238418579\n",
            "End of 21,accuracy0.8999999761581421\n",
            "End of 21,accuracy0.699999988079071\n",
            "End of 21,accuracy0.6000000238418579\n",
            "End of 21,accuracy0.800000011920929\n",
            "End of 21,accuracy0.699999988079071\n",
            "End of 21,accuracy0.800000011920929\n"
          ]
        },
        {
          "output_type": "stream",
          "name": "stderr",
          "text": [
            "Epoch 21:  41%|████      | 21/51 [00:00<00:00, 171.84batch/s]"
          ]
        },
        {
          "output_type": "stream",
          "name": "stdout",
          "text": [
            "End of 21,accuracy0.6000000238418579\n",
            "End of 21,accuracy0.8999999761581421\n",
            "End of 21,accuracy0.699999988079071\n"
          ]
        },
        {
          "output_type": "stream",
          "name": "stderr",
          "text": [
            "Epoch 21:  45%|████▌     | 23/51 [00:00<00:00, 89.40batch/s] "
          ]
        },
        {
          "output_type": "stream",
          "name": "stdout",
          "text": [
            "End of 21,accuracy0.800000011920929\n",
            "End of 21,accuracy0.800000011920929\n"
          ]
        },
        {
          "output_type": "stream",
          "name": "stderr",
          "text": [
            "\rEpoch 21:  47%|████▋     | 24/51 [00:00<00:00, 73.60batch/s]"
          ]
        },
        {
          "output_type": "stream",
          "name": "stdout",
          "text": [
            "End of 21,accuracy0.699999988079071\n",
            "End of 21,accuracy0.6000000238418579\n"
          ]
        },
        {
          "output_type": "stream",
          "name": "stderr",
          "text": [
            "\rEpoch 21:  49%|████▉     | 25/51 [00:00<00:00, 70.05batch/s]"
          ]
        },
        {
          "output_type": "stream",
          "name": "stdout",
          "text": [
            "End of 21,accuracy0.699999988079071\n"
          ]
        },
        {
          "output_type": "stream",
          "name": "stderr",
          "text": [
            "Epoch 21:  53%|█████▎    | 27/51 [00:00<00:00, 71.28batch/s]"
          ]
        },
        {
          "output_type": "stream",
          "name": "stdout",
          "text": [
            "End of 21,accuracy0.8999999761581421\n",
            "End of 21,accuracy0.5"
          ]
        },
        {
          "output_type": "stream",
          "name": "stderr",
          "text": [
            "Epoch 21:  63%|██████▎   | 32/51 [00:00<00:00, 59.58batch/s]"
          ]
        },
        {
          "output_type": "stream",
          "name": "stdout",
          "text": [
            "\n",
            "End of 21,accuracy0.800000011920929\n",
            "End of 21,accuracy0.5\n",
            "End of 21,accuracy0.6000000238418579\n",
            "End of 21,accuracy0.30000001192092896\n"
          ]
        },
        {
          "output_type": "stream",
          "name": "stderr",
          "text": [
            "Epoch 21:  69%|██████▊   | 35/51 [00:00<00:00, 90.30batch/s]"
          ]
        },
        {
          "output_type": "stream",
          "name": "stdout",
          "text": [
            "End of 21,accuracy0.6000000238418579\n",
            "End of 21,accuracy0.4000000059604645\n",
            "End of 21,accuracy0.5\n",
            "End of 21,accuracy0.5\n"
          ]
        },
        {
          "output_type": "stream",
          "name": "stderr",
          "text": [
            "Epoch 21:  78%|███████▊  | 40/51 [00:00<00:00, 126.24batch/s]"
          ]
        },
        {
          "output_type": "stream",
          "name": "stdout",
          "text": [
            "End of 21,accuracy0.800000011920929\n",
            "End of 21,accuracy0.699999988079071\n",
            "End of 21,accuracy0.800000011920929\n",
            "End of 21,accuracy0.6000000238418579\n"
          ]
        },
        {
          "output_type": "stream",
          "name": "stderr",
          "text": [
            "\rEpoch 21:  80%|████████  | 41/51 [00:00<00:00, 122.42batch/s]"
          ]
        },
        {
          "output_type": "stream",
          "name": "stdout",
          "text": [
            "End of 21,accuracy0.699999988079071\n",
            "End of 21,accuracy0.4000000059604645\n"
          ]
        },
        {
          "output_type": "stream",
          "name": "stderr",
          "text": [
            "Epoch 21:  86%|████████▋ | 44/51 [00:00<00:00, 113.95batch/s]"
          ]
        },
        {
          "output_type": "stream",
          "name": "stdout",
          "text": [
            "End of 21,accuracy0.699999988079071\n",
            "End of 21,accuracy0.6000000238418579\n",
            "End of 21,accuracy0.6000000238418579"
          ]
        },
        {
          "output_type": "stream",
          "name": "stderr",
          "text": [
            "Epoch 21:  90%|█████████ | 46/51 [00:00<00:00, 96.55batch/s]"
          ]
        },
        {
          "output_type": "stream",
          "name": "stdout",
          "text": [
            "\n",
            "End of 21,accuracy0.800000011920929\n"
          ]
        },
        {
          "output_type": "stream",
          "name": "stderr",
          "text": [
            "Epoch 21: 100%|██████████| 51/51 [00:00<00:00, 94.48batch/s]\n"
          ]
        },
        {
          "output_type": "stream",
          "name": "stdout",
          "text": [
            "End of 21,accuracy0.800000011920929\n",
            "End of 21,accuracy0.5\n",
            "End of 21,accuracy0.4000000059604645\n",
            "End of 21,accuracy0.800000011920929\n",
            "End of 21,accuracy0.800000011920929\n"
          ]
        },
        {
          "output_type": "stream",
          "name": "stderr",
          "text": [
            "Epoch 22:   2%|▏         | 1/51 [00:00<00:00, 135.72batch/s]"
          ]
        },
        {
          "output_type": "stream",
          "name": "stdout",
          "text": [
            "End of 22,accuracy0.800000011920929\n"
          ]
        },
        {
          "output_type": "stream",
          "name": "stderr",
          "text": [
            "\rEpoch 22:   4%|▍         | 2/51 [00:00<00:00, 80.16batch/s] "
          ]
        },
        {
          "output_type": "stream",
          "name": "stdout",
          "text": [
            "End of 22,accuracy0.699999988079071\n"
          ]
        },
        {
          "output_type": "stream",
          "name": "stderr",
          "text": [
            "Epoch 22:  10%|▉         | 5/51 [00:00<00:00, 78.89batch/s]"
          ]
        },
        {
          "output_type": "stream",
          "name": "stdout",
          "text": [
            "End of 22,accuracy0.800000011920929\n",
            "End of 22,accuracy0.699999988079071\n",
            "End of 22,accuracy0.800000011920929\n"
          ]
        },
        {
          "output_type": "stream",
          "name": "stderr",
          "text": [
            "\rEpoch 22:  12%|█▏        | 6/51 [00:00<00:00, 78.46batch/s]"
          ]
        },
        {
          "output_type": "stream",
          "name": "stdout",
          "text": [
            "End of 22,accuracy0.4000000059604645\n"
          ]
        },
        {
          "output_type": "stream",
          "name": "stderr",
          "text": [
            "Epoch 22:  16%|█▌        | 8/51 [00:00<00:00, 81.65batch/s]"
          ]
        },
        {
          "output_type": "stream",
          "name": "stdout",
          "text": [
            "End of 22,accuracy0.6000000238418579\n",
            "End of 22,accuracy0.699999988079071\n",
            "End of 22,accuracy0.800000011920929"
          ]
        },
        {
          "output_type": "stream",
          "name": "stderr",
          "text": [
            "Epoch 22:  20%|█▉        | 10/51 [00:00<00:00, 74.44batch/s]"
          ]
        },
        {
          "output_type": "stream",
          "name": "stdout",
          "text": [
            "\n",
            "End of 22,accuracy0.699999988079071\n"
          ]
        },
        {
          "output_type": "stream",
          "name": "stderr",
          "text": [
            "Epoch 22:  43%|████▎     | 22/51 [00:00<00:00, 163.47batch/s]"
          ]
        },
        {
          "output_type": "stream",
          "name": "stdout",
          "text": [
            "End of 22,accuracy0.6000000238418579\n",
            "End of 22,accuracy0.6000000238418579\n",
            "End of 22,accuracy0.8999999761581421\n",
            "End of 22,accuracy0.699999988079071\n",
            "End of 22,accuracy0.6000000238418579\n",
            "End of 22,accuracy0.800000011920929\n",
            "End of 22,accuracy0.699999988079071\n",
            "End of 22,accuracy0.800000011920929\n",
            "End of 22,accuracy0.6000000238418579\n",
            "End of 22,accuracy0.8999999761581421\n",
            "End of 22,accuracy0.699999988079071\n",
            "End of 22,accuracy0.800000011920929\n",
            "End of 22,accuracy0.800000011920929\n"
          ]
        },
        {
          "output_type": "stream",
          "name": "stderr",
          "text": [
            "Epoch 22:  47%|████▋     | 24/51 [00:00<00:00, 87.59batch/s] "
          ]
        },
        {
          "output_type": "stream",
          "name": "stdout",
          "text": [
            "End of 22,accuracy0.699999988079071\n",
            "End of 22,accuracy0.6000000238418579"
          ]
        },
        {
          "output_type": "stream",
          "name": "stderr",
          "text": [
            "Epoch 22:  53%|█████▎    | 27/51 [00:00<00:00, 90.66batch/s]"
          ]
        },
        {
          "output_type": "stream",
          "name": "stdout",
          "text": [
            "\n",
            "End of 22,accuracy0.699999988079071\n",
            "End of 22,accuracy0.8999999761581421\n",
            "End of 22,accuracy0.5\n"
          ]
        },
        {
          "output_type": "stream",
          "name": "stderr",
          "text": [
            "Epoch 22:  57%|█████▋    | 29/51 [00:00<00:00, 96.50batch/s]"
          ]
        },
        {
          "output_type": "stream",
          "name": "stdout",
          "text": [
            "End of 22,accuracy0.800000011920929\n"
          ]
        },
        {
          "output_type": "stream",
          "name": "stderr",
          "text": [
            "Epoch 22:  61%|██████    | 31/51 [00:00<00:00, 87.44batch/s]"
          ]
        },
        {
          "output_type": "stream",
          "name": "stdout",
          "text": [
            "End of 22,accuracy0.5\n",
            "End of 22,accuracy0.6000000238418579\n"
          ]
        },
        {
          "output_type": "stream",
          "name": "stderr",
          "text": [
            "\rEpoch 22:  63%|██████▎   | 32/51 [00:00<00:00, 73.10batch/s]"
          ]
        },
        {
          "output_type": "stream",
          "name": "stdout",
          "text": [
            "End of 22,accuracy0.30000001192092896\n"
          ]
        },
        {
          "output_type": "stream",
          "name": "stderr",
          "text": [
            "Epoch 22:  76%|███████▋  | 39/51 [00:00<00:00, 86.03batch/s]"
          ]
        },
        {
          "output_type": "stream",
          "name": "stdout",
          "text": [
            "End of 22,accuracy0.6000000238418579\n",
            "End of 22,accuracy0.4000000059604645\n",
            "End of 22,accuracy0.5\n",
            "End of 22,accuracy0.5\n",
            "End of 22,accuracy0.800000011920929\n",
            "End of 22,accuracy0.699999988079071\n",
            "End of 22,accuracy0.800000011920929\n",
            "End of 22,accuracy0.6000000238418579\n"
          ]
        },
        {
          "output_type": "stream",
          "name": "stderr",
          "text": [
            "Epoch 22:  80%|████████  | 41/51 [00:00<00:00, 53.87batch/s]"
          ]
        },
        {
          "output_type": "stream",
          "name": "stdout",
          "text": [
            "End of 22,accuracy0.699999988079071\n",
            "End of 22,accuracy0.4000000059604645\n"
          ]
        },
        {
          "output_type": "stream",
          "name": "stderr",
          "text": [
            "Epoch 22:  84%|████████▍ | 43/51 [00:00<00:00, 52.59batch/s]"
          ]
        },
        {
          "output_type": "stream",
          "name": "stdout",
          "text": [
            "End of 22,accuracy0.699999988079071\n"
          ]
        },
        {
          "output_type": "stream",
          "name": "stderr",
          "text": [
            "\rEpoch 22:  86%|████████▋ | 44/51 [00:00<00:00, 47.76batch/s]"
          ]
        },
        {
          "output_type": "stream",
          "name": "stdout",
          "text": [
            "End of 22,accuracy0.6000000238418579\n"
          ]
        },
        {
          "output_type": "stream",
          "name": "stderr",
          "text": [
            "Epoch 22: 100%|██████████| 51/51 [00:00<00:00, 82.21batch/s]\n"
          ]
        },
        {
          "output_type": "stream",
          "name": "stdout",
          "text": [
            "End of 22,accuracy0.6000000238418579\n",
            "End of 22,accuracy0.800000011920929\n",
            "End of 22,accuracy0.800000011920929\n",
            "End of 22,accuracy0.5\n",
            "End of 22,accuracy0.4000000059604645\n",
            "End of 22,accuracy0.699999988079071\n",
            "End of 22,accuracy0.800000011920929\n"
          ]
        },
        {
          "output_type": "stream",
          "name": "stderr",
          "text": [
            "Epoch 23:  12%|█▏        | 6/51 [00:00<00:00, 161.27batch/s]"
          ]
        },
        {
          "output_type": "stream",
          "name": "stdout",
          "text": [
            "End of 23,accuracy0.800000011920929\n",
            "End of 23,accuracy0.699999988079071\n",
            "End of 23,accuracy0.800000011920929\n",
            "End of 23,accuracy0.699999988079071\n",
            "End of 23,accuracy0.800000011920929\n",
            "End of 23,accuracy0.4000000059604645\n"
          ]
        },
        {
          "output_type": "stream",
          "name": "stderr",
          "text": [
            "Epoch 23:  25%|██▌       | 13/51 [00:00<00:00, 194.24batch/s]"
          ]
        },
        {
          "output_type": "stream",
          "name": "stdout",
          "text": [
            "End of 23,accuracy0.6000000238418579\n",
            "End of 23,accuracy0.699999988079071\n",
            "End of 23,accuracy0.800000011920929\n",
            "End of 23,accuracy0.699999988079071\n",
            "End of 23,accuracy0.5\n",
            "End of 23,accuracy0.6000000238418579\n",
            "End of 23,accuracy0.8999999761581421\n"
          ]
        },
        {
          "output_type": "stream",
          "name": "stderr",
          "text": [
            "Epoch 23:  33%|███▎      | 17/51 [00:00<00:00, 178.63batch/s]"
          ]
        },
        {
          "output_type": "stream",
          "name": "stdout",
          "text": [
            "End of 23,accuracy0.699999988079071\n",
            "End of 23,accuracy0.6000000238418579\n",
            "End of 23,accuracy0.800000011920929\n",
            "End of 23,accuracy0.699999988079071\n"
          ]
        },
        {
          "output_type": "stream",
          "name": "stderr",
          "text": [
            "Epoch 23:  41%|████      | 21/51 [00:00<00:00, 195.70batch/s]"
          ]
        },
        {
          "output_type": "stream",
          "name": "stdout",
          "text": [
            "End of 23,accuracy0.800000011920929\n",
            "End of 23,accuracy0.6000000238418579\n",
            "End of 23,accuracy0.8999999761581421\n",
            "End of 23,accuracy0.699999988079071\n"
          ]
        },
        {
          "output_type": "stream",
          "name": "stderr",
          "text": [
            "Epoch 23:  67%|██████▋   | 34/51 [00:00<00:00, 147.41batch/s]"
          ]
        },
        {
          "output_type": "stream",
          "name": "stdout",
          "text": [
            "End of 23,accuracy0.800000011920929\n",
            "End of 23,accuracy0.800000011920929\n",
            "End of 23,accuracy0.699999988079071\n",
            "End of 23,accuracy0.6000000238418579\n",
            "End of 23,accuracy0.699999988079071\n",
            "End of 23,accuracy0.8999999761581421\n",
            "End of 23,accuracy0.5\n",
            "End of 23,accuracy0.800000011920929\n",
            "End of 23,accuracy0.5\n",
            "End of 23,accuracy0.6000000238418579\n",
            "End of 23,accuracy0.4000000059604645\n",
            "End of 23,accuracy0.6000000238418579\n",
            "End of 23,accuracy0.4000000059604645\n"
          ]
        },
        {
          "output_type": "stream",
          "name": "stderr",
          "text": [
            "Epoch 23:  80%|████████  | 41/51 [00:00<00:00, 165.43batch/s]"
          ]
        },
        {
          "output_type": "stream",
          "name": "stdout",
          "text": [
            "End of 23,accuracy0.5\n",
            "End of 23,accuracy0.5\n",
            "End of 23,accuracy0.800000011920929\n",
            "End of 23,accuracy0.699999988079071\n",
            "End of 23,accuracy0.800000011920929\n",
            "End of 23,accuracy0.6000000238418579\n",
            "End of 23,accuracy0.699999988079071\n"
          ]
        },
        {
          "output_type": "stream",
          "name": "stderr",
          "text": [
            "Epoch 23:  88%|████████▊ | 45/51 [00:00<00:00, 140.60batch/s]"
          ]
        },
        {
          "output_type": "stream",
          "name": "stdout",
          "text": [
            "End of 23,accuracy0.4000000059604645\n",
            "End of 23,accuracy0.699999988079071\n",
            "End of 23,accuracy0.6000000238418579\n",
            "End of 23,accuracy0.6000000238418579\n"
          ]
        },
        {
          "output_type": "stream",
          "name": "stderr",
          "text": [
            "Epoch 23:  96%|█████████▌| 49/51 [00:00<00:00, 150.63batch/s]"
          ]
        },
        {
          "output_type": "stream",
          "name": "stdout",
          "text": [
            "End of 23,accuracy0.800000011920929\n",
            "End of 23,accuracy0.800000011920929\n",
            "End of 23,accuracy0.5\n",
            "End of 23,accuracy0.4000000059604645\n"
          ]
        },
        {
          "output_type": "stream",
          "name": "stderr",
          "text": [
            "Epoch 23: 100%|██████████| 51/51 [00:00<00:00, 161.99batch/s]\n"
          ]
        },
        {
          "output_type": "stream",
          "name": "stdout",
          "text": [
            "End of 23,accuracy0.699999988079071\n",
            "End of 23,accuracy0.800000011920929\n"
          ]
        },
        {
          "output_type": "stream",
          "name": "stderr",
          "text": [
            "Epoch 24:  24%|██▎       | 12/51 [00:00<00:00, 141.40batch/s]"
          ]
        },
        {
          "output_type": "stream",
          "name": "stdout",
          "text": [
            "End of 24,accuracy0.800000011920929\n",
            "End of 24,accuracy0.699999988079071\n",
            "End of 24,accuracy0.800000011920929\n",
            "End of 24,accuracy0.699999988079071\n",
            "End of 24,accuracy0.800000011920929\n",
            "End of 24,accuracy0.4000000059604645\n",
            "End of 24,accuracy0.6000000238418579\n",
            "End of 24,accuracy0.699999988079071\n",
            "End of 24,accuracy0.800000011920929\n",
            "End of 24,accuracy0.699999988079071\n",
            "End of 24,accuracy0.5\n",
            "End of 24,accuracy0.6000000238418579\n"
          ]
        },
        {
          "output_type": "stream",
          "name": "stderr",
          "text": [
            "Epoch 24:  37%|███▋      | 19/51 [00:00<00:00, 170.71batch/s]"
          ]
        },
        {
          "output_type": "stream",
          "name": "stdout",
          "text": [
            "End of 24,accuracy0.8999999761581421\n",
            "End of 24,accuracy0.699999988079071\n",
            "End of 24,accuracy0.6000000238418579\n",
            "End of 24,accuracy0.800000011920929\n",
            "End of 24,accuracy0.699999988079071\n",
            "End of 24,accuracy0.800000011920929\n",
            "End of 24,accuracy0.6000000238418579\n",
            "End of 24,accuracy0.8999999761581421"
          ]
        },
        {
          "output_type": "stream",
          "name": "stderr",
          "text": [
            "Epoch 24:  47%|████▋     | 24/51 [00:00<00:00, 170.21batch/s]"
          ]
        },
        {
          "output_type": "stream",
          "name": "stdout",
          "text": [
            "\n",
            "End of 24,accuracy0.699999988079071\n",
            "End of 24,accuracy0.800000011920929\n",
            "End of 24,accuracy0.800000011920929\n",
            "End of 24,accuracy0.699999988079071\n"
          ]
        },
        {
          "output_type": "stream",
          "name": "stderr",
          "text": [
            "Epoch 24:  55%|█████▍    | 28/51 [00:00<00:00, 157.26batch/s]"
          ]
        },
        {
          "output_type": "stream",
          "name": "stdout",
          "text": [
            "End of 24,accuracy0.6000000238418579\n",
            "End of 24,accuracy0.699999988079071\n",
            "End of 24,accuracy0.8999999761581421\n",
            "End of 24,accuracy0.5\n"
          ]
        },
        {
          "output_type": "stream",
          "name": "stderr",
          "text": [
            "Epoch 24:  61%|██████    | 31/51 [00:00<00:00, 155.77batch/s]"
          ]
        },
        {
          "output_type": "stream",
          "name": "stdout",
          "text": [
            "End of 24,accuracy0.800000011920929\n",
            "End of 24,accuracy0.5\n",
            "End of 24,accuracy0.6000000238418579\n"
          ]
        },
        {
          "output_type": "stream",
          "name": "stderr",
          "text": [
            "Epoch 24:  88%|████████▊ | 45/51 [00:00<00:00, 153.91batch/s]"
          ]
        },
        {
          "output_type": "stream",
          "name": "stdout",
          "text": [
            "End of 24,accuracy0.4000000059604645\n",
            "End of 24,accuracy0.6000000238418579\n",
            "End of 24,accuracy0.4000000059604645\n",
            "End of 24,accuracy0.5\n",
            "End of 24,accuracy0.5\n",
            "End of 24,accuracy0.800000011920929\n",
            "End of 24,accuracy0.699999988079071\n",
            "End of 24,accuracy0.800000011920929\n",
            "End of 24,accuracy0.6000000238418579\n",
            "End of 24,accuracy0.699999988079071\n",
            "End of 24,accuracy0.30000001192092896\n",
            "End of 24,accuracy0.699999988079071\n",
            "End of 24,accuracy0.6000000238418579\n",
            "End of 24,accuracy0.6000000238418579\n"
          ]
        },
        {
          "output_type": "stream",
          "name": "stderr",
          "text": [
            "Epoch 24: 100%|██████████| 51/51 [00:00<00:00, 156.13batch/s]\n"
          ]
        },
        {
          "output_type": "stream",
          "name": "stdout",
          "text": [
            "End of 24,accuracy0.800000011920929\n",
            "End of 24,accuracy0.800000011920929\n",
            "End of 24,accuracy0.5\n",
            "End of 24,accuracy0.4000000059604645\n",
            "End of 24,accuracy0.699999988079071\n",
            "End of 24,accuracy0.800000011920929\n"
          ]
        },
        {
          "output_type": "stream",
          "name": "stderr",
          "text": [
            "Epoch 25:  12%|█▏        | 6/51 [00:00<00:00, 220.99batch/s]"
          ]
        },
        {
          "output_type": "stream",
          "name": "stdout",
          "text": [
            "End of 25,accuracy0.800000011920929\n",
            "End of 25,accuracy0.699999988079071\n",
            "End of 25,accuracy0.800000011920929\n",
            "End of 25,accuracy0.699999988079071\n",
            "End of 25,accuracy0.800000011920929\n",
            "End of 25,accuracy0.4000000059604645\n",
            "End of 25,accuracy0.6000000238418579\n"
          ]
        },
        {
          "output_type": "stream",
          "name": "stderr",
          "text": [
            "Epoch 25:  22%|██▏       | 11/51 [00:00<00:00, 200.69batch/s]"
          ]
        },
        {
          "output_type": "stream",
          "name": "stdout",
          "text": [
            "End of 25,accuracy0.699999988079071\n",
            "End of 25,accuracy0.800000011920929\n",
            "End of 25,accuracy0.699999988079071\n",
            "End of 25,accuracy0.5\n",
            "End of 25,accuracy0.6000000238418579"
          ]
        },
        {
          "output_type": "stream",
          "name": "stderr",
          "text": [
            "Epoch 25:  29%|██▉       | 15/51 [00:00<00:00, 189.55batch/s]"
          ]
        },
        {
          "output_type": "stream",
          "name": "stdout",
          "text": [
            "\n",
            "End of 25,accuracy0.8999999761581421\n",
            "End of 25,accuracy0.699999988079071\n",
            "End of 25,accuracy0.6000000238418579\n"
          ]
        },
        {
          "output_type": "stream",
          "name": "stderr",
          "text": [
            "Epoch 25:  59%|█████▉    | 30/51 [00:00<00:00, 182.33batch/s]"
          ]
        },
        {
          "output_type": "stream",
          "name": "stdout",
          "text": [
            "End of 25,accuracy0.800000011920929\n",
            "End of 25,accuracy0.699999988079071\n",
            "End of 25,accuracy0.800000011920929\n",
            "End of 25,accuracy0.6000000238418579\n",
            "End of 25,accuracy0.8999999761581421\n",
            "End of 25,accuracy0.699999988079071\n",
            "End of 25,accuracy0.800000011920929\n",
            "End of 25,accuracy0.800000011920929\n",
            "End of 25,accuracy0.699999988079071\n",
            "End of 25,accuracy0.6000000238418579\n",
            "End of 25,accuracy0.699999988079071\n",
            "End of 25,accuracy0.8999999761581421\n",
            "End of 25,accuracy0.5\n",
            "End of 25,accuracy0.800000011920929\n",
            "End of 25,accuracy0.5\n"
          ]
        },
        {
          "output_type": "stream",
          "name": "stderr",
          "text": [
            "Epoch 25:  75%|███████▍  | 38/51 [00:00<00:00, 157.57batch/s]"
          ]
        },
        {
          "output_type": "stream",
          "name": "stdout",
          "text": [
            "End of 25,accuracy0.6000000238418579\n",
            "End of 25,accuracy0.4000000059604645\n",
            "End of 25,accuracy0.6000000238418579\n",
            "End of 25,accuracy0.4000000059604645\n",
            "End of 25,accuracy0.5\n",
            "End of 25,accuracy0.5\n",
            "End of 25,accuracy0.800000011920929\n",
            "End of 25,accuracy0.699999988079071\n"
          ]
        },
        {
          "output_type": "stream",
          "name": "stderr",
          "text": [
            "Epoch 25:  82%|████████▏ | 42/51 [00:00<00:00, 157.24batch/s]"
          ]
        },
        {
          "output_type": "stream",
          "name": "stdout",
          "text": [
            "End of 25,accuracy0.800000011920929\n",
            "End of 25,accuracy0.6000000238418579\n",
            "End of 25,accuracy0.699999988079071\n",
            "End of 25,accuracy0.30000001192092896\n"
          ]
        },
        {
          "output_type": "stream",
          "name": "stderr",
          "text": [
            "Epoch 25:  88%|████████▊ | 45/51 [00:00<00:00, 143.47batch/s]"
          ]
        },
        {
          "output_type": "stream",
          "name": "stdout",
          "text": [
            "End of 25,accuracy0.699999988079071\n",
            "End of 25,accuracy0.6000000238418579\n",
            "End of 25,accuracy0.6000000238418579\n",
            "End of 25,accuracy0.800000011920929"
          ]
        },
        {
          "output_type": "stream",
          "name": "stderr",
          "text": [
            "Epoch 25:  96%|█████████▌| 49/51 [00:00<00:00, 149.22batch/s]"
          ]
        },
        {
          "output_type": "stream",
          "name": "stdout",
          "text": [
            "\n",
            "End of 25,accuracy0.800000011920929\n",
            "End of 25,accuracy0.5\n",
            "End of 25,accuracy0.4000000059604645\n"
          ]
        },
        {
          "output_type": "stream",
          "name": "stderr",
          "text": [
            "Epoch 25: 100%|██████████| 51/51 [00:00<00:00, 172.47batch/s]\n"
          ]
        },
        {
          "output_type": "stream",
          "name": "stdout",
          "text": [
            "End of 25,accuracy0.699999988079071\n",
            "End of 25,accuracy0.800000011920929\n"
          ]
        },
        {
          "output_type": "stream",
          "name": "stderr",
          "text": [
            "Epoch 26:  24%|██▎       | 12/51 [00:00<00:00, 207.11batch/s]"
          ]
        },
        {
          "output_type": "stream",
          "name": "stdout",
          "text": [
            "End of 26,accuracy0.800000011920929\n",
            "End of 26,accuracy0.699999988079071\n",
            "End of 26,accuracy0.800000011920929\n",
            "End of 26,accuracy0.699999988079071\n",
            "End of 26,accuracy0.800000011920929\n",
            "End of 26,accuracy0.4000000059604645\n",
            "End of 26,accuracy0.6000000238418579\n",
            "End of 26,accuracy0.699999988079071\n",
            "End of 26,accuracy0.800000011920929\n",
            "End of 26,accuracy0.699999988079071\n",
            "End of 26,accuracy0.5\n",
            "End of 26,accuracy0.6000000238418579\n"
          ]
        },
        {
          "output_type": "stream",
          "name": "stderr",
          "text": [
            "Epoch 26:  37%|███▋      | 19/51 [00:00<00:00, 172.08batch/s]"
          ]
        },
        {
          "output_type": "stream",
          "name": "stdout",
          "text": [
            "End of 26,accuracy0.8999999761581421\n",
            "End of 26,accuracy0.699999988079071\n",
            "End of 26,accuracy0.6000000238418579\n",
            "End of 26,accuracy0.800000011920929\n",
            "End of 26,accuracy0.699999988079071\n",
            "End of 26,accuracy0.800000011920929\n",
            "End of 26,accuracy0.6000000238418579\n",
            "End of 26,accuracy0.8999999761581421\n"
          ]
        },
        {
          "output_type": "stream",
          "name": "stderr",
          "text": [
            "Epoch 26:  49%|████▉     | 25/51 [00:00<00:00, 175.17batch/s]"
          ]
        },
        {
          "output_type": "stream",
          "name": "stdout",
          "text": [
            "End of 26,accuracy0.699999988079071\n",
            "End of 26,accuracy0.800000011920929\n",
            "End of 26,accuracy0.800000011920929\n",
            "End of 26,accuracy0.699999988079071\n",
            "End of 26,accuracy0.6000000238418579\n"
          ]
        },
        {
          "output_type": "stream",
          "name": "stderr",
          "text": [
            "Epoch 26:  55%|█████▍    | 28/51 [00:00<00:00, 168.10batch/s]"
          ]
        },
        {
          "output_type": "stream",
          "name": "stdout",
          "text": [
            "End of 26,accuracy0.699999988079071\n",
            "End of 26,accuracy0.8999999761581421\n",
            "End of 26,accuracy0.5\n"
          ]
        },
        {
          "output_type": "stream",
          "name": "stderr",
          "text": [
            "Epoch 26:  63%|██████▎   | 32/51 [00:00<00:00, 158.51batch/s]"
          ]
        },
        {
          "output_type": "stream",
          "name": "stdout",
          "text": [
            "End of 26,accuracy0.800000011920929\n",
            "End of 26,accuracy0.5\n",
            "End of 26,accuracy0.6000000238418579\n",
            "End of 26,accuracy0.4000000059604645\n",
            "End of 26,accuracy0.6000000238418579"
          ]
        },
        {
          "output_type": "stream",
          "name": "stderr",
          "text": [
            "Epoch 26:  71%|███████   | 36/51 [00:00<00:00, 169.27batch/s]"
          ]
        },
        {
          "output_type": "stream",
          "name": "stdout",
          "text": [
            "\n",
            "End of 26,accuracy0.4000000059604645\n",
            "End of 26,accuracy0.5\n",
            "End of 26,accuracy0.5\n"
          ]
        },
        {
          "output_type": "stream",
          "name": "stderr",
          "text": [
            "Epoch 26:  84%|████████▍ | 43/51 [00:00<00:00, 122.87batch/s]"
          ]
        },
        {
          "output_type": "stream",
          "name": "stdout",
          "text": [
            "End of 26,accuracy0.800000011920929\n",
            "End of 26,accuracy0.699999988079071\n",
            "End of 26,accuracy0.800000011920929\n",
            "End of 26,accuracy0.6000000238418579\n",
            "End of 26,accuracy0.699999988079071\n",
            "End of 26,accuracy0.30000001192092896\n",
            "End of 26,accuracy0.699999988079071\n"
          ]
        },
        {
          "output_type": "stream",
          "name": "stderr",
          "text": [
            "Epoch 26: 100%|██████████| 51/51 [00:00<00:00, 173.66batch/s]"
          ]
        },
        {
          "output_type": "stream",
          "name": "stdout",
          "text": [
            "End of 26,accuracy0.6000000238418579\n",
            "End of 26,accuracy0.6000000238418579\n",
            "End of 26,accuracy0.800000011920929\n",
            "End of 26,accuracy0.800000011920929\n",
            "End of 26,accuracy0.5\n",
            "End of 26,accuracy0.4000000059604645\n",
            "End of 26,accuracy0.699999988079071\n",
            "End of 26,accuracy0.800000011920929\n"
          ]
        },
        {
          "output_type": "stream",
          "name": "stderr",
          "text": [
            "Epoch 26: 100%|██████████| 51/51 [00:00<00:00, 163.26batch/s]\n",
            "Epoch 27:   6%|▌         | 3/51 [00:00<00:00, 136.74batch/s]"
          ]
        },
        {
          "output_type": "stream",
          "name": "stdout",
          "text": [
            "End of 27,accuracy0.800000011920929\n",
            "End of 27,accuracy0.699999988079071\n",
            "End of 27,accuracy0.800000011920929\n"
          ]
        },
        {
          "output_type": "stream",
          "name": "stderr",
          "text": [
            "Epoch 27:  12%|█▏        | 6/51 [00:00<00:00, 163.84batch/s]"
          ]
        },
        {
          "output_type": "stream",
          "name": "stdout",
          "text": [
            "End of 27,accuracy0.699999988079071\n",
            "End of 27,accuracy0.800000011920929\n",
            "End of 27,accuracy0.4000000059604645\n"
          ]
        },
        {
          "output_type": "stream",
          "name": "stderr",
          "text": [
            "Epoch 27:  22%|██▏       | 11/51 [00:00<00:00, 184.68batch/s]"
          ]
        },
        {
          "output_type": "stream",
          "name": "stdout",
          "text": [
            "End of 27,accuracy0.6000000238418579\n",
            "End of 27,accuracy0.699999988079071\n",
            "End of 27,accuracy0.800000011920929\n",
            "End of 27,accuracy0.699999988079071\n",
            "End of 27,accuracy0.5\n"
          ]
        },
        {
          "output_type": "stream",
          "name": "stderr",
          "text": [
            "Epoch 27:  29%|██▉       | 15/51 [00:00<00:00, 186.94batch/s]"
          ]
        },
        {
          "output_type": "stream",
          "name": "stdout",
          "text": [
            "End of 27,accuracy0.6000000238418579\n",
            "End of 27,accuracy0.8999999761581421\n",
            "End of 27,accuracy0.699999988079071\n",
            "End of 27,accuracy0.6000000238418579\n"
          ]
        },
        {
          "output_type": "stream",
          "name": "stderr",
          "text": [
            "Epoch 27:  51%|█████     | 26/51 [00:00<00:00, 197.74batch/s]"
          ]
        },
        {
          "output_type": "stream",
          "name": "stdout",
          "text": [
            "End of 27,accuracy0.800000011920929\n",
            "End of 27,accuracy0.699999988079071\n",
            "End of 27,accuracy0.800000011920929\n",
            "End of 27,accuracy0.6000000238418579\n",
            "End of 27,accuracy0.8999999761581421\n",
            "End of 27,accuracy0.699999988079071\n",
            "End of 27,accuracy0.800000011920929\n",
            "End of 27,accuracy0.800000011920929\n",
            "End of 27,accuracy0.699999988079071\n",
            "End of 27,accuracy0.6000000238418579\n",
            "End of 27,accuracy0.699999988079071\n"
          ]
        },
        {
          "output_type": "stream",
          "name": "stderr",
          "text": [
            "Epoch 27:  67%|██████▋   | 34/51 [00:00<00:00, 159.63batch/s]"
          ]
        },
        {
          "output_type": "stream",
          "name": "stdout",
          "text": [
            "End of 27,accuracy0.8999999761581421\n",
            "End of 27,accuracy0.5\n",
            "End of 27,accuracy0.800000011920929\n",
            "End of 27,accuracy0.5\n",
            "End of 27,accuracy0.6000000238418579\n",
            "End of 27,accuracy0.4000000059604645\n",
            "End of 27,accuracy0.6000000238418579\n",
            "End of 27,accuracy0.4000000059604645\n",
            "End of 27,accuracy0.5\n"
          ]
        },
        {
          "output_type": "stream",
          "name": "stderr",
          "text": [
            "Epoch 27:  75%|███████▍  | 38/51 [00:00<00:00, 166.53batch/s]"
          ]
        },
        {
          "output_type": "stream",
          "name": "stdout",
          "text": [
            "End of 27,accuracy0.5\n",
            "End of 27,accuracy0.800000011920929\n",
            "End of 27,accuracy0.699999988079071\n"
          ]
        },
        {
          "output_type": "stream",
          "name": "stderr",
          "text": [
            "Epoch 27:  80%|████████  | 41/51 [00:00<00:00, 179.37batch/s]"
          ]
        },
        {
          "output_type": "stream",
          "name": "stdout",
          "text": [
            "End of 27,accuracy0.800000011920929\n",
            "End of 27,accuracy0.6000000238418579\n",
            "End of 27,accuracy0.699999988079071\n"
          ]
        },
        {
          "output_type": "stream",
          "name": "stderr",
          "text": [
            "Epoch 27:  88%|████████▊ | 45/51 [00:00<00:00, 174.55batch/s]"
          ]
        },
        {
          "output_type": "stream",
          "name": "stdout",
          "text": [
            "End of 27,accuracy0.30000001192092896\n",
            "End of 27,accuracy0.699999988079071\n",
            "End of 27,accuracy0.6000000238418579\n",
            "End of 27,accuracy0.6000000238418579\n"
          ]
        },
        {
          "output_type": "stream",
          "name": "stderr",
          "text": [
            "Epoch 27:  94%|█████████▍| 48/51 [00:00<00:00, 153.23batch/s]"
          ]
        },
        {
          "output_type": "stream",
          "name": "stdout",
          "text": [
            "End of 27,accuracy0.800000011920929\n",
            "End of 27,accuracy0.800000011920929\n",
            "End of 27,accuracy0.5\n",
            "End of 27,accuracy0.4000000059604645"
          ]
        },
        {
          "output_type": "stream",
          "name": "stderr",
          "text": [
            "Epoch 27: 100%|██████████| 51/51 [00:00<00:00, 163.09batch/s]\n"
          ]
        },
        {
          "output_type": "stream",
          "name": "stdout",
          "text": [
            "\n",
            "End of 27,accuracy0.699999988079071\n",
            "End of 27,accuracy0.800000011920929\n"
          ]
        },
        {
          "output_type": "stream",
          "name": "stderr",
          "text": [
            "Epoch 28:  14%|█▎        | 7/51 [00:00<00:00, 205.37batch/s]"
          ]
        },
        {
          "output_type": "stream",
          "name": "stdout",
          "text": [
            "End of 28,accuracy0.800000011920929\n",
            "End of 28,accuracy0.699999988079071\n",
            "End of 28,accuracy0.800000011920929\n",
            "End of 28,accuracy0.699999988079071\n",
            "End of 28,accuracy0.800000011920929\n",
            "End of 28,accuracy0.4000000059604645\n",
            "End of 28,accuracy0.6000000238418579\n"
          ]
        },
        {
          "output_type": "stream",
          "name": "stderr",
          "text": [
            "Epoch 28:  33%|███▎      | 17/51 [00:00<00:00, 155.68batch/s]"
          ]
        },
        {
          "output_type": "stream",
          "name": "stdout",
          "text": [
            "End of 28,accuracy0.699999988079071\n",
            "End of 28,accuracy0.800000011920929\n",
            "End of 28,accuracy0.699999988079071\n",
            "End of 28,accuracy0.5\n",
            "End of 28,accuracy0.6000000238418579\n",
            "End of 28,accuracy0.8999999761581421\n",
            "End of 28,accuracy0.699999988079071\n",
            "End of 28,accuracy0.6000000238418579\n",
            "End of 28,accuracy0.800000011920929\n",
            "End of 28,accuracy0.699999988079071\n"
          ]
        },
        {
          "output_type": "stream",
          "name": "stderr",
          "text": [
            "Epoch 28:  37%|███▋      | 19/51 [00:00<00:00, 121.36batch/s]"
          ]
        },
        {
          "output_type": "stream",
          "name": "stdout",
          "text": [
            "End of 28,accuracy0.800000011920929\n",
            "End of 28,accuracy0.6000000238418579\n"
          ]
        },
        {
          "output_type": "stream",
          "name": "stderr",
          "text": [
            "\rEpoch 28:  39%|███▉      | 20/51 [00:00<00:00, 113.73batch/s]"
          ]
        },
        {
          "output_type": "stream",
          "name": "stdout",
          "text": [
            "End of 28,accuracy0.8999999761581421\n",
            "End of 28,accuracy0.699999988079071\n"
          ]
        },
        {
          "output_type": "stream",
          "name": "stderr",
          "text": [
            "Epoch 28:  47%|████▋     | 24/51 [00:00<00:00, 120.91batch/s]"
          ]
        },
        {
          "output_type": "stream",
          "name": "stdout",
          "text": [
            "End of 28,accuracy0.800000011920929\n",
            "End of 28,accuracy0.800000011920929\n",
            "End of 28,accuracy0.699999988079071\n"
          ]
        },
        {
          "output_type": "stream",
          "name": "stderr",
          "text": [
            "Epoch 28:  53%|█████▎    | 27/51 [00:00<00:00, 129.39batch/s]"
          ]
        },
        {
          "output_type": "stream",
          "name": "stdout",
          "text": [
            "End of 28,accuracy0.6000000238418579\n",
            "End of 28,accuracy0.699999988079071\n",
            "End of 28,accuracy0.8999999761581421\n"
          ]
        },
        {
          "output_type": "stream",
          "name": "stderr",
          "text": [
            "Epoch 28:  63%|██████▎   | 32/51 [00:00<00:00, 164.19batch/s]"
          ]
        },
        {
          "output_type": "stream",
          "name": "stdout",
          "text": [
            "End of 28,accuracy0.5\n",
            "End of 28,accuracy0.800000011920929\n",
            "End of 28,accuracy0.5\n",
            "End of 28,accuracy0.6000000238418579\n",
            "End of 28,accuracy0.4000000059604645\n"
          ]
        },
        {
          "output_type": "stream",
          "name": "stderr",
          "text": [
            "Epoch 28:  71%|███████   | 36/51 [00:00<00:00, 142.66batch/s]"
          ]
        },
        {
          "output_type": "stream",
          "name": "stdout",
          "text": [
            "End of 28,accuracy0.6000000238418579\n",
            "End of 28,accuracy0.4000000059604645\n",
            "End of 28,accuracy0.5\n",
            "End of 28,accuracy0.5\n"
          ]
        },
        {
          "output_type": "stream",
          "name": "stderr",
          "text": [
            "Epoch 28:  86%|████████▋ | 44/51 [00:00<00:00, 141.93batch/s]"
          ]
        },
        {
          "output_type": "stream",
          "name": "stdout",
          "text": [
            "End of 28,accuracy0.800000011920929\n",
            "End of 28,accuracy0.699999988079071\n",
            "End of 28,accuracy0.800000011920929\n",
            "End of 28,accuracy0.6000000238418579\n",
            "End of 28,accuracy0.699999988079071\n",
            "End of 28,accuracy0.30000001192092896\n",
            "End of 28,accuracy0.699999988079071\n",
            "End of 28,accuracy0.6000000238418579\n"
          ]
        },
        {
          "output_type": "stream",
          "name": "stderr",
          "text": [
            "Epoch 28:  92%|█████████▏| 47/51 [00:00<00:00, 160.58batch/s]"
          ]
        },
        {
          "output_type": "stream",
          "name": "stdout",
          "text": [
            "End of 28,accuracy0.6000000238418579\n",
            "End of 28,accuracy0.800000011920929\n",
            "End of 28,accuracy0.800000011920929\n"
          ]
        },
        {
          "output_type": "stream",
          "name": "stderr",
          "text": [
            "Epoch 28:  98%|█████████▊| 50/51 [00:00<00:00, 179.56batch/s]"
          ]
        },
        {
          "output_type": "stream",
          "name": "stdout",
          "text": [
            "End of 28,accuracy0.5\n",
            "End of 28,accuracy0.4000000059604645\n",
            "End of 28,accuracy0.699999988079071\n"
          ]
        },
        {
          "output_type": "stream",
          "name": "stderr",
          "text": [
            "Epoch 28: 100%|██████████| 51/51 [00:00<00:00, 152.14batch/s]\n"
          ]
        },
        {
          "output_type": "stream",
          "name": "stdout",
          "text": [
            "End of 28,accuracy0.800000011920929\n"
          ]
        },
        {
          "output_type": "stream",
          "name": "stderr",
          "text": [
            "Epoch 29:   4%|▍         | 2/51 [00:00<00:00, 113.84batch/s]"
          ]
        },
        {
          "output_type": "stream",
          "name": "stdout",
          "text": [
            "End of 29,accuracy0.800000011920929\n",
            "End of 29,accuracy0.699999988079071\n"
          ]
        },
        {
          "output_type": "stream",
          "name": "stderr",
          "text": [
            "Epoch 29:  10%|▉         | 5/51 [00:00<00:00, 140.36batch/s]"
          ]
        },
        {
          "output_type": "stream",
          "name": "stdout",
          "text": [
            "End of 29,accuracy0.800000011920929\n",
            "End of 29,accuracy0.699999988079071\n",
            "End of 29,accuracy0.800000011920929\n"
          ]
        },
        {
          "output_type": "stream",
          "name": "stderr",
          "text": [
            "Epoch 29:  22%|██▏       | 11/51 [00:00<00:00, 187.81batch/s]"
          ]
        },
        {
          "output_type": "stream",
          "name": "stdout",
          "text": [
            "End of 29,accuracy0.4000000059604645\n",
            "End of 29,accuracy0.6000000238418579\n",
            "End of 29,accuracy0.699999988079071\n",
            "End of 29,accuracy0.800000011920929\n",
            "End of 29,accuracy0.699999988079071\n",
            "End of 29,accuracy0.5\n"
          ]
        },
        {
          "output_type": "stream",
          "name": "stderr",
          "text": [
            "Epoch 29:  31%|███▏      | 16/51 [00:00<00:00, 156.49batch/s]"
          ]
        },
        {
          "output_type": "stream",
          "name": "stdout",
          "text": [
            "End of 29,accuracy0.6000000238418579\n",
            "End of 29,accuracy0.8999999761581421\n",
            "End of 29,accuracy0.699999988079071\n",
            "End of 29,accuracy0.6000000238418579\n",
            "End of 29,accuracy0.800000011920929\n"
          ]
        },
        {
          "output_type": "stream",
          "name": "stderr",
          "text": [
            "Epoch 29:  45%|████▌     | 23/51 [00:00<00:00, 137.68batch/s]"
          ]
        },
        {
          "output_type": "stream",
          "name": "stdout",
          "text": [
            "End of 29,accuracy0.699999988079071\n",
            "End of 29,accuracy0.800000011920929\n",
            "End of 29,accuracy0.6000000238418579\n",
            "End of 29,accuracy0.8999999761581421\n",
            "End of 29,accuracy0.699999988079071\n",
            "End of 29,accuracy0.800000011920929\n",
            "End of 29,accuracy0.800000011920929\n"
          ]
        },
        {
          "output_type": "stream",
          "name": "stderr",
          "text": [
            "Epoch 29:  51%|█████     | 26/51 [00:00<00:00, 150.40batch/s]"
          ]
        },
        {
          "output_type": "stream",
          "name": "stdout",
          "text": [
            "End of 29,accuracy0.699999988079071\n",
            "End of 29,accuracy0.6000000238418579\n",
            "End of 29,accuracy0.699999988079071\n"
          ]
        },
        {
          "output_type": "stream",
          "name": "stderr",
          "text": [
            "Epoch 29:  57%|█████▋    | 29/51 [00:00<00:00, 174.45batch/s]"
          ]
        },
        {
          "output_type": "stream",
          "name": "stdout",
          "text": [
            "End of 29,accuracy0.8999999761581421\n",
            "End of 29,accuracy0.5\n",
            "End of 29,accuracy0.800000011920929\n"
          ]
        },
        {
          "output_type": "stream",
          "name": "stderr",
          "text": [
            "Epoch 29:  61%|██████    | 31/51 [00:00<00:00, 175.84batch/s]"
          ]
        },
        {
          "output_type": "stream",
          "name": "stdout",
          "text": [
            "End of 29,accuracy0.5\n",
            "End of 29,accuracy0.6000000238418579\n"
          ]
        },
        {
          "output_type": "stream",
          "name": "stderr",
          "text": [
            "Epoch 29:  67%|██████▋   | 34/51 [00:00<00:00, 180.20batch/s]"
          ]
        },
        {
          "output_type": "stream",
          "name": "stdout",
          "text": [
            "End of 29,accuracy0.4000000059604645\n",
            "End of 29,accuracy0.6000000238418579\n",
            "End of 29,accuracy0.4000000059604645\n"
          ]
        },
        {
          "output_type": "stream",
          "name": "stderr",
          "text": [
            "Epoch 29:  73%|███████▎  | 37/51 [00:00<00:00, 180.08batch/s]"
          ]
        },
        {
          "output_type": "stream",
          "name": "stdout",
          "text": [
            "End of 29,accuracy0.5\n",
            "End of 29,accuracy0.5\n",
            "End of 29,accuracy0.800000011920929\n"
          ]
        },
        {
          "output_type": "stream",
          "name": "stderr",
          "text": [
            "Epoch 29:  80%|████████  | 41/51 [00:00<00:00, 129.39batch/s]"
          ]
        },
        {
          "output_type": "stream",
          "name": "stdout",
          "text": [
            "End of 29,accuracy0.699999988079071\n",
            "End of 29,accuracy0.800000011920929\n",
            "End of 29,accuracy0.6000000238418579\n",
            "End of 29,accuracy0.699999988079071\n"
          ]
        },
        {
          "output_type": "stream",
          "name": "stderr",
          "text": [
            "Epoch 29:  90%|█████████ | 46/51 [00:00<00:00, 151.31batch/s]"
          ]
        },
        {
          "output_type": "stream",
          "name": "stdout",
          "text": [
            "End of 29,accuracy0.30000001192092896\n",
            "End of 29,accuracy0.699999988079071\n",
            "End of 29,accuracy0.6000000238418579\n",
            "End of 29,accuracy0.6000000238418579\n",
            "End of 29,accuracy0.800000011920929\n",
            "End of 29,accuracy0.800000011920929"
          ]
        },
        {
          "output_type": "stream",
          "name": "stderr",
          "text": [
            "Epoch 29: 100%|██████████| 51/51 [00:00<00:00, 150.09batch/s]\n"
          ]
        },
        {
          "output_type": "stream",
          "name": "stdout",
          "text": [
            "\n",
            "End of 29,accuracy0.5\n",
            "End of 29,accuracy0.4000000059604645\n",
            "End of 29,accuracy0.699999988079071\n",
            "End of 29,accuracy0.800000011920929\n"
          ]
        },
        {
          "output_type": "stream",
          "name": "stderr",
          "text": [
            "Epoch 30:   6%|▌         | 3/51 [00:00<00:00, 164.99batch/s]"
          ]
        },
        {
          "output_type": "stream",
          "name": "stdout",
          "text": [
            "End of 30,accuracy0.800000011920929\n",
            "End of 30,accuracy0.699999988079071\n",
            "End of 30,accuracy0.8999999761581421\n"
          ]
        },
        {
          "output_type": "stream",
          "name": "stderr",
          "text": [
            "Epoch 30:  10%|▉         | 5/51 [00:00<00:00, 125.15batch/s]"
          ]
        },
        {
          "output_type": "stream",
          "name": "stdout",
          "text": [
            "End of 30,accuracy0.699999988079071\n",
            "End of 30,accuracy0.800000011920929\n"
          ]
        },
        {
          "output_type": "stream",
          "name": "stderr",
          "text": [
            "Epoch 30:  14%|█▎        | 7/51 [00:00<00:00, 139.80batch/s]"
          ]
        },
        {
          "output_type": "stream",
          "name": "stdout",
          "text": [
            "End of 30,accuracy0.4000000059604645\n",
            "End of 30,accuracy0.6000000238418579\n"
          ]
        },
        {
          "output_type": "stream",
          "name": "stderr",
          "text": [
            "\rEpoch 30:  16%|█▌        | 8/51 [00:00<00:00, 136.94batch/s]"
          ]
        },
        {
          "output_type": "stream",
          "name": "stdout",
          "text": [
            "End of 30,accuracy0.699999988079071\n"
          ]
        },
        {
          "output_type": "stream",
          "name": "stderr",
          "text": [
            "Epoch 30:  22%|██▏       | 11/51 [00:00<00:00, 146.56batch/s]"
          ]
        },
        {
          "output_type": "stream",
          "name": "stdout",
          "text": [
            "End of 30,accuracy0.800000011920929\n",
            "End of 30,accuracy0.699999988079071\n",
            "End of 30,accuracy0.5\n"
          ]
        },
        {
          "output_type": "stream",
          "name": "stderr",
          "text": [
            "Epoch 30:  27%|██▋       | 14/51 [00:00<00:00, 163.36batch/s]"
          ]
        },
        {
          "output_type": "stream",
          "name": "stdout",
          "text": [
            "End of 30,accuracy0.6000000238418579\n",
            "End of 30,accuracy0.8999999761581421\n",
            "End of 30,accuracy0.699999988079071\n",
            "End of 30,accuracy0.6000000238418579"
          ]
        },
        {
          "output_type": "stream",
          "name": "stderr",
          "text": [
            "Epoch 30:  35%|███▌      | 18/51 [00:00<00:00, 153.11batch/s]"
          ]
        },
        {
          "output_type": "stream",
          "name": "stdout",
          "text": [
            "\n",
            "End of 30,accuracy0.800000011920929\n",
            "End of 30,accuracy0.699999988079071\n",
            "End of 30,accuracy0.800000011920929\n",
            "End of 30,accuracy0.6000000238418579"
          ]
        },
        {
          "output_type": "stream",
          "name": "stderr",
          "text": [
            "Epoch 30:  47%|████▋     | 24/51 [00:00<00:00, 171.92batch/s]"
          ]
        },
        {
          "output_type": "stream",
          "name": "stdout",
          "text": [
            "\n",
            "End of 30,accuracy0.8999999761581421\n",
            "End of 30,accuracy0.699999988079071\n",
            "End of 30,accuracy0.800000011920929\n",
            "End of 30,accuracy0.800000011920929\n",
            "End of 30,accuracy0.800000011920929\n"
          ]
        },
        {
          "output_type": "stream",
          "name": "stderr",
          "text": [
            "Epoch 30:  61%|██████    | 31/51 [00:00<00:00, 153.64batch/s]"
          ]
        },
        {
          "output_type": "stream",
          "name": "stdout",
          "text": [
            "End of 30,accuracy0.6000000238418579\n",
            "End of 30,accuracy0.699999988079071\n",
            "End of 30,accuracy0.8999999761581421\n",
            "End of 30,accuracy0.5\n",
            "End of 30,accuracy0.800000011920929\n",
            "End of 30,accuracy0.5\n",
            "End of 30,accuracy0.6000000238418579\n",
            "End of 30,accuracy0.4000000059604645\n"
          ]
        },
        {
          "output_type": "stream",
          "name": "stderr",
          "text": [
            "Epoch 30:  67%|██████▋   | 34/51 [00:00<00:00, 143.66batch/s]"
          ]
        },
        {
          "output_type": "stream",
          "name": "stdout",
          "text": [
            "End of 30,accuracy0.699999988079071\n",
            "End of 30,accuracy0.4000000059604645\n",
            "End of 30,accuracy0.5"
          ]
        },
        {
          "output_type": "stream",
          "name": "stderr",
          "text": [
            "Epoch 30:  71%|███████   | 36/51 [00:00<00:00, 148.41batch/s]"
          ]
        },
        {
          "output_type": "stream",
          "name": "stdout",
          "text": [
            "\n",
            "End of 30,accuracy0.5\n"
          ]
        },
        {
          "output_type": "stream",
          "name": "stderr",
          "text": [
            "Epoch 30:  75%|███████▍  | 38/51 [00:00<00:00, 142.95batch/s]"
          ]
        },
        {
          "output_type": "stream",
          "name": "stdout",
          "text": [
            "End of 30,accuracy0.800000011920929\n",
            "End of 30,accuracy0.699999988079071\n",
            "End of 30,accuracy0.800000011920929"
          ]
        },
        {
          "output_type": "stream",
          "name": "stderr",
          "text": [
            "Epoch 30:  78%|███████▊  | 40/51 [00:00<00:00, 156.38batch/s]"
          ]
        },
        {
          "output_type": "stream",
          "name": "stdout",
          "text": [
            "\n",
            "End of 30,accuracy0.6000000238418579\n"
          ]
        },
        {
          "output_type": "stream",
          "name": "stderr",
          "text": [
            "Epoch 30:  84%|████████▍ | 43/51 [00:00<00:00, 165.36batch/s]"
          ]
        },
        {
          "output_type": "stream",
          "name": "stdout",
          "text": [
            "End of 30,accuracy0.699999988079071\n",
            "End of 30,accuracy0.30000001192092896\n",
            "End of 30,accuracy0.699999988079071\n"
          ]
        },
        {
          "output_type": "stream",
          "name": "stderr",
          "text": [
            "Epoch 30:  92%|█████████▏| 47/51 [00:00<00:00, 196.11batch/s]"
          ]
        },
        {
          "output_type": "stream",
          "name": "stdout",
          "text": [
            "End of 30,accuracy0.6000000238418579\n",
            "End of 30,accuracy0.6000000238418579\n",
            "End of 30,accuracy0.800000011920929\n",
            "End of 30,accuracy0.800000011920929\n"
          ]
        },
        {
          "output_type": "stream",
          "name": "stderr",
          "text": [
            "Epoch 30: 100%|██████████| 51/51 [00:00<00:00, 156.40batch/s]\n"
          ]
        },
        {
          "output_type": "stream",
          "name": "stdout",
          "text": [
            "End of 30,accuracy0.5\n",
            "End of 30,accuracy0.4000000059604645\n",
            "End of 30,accuracy0.699999988079071\n",
            "End of 30,accuracy0.800000011920929\n"
          ]
        },
        {
          "output_type": "stream",
          "name": "stderr",
          "text": [
            "Epoch 31:   2%|▏         | 1/51 [00:00<00:00, 261.39batch/s]"
          ]
        },
        {
          "output_type": "stream",
          "name": "stdout",
          "text": [
            "End of 31,accuracy0.800000011920929\n"
          ]
        },
        {
          "output_type": "stream",
          "name": "stderr",
          "text": [
            "Epoch 31:  12%|█▏        | 6/51 [00:00<00:00, 168.03batch/s]"
          ]
        },
        {
          "output_type": "stream",
          "name": "stdout",
          "text": [
            "End of 31,accuracy0.699999988079071\n",
            "End of 31,accuracy0.8999999761581421\n",
            "End of 31,accuracy0.699999988079071\n",
            "End of 31,accuracy0.800000011920929\n",
            "End of 31,accuracy0.4000000059604645\n"
          ]
        },
        {
          "output_type": "stream",
          "name": "stderr",
          "text": [
            "Epoch 31:  25%|██▌       | 13/51 [00:00<00:00, 153.55batch/s]"
          ]
        },
        {
          "output_type": "stream",
          "name": "stdout",
          "text": [
            "End of 31,accuracy0.6000000238418579\n",
            "End of 31,accuracy0.699999988079071\n",
            "End of 31,accuracy0.800000011920929\n",
            "End of 31,accuracy0.699999988079071\n",
            "End of 31,accuracy0.5\n",
            "End of 31,accuracy0.6000000238418579\n",
            "End of 31,accuracy0.8999999761581421\n",
            "End of 31,accuracy0.699999988079071"
          ]
        },
        {
          "output_type": "stream",
          "name": "stderr",
          "text": [
            "Epoch 31:  31%|███▏      | 16/51 [00:00<00:00, 163.06batch/s]"
          ]
        },
        {
          "output_type": "stream",
          "name": "stdout",
          "text": [
            "\n",
            "End of 31,accuracy0.6000000238418579\n",
            "End of 31,accuracy0.800000011920929\n"
          ]
        },
        {
          "output_type": "stream",
          "name": "stderr",
          "text": [
            "Epoch 31:  35%|███▌      | 18/51 [00:00<00:00, 156.74batch/s]"
          ]
        },
        {
          "output_type": "stream",
          "name": "stdout",
          "text": [
            "End of 31,accuracy0.699999988079071\n",
            "End of 31,accuracy0.800000011920929\n"
          ]
        },
        {
          "output_type": "stream",
          "name": "stderr",
          "text": [
            "Epoch 31:  39%|███▉      | 20/51 [00:00<00:00, 152.62batch/s]"
          ]
        },
        {
          "output_type": "stream",
          "name": "stdout",
          "text": [
            "End of 31,accuracy0.6000000238418579\n",
            "End of 31,accuracy0.8999999761581421\n"
          ]
        },
        {
          "output_type": "stream",
          "name": "stderr",
          "text": [
            "Epoch 31:  45%|████▌     | 23/51 [00:00<00:00, 182.25batch/s]"
          ]
        },
        {
          "output_type": "stream",
          "name": "stdout",
          "text": [
            "End of 31,accuracy0.699999988079071\n",
            "End of 31,accuracy0.800000011920929\n",
            "End of 31,accuracy0.800000011920929\n"
          ]
        },
        {
          "output_type": "stream",
          "name": "stderr",
          "text": [
            "Epoch 31:  51%|█████     | 26/51 [00:00<00:00, 196.41batch/s]"
          ]
        },
        {
          "output_type": "stream",
          "name": "stdout",
          "text": [
            "End of 31,accuracy0.800000011920929\n",
            "End of 31,accuracy0.6000000238418579\n",
            "End of 31,accuracy0.699999988079071\n"
          ]
        },
        {
          "output_type": "stream",
          "name": "stderr",
          "text": [
            "Epoch 31:  57%|█████▋    | 29/51 [00:00<00:00, 173.99batch/s]"
          ]
        },
        {
          "output_type": "stream",
          "name": "stdout",
          "text": [
            "End of 31,accuracy0.8999999761581421\n",
            "End of 31,accuracy0.5\n",
            "End of 31,accuracy0.8999999761581421\n",
            "End of 31,accuracy0.5"
          ]
        },
        {
          "output_type": "stream",
          "name": "stderr",
          "text": [
            "Epoch 31:  67%|██████▋   | 34/51 [00:00<00:00, 189.88batch/s]"
          ]
        },
        {
          "output_type": "stream",
          "name": "stdout",
          "text": [
            "\n",
            "End of 31,accuracy0.6000000238418579\n",
            "End of 31,accuracy0.4000000059604645\n",
            "End of 31,accuracy0.699999988079071\n",
            "End of 31,accuracy0.4000000059604645\n",
            "End of 31,accuracy0.5\n"
          ]
        },
        {
          "output_type": "stream",
          "name": "stderr",
          "text": [
            "Epoch 31:  71%|███████   | 36/51 [00:00<00:00, 192.87batch/s]"
          ]
        },
        {
          "output_type": "stream",
          "name": "stdout",
          "text": [
            "End of 31,accuracy0.5\n"
          ]
        },
        {
          "output_type": "stream",
          "name": "stderr",
          "text": [
            "Epoch 31:  80%|████████  | 41/51 [00:00<00:00, 215.06batch/s]"
          ]
        },
        {
          "output_type": "stream",
          "name": "stdout",
          "text": [
            "End of 31,accuracy0.800000011920929\n",
            "End of 31,accuracy0.699999988079071\n",
            "End of 31,accuracy0.800000011920929\n",
            "End of 31,accuracy0.6000000238418579\n",
            "End of 31,accuracy0.699999988079071\n",
            "End of 31,accuracy0.30000001192092896"
          ]
        },
        {
          "output_type": "stream",
          "name": "stderr",
          "text": [
            "Epoch 31:  94%|█████████▍| 48/51 [00:00<00:00, 148.94batch/s]"
          ]
        },
        {
          "output_type": "stream",
          "name": "stdout",
          "text": [
            "\n",
            "End of 31,accuracy0.699999988079071\n",
            "End of 31,accuracy0.6000000238418579\n",
            "End of 31,accuracy0.6000000238418579\n",
            "End of 31,accuracy0.800000011920929\n",
            "End of 31,accuracy0.800000011920929\n",
            "End of 31,accuracy0.5\n"
          ]
        },
        {
          "output_type": "stream",
          "name": "stderr",
          "text": [
            "Epoch 31:  98%|█████████▊| 50/51 [00:00<00:00, 138.81batch/s]"
          ]
        },
        {
          "output_type": "stream",
          "name": "stdout",
          "text": [
            "End of 31,accuracy0.4000000059604645\n",
            "End of 31,accuracy0.699999988079071\n",
            "End of 31,accuracy0.800000011920929"
          ]
        },
        {
          "output_type": "stream",
          "name": "stderr",
          "text": [
            "Epoch 31: 100%|██████████| 51/51 [00:00<00:00, 163.81batch/s]\n"
          ]
        },
        {
          "output_type": "stream",
          "name": "stdout",
          "text": [
            "\n"
          ]
        },
        {
          "output_type": "stream",
          "name": "stderr",
          "text": [
            "Epoch 32:   4%|▍         | 2/51 [00:00<00:00, 235.34batch/s]"
          ]
        },
        {
          "output_type": "stream",
          "name": "stdout",
          "text": [
            "End of 32,accuracy0.800000011920929\n",
            "End of 32,accuracy0.699999988079071\n"
          ]
        },
        {
          "output_type": "stream",
          "name": "stderr",
          "text": [
            "Epoch 32:   8%|▊         | 4/51 [00:00<00:00, 161.68batch/s]"
          ]
        },
        {
          "output_type": "stream",
          "name": "stdout",
          "text": [
            "End of 32,accuracy0.8999999761581421\n",
            "End of 32,accuracy0.699999988079071\n"
          ]
        },
        {
          "output_type": "stream",
          "name": "stderr",
          "text": [
            "Epoch 32:  14%|█▎        | 7/51 [00:00<00:00, 175.69batch/s]"
          ]
        },
        {
          "output_type": "stream",
          "name": "stdout",
          "text": [
            "End of 32,accuracy0.800000011920929\n",
            "End of 32,accuracy0.4000000059604645\n",
            "End of 32,accuracy0.6000000238418579\n"
          ]
        },
        {
          "output_type": "stream",
          "name": "stderr",
          "text": [
            "Epoch 32:  20%|█▉        | 10/51 [00:00<00:00, 189.38batch/s]"
          ]
        },
        {
          "output_type": "stream",
          "name": "stdout",
          "text": [
            "End of 32,accuracy0.699999988079071\n",
            "End of 32,accuracy0.800000011920929\n",
            "End of 32,accuracy0.699999988079071\n"
          ]
        },
        {
          "output_type": "stream",
          "name": "stderr",
          "text": [
            "Epoch 32:  31%|███▏      | 16/51 [00:00<00:00, 191.39batch/s]"
          ]
        },
        {
          "output_type": "stream",
          "name": "stdout",
          "text": [
            "End of 32,accuracy0.5\n",
            "End of 32,accuracy0.6000000238418579\n",
            "End of 32,accuracy0.8999999761581421\n",
            "End of 32,accuracy0.699999988079071\n",
            "End of 32,accuracy0.6000000238418579\n",
            "End of 32,accuracy0.800000011920929\n"
          ]
        },
        {
          "output_type": "stream",
          "name": "stderr",
          "text": [
            "\rEpoch 32:  33%|███▎      | 17/51 [00:00<00:00, 180.37batch/s]"
          ]
        },
        {
          "output_type": "stream",
          "name": "stdout",
          "text": [
            "End of 32,accuracy0.699999988079071\n"
          ]
        },
        {
          "output_type": "stream",
          "name": "stderr",
          "text": [
            "Epoch 32:  43%|████▎     | 22/51 [00:00<00:00, 194.63batch/s]"
          ]
        },
        {
          "output_type": "stream",
          "name": "stdout",
          "text": [
            "End of 32,accuracy0.800000011920929\n",
            "End of 32,accuracy0.6000000238418579\n",
            "End of 32,accuracy0.8999999761581421\n",
            "End of 32,accuracy0.699999988079071\n",
            "End of 32,accuracy0.800000011920929\n"
          ]
        },
        {
          "output_type": "stream",
          "name": "stderr",
          "text": [
            "Epoch 32:  59%|█████▉    | 30/51 [00:00<00:00, 178.80batch/s]"
          ]
        },
        {
          "output_type": "stream",
          "name": "stdout",
          "text": [
            "End of 32,accuracy0.800000011920929\n",
            "End of 32,accuracy0.800000011920929\n",
            "End of 32,accuracy0.6000000238418579\n",
            "End of 32,accuracy0.699999988079071\n",
            "End of 32,accuracy0.8999999761581421\n",
            "End of 32,accuracy0.5\n",
            "End of 32,accuracy0.8999999761581421\n",
            "End of 32,accuracy0.5\n"
          ]
        },
        {
          "output_type": "stream",
          "name": "stderr",
          "text": [
            "Epoch 32:  65%|██████▍   | 33/51 [00:00<00:00, 161.23batch/s]"
          ]
        },
        {
          "output_type": "stream",
          "name": "stdout",
          "text": [
            "End of 32,accuracy0.6000000238418579\n",
            "End of 32,accuracy0.4000000059604645\n",
            "End of 32,accuracy0.699999988079071\n"
          ]
        },
        {
          "output_type": "stream",
          "name": "stderr",
          "text": [
            "Epoch 32:  71%|███████   | 36/51 [00:00<00:00, 171.75batch/s]"
          ]
        },
        {
          "output_type": "stream",
          "name": "stdout",
          "text": [
            "End of 32,accuracy0.4000000059604645\n",
            "End of 32,accuracy0.5\n",
            "End of 32,accuracy0.5\n"
          ]
        },
        {
          "output_type": "stream",
          "name": "stderr",
          "text": [
            "\rEpoch 32:  73%|███████▎  | 37/51 [00:00<00:00, 150.36batch/s]"
          ]
        },
        {
          "output_type": "stream",
          "name": "stdout",
          "text": [
            "End of 32,accuracy0.800000011920929\n",
            "End of 32,accuracy0.699999988079071\n"
          ]
        },
        {
          "output_type": "stream",
          "name": "stderr",
          "text": [
            "Epoch 32:  76%|███████▋  | 39/51 [00:00<00:00, 153.08batch/s]"
          ]
        },
        {
          "output_type": "stream",
          "name": "stdout",
          "text": [
            "End of 32,accuracy0.800000011920929\n",
            "End of 32,accuracy0.6000000238418579"
          ]
        },
        {
          "output_type": "stream",
          "name": "stderr",
          "text": [
            "Epoch 32:  82%|████████▏ | 42/51 [00:00<00:00, 169.66batch/s]"
          ]
        },
        {
          "output_type": "stream",
          "name": "stdout",
          "text": [
            "\n",
            "End of 32,accuracy0.699999988079071\n",
            "End of 32,accuracy0.30000001192092896\n"
          ]
        },
        {
          "output_type": "stream",
          "name": "stderr",
          "text": [
            "Epoch 32:  88%|████████▊ | 45/51 [00:00<00:00, 153.91batch/s]"
          ]
        },
        {
          "output_type": "stream",
          "name": "stdout",
          "text": [
            "End of 32,accuracy0.699999988079071\n",
            "End of 32,accuracy0.6000000238418579\n",
            "End of 32,accuracy0.6000000238418579\n"
          ]
        },
        {
          "output_type": "stream",
          "name": "stderr",
          "text": [
            "Epoch 32:  98%|█████████▊| 50/51 [00:00<00:00, 178.95batch/s]"
          ]
        },
        {
          "output_type": "stream",
          "name": "stdout",
          "text": [
            "End of 32,accuracy0.800000011920929\n",
            "End of 32,accuracy0.800000011920929\n",
            "End of 32,accuracy0.5\n",
            "End of 32,accuracy0.4000000059604645\n",
            "End of 32,accuracy0.699999988079071\n"
          ]
        },
        {
          "output_type": "stream",
          "name": "stderr",
          "text": [
            "\rEpoch 32: 100%|██████████| 51/51 [00:00<00:00, 178.94batch/s]"
          ]
        },
        {
          "output_type": "stream",
          "name": "stdout",
          "text": [
            "End of 32,accuracy0.800000011920929\n"
          ]
        },
        {
          "output_type": "stream",
          "name": "stderr",
          "text": [
            "Epoch 32: 100%|██████████| 51/51 [00:00<00:00, 168.92batch/s]\n",
            "Epoch 33:   8%|▊         | 4/51 [00:00<00:00, 193.69batch/s]"
          ]
        },
        {
          "output_type": "stream",
          "name": "stdout",
          "text": [
            "End of 33,accuracy0.800000011920929\n",
            "End of 33,accuracy0.699999988079071\n",
            "End of 33,accuracy0.8999999761581421\n",
            "End of 33,accuracy0.699999988079071\n"
          ]
        },
        {
          "output_type": "stream",
          "name": "stderr",
          "text": [
            "Epoch 33:  22%|██▏       | 11/51 [00:00<00:00, 161.08batch/s]"
          ]
        },
        {
          "output_type": "stream",
          "name": "stdout",
          "text": [
            "End of 33,accuracy0.800000011920929\n",
            "End of 33,accuracy0.4000000059604645\n",
            "End of 33,accuracy0.6000000238418579\n",
            "End of 33,accuracy0.699999988079071\n",
            "End of 33,accuracy0.800000011920929\n",
            "End of 33,accuracy0.699999988079071\n",
            "End of 33,accuracy0.5\n"
          ]
        },
        {
          "output_type": "stream",
          "name": "stderr",
          "text": [
            "Epoch 33:  27%|██▋       | 14/51 [00:00<00:00, 158.94batch/s]"
          ]
        },
        {
          "output_type": "stream",
          "name": "stdout",
          "text": [
            "End of 33,accuracy0.6000000238418579\n",
            "End of 33,accuracy0.8999999761581421\n",
            "End of 33,accuracy0.699999988079071\n"
          ]
        },
        {
          "output_type": "stream",
          "name": "stderr",
          "text": [
            "Epoch 33:  31%|███▏      | 16/51 [00:00<00:00, 145.66batch/s]"
          ]
        },
        {
          "output_type": "stream",
          "name": "stdout",
          "text": [
            "End of 33,accuracy0.6000000238418579\n",
            "End of 33,accuracy0.800000011920929\n",
            "End of 33,accuracy0.699999988079071\n"
          ]
        },
        {
          "output_type": "stream",
          "name": "stderr",
          "text": [
            "Epoch 33:  35%|███▌      | 18/51 [00:00<00:00, 157.57batch/s]"
          ]
        },
        {
          "output_type": "stream",
          "name": "stdout",
          "text": [
            "End of 33,accuracy0.800000011920929\n"
          ]
        },
        {
          "output_type": "stream",
          "name": "stderr",
          "text": [
            "Epoch 33:  39%|███▉      | 20/51 [00:00<00:00, 165.04batch/s]"
          ]
        },
        {
          "output_type": "stream",
          "name": "stdout",
          "text": [
            "End of 33,accuracy0.6000000238418579\n",
            "End of 33,accuracy0.8999999761581421\n"
          ]
        },
        {
          "output_type": "stream",
          "name": "stderr",
          "text": [
            "Epoch 33:  45%|████▌     | 23/51 [00:00<00:00, 175.61batch/s]"
          ]
        },
        {
          "output_type": "stream",
          "name": "stdout",
          "text": [
            "End of 33,accuracy0.699999988079071\n",
            "End of 33,accuracy0.800000011920929\n",
            "End of 33,accuracy0.800000011920929\n"
          ]
        },
        {
          "output_type": "stream",
          "name": "stderr",
          "text": [
            "Epoch 33:  51%|█████     | 26/51 [00:00<00:00, 179.04batch/s]"
          ]
        },
        {
          "output_type": "stream",
          "name": "stdout",
          "text": [
            "End of 33,accuracy0.800000011920929\n",
            "End of 33,accuracy0.6000000238418579\n",
            "End of 33,accuracy0.699999988079071\n",
            "End of 33,accuracy0.8999999761581421\n"
          ]
        },
        {
          "output_type": "stream",
          "name": "stderr",
          "text": [
            "Epoch 33:  63%|██████▎   | 32/51 [00:00<00:00, 195.79batch/s]"
          ]
        },
        {
          "output_type": "stream",
          "name": "stdout",
          "text": [
            "End of 33,accuracy0.5\n",
            "End of 33,accuracy0.8999999761581421\n",
            "End of 33,accuracy0.5\n",
            "End of 33,accuracy0.6000000238418579\n",
            "End of 33,accuracy0.4000000059604645\n"
          ]
        },
        {
          "output_type": "stream",
          "name": "stderr",
          "text": [
            "Epoch 33:  69%|██████▊   | 35/51 [00:00<00:00, 194.99batch/s]"
          ]
        },
        {
          "output_type": "stream",
          "name": "stdout",
          "text": [
            "End of 33,accuracy0.699999988079071\n",
            "End of 33,accuracy0.4000000059604645\n",
            "End of 33,accuracy0.5\n"
          ]
        },
        {
          "output_type": "stream",
          "name": "stderr",
          "text": [
            "Epoch 33:  76%|███████▋  | 39/51 [00:00<00:00, 196.36batch/s]"
          ]
        },
        {
          "output_type": "stream",
          "name": "stdout",
          "text": [
            "End of 33,accuracy0.5\n",
            "End of 33,accuracy0.800000011920929\n",
            "End of 33,accuracy0.699999988079071\n",
            "End of 33,accuracy0.800000011920929\n"
          ]
        },
        {
          "output_type": "stream",
          "name": "stderr",
          "text": [
            "Epoch 33:  90%|█████████ | 46/51 [00:00<00:00, 144.78batch/s]"
          ]
        },
        {
          "output_type": "stream",
          "name": "stdout",
          "text": [
            "End of 33,accuracy0.6000000238418579\n",
            "End of 33,accuracy0.699999988079071\n",
            "End of 33,accuracy0.30000001192092896\n",
            "End of 33,accuracy0.699999988079071\n",
            "End of 33,accuracy0.6000000238418579\n",
            "End of 33,accuracy0.6000000238418579\n",
            "End of 33,accuracy0.800000011920929\n"
          ]
        },
        {
          "output_type": "stream",
          "name": "stderr",
          "text": [
            "Epoch 33:  96%|█████████▌| 49/51 [00:00<00:00, 137.79batch/s]"
          ]
        },
        {
          "output_type": "stream",
          "name": "stdout",
          "text": [
            "End of 33,accuracy0.800000011920929\n",
            "End of 33,accuracy0.5\n",
            "End of 33,accuracy0.4000000059604645\n",
            "End of 33,accuracy0.699999988079071"
          ]
        },
        {
          "output_type": "stream",
          "name": "stderr",
          "text": [
            "Epoch 33: 100%|██████████| 51/51 [00:00<00:00, 144.81batch/s]"
          ]
        },
        {
          "output_type": "stream",
          "name": "stdout",
          "text": [
            "\n",
            "End of 33,accuracy0.800000011920929\n"
          ]
        },
        {
          "output_type": "stream",
          "name": "stderr",
          "text": [
            "Epoch 33: 100%|██████████| 51/51 [00:00<00:00, 164.93batch/s]\n",
            "Epoch 34:   2%|▏         | 1/51 [00:00<00:00, 114.98batch/s]"
          ]
        },
        {
          "output_type": "stream",
          "name": "stdout",
          "text": [
            "End of 34,accuracy0.800000011920929\n"
          ]
        },
        {
          "output_type": "stream",
          "name": "stderr",
          "text": [
            "Epoch 34:   8%|▊         | 4/51 [00:00<00:00, 162.13batch/s]"
          ]
        },
        {
          "output_type": "stream",
          "name": "stdout",
          "text": [
            "End of 34,accuracy0.699999988079071\n",
            "End of 34,accuracy0.8999999761581421\n",
            "End of 34,accuracy0.699999988079071\n"
          ]
        },
        {
          "output_type": "stream",
          "name": "stderr",
          "text": [
            "Epoch 34:  16%|█▌        | 8/51 [00:00<00:00, 165.74batch/s]"
          ]
        },
        {
          "output_type": "stream",
          "name": "stdout",
          "text": [
            "End of 34,accuracy0.800000011920929\n",
            "End of 34,accuracy0.4000000059604645\n",
            "End of 34,accuracy0.6000000238418579\n",
            "End of 34,accuracy0.699999988079071\n"
          ]
        },
        {
          "output_type": "stream",
          "name": "stderr",
          "text": [
            "Epoch 34:  25%|██▌       | 13/51 [00:00<00:00, 184.39batch/s]"
          ]
        },
        {
          "output_type": "stream",
          "name": "stdout",
          "text": [
            "End of 34,accuracy0.800000011920929\n",
            "End of 34,accuracy0.699999988079071\n",
            "End of 34,accuracy0.5\n",
            "End of 34,accuracy0.6000000238418579\n",
            "End of 34,accuracy0.8999999761581421\n"
          ]
        },
        {
          "output_type": "stream",
          "name": "stderr",
          "text": [
            "Epoch 34:  29%|██▉       | 15/51 [00:00<00:00, 162.61batch/s]"
          ]
        },
        {
          "output_type": "stream",
          "name": "stdout",
          "text": [
            "End of 34,accuracy0.699999988079071\n",
            "End of 34,accuracy0.6000000238418579\n"
          ]
        },
        {
          "output_type": "stream",
          "name": "stderr",
          "text": [
            "Epoch 34:  35%|███▌      | 18/51 [00:00<00:00, 166.27batch/s]"
          ]
        },
        {
          "output_type": "stream",
          "name": "stdout",
          "text": [
            "End of 34,accuracy0.800000011920929\n",
            "End of 34,accuracy0.699999988079071\n",
            "End of 34,accuracy0.800000011920929\n"
          ]
        },
        {
          "output_type": "stream",
          "name": "stderr",
          "text": [
            "Epoch 34:  51%|█████     | 26/51 [00:00<00:00, 183.98batch/s]"
          ]
        },
        {
          "output_type": "stream",
          "name": "stdout",
          "text": [
            "End of 34,accuracy0.6000000238418579\n",
            "End of 34,accuracy0.8999999761581421\n",
            "End of 34,accuracy0.699999988079071\n",
            "End of 34,accuracy0.800000011920929\n",
            "End of 34,accuracy0.800000011920929\n",
            "End of 34,accuracy0.800000011920929\n",
            "End of 34,accuracy0.6000000238418579\n",
            "End of 34,accuracy0.699999988079071\n",
            "End of 34,accuracy0.8999999761581421\n"
          ]
        },
        {
          "output_type": "stream",
          "name": "stderr",
          "text": [
            "Epoch 34:  61%|██████    | 31/51 [00:00<00:00, 194.17batch/s]"
          ]
        },
        {
          "output_type": "stream",
          "name": "stdout",
          "text": [
            "End of 34,accuracy0.5\n",
            "End of 34,accuracy0.8999999761581421\n",
            "End of 34,accuracy0.5\n",
            "End of 34,accuracy0.6000000238418579\n"
          ]
        },
        {
          "output_type": "stream",
          "name": "stderr",
          "text": [
            "Epoch 34:  71%|███████   | 36/51 [00:00<00:00, 194.12batch/s]"
          ]
        },
        {
          "output_type": "stream",
          "name": "stdout",
          "text": [
            "End of 34,accuracy0.4000000059604645\n",
            "End of 34,accuracy0.699999988079071\n",
            "End of 34,accuracy0.4000000059604645\n",
            "End of 34,accuracy0.5\n",
            "End of 34,accuracy0.5\n"
          ]
        },
        {
          "output_type": "stream",
          "name": "stderr",
          "text": [
            "\rEpoch 34:  73%|███████▎  | 37/51 [00:00<00:00, 199.25batch/s]"
          ]
        },
        {
          "output_type": "stream",
          "name": "stdout",
          "text": [
            "End of 34,accuracy0.800000011920929\n"
          ]
        },
        {
          "output_type": "stream",
          "name": "stderr",
          "text": [
            "Epoch 34:  78%|███████▊  | 40/51 [00:00<00:00, 165.63batch/s]"
          ]
        },
        {
          "output_type": "stream",
          "name": "stdout",
          "text": [
            "End of 34,accuracy0.699999988079071\n",
            "End of 34,accuracy0.800000011920929\n",
            "End of 34,accuracy0.6000000238418579\n"
          ]
        },
        {
          "output_type": "stream",
          "name": "stderr",
          "text": [
            "Epoch 34:  84%|████████▍ | 43/51 [00:00<00:00, 155.15batch/s]"
          ]
        },
        {
          "output_type": "stream",
          "name": "stdout",
          "text": [
            "End of 34,accuracy0.699999988079071\n",
            "End of 34,accuracy0.30000001192092896\n",
            "End of 34,accuracy0.699999988079071\n"
          ]
        },
        {
          "output_type": "stream",
          "name": "stderr",
          "text": [
            "Epoch 34:  94%|█████████▍| 48/51 [00:00<00:00, 182.05batch/s]"
          ]
        },
        {
          "output_type": "stream",
          "name": "stdout",
          "text": [
            "End of 34,accuracy0.6000000238418579\n",
            "End of 34,accuracy0.6000000238418579\n",
            "End of 34,accuracy0.800000011920929\n",
            "End of 34,accuracy0.800000011920929\n",
            "End of 34,accuracy0.5\n"
          ]
        },
        {
          "output_type": "stream",
          "name": "stderr",
          "text": [
            "Epoch 34:  98%|█████████▊| 50/51 [00:00<00:00, 173.03batch/s]"
          ]
        },
        {
          "output_type": "stream",
          "name": "stdout",
          "text": [
            "End of 34,accuracy0.4000000059604645\n",
            "End of 34,accuracy0.699999988079071\n"
          ]
        },
        {
          "output_type": "stream",
          "name": "stderr",
          "text": [
            "Epoch 34: 100%|██████████| 51/51 [00:00<00:00, 167.28batch/s]\n"
          ]
        },
        {
          "output_type": "stream",
          "name": "stdout",
          "text": [
            "End of 34,accuracy0.800000011920929\n"
          ]
        },
        {
          "output_type": "stream",
          "name": "stderr",
          "text": [
            "Epoch 35:  14%|█▎        | 7/51 [00:00<00:00, 166.16batch/s]"
          ]
        },
        {
          "output_type": "stream",
          "name": "stdout",
          "text": [
            "End of 35,accuracy0.800000011920929\n",
            "End of 35,accuracy0.699999988079071\n",
            "End of 35,accuracy0.8999999761581421\n",
            "End of 35,accuracy0.699999988079071\n",
            "End of 35,accuracy0.800000011920929\n",
            "End of 35,accuracy0.4000000059604645\n",
            "End of 35,accuracy0.6000000238418579\n"
          ]
        },
        {
          "output_type": "stream",
          "name": "stderr",
          "text": [
            "Epoch 35:  22%|██▏       | 11/51 [00:00<00:00, 158.30batch/s]"
          ]
        },
        {
          "output_type": "stream",
          "name": "stdout",
          "text": [
            "End of 35,accuracy0.699999988079071\n",
            "End of 35,accuracy0.800000011920929\n",
            "End of 35,accuracy0.699999988079071\n",
            "End of 35,accuracy0.5\n"
          ]
        },
        {
          "output_type": "stream",
          "name": "stderr",
          "text": [
            "Epoch 35:  29%|██▉       | 15/51 [00:00<00:00, 143.79batch/s]"
          ]
        },
        {
          "output_type": "stream",
          "name": "stdout",
          "text": [
            "End of 35,accuracy0.6000000238418579\n",
            "End of 35,accuracy0.8999999761581421\n",
            "End of 35,accuracy0.699999988079071\n",
            "End of 35,accuracy0.6000000238418579\n",
            "End of 35,accuracy0.800000011920929"
          ]
        },
        {
          "output_type": "stream",
          "name": "stderr",
          "text": [
            "Epoch 35:  35%|███▌      | 18/51 [00:00<00:00, 128.01batch/s]"
          ]
        },
        {
          "output_type": "stream",
          "name": "stdout",
          "text": [
            "\n",
            "End of 35,accuracy0.699999988079071\n",
            "End of 35,accuracy0.800000011920929\n"
          ]
        },
        {
          "output_type": "stream",
          "name": "stderr",
          "text": [
            "Epoch 35:  41%|████      | 21/51 [00:00<00:00, 141.19batch/s]"
          ]
        },
        {
          "output_type": "stream",
          "name": "stdout",
          "text": [
            "End of 35,accuracy0.6000000238418579\n",
            "End of 35,accuracy0.800000011920929\n",
            "End of 35,accuracy0.699999988079071\n"
          ]
        },
        {
          "output_type": "stream",
          "name": "stderr",
          "text": [
            "Epoch 35:  49%|████▉     | 25/51 [00:00<00:00, 157.99batch/s]"
          ]
        },
        {
          "output_type": "stream",
          "name": "stdout",
          "text": [
            "End of 35,accuracy0.800000011920929\n",
            "End of 35,accuracy0.800000011920929\n",
            "End of 35,accuracy0.800000011920929\n",
            "End of 35,accuracy0.6000000238418579\n",
            "End of 35,accuracy0.800000011920929\n"
          ]
        },
        {
          "output_type": "stream",
          "name": "stderr",
          "text": [
            "Epoch 35:  55%|█████▍    | 28/51 [00:00<00:00, 176.20batch/s]"
          ]
        },
        {
          "output_type": "stream",
          "name": "stdout",
          "text": [
            "End of 35,accuracy0.8999999761581421\n",
            "End of 35,accuracy0.5\n"
          ]
        },
        {
          "output_type": "stream",
          "name": "stderr",
          "text": [
            "Epoch 35:  63%|██████▎   | 32/51 [00:00<00:00, 198.25batch/s]"
          ]
        },
        {
          "output_type": "stream",
          "name": "stdout",
          "text": [
            "End of 35,accuracy0.8999999761581421\n",
            "End of 35,accuracy0.5\n",
            "End of 35,accuracy0.6000000238418579\n",
            "End of 35,accuracy0.4000000059604645\n"
          ]
        },
        {
          "output_type": "stream",
          "name": "stderr",
          "text": [
            "Epoch 35:  80%|████████  | 41/51 [00:00<00:00, 216.81batch/s]"
          ]
        },
        {
          "output_type": "stream",
          "name": "stdout",
          "text": [
            "End of 35,accuracy0.699999988079071\n",
            "End of 35,accuracy0.4000000059604645\n",
            "End of 35,accuracy0.5\n",
            "End of 35,accuracy0.5\n",
            "End of 35,accuracy0.800000011920929\n",
            "End of 35,accuracy0.699999988079071\n",
            "End of 35,accuracy0.800000011920929\n",
            "End of 35,accuracy0.6000000238418579\n",
            "End of 35,accuracy0.699999988079071\n"
          ]
        },
        {
          "output_type": "stream",
          "name": "stderr",
          "text": [
            "Epoch 35:  90%|█████████ | 46/51 [00:00<00:00, 212.55batch/s]"
          ]
        },
        {
          "output_type": "stream",
          "name": "stdout",
          "text": [
            "End of 35,accuracy0.30000001192092896\n",
            "End of 35,accuracy0.699999988079071\n",
            "End of 35,accuracy0.6000000238418579\n",
            "End of 35,accuracy0.6000000238418579\n",
            "End of 35,accuracy0.800000011920929\n",
            "End of 35,accuracy0.800000011920929"
          ]
        },
        {
          "output_type": "stream",
          "name": "stderr",
          "text": [
            "Epoch 35: 100%|██████████| 51/51 [00:00<00:00, 168.93batch/s]\n"
          ]
        },
        {
          "output_type": "stream",
          "name": "stdout",
          "text": [
            "\n",
            "End of 35,accuracy0.5\n",
            "End of 35,accuracy0.4000000059604645\n",
            "End of 35,accuracy0.699999988079071\n",
            "End of 35,accuracy0.800000011920929\n"
          ]
        },
        {
          "output_type": "stream",
          "name": "stderr",
          "text": [
            "Epoch 36:   6%|▌         | 3/51 [00:00<00:00, 175.17batch/s]"
          ]
        },
        {
          "output_type": "stream",
          "name": "stdout",
          "text": [
            "End of 36,accuracy0.800000011920929\n",
            "End of 36,accuracy0.699999988079071\n",
            "End of 36,accuracy0.8999999761581421\n"
          ]
        },
        {
          "output_type": "stream",
          "name": "stderr",
          "text": [
            "Epoch 36:  12%|█▏        | 6/51 [00:00<00:00, 164.21batch/s]"
          ]
        },
        {
          "output_type": "stream",
          "name": "stdout",
          "text": [
            "End of 36,accuracy0.699999988079071\n",
            "End of 36,accuracy0.800000011920929\n",
            "End of 36,accuracy0.4000000059604645\n"
          ]
        },
        {
          "output_type": "stream",
          "name": "stderr",
          "text": [
            "Epoch 36:  24%|██▎       | 12/51 [00:00<00:00, 197.91batch/s]"
          ]
        },
        {
          "output_type": "stream",
          "name": "stdout",
          "text": [
            "End of 36,accuracy0.6000000238418579\n",
            "End of 36,accuracy0.699999988079071\n",
            "End of 36,accuracy0.800000011920929\n",
            "End of 36,accuracy0.699999988079071\n",
            "End of 36,accuracy0.5\n",
            "End of 36,accuracy0.6000000238418579\n"
          ]
        },
        {
          "output_type": "stream",
          "name": "stderr",
          "text": [
            "Epoch 36:  27%|██▋       | 14/51 [00:00<00:00, 192.57batch/s]"
          ]
        },
        {
          "output_type": "stream",
          "name": "stdout",
          "text": [
            "End of 36,accuracy0.8999999761581421\n",
            "End of 36,accuracy0.699999988079071\n"
          ]
        },
        {
          "output_type": "stream",
          "name": "stderr",
          "text": [
            "Epoch 36:  35%|███▌      | 18/51 [00:00<00:00, 189.27batch/s]"
          ]
        },
        {
          "output_type": "stream",
          "name": "stdout",
          "text": [
            "End of 36,accuracy0.6000000238418579\n",
            "End of 36,accuracy0.800000011920929\n",
            "End of 36,accuracy0.699999988079071\n",
            "End of 36,accuracy0.800000011920929\n"
          ]
        },
        {
          "output_type": "stream",
          "name": "stderr",
          "text": [
            "Epoch 36:  49%|████▉     | 25/51 [00:00<00:00, 196.08batch/s]"
          ]
        },
        {
          "output_type": "stream",
          "name": "stdout",
          "text": [
            "End of 36,accuracy0.6000000238418579\n",
            "End of 36,accuracy0.800000011920929\n",
            "End of 36,accuracy0.699999988079071\n",
            "End of 36,accuracy0.800000011920929\n",
            "End of 36,accuracy0.800000011920929\n",
            "End of 36,accuracy0.800000011920929\n",
            "End of 36,accuracy0.6000000238418579\n"
          ]
        },
        {
          "output_type": "stream",
          "name": "stderr",
          "text": [
            "Epoch 36:  59%|█████▉    | 30/51 [00:00<00:00, 188.94batch/s]"
          ]
        },
        {
          "output_type": "stream",
          "name": "stdout",
          "text": [
            "End of 36,accuracy0.800000011920929\n",
            "End of 36,accuracy0.8999999761581421\n",
            "End of 36,accuracy0.5\n",
            "End of 36,accuracy0.8999999761581421\n",
            "End of 36,accuracy0.5\n"
          ]
        },
        {
          "output_type": "stream",
          "name": "stderr",
          "text": [
            "Epoch 36:  71%|███████   | 36/51 [00:00<00:00, 169.76batch/s]"
          ]
        },
        {
          "output_type": "stream",
          "name": "stdout",
          "text": [
            "End of 36,accuracy0.6000000238418579\n",
            "End of 36,accuracy0.4000000059604645\n",
            "End of 36,accuracy0.699999988079071\n",
            "End of 36,accuracy0.4000000059604645\n",
            "End of 36,accuracy0.5\n",
            "End of 36,accuracy0.5\n"
          ]
        },
        {
          "output_type": "stream",
          "name": "stderr",
          "text": [
            "Epoch 36:  78%|███████▊  | 40/51 [00:00<00:00, 181.12batch/s]"
          ]
        },
        {
          "output_type": "stream",
          "name": "stdout",
          "text": [
            "End of 36,accuracy0.800000011920929\n",
            "End of 36,accuracy0.699999988079071\n",
            "End of 36,accuracy0.800000011920929\n",
            "End of 36,accuracy0.6000000238418579\n"
          ]
        },
        {
          "output_type": "stream",
          "name": "stderr",
          "text": [
            "Epoch 36:  84%|████████▍ | 43/51 [00:00<00:00, 182.45batch/s]"
          ]
        },
        {
          "output_type": "stream",
          "name": "stdout",
          "text": [
            "End of 36,accuracy0.699999988079071\n",
            "End of 36,accuracy0.30000001192092896\n",
            "End of 36,accuracy0.699999988079071\n"
          ]
        },
        {
          "output_type": "stream",
          "name": "stderr",
          "text": [
            "Epoch 36:  94%|█████████▍| 48/51 [00:00<00:00, 180.86batch/s]"
          ]
        },
        {
          "output_type": "stream",
          "name": "stdout",
          "text": [
            "End of 36,accuracy0.6000000238418579\n",
            "End of 36,accuracy0.6000000238418579\n",
            "End of 36,accuracy0.800000011920929\n",
            "End of 36,accuracy0.800000011920929\n",
            "End of 36,accuracy0.5\n"
          ]
        },
        {
          "output_type": "stream",
          "name": "stderr",
          "text": [
            "Epoch 36:  98%|█████████▊| 50/51 [00:00<00:00, 186.65batch/s]"
          ]
        },
        {
          "output_type": "stream",
          "name": "stdout",
          "text": [
            "End of 36,accuracy0.4000000059604645\n",
            "End of 36,accuracy0.699999988079071\n"
          ]
        },
        {
          "output_type": "stream",
          "name": "stderr",
          "text": [
            "Epoch 36: 100%|██████████| 51/51 [00:00<00:00, 175.90batch/s]\n"
          ]
        },
        {
          "output_type": "stream",
          "name": "stdout",
          "text": [
            "End of 36,accuracy0.800000011920929\n"
          ]
        },
        {
          "output_type": "stream",
          "name": "stderr",
          "text": [
            "Epoch 37:   2%|▏         | 1/51 [00:00<00:00, 110.52batch/s]"
          ]
        },
        {
          "output_type": "stream",
          "name": "stdout",
          "text": [
            "End of 37,accuracy0.800000011920929\n"
          ]
        },
        {
          "output_type": "stream",
          "name": "stderr",
          "text": [
            "Epoch 37:  12%|█▏        | 6/51 [00:00<00:00, 155.32batch/s]"
          ]
        },
        {
          "output_type": "stream",
          "name": "stdout",
          "text": [
            "End of 37,accuracy0.699999988079071\n",
            "End of 37,accuracy0.8999999761581421\n",
            "End of 37,accuracy0.699999988079071\n",
            "End of 37,accuracy0.800000011920929\n",
            "End of 37,accuracy0.4000000059604645\n"
          ]
        },
        {
          "output_type": "stream",
          "name": "stderr",
          "text": [
            "Epoch 37:  22%|██▏       | 11/51 [00:00<00:00, 174.40batch/s]"
          ]
        },
        {
          "output_type": "stream",
          "name": "stdout",
          "text": [
            "End of 37,accuracy0.6000000238418579\n",
            "End of 37,accuracy0.699999988079071\n",
            "End of 37,accuracy0.800000011920929\n",
            "End of 37,accuracy0.699999988079071\n",
            "End of 37,accuracy0.5\n"
          ]
        },
        {
          "output_type": "stream",
          "name": "stderr",
          "text": [
            "Epoch 37:  35%|███▌      | 18/51 [00:00<00:00, 195.67batch/s]"
          ]
        },
        {
          "output_type": "stream",
          "name": "stdout",
          "text": [
            "End of 37,accuracy0.6000000238418579\n",
            "End of 37,accuracy0.8999999761581421\n",
            "End of 37,accuracy0.699999988079071\n",
            "End of 37,accuracy0.6000000238418579\n",
            "End of 37,accuracy0.800000011920929\n",
            "End of 37,accuracy0.699999988079071\n",
            "End of 37,accuracy0.800000011920929\n"
          ]
        },
        {
          "output_type": "stream",
          "name": "stderr",
          "text": [
            "Epoch 37:  43%|████▎     | 22/51 [00:00<00:00, 178.85batch/s]"
          ]
        },
        {
          "output_type": "stream",
          "name": "stdout",
          "text": [
            "End of 37,accuracy0.6000000238418579\n",
            "End of 37,accuracy0.800000011920929\n",
            "End of 37,accuracy0.699999988079071\n",
            "End of 37,accuracy0.800000011920929\n"
          ]
        },
        {
          "output_type": "stream",
          "name": "stderr",
          "text": [
            "Epoch 37:  51%|█████     | 26/51 [00:00<00:00, 188.37batch/s]"
          ]
        },
        {
          "output_type": "stream",
          "name": "stdout",
          "text": [
            "End of 37,accuracy0.800000011920929\n",
            "End of 37,accuracy0.800000011920929\n",
            "End of 37,accuracy0.6000000238418579\n",
            "End of 37,accuracy0.800000011920929\n"
          ]
        },
        {
          "output_type": "stream",
          "name": "stderr",
          "text": [
            "Epoch 37:  61%|██████    | 31/51 [00:00<00:00, 195.59batch/s]"
          ]
        },
        {
          "output_type": "stream",
          "name": "stdout",
          "text": [
            "End of 37,accuracy0.8999999761581421\n",
            "End of 37,accuracy0.5\n",
            "End of 37,accuracy0.8999999761581421\n",
            "End of 37,accuracy0.5\n",
            "End of 37,accuracy0.6000000238418579\n"
          ]
        },
        {
          "output_type": "stream",
          "name": "stderr",
          "text": [
            "\rEpoch 37:  63%|██████▎   | 32/51 [00:00<00:00, 180.97batch/s]"
          ]
        },
        {
          "output_type": "stream",
          "name": "stdout",
          "text": [
            "End of 37,accuracy0.4000000059604645\n"
          ]
        },
        {
          "output_type": "stream",
          "name": "stderr",
          "text": [
            "Epoch 37:  71%|███████   | 36/51 [00:00<00:00, 184.78batch/s]"
          ]
        },
        {
          "output_type": "stream",
          "name": "stdout",
          "text": [
            "End of 37,accuracy0.699999988079071\n",
            "End of 37,accuracy0.4000000059604645\n",
            "End of 37,accuracy0.5\n",
            "End of 37,accuracy0.5\n"
          ]
        },
        {
          "output_type": "stream",
          "name": "stderr",
          "text": [
            "\rEpoch 37:  73%|███████▎  | 37/51 [00:00<00:00, 182.65batch/s]"
          ]
        },
        {
          "output_type": "stream",
          "name": "stdout",
          "text": [
            "End of 37,accuracy0.800000011920929\n"
          ]
        },
        {
          "output_type": "stream",
          "name": "stderr",
          "text": [
            "Epoch 37:  84%|████████▍ | 43/51 [00:00<00:00, 175.22batch/s]"
          ]
        },
        {
          "output_type": "stream",
          "name": "stdout",
          "text": [
            "End of 37,accuracy0.699999988079071\n",
            "End of 37,accuracy0.800000011920929\n",
            "End of 37,accuracy0.6000000238418579\n",
            "End of 37,accuracy0.699999988079071\n",
            "End of 37,accuracy0.30000001192092896\n",
            "End of 37,accuracy0.699999988079071\n"
          ]
        },
        {
          "output_type": "stream",
          "name": "stderr",
          "text": [
            "Epoch 37:  92%|█████████▏| 47/51 [00:00<00:00, 166.43batch/s]"
          ]
        },
        {
          "output_type": "stream",
          "name": "stdout",
          "text": [
            "End of 37,accuracy0.6000000238418579\n",
            "End of 37,accuracy0.6000000238418579\n",
            "End of 37,accuracy0.800000011920929\n",
            "End of 37,accuracy0.800000011920929\n"
          ]
        },
        {
          "output_type": "stream",
          "name": "stderr",
          "text": [
            "Epoch 37: 100%|██████████| 51/51 [00:00<00:00, 169.53batch/s]\n"
          ]
        },
        {
          "output_type": "stream",
          "name": "stdout",
          "text": [
            "End of 37,accuracy0.5\n",
            "End of 37,accuracy0.4000000059604645\n",
            "End of 37,accuracy0.699999988079071\n",
            "End of 37,accuracy0.800000011920929\n"
          ]
        },
        {
          "output_type": "stream",
          "name": "stderr",
          "text": [
            "Epoch 38:   2%|▏         | 1/51 [00:00<00:00, 138.47batch/s]"
          ]
        },
        {
          "output_type": "stream",
          "name": "stdout",
          "text": [
            "End of 38,accuracy0.800000011920929\n"
          ]
        },
        {
          "output_type": "stream",
          "name": "stderr",
          "text": [
            "Epoch 38:  10%|▉         | 5/51 [00:00<00:00, 179.33batch/s]"
          ]
        },
        {
          "output_type": "stream",
          "name": "stdout",
          "text": [
            "End of 38,accuracy0.699999988079071\n",
            "End of 38,accuracy0.8999999761581421\n",
            "End of 38,accuracy0.699999988079071\n",
            "End of 38,accuracy0.800000011920929\n"
          ]
        },
        {
          "output_type": "stream",
          "name": "stderr",
          "text": [
            "Epoch 38:  16%|█▌        | 8/51 [00:00<00:00, 196.82batch/s]"
          ]
        },
        {
          "output_type": "stream",
          "name": "stdout",
          "text": [
            "End of 38,accuracy0.4000000059604645\n",
            "End of 38,accuracy0.6000000238418579\n",
            "End of 38,accuracy0.699999988079071\n",
            "End of 38,accuracy0.800000011920929\n"
          ]
        },
        {
          "output_type": "stream",
          "name": "stderr",
          "text": [
            "Epoch 38:  27%|██▋       | 14/51 [00:00<00:00, 186.59batch/s]"
          ]
        },
        {
          "output_type": "stream",
          "name": "stdout",
          "text": [
            "End of 38,accuracy0.699999988079071\n",
            "End of 38,accuracy0.5\n",
            "End of 38,accuracy0.6000000238418579\n",
            "End of 38,accuracy0.8999999761581421\n",
            "End of 38,accuracy0.699999988079071\n"
          ]
        },
        {
          "output_type": "stream",
          "name": "stderr",
          "text": [
            "\rEpoch 38:  29%|██▉       | 15/51 [00:00<00:00, 163.79batch/s]"
          ]
        },
        {
          "output_type": "stream",
          "name": "stdout",
          "text": [
            "End of 38,accuracy0.6000000238418579\n"
          ]
        },
        {
          "output_type": "stream",
          "name": "stderr",
          "text": [
            "Epoch 38:  35%|███▌      | 18/51 [00:00<00:00, 172.96batch/s]"
          ]
        },
        {
          "output_type": "stream",
          "name": "stdout",
          "text": [
            "End of 38,accuracy0.800000011920929\n",
            "End of 38,accuracy0.699999988079071\n",
            "End of 38,accuracy0.800000011920929\n",
            "End of 38,accuracy0.6000000238418579\n"
          ]
        },
        {
          "output_type": "stream",
          "name": "stderr",
          "text": [
            "Epoch 38:  53%|█████▎    | 27/51 [00:00<00:00, 221.27batch/s]"
          ]
        },
        {
          "output_type": "stream",
          "name": "stdout",
          "text": [
            "End of 38,accuracy0.8999999761581421\n",
            "End of 38,accuracy0.699999988079071\n",
            "End of 38,accuracy0.800000011920929\n",
            "End of 38,accuracy0.800000011920929\n",
            "End of 38,accuracy0.800000011920929\n",
            "End of 38,accuracy0.6000000238418579\n",
            "End of 38,accuracy0.800000011920929\n",
            "End of 38,accuracy0.8999999761581421\n"
          ]
        },
        {
          "output_type": "stream",
          "name": "stderr",
          "text": [
            "Epoch 38:  61%|██████    | 31/51 [00:00<00:00, 198.48batch/s]"
          ]
        },
        {
          "output_type": "stream",
          "name": "stdout",
          "text": [
            "End of 38,accuracy0.5\n",
            "End of 38,accuracy0.8999999761581421\n",
            "End of 38,accuracy0.5\n",
            "End of 38,accuracy0.6000000238418579\n"
          ]
        },
        {
          "output_type": "stream",
          "name": "stderr",
          "text": [
            "Epoch 38:  73%|███████▎  | 37/51 [00:00<00:00, 181.15batch/s]"
          ]
        },
        {
          "output_type": "stream",
          "name": "stdout",
          "text": [
            "End of 38,accuracy0.4000000059604645\n",
            "End of 38,accuracy0.699999988079071\n",
            "End of 38,accuracy0.4000000059604645\n",
            "End of 38,accuracy0.5\n",
            "End of 38,accuracy0.5\n",
            "End of 38,accuracy0.800000011920929\n"
          ]
        },
        {
          "output_type": "stream",
          "name": "stderr",
          "text": [
            "\rEpoch 38:  75%|███████▍  | 38/51 [00:00<00:00, 175.54batch/s]"
          ]
        },
        {
          "output_type": "stream",
          "name": "stdout",
          "text": [
            "End of 38,accuracy0.699999988079071\n",
            "End of 38,accuracy0.800000011920929\n"
          ]
        },
        {
          "output_type": "stream",
          "name": "stderr",
          "text": [
            "Epoch 38:  82%|████████▏ | 42/51 [00:00<00:00, 184.11batch/s]"
          ]
        },
        {
          "output_type": "stream",
          "name": "stdout",
          "text": [
            "End of 38,accuracy0.6000000238418579\n",
            "End of 38,accuracy0.699999988079071\n",
            "End of 38,accuracy0.30000001192092896\n"
          ]
        },
        {
          "output_type": "stream",
          "name": "stderr",
          "text": [
            "Epoch 38:  92%|█████████▏| 47/51 [00:00<00:00, 200.00batch/s]"
          ]
        },
        {
          "output_type": "stream",
          "name": "stdout",
          "text": [
            "End of 38,accuracy0.699999988079071\n",
            "End of 38,accuracy0.6000000238418579\n",
            "End of 38,accuracy0.6000000238418579\n",
            "End of 38,accuracy0.800000011920929\n",
            "End of 38,accuracy0.800000011920929\n"
          ]
        },
        {
          "output_type": "stream",
          "name": "stderr",
          "text": [
            "Epoch 38: 100%|██████████| 51/51 [00:00<00:00, 181.63batch/s]\n"
          ]
        },
        {
          "output_type": "stream",
          "name": "stdout",
          "text": [
            "End of 38,accuracy0.5\n",
            "End of 38,accuracy0.4000000059604645\n",
            "End of 38,accuracy0.699999988079071\n",
            "End of 38,accuracy0.800000011920929\n"
          ]
        },
        {
          "output_type": "stream",
          "name": "stderr",
          "text": [
            "Epoch 39:   8%|▊         | 4/51 [00:00<00:00, 164.41batch/s]"
          ]
        },
        {
          "output_type": "stream",
          "name": "stdout",
          "text": [
            "End of 39,accuracy0.800000011920929\n",
            "End of 39,accuracy0.699999988079071\n",
            "End of 39,accuracy0.8999999761581421\n",
            "End of 39,accuracy0.699999988079071\n"
          ]
        },
        {
          "output_type": "stream",
          "name": "stderr",
          "text": [
            "Epoch 39:  22%|██▏       | 11/51 [00:00<00:00, 184.25batch/s]"
          ]
        },
        {
          "output_type": "stream",
          "name": "stdout",
          "text": [
            "End of 39,accuracy0.800000011920929\n",
            "End of 39,accuracy0.4000000059604645\n",
            "End of 39,accuracy0.6000000238418579\n",
            "End of 39,accuracy0.800000011920929\n",
            "End of 39,accuracy0.800000011920929\n",
            "End of 39,accuracy0.699999988079071\n",
            "End of 39,accuracy0.5\n"
          ]
        },
        {
          "output_type": "stream",
          "name": "stderr",
          "text": [
            "Epoch 39:  31%|███▏      | 16/51 [00:00<00:00, 200.97batch/s]"
          ]
        },
        {
          "output_type": "stream",
          "name": "stdout",
          "text": [
            "End of 39,accuracy0.6000000238418579\n",
            "End of 39,accuracy0.8999999761581421\n",
            "End of 39,accuracy0.699999988079071\n",
            "End of 39,accuracy0.6000000238418579\n",
            "End of 39,accuracy0.800000011920929\n"
          ]
        },
        {
          "output_type": "stream",
          "name": "stderr",
          "text": [
            "Epoch 39:  41%|████      | 21/51 [00:00<00:00, 184.14batch/s]"
          ]
        },
        {
          "output_type": "stream",
          "name": "stdout",
          "text": [
            "End of 39,accuracy0.699999988079071\n",
            "End of 39,accuracy0.800000011920929\n",
            "End of 39,accuracy0.6000000238418579\n",
            "End of 39,accuracy0.8999999761581421\n",
            "End of 39,accuracy0.699999988079071\n"
          ]
        },
        {
          "output_type": "stream",
          "name": "stderr",
          "text": [
            "Epoch 39:  45%|████▌     | 23/51 [00:00<00:00, 178.97batch/s]"
          ]
        },
        {
          "output_type": "stream",
          "name": "stdout",
          "text": [
            "End of 39,accuracy0.800000011920929\n",
            "End of 39,accuracy0.800000011920929\n"
          ]
        },
        {
          "output_type": "stream",
          "name": "stderr",
          "text": [
            "Epoch 39:  51%|█████     | 26/51 [00:00<00:00, 171.26batch/s]"
          ]
        },
        {
          "output_type": "stream",
          "name": "stdout",
          "text": [
            "End of 39,accuracy0.800000011920929\n",
            "End of 39,accuracy0.6000000238418579\n",
            "End of 39,accuracy0.800000011920929\n"
          ]
        },
        {
          "output_type": "stream",
          "name": "stderr",
          "text": [
            "Epoch 39:  61%|██████    | 31/51 [00:00<00:00, 181.31batch/s]"
          ]
        },
        {
          "output_type": "stream",
          "name": "stdout",
          "text": [
            "End of 39,accuracy0.8999999761581421\n",
            "End of 39,accuracy0.5\n",
            "End of 39,accuracy0.8999999761581421\n",
            "End of 39,accuracy0.5\n",
            "End of 39,accuracy0.6000000238418579\n"
          ]
        },
        {
          "output_type": "stream",
          "name": "stderr",
          "text": [
            "Epoch 39:  75%|███████▍  | 38/51 [00:00<00:00, 188.30batch/s]"
          ]
        },
        {
          "output_type": "stream",
          "name": "stdout",
          "text": [
            "End of 39,accuracy0.4000000059604645\n",
            "End of 39,accuracy0.699999988079071\n",
            "End of 39,accuracy0.4000000059604645\n",
            "End of 39,accuracy0.5\n",
            "End of 39,accuracy0.5\n",
            "End of 39,accuracy0.800000011920929\n",
            "End of 39,accuracy0.800000011920929\n"
          ]
        },
        {
          "output_type": "stream",
          "name": "stderr",
          "text": [
            "Epoch 39:  80%|████████  | 41/51 [00:00<00:00, 172.19batch/s]"
          ]
        },
        {
          "output_type": "stream",
          "name": "stdout",
          "text": [
            "End of 39,accuracy0.800000011920929\n",
            "End of 39,accuracy0.6000000238418579\n",
            "End of 39,accuracy0.699999988079071\n"
          ]
        },
        {
          "output_type": "stream",
          "name": "stderr",
          "text": [
            "Epoch 39:  92%|█████████▏| 47/51 [00:00<00:00, 182.48batch/s]"
          ]
        },
        {
          "output_type": "stream",
          "name": "stdout",
          "text": [
            "End of 39,accuracy0.30000001192092896\n",
            "End of 39,accuracy0.699999988079071\n",
            "End of 39,accuracy0.6000000238418579\n",
            "End of 39,accuracy0.6000000238418579\n",
            "End of 39,accuracy0.800000011920929\n",
            "End of 39,accuracy0.800000011920929\n"
          ]
        },
        {
          "output_type": "stream",
          "name": "stderr",
          "text": [
            "Epoch 39: 100%|██████████| 51/51 [00:00<00:00, 174.71batch/s]\n"
          ]
        },
        {
          "output_type": "stream",
          "name": "stdout",
          "text": [
            "End of 39,accuracy0.5\n",
            "End of 39,accuracy0.4000000059604645\n",
            "End of 39,accuracy0.699999988079071\n",
            "End of 39,accuracy0.800000011920929\n"
          ]
        },
        {
          "output_type": "stream",
          "name": "stderr",
          "text": [
            "Epoch 40:   6%|▌         | 3/51 [00:00<00:00, 148.48batch/s]"
          ]
        },
        {
          "output_type": "stream",
          "name": "stdout",
          "text": [
            "End of 40,accuracy0.800000011920929\n",
            "End of 40,accuracy0.699999988079071\n",
            "End of 40,accuracy0.8999999761581421\n",
            "End of 40,accuracy0.699999988079071\n"
          ]
        },
        {
          "output_type": "stream",
          "name": "stderr",
          "text": [
            "Epoch 40:  12%|█▏        | 6/51 [00:00<00:00, 171.71batch/s]"
          ]
        },
        {
          "output_type": "stream",
          "name": "stdout",
          "text": [
            "End of 40,accuracy0.800000011920929\n",
            "End of 40,accuracy0.4000000059604645\n"
          ]
        },
        {
          "output_type": "stream",
          "name": "stderr",
          "text": [
            "Epoch 40:  18%|█▊        | 9/51 [00:00<00:00, 186.14batch/s]"
          ]
        },
        {
          "output_type": "stream",
          "name": "stdout",
          "text": [
            "End of 40,accuracy0.6000000238418579\n",
            "End of 40,accuracy0.800000011920929\n",
            "End of 40,accuracy0.800000011920929\n"
          ]
        },
        {
          "output_type": "stream",
          "name": "stderr",
          "text": [
            "Epoch 40:  27%|██▋       | 14/51 [00:00<00:00, 189.83batch/s]"
          ]
        },
        {
          "output_type": "stream",
          "name": "stdout",
          "text": [
            "End of 40,accuracy0.699999988079071\n",
            "End of 40,accuracy0.5\n",
            "End of 40,accuracy0.6000000238418579\n",
            "End of 40,accuracy0.8999999761581421\n",
            "End of 40,accuracy0.699999988079071\n"
          ]
        },
        {
          "output_type": "stream",
          "name": "stderr",
          "text": [
            "Epoch 40:  43%|████▎     | 22/51 [00:00<00:00, 211.74batch/s]"
          ]
        },
        {
          "output_type": "stream",
          "name": "stdout",
          "text": [
            "End of 40,accuracy0.6000000238418579\n",
            "End of 40,accuracy0.800000011920929\n",
            "End of 40,accuracy0.699999988079071\n",
            "End of 40,accuracy0.800000011920929\n",
            "End of 40,accuracy0.6000000238418579\n",
            "End of 40,accuracy0.8999999761581421\n",
            "End of 40,accuracy0.699999988079071\n",
            "End of 40,accuracy0.800000011920929\n"
          ]
        },
        {
          "output_type": "stream",
          "name": "stderr",
          "text": [
            "Epoch 40:  51%|█████     | 26/51 [00:00<00:00, 191.78batch/s]"
          ]
        },
        {
          "output_type": "stream",
          "name": "stdout",
          "text": [
            "End of 40,accuracy0.800000011920929\n",
            "End of 40,accuracy0.800000011920929\n",
            "End of 40,accuracy0.6000000238418579\n",
            "End of 40,accuracy0.800000011920929\n"
          ]
        },
        {
          "output_type": "stream",
          "name": "stderr",
          "text": [
            "Epoch 40:  63%|██████▎   | 32/51 [00:00<00:00, 207.98batch/s]"
          ]
        },
        {
          "output_type": "stream",
          "name": "stdout",
          "text": [
            "End of 40,accuracy0.8999999761581421\n",
            "End of 40,accuracy0.5\n",
            "End of 40,accuracy0.8999999761581421\n",
            "End of 40,accuracy0.5\n",
            "End of 40,accuracy0.6000000238418579\n",
            "End of 40,accuracy0.4000000059604645\n"
          ]
        },
        {
          "output_type": "stream",
          "name": "stderr",
          "text": [
            "Epoch 40:  75%|███████▍  | 38/51 [00:00<00:00, 184.62batch/s]"
          ]
        },
        {
          "output_type": "stream",
          "name": "stdout",
          "text": [
            "End of 40,accuracy0.699999988079071\n",
            "End of 40,accuracy0.4000000059604645\n",
            "End of 40,accuracy0.5\n",
            "End of 40,accuracy0.5\n",
            "End of 40,accuracy0.800000011920929\n",
            "End of 40,accuracy0.800000011920929\n"
          ]
        },
        {
          "output_type": "stream",
          "name": "stderr",
          "text": [
            "Epoch 40:  82%|████████▏ | 42/51 [00:00<00:00, 176.51batch/s]"
          ]
        },
        {
          "output_type": "stream",
          "name": "stdout",
          "text": [
            "End of 40,accuracy0.800000011920929\n",
            "End of 40,accuracy0.6000000238418579\n",
            "End of 40,accuracy0.699999988079071\n",
            "End of 40,accuracy0.30000001192092896\n"
          ]
        },
        {
          "output_type": "stream",
          "name": "stderr",
          "text": [
            "Epoch 40:  86%|████████▋ | 44/51 [00:00<00:00, 169.41batch/s]"
          ]
        },
        {
          "output_type": "stream",
          "name": "stdout",
          "text": [
            "End of 40,accuracy0.699999988079071\n",
            "End of 40,accuracy0.6000000238418579\n"
          ]
        },
        {
          "output_type": "stream",
          "name": "stderr",
          "text": [
            "Epoch 40:  92%|█████████▏| 47/51 [00:00<00:00, 169.73batch/s]"
          ]
        },
        {
          "output_type": "stream",
          "name": "stdout",
          "text": [
            "End of 40,accuracy0.6000000238418579\n",
            "End of 40,accuracy0.800000011920929\n",
            "End of 40,accuracy0.800000011920929\n"
          ]
        },
        {
          "output_type": "stream",
          "name": "stderr",
          "text": [
            "Epoch 40: 100%|██████████| 51/51 [00:00<00:00, 179.41batch/s]\n"
          ]
        },
        {
          "output_type": "stream",
          "name": "stdout",
          "text": [
            "End of 40,accuracy0.5\n",
            "End of 40,accuracy0.4000000059604645\n",
            "End of 40,accuracy0.699999988079071\n",
            "End of 40,accuracy0.800000011920929\n"
          ]
        },
        {
          "output_type": "stream",
          "name": "stderr",
          "text": [
            "Epoch 41:  10%|▉         | 5/51 [00:00<00:00, 178.13batch/s]"
          ]
        },
        {
          "output_type": "stream",
          "name": "stdout",
          "text": [
            "End of 41,accuracy0.800000011920929\n",
            "End of 41,accuracy0.699999988079071\n",
            "End of 41,accuracy0.8999999761581421\n",
            "End of 41,accuracy0.699999988079071\n",
            "End of 41,accuracy0.800000011920929\n"
          ]
        },
        {
          "output_type": "stream",
          "name": "stderr",
          "text": [
            "Epoch 41:  18%|█▊        | 9/51 [00:00<00:00, 191.70batch/s]"
          ]
        },
        {
          "output_type": "stream",
          "name": "stdout",
          "text": [
            "End of 41,accuracy0.4000000059604645\n",
            "End of 41,accuracy0.6000000238418579\n",
            "End of 41,accuracy0.800000011920929\n",
            "End of 41,accuracy0.800000011920929\n"
          ]
        },
        {
          "output_type": "stream",
          "name": "stderr",
          "text": [
            "Epoch 41:  27%|██▋       | 14/51 [00:00<00:00, 171.82batch/s]"
          ]
        },
        {
          "output_type": "stream",
          "name": "stdout",
          "text": [
            "End of 41,accuracy0.699999988079071\n",
            "End of 41,accuracy0.5\n",
            "End of 41,accuracy0.6000000238418579\n",
            "End of 41,accuracy0.8999999761581421\n",
            "End of 41,accuracy0.699999988079071\n"
          ]
        },
        {
          "output_type": "stream",
          "name": "stderr",
          "text": [
            "Epoch 41:  37%|███▋      | 19/51 [00:00<00:00, 175.36batch/s]"
          ]
        },
        {
          "output_type": "stream",
          "name": "stdout",
          "text": [
            "End of 41,accuracy0.6000000238418579\n",
            "End of 41,accuracy0.800000011920929\n",
            "End of 41,accuracy0.699999988079071\n",
            "End of 41,accuracy0.800000011920929\n",
            "End of 41,accuracy0.6000000238418579\n"
          ]
        },
        {
          "output_type": "stream",
          "name": "stderr",
          "text": [
            "Epoch 41:  45%|████▌     | 23/51 [00:00<00:00, 182.27batch/s]"
          ]
        },
        {
          "output_type": "stream",
          "name": "stdout",
          "text": [
            "End of 41,accuracy0.8999999761581421\n",
            "End of 41,accuracy0.699999988079071\n",
            "End of 41,accuracy0.800000011920929\n",
            "End of 41,accuracy0.800000011920929\n",
            "End of 41,accuracy0.800000011920929\n"
          ]
        },
        {
          "output_type": "stream",
          "name": "stderr",
          "text": [
            "Epoch 41:  51%|█████     | 26/51 [00:00<00:00, 184.78batch/s]"
          ]
        },
        {
          "output_type": "stream",
          "name": "stdout",
          "text": [
            "End of 41,accuracy0.6000000238418579\n",
            "End of 41,accuracy0.800000011920929\n"
          ]
        },
        {
          "output_type": "stream",
          "name": "stderr",
          "text": [
            "Epoch 41:  57%|█████▋    | 29/51 [00:00<00:00, 179.31batch/s]"
          ]
        },
        {
          "output_type": "stream",
          "name": "stdout",
          "text": [
            "End of 41,accuracy0.8999999761581421\n",
            "End of 41,accuracy0.5\n",
            "End of 41,accuracy0.8999999761581421\n"
          ]
        },
        {
          "output_type": "stream",
          "name": "stderr",
          "text": [
            "Epoch 41:  69%|██████▊   | 35/51 [00:00<00:00, 187.23batch/s]"
          ]
        },
        {
          "output_type": "stream",
          "name": "stdout",
          "text": [
            "End of 41,accuracy0.5\n",
            "End of 41,accuracy0.6000000238418579\n",
            "End of 41,accuracy0.4000000059604645\n",
            "End of 41,accuracy0.699999988079071\n",
            "End of 41,accuracy0.4000000059604645\n",
            "End of 41,accuracy0.5\n",
            "End of 41,accuracy0.5\n"
          ]
        },
        {
          "output_type": "stream",
          "name": "stderr",
          "text": [
            "Epoch 41:  80%|████████  | 41/51 [00:00<00:00, 201.06batch/s]"
          ]
        },
        {
          "output_type": "stream",
          "name": "stdout",
          "text": [
            "End of 41,accuracy0.800000011920929\n",
            "End of 41,accuracy0.800000011920929\n",
            "End of 41,accuracy0.800000011920929\n",
            "End of 41,accuracy0.6000000238418579\n",
            "End of 41,accuracy0.699999988079071\n"
          ]
        },
        {
          "output_type": "stream",
          "name": "stderr",
          "text": [
            "Epoch 41:  88%|████████▊ | 45/51 [00:00<00:00, 199.38batch/s]"
          ]
        },
        {
          "output_type": "stream",
          "name": "stdout",
          "text": [
            "End of 41,accuracy0.30000001192092896\n",
            "End of 41,accuracy0.699999988079071\n",
            "End of 41,accuracy0.6000000238418579\n",
            "End of 41,accuracy0.6000000238418579\n"
          ]
        },
        {
          "output_type": "stream",
          "name": "stderr",
          "text": [
            "Epoch 41: 100%|██████████| 51/51 [00:00<00:00, 189.66batch/s]"
          ]
        },
        {
          "output_type": "stream",
          "name": "stdout",
          "text": [
            "End of 41,accuracy0.800000011920929\n",
            "End of 41,accuracy0.800000011920929\n",
            "End of 41,accuracy0.5\n",
            "End of 41,accuracy0.4000000059604645\n",
            "End of 41,accuracy0.699999988079071\n",
            "End of 41,accuracy0.800000011920929\n"
          ]
        },
        {
          "output_type": "stream",
          "name": "stderr",
          "text": [
            "Epoch 41: 100%|██████████| 51/51 [00:00<00:00, 175.89batch/s]\n",
            "Epoch 42:   6%|▌         | 3/51 [00:00<00:00, 186.96batch/s]"
          ]
        },
        {
          "output_type": "stream",
          "name": "stdout",
          "text": [
            "End of 42,accuracy0.800000011920929\n",
            "End of 42,accuracy0.699999988079071\n",
            "End of 42,accuracy0.8999999761581421\n"
          ]
        },
        {
          "output_type": "stream",
          "name": "stderr",
          "text": [
            "Epoch 42:  14%|█▎        | 7/51 [00:00<00:00, 190.14batch/s]"
          ]
        },
        {
          "output_type": "stream",
          "name": "stdout",
          "text": [
            "End of 42,accuracy0.699999988079071\n",
            "End of 42,accuracy0.800000011920929\n",
            "End of 42,accuracy0.4000000059604645\n",
            "End of 42,accuracy0.6000000238418579\n"
          ]
        },
        {
          "output_type": "stream",
          "name": "stderr",
          "text": [
            "Epoch 42:  20%|█▉        | 10/51 [00:00<00:00, 187.48batch/s]"
          ]
        },
        {
          "output_type": "stream",
          "name": "stdout",
          "text": [
            "End of 42,accuracy0.800000011920929\n",
            "End of 42,accuracy0.800000011920929\n",
            "End of 42,accuracy0.699999988079071\n"
          ]
        },
        {
          "output_type": "stream",
          "name": "stderr",
          "text": [
            "Epoch 42:  27%|██▋       | 14/51 [00:00<00:00, 184.80batch/s]"
          ]
        },
        {
          "output_type": "stream",
          "name": "stdout",
          "text": [
            "End of 42,accuracy0.5\n",
            "End of 42,accuracy0.6000000238418579\n",
            "End of 42,accuracy0.8999999761581421\n",
            "End of 42,accuracy0.699999988079071\n"
          ]
        },
        {
          "output_type": "stream",
          "name": "stderr",
          "text": [
            "Epoch 42:  37%|███▋      | 19/51 [00:00<00:00, 188.63batch/s]"
          ]
        },
        {
          "output_type": "stream",
          "name": "stdout",
          "text": [
            "End of 42,accuracy0.6000000238418579\n",
            "End of 42,accuracy0.800000011920929\n",
            "End of 42,accuracy0.699999988079071\n",
            "End of 42,accuracy0.800000011920929\n",
            "End of 42,accuracy0.6000000238418579\n"
          ]
        },
        {
          "output_type": "stream",
          "name": "stderr",
          "text": [
            "Epoch 42:  47%|████▋     | 24/51 [00:00<00:00, 171.71batch/s]"
          ]
        },
        {
          "output_type": "stream",
          "name": "stdout",
          "text": [
            "End of 42,accuracy0.8999999761581421\n",
            "End of 42,accuracy0.699999988079071\n",
            "End of 42,accuracy0.800000011920929\n",
            "End of 42,accuracy0.800000011920929\n",
            "End of 42,accuracy0.800000011920929\n"
          ]
        },
        {
          "output_type": "stream",
          "name": "stderr",
          "text": [
            "Epoch 42:  55%|█████▍    | 28/51 [00:00<00:00, 175.26batch/s]"
          ]
        },
        {
          "output_type": "stream",
          "name": "stdout",
          "text": [
            "End of 42,accuracy0.6000000238418579\n",
            "End of 42,accuracy0.800000011920929\n",
            "End of 42,accuracy0.8999999761581421\n",
            "End of 42,accuracy0.5\n"
          ]
        },
        {
          "output_type": "stream",
          "name": "stderr",
          "text": [
            "Epoch 42:  75%|███████▍  | 38/51 [00:00<00:00, 206.72batch/s]"
          ]
        },
        {
          "output_type": "stream",
          "name": "stdout",
          "text": [
            "End of 42,accuracy0.8999999761581421\n",
            "End of 42,accuracy0.5\n",
            "End of 42,accuracy0.6000000238418579\n",
            "End of 42,accuracy0.4000000059604645\n",
            "End of 42,accuracy0.6000000238418579\n",
            "End of 42,accuracy0.4000000059604645\n",
            "End of 42,accuracy0.5\n",
            "End of 42,accuracy0.5\n",
            "End of 42,accuracy0.800000011920929\n",
            "End of 42,accuracy0.800000011920929\n"
          ]
        },
        {
          "output_type": "stream",
          "name": "stderr",
          "text": [
            "Epoch 42:  78%|███████▊  | 40/51 [00:00<00:00, 175.05batch/s]"
          ]
        },
        {
          "output_type": "stream",
          "name": "stdout",
          "text": [
            "End of 42,accuracy0.800000011920929\n",
            "End of 42,accuracy0.6000000238418579\n"
          ]
        },
        {
          "output_type": "stream",
          "name": "stderr",
          "text": [
            "Epoch 42:  86%|████████▋ | 44/51 [00:00<00:00, 186.34batch/s]"
          ]
        },
        {
          "output_type": "stream",
          "name": "stdout",
          "text": [
            "End of 42,accuracy0.699999988079071\n",
            "End of 42,accuracy0.30000001192092896\n",
            "End of 42,accuracy0.699999988079071\n",
            "End of 42,accuracy0.6000000238418579\n"
          ]
        },
        {
          "output_type": "stream",
          "name": "stderr",
          "text": [
            "Epoch 42:  92%|█████████▏| 47/51 [00:00<00:00, 178.68batch/s]"
          ]
        },
        {
          "output_type": "stream",
          "name": "stdout",
          "text": [
            "End of 42,accuracy0.6000000238418579\n",
            "End of 42,accuracy0.800000011920929\n",
            "End of 42,accuracy0.800000011920929\n"
          ]
        },
        {
          "output_type": "stream",
          "name": "stderr",
          "text": [
            "Epoch 42: 100%|██████████| 51/51 [00:00<00:00, 180.44batch/s]"
          ]
        },
        {
          "output_type": "stream",
          "name": "stdout",
          "text": [
            "End of 42,accuracy0.5\n",
            "End of 42,accuracy0.4000000059604645\n",
            "End of 42,accuracy0.699999988079071\n",
            "End of 42,accuracy0.800000011920929\n"
          ]
        },
        {
          "output_type": "stream",
          "name": "stderr",
          "text": [
            "\n",
            "Epoch 43:   6%|▌         | 3/51 [00:00<00:00, 176.86batch/s]"
          ]
        },
        {
          "output_type": "stream",
          "name": "stdout",
          "text": [
            "End of 43,accuracy0.800000011920929\n",
            "End of 43,accuracy0.699999988079071\n",
            "End of 43,accuracy0.8999999761581421\n"
          ]
        },
        {
          "output_type": "stream",
          "name": "stderr",
          "text": [
            "Epoch 43:  16%|█▌        | 8/51 [00:00<00:00, 175.79batch/s]"
          ]
        },
        {
          "output_type": "stream",
          "name": "stdout",
          "text": [
            "End of 43,accuracy0.699999988079071\n",
            "End of 43,accuracy0.800000011920929\n",
            "End of 43,accuracy0.4000000059604645\n",
            "End of 43,accuracy0.6000000238418579\n",
            "End of 43,accuracy0.800000011920929\n"
          ]
        },
        {
          "output_type": "stream",
          "name": "stderr",
          "text": [
            "Epoch 43:  24%|██▎       | 12/51 [00:00<00:00, 197.74batch/s]"
          ]
        },
        {
          "output_type": "stream",
          "name": "stdout",
          "text": [
            "End of 43,accuracy0.800000011920929\n",
            "End of 43,accuracy0.699999988079071\n",
            "End of 43,accuracy0.5\n",
            "End of 43,accuracy0.6000000238418579\n"
          ]
        },
        {
          "output_type": "stream",
          "name": "stderr",
          "text": [
            "Epoch 43:  45%|████▌     | 23/51 [00:00<00:00, 205.52batch/s]"
          ]
        },
        {
          "output_type": "stream",
          "name": "stdout",
          "text": [
            "End of 43,accuracy0.8999999761581421\n",
            "End of 43,accuracy0.699999988079071\n",
            "End of 43,accuracy0.6000000238418579\n",
            "End of 43,accuracy0.800000011920929\n",
            "End of 43,accuracy0.699999988079071\n",
            "End of 43,accuracy0.800000011920929\n",
            "End of 43,accuracy0.6000000238418579\n",
            "End of 43,accuracy0.8999999761581421\n",
            "End of 43,accuracy0.699999988079071\n",
            "End of 43,accuracy0.800000011920929\n",
            "End of 43,accuracy0.800000011920929\n"
          ]
        },
        {
          "output_type": "stream",
          "name": "stderr",
          "text": [
            "Epoch 43:  49%|████▉     | 25/51 [00:00<00:00, 196.48batch/s]"
          ]
        },
        {
          "output_type": "stream",
          "name": "stdout",
          "text": [
            "End of 43,accuracy0.800000011920929\n",
            "End of 43,accuracy0.6000000238418579\n"
          ]
        },
        {
          "output_type": "stream",
          "name": "stderr",
          "text": [
            "Epoch 43:  57%|█████▋    | 29/51 [00:00<00:00, 194.74batch/s]"
          ]
        },
        {
          "output_type": "stream",
          "name": "stdout",
          "text": [
            "End of 43,accuracy0.800000011920929\n",
            "End of 43,accuracy0.8999999761581421\n",
            "End of 43,accuracy0.5\n",
            "End of 43,accuracy0.8999999761581421\n"
          ]
        },
        {
          "output_type": "stream",
          "name": "stderr",
          "text": [
            "Epoch 43:  63%|██████▎   | 32/51 [00:00<00:00, 200.87batch/s]"
          ]
        },
        {
          "output_type": "stream",
          "name": "stdout",
          "text": [
            "End of 43,accuracy0.5\n",
            "End of 43,accuracy0.6000000238418579\n",
            "End of 43,accuracy0.4000000059604645\n"
          ]
        },
        {
          "output_type": "stream",
          "name": "stderr",
          "text": [
            "Epoch 43:  76%|███████▋  | 39/51 [00:00<00:00, 202.70batch/s]"
          ]
        },
        {
          "output_type": "stream",
          "name": "stdout",
          "text": [
            "End of 43,accuracy0.6000000238418579\n",
            "End of 43,accuracy0.4000000059604645\n",
            "End of 43,accuracy0.5\n",
            "End of 43,accuracy0.5\n",
            "End of 43,accuracy0.800000011920929\n",
            "End of 43,accuracy0.800000011920929\n",
            "End of 43,accuracy0.800000011920929\n"
          ]
        },
        {
          "output_type": "stream",
          "name": "stderr",
          "text": [
            "Epoch 43:  82%|████████▏ | 42/51 [00:00<00:00, 200.01batch/s]"
          ]
        },
        {
          "output_type": "stream",
          "name": "stdout",
          "text": [
            "End of 43,accuracy0.6000000238418579\n",
            "End of 43,accuracy0.699999988079071\n",
            "End of 43,accuracy0.30000001192092896\n"
          ]
        },
        {
          "output_type": "stream",
          "name": "stderr",
          "text": [
            "Epoch 43:  92%|█████████▏| 47/51 [00:00<00:00, 193.71batch/s]"
          ]
        },
        {
          "output_type": "stream",
          "name": "stdout",
          "text": [
            "End of 43,accuracy0.699999988079071\n",
            "End of 43,accuracy0.6000000238418579\n",
            "End of 43,accuracy0.6000000238418579\n",
            "End of 43,accuracy0.800000011920929\n",
            "End of 43,accuracy0.800000011920929\n"
          ]
        },
        {
          "output_type": "stream",
          "name": "stderr",
          "text": [
            "Epoch 43: 100%|██████████| 51/51 [00:00<00:00, 187.57batch/s]"
          ]
        },
        {
          "output_type": "stream",
          "name": "stdout",
          "text": [
            "End of 43,accuracy0.5\n",
            "End of 43,accuracy0.4000000059604645\n",
            "End of 43,accuracy0.699999988079071\n",
            "End of 43,accuracy0.800000011920929\n"
          ]
        },
        {
          "output_type": "stream",
          "name": "stderr",
          "text": [
            "\n",
            "Epoch 44:  14%|█▎        | 7/51 [00:00<00:00, 203.02batch/s]"
          ]
        },
        {
          "output_type": "stream",
          "name": "stdout",
          "text": [
            "End of 44,accuracy0.800000011920929\n",
            "End of 44,accuracy0.699999988079071\n",
            "End of 44,accuracy0.8999999761581421\n",
            "End of 44,accuracy0.699999988079071\n",
            "End of 44,accuracy0.800000011920929\n",
            "End of 44,accuracy0.4000000059604645\n",
            "End of 44,accuracy0.6000000238418579\n"
          ]
        },
        {
          "output_type": "stream",
          "name": "stderr",
          "text": [
            "Epoch 44:  20%|█▉        | 10/51 [00:00<00:00, 197.97batch/s]"
          ]
        },
        {
          "output_type": "stream",
          "name": "stdout",
          "text": [
            "End of 44,accuracy0.800000011920929\n",
            "End of 44,accuracy0.800000011920929\n",
            "End of 44,accuracy0.699999988079071\n"
          ]
        },
        {
          "output_type": "stream",
          "name": "stderr",
          "text": [
            "Epoch 44:  27%|██▋       | 14/51 [00:00<00:00, 204.47batch/s]"
          ]
        },
        {
          "output_type": "stream",
          "name": "stdout",
          "text": [
            "End of 44,accuracy0.5\n",
            "End of 44,accuracy0.6000000238418579\n",
            "End of 44,accuracy0.8999999761581421\n",
            "End of 44,accuracy0.699999988079071\n"
          ]
        },
        {
          "output_type": "stream",
          "name": "stderr",
          "text": [
            "Epoch 44:  33%|███▎      | 17/51 [00:00<00:00, 201.04batch/s]"
          ]
        },
        {
          "output_type": "stream",
          "name": "stdout",
          "text": [
            "End of 44,accuracy0.6000000238418579\n",
            "End of 44,accuracy0.800000011920929\n",
            "End of 44,accuracy0.699999988079071\n"
          ]
        },
        {
          "output_type": "stream",
          "name": "stderr",
          "text": [
            "Epoch 44:  45%|████▌     | 23/51 [00:00<00:00, 199.78batch/s]"
          ]
        },
        {
          "output_type": "stream",
          "name": "stdout",
          "text": [
            "End of 44,accuracy0.800000011920929\n",
            "End of 44,accuracy0.6000000238418579\n",
            "End of 44,accuracy0.8999999761581421\n",
            "End of 44,accuracy0.699999988079071\n",
            "End of 44,accuracy0.800000011920929\n",
            "End of 44,accuracy0.800000011920929\n"
          ]
        },
        {
          "output_type": "stream",
          "name": "stderr",
          "text": [
            "Epoch 44:  51%|█████     | 26/51 [00:00<00:00, 198.13batch/s]"
          ]
        },
        {
          "output_type": "stream",
          "name": "stdout",
          "text": [
            "End of 44,accuracy0.800000011920929\n",
            "End of 44,accuracy0.6000000238418579\n",
            "End of 44,accuracy0.800000011920929\n",
            "End of 44,accuracy0.8999999761581421\n"
          ]
        },
        {
          "output_type": "stream",
          "name": "stderr",
          "text": [
            "Epoch 44:  63%|██████▎   | 32/51 [00:00<00:00, 193.44batch/s]"
          ]
        },
        {
          "output_type": "stream",
          "name": "stdout",
          "text": [
            "End of 44,accuracy0.5\n",
            "End of 44,accuracy0.8999999761581421\n",
            "End of 44,accuracy0.5\n",
            "End of 44,accuracy0.6000000238418579\n",
            "End of 44,accuracy0.4000000059604645\n"
          ]
        },
        {
          "output_type": "stream",
          "name": "stderr",
          "text": [
            "Epoch 44:  76%|███████▋  | 39/51 [00:00<00:00, 190.58batch/s]"
          ]
        },
        {
          "output_type": "stream",
          "name": "stdout",
          "text": [
            "End of 44,accuracy0.6000000238418579\n",
            "End of 44,accuracy0.4000000059604645\n",
            "End of 44,accuracy0.5\n",
            "End of 44,accuracy0.5\n",
            "End of 44,accuracy0.800000011920929\n",
            "End of 44,accuracy0.800000011920929\n",
            "End of 44,accuracy0.800000011920929\n"
          ]
        },
        {
          "output_type": "stream",
          "name": "stderr",
          "text": [
            "Epoch 44:  88%|████████▊ | 45/51 [00:00<00:00, 196.44batch/s]"
          ]
        },
        {
          "output_type": "stream",
          "name": "stdout",
          "text": [
            "End of 44,accuracy0.6000000238418579\n",
            "End of 44,accuracy0.699999988079071\n",
            "End of 44,accuracy0.30000001192092896\n",
            "End of 44,accuracy0.699999988079071\n",
            "End of 44,accuracy0.6000000238418579\n",
            "End of 44,accuracy0.6000000238418579\n"
          ]
        },
        {
          "output_type": "stream",
          "name": "stderr",
          "text": [
            "Epoch 44:  94%|█████████▍| 48/51 [00:00<00:00, 187.31batch/s]"
          ]
        },
        {
          "output_type": "stream",
          "name": "stdout",
          "text": [
            "End of 44,accuracy0.800000011920929\n",
            "End of 44,accuracy0.800000011920929\n",
            "End of 44,accuracy0.5\n"
          ]
        },
        {
          "output_type": "stream",
          "name": "stderr",
          "text": [
            "Epoch 44: 100%|██████████| 51/51 [00:00<00:00, 184.30batch/s]"
          ]
        },
        {
          "output_type": "stream",
          "name": "stdout",
          "text": [
            "End of 44,accuracy0.4000000059604645\n",
            "End of 44,accuracy0.699999988079071\n",
            "End of 44,accuracy0.800000011920929\n"
          ]
        },
        {
          "output_type": "stream",
          "name": "stderr",
          "text": [
            "\n",
            "Epoch 45:   2%|▏         | 1/51 [00:00<00:00, 129.33batch/s]"
          ]
        },
        {
          "output_type": "stream",
          "name": "stdout",
          "text": [
            "End of 45,accuracy0.800000011920929\n"
          ]
        },
        {
          "output_type": "stream",
          "name": "stderr",
          "text": [
            "Epoch 45:  12%|█▏        | 6/51 [00:00<00:00, 172.82batch/s]"
          ]
        },
        {
          "output_type": "stream",
          "name": "stdout",
          "text": [
            "End of 45,accuracy0.699999988079071\n",
            "End of 45,accuracy0.8999999761581421\n",
            "End of 45,accuracy0.699999988079071\n",
            "End of 45,accuracy0.800000011920929\n",
            "End of 45,accuracy0.4000000059604645\n"
          ]
        },
        {
          "output_type": "stream",
          "name": "stderr",
          "text": [
            "Epoch 45:  18%|█▊        | 9/51 [00:00<00:00, 171.68batch/s]"
          ]
        },
        {
          "output_type": "stream",
          "name": "stdout",
          "text": [
            "End of 45,accuracy0.6000000238418579\n",
            "End of 45,accuracy0.800000011920929\n",
            "End of 45,accuracy0.800000011920929\n"
          ]
        },
        {
          "output_type": "stream",
          "name": "stderr",
          "text": [
            "Epoch 45:  27%|██▋       | 14/51 [00:00<00:00, 179.86batch/s]"
          ]
        },
        {
          "output_type": "stream",
          "name": "stdout",
          "text": [
            "End of 45,accuracy0.699999988079071\n",
            "End of 45,accuracy0.5\n",
            "End of 45,accuracy0.6000000238418579\n",
            "End of 45,accuracy0.8999999761581421\n",
            "End of 45,accuracy0.699999988079071\n"
          ]
        },
        {
          "output_type": "stream",
          "name": "stderr",
          "text": [
            "Epoch 45:  41%|████      | 21/51 [00:00<00:00, 165.68batch/s]"
          ]
        },
        {
          "output_type": "stream",
          "name": "stdout",
          "text": [
            "End of 45,accuracy0.6000000238418579\n",
            "End of 45,accuracy0.800000011920929\n",
            "End of 45,accuracy0.699999988079071\n",
            "End of 45,accuracy0.800000011920929\n",
            "End of 45,accuracy0.6000000238418579\n",
            "End of 45,accuracy0.8999999761581421\n",
            "End of 45,accuracy0.699999988079071\n"
          ]
        },
        {
          "output_type": "stream",
          "name": "stderr",
          "text": [
            "Epoch 45:  51%|█████     | 26/51 [00:00<00:00, 176.89batch/s]"
          ]
        },
        {
          "output_type": "stream",
          "name": "stdout",
          "text": [
            "End of 45,accuracy0.800000011920929\n",
            "End of 45,accuracy0.800000011920929\n",
            "End of 45,accuracy0.800000011920929\n",
            "End of 45,accuracy0.6000000238418579\n",
            "End of 45,accuracy0.800000011920929\n"
          ]
        },
        {
          "output_type": "stream",
          "name": "stderr",
          "text": [
            "Epoch 45:  57%|█████▋    | 29/51 [00:00<00:00, 188.24batch/s]"
          ]
        },
        {
          "output_type": "stream",
          "name": "stdout",
          "text": [
            "End of 45,accuracy0.8999999761581421\n",
            "End of 45,accuracy0.5\n",
            "End of 45,accuracy0.8999999761581421\n"
          ]
        },
        {
          "output_type": "stream",
          "name": "stderr",
          "text": [
            "Epoch 45:  69%|██████▊   | 35/51 [00:00<00:00, 189.51batch/s]"
          ]
        },
        {
          "output_type": "stream",
          "name": "stdout",
          "text": [
            "End of 45,accuracy0.5\n",
            "End of 45,accuracy0.6000000238418579\n",
            "End of 45,accuracy0.4000000059604645\n",
            "End of 45,accuracy0.6000000238418579\n",
            "End of 45,accuracy0.4000000059604645\n",
            "End of 45,accuracy0.5\n"
          ]
        },
        {
          "output_type": "stream",
          "name": "stderr",
          "text": [
            "\rEpoch 45:  71%|███████   | 36/51 [00:00<00:00, 182.93batch/s]"
          ]
        },
        {
          "output_type": "stream",
          "name": "stdout",
          "text": [
            "End of 45,accuracy0.5\n"
          ]
        },
        {
          "output_type": "stream",
          "name": "stderr",
          "text": [
            "Epoch 45:  80%|████████  | 41/51 [00:00<00:00, 171.03batch/s]"
          ]
        },
        {
          "output_type": "stream",
          "name": "stdout",
          "text": [
            "End of 45,accuracy0.800000011920929\n",
            "End of 45,accuracy0.800000011920929\n",
            "End of 45,accuracy0.800000011920929\n",
            "End of 45,accuracy0.6000000238418579\n",
            "End of 45,accuracy0.699999988079071\n"
          ]
        },
        {
          "output_type": "stream",
          "name": "stderr",
          "text": [
            "Epoch 45:  86%|████████▋ | 44/51 [00:00<00:00, 170.47batch/s]"
          ]
        },
        {
          "output_type": "stream",
          "name": "stdout",
          "text": [
            "End of 45,accuracy0.30000001192092896\n",
            "End of 45,accuracy0.699999988079071\n",
            "End of 45,accuracy0.6000000238418579\n"
          ]
        },
        {
          "output_type": "stream",
          "name": "stderr",
          "text": [
            "Epoch 45:  96%|█████████▌| 49/51 [00:00<00:00, 168.02batch/s]"
          ]
        },
        {
          "output_type": "stream",
          "name": "stdout",
          "text": [
            "End of 45,accuracy0.6000000238418579\n",
            "End of 45,accuracy0.800000011920929\n",
            "End of 45,accuracy0.800000011920929\n",
            "End of 45,accuracy0.5\n",
            "End of 45,accuracy0.4000000059604645\n"
          ]
        },
        {
          "output_type": "stream",
          "name": "stderr",
          "text": [
            "Epoch 45: 100%|██████████| 51/51 [00:00<00:00, 168.18batch/s]\n"
          ]
        },
        {
          "output_type": "stream",
          "name": "stdout",
          "text": [
            "End of 45,accuracy0.699999988079071\n",
            "End of 45,accuracy0.800000011920929\n"
          ]
        },
        {
          "output_type": "stream",
          "name": "stderr",
          "text": [
            "Epoch 46:   6%|▌         | 3/51 [00:00<00:00, 166.43batch/s]"
          ]
        },
        {
          "output_type": "stream",
          "name": "stdout",
          "text": [
            "End of 46,accuracy0.800000011920929\n",
            "End of 46,accuracy0.699999988079071\n",
            "End of 46,accuracy0.8999999761581421\n"
          ]
        },
        {
          "output_type": "stream",
          "name": "stderr",
          "text": [
            "Epoch 46:  16%|█▌        | 8/51 [00:00<00:00, 166.45batch/s]"
          ]
        },
        {
          "output_type": "stream",
          "name": "stdout",
          "text": [
            "End of 46,accuracy0.699999988079071\n",
            "End of 46,accuracy0.800000011920929\n",
            "End of 46,accuracy0.4000000059604645\n",
            "End of 46,accuracy0.6000000238418579\n",
            "End of 46,accuracy0.800000011920929\n"
          ]
        },
        {
          "output_type": "stream",
          "name": "stderr",
          "text": [
            "Epoch 46:  22%|██▏       | 11/51 [00:00<00:00, 186.62batch/s]"
          ]
        },
        {
          "output_type": "stream",
          "name": "stdout",
          "text": [
            "End of 46,accuracy0.800000011920929\n",
            "End of 46,accuracy0.699999988079071\n",
            "End of 46,accuracy0.5\n"
          ]
        },
        {
          "output_type": "stream",
          "name": "stderr",
          "text": [
            "Epoch 46:  33%|███▎      | 17/51 [00:00<00:00, 182.97batch/s]"
          ]
        },
        {
          "output_type": "stream",
          "name": "stdout",
          "text": [
            "End of 46,accuracy0.6000000238418579\n",
            "End of 46,accuracy0.8999999761581421\n",
            "End of 46,accuracy0.699999988079071\n",
            "End of 46,accuracy0.6000000238418579\n",
            "End of 46,accuracy0.800000011920929\n",
            "End of 46,accuracy0.699999988079071\n"
          ]
        },
        {
          "output_type": "stream",
          "name": "stderr",
          "text": [
            "\rEpoch 46:  35%|███▌      | 18/51 [00:00<00:00, 174.76batch/s]"
          ]
        },
        {
          "output_type": "stream",
          "name": "stdout",
          "text": [
            "End of 46,accuracy0.800000011920929\n"
          ]
        },
        {
          "output_type": "stream",
          "name": "stderr",
          "text": [
            "Epoch 46:  47%|████▋     | 24/51 [00:00<00:00, 181.24batch/s]"
          ]
        },
        {
          "output_type": "stream",
          "name": "stdout",
          "text": [
            "End of 46,accuracy0.6000000238418579\n",
            "End of 46,accuracy0.8999999761581421\n",
            "End of 46,accuracy0.699999988079071\n",
            "End of 46,accuracy0.800000011920929\n",
            "End of 46,accuracy0.800000011920929\n",
            "End of 46,accuracy0.800000011920929\n"
          ]
        },
        {
          "output_type": "stream",
          "name": "stderr",
          "text": [
            "Epoch 46:  53%|█████▎    | 27/51 [00:00<00:00, 188.07batch/s]"
          ]
        },
        {
          "output_type": "stream",
          "name": "stdout",
          "text": [
            "End of 46,accuracy0.6000000238418579\n",
            "End of 46,accuracy0.800000011920929\n",
            "End of 46,accuracy0.8999999761581421\n"
          ]
        },
        {
          "output_type": "stream",
          "name": "stderr",
          "text": [
            "Epoch 46:  63%|██████▎   | 32/51 [00:00<00:00, 193.65batch/s]"
          ]
        },
        {
          "output_type": "stream",
          "name": "stdout",
          "text": [
            "End of 46,accuracy0.5\n",
            "End of 46,accuracy0.8999999761581421\n",
            "End of 46,accuracy0.5\n",
            "End of 46,accuracy0.6000000238418579\n",
            "End of 46,accuracy0.4000000059604645\n"
          ]
        },
        {
          "output_type": "stream",
          "name": "stderr",
          "text": [
            "Epoch 46:  73%|███████▎  | 37/51 [00:00<00:00, 183.75batch/s]"
          ]
        },
        {
          "output_type": "stream",
          "name": "stdout",
          "text": [
            "End of 46,accuracy0.6000000238418579\n",
            "End of 46,accuracy0.4000000059604645\n",
            "End of 46,accuracy0.5\n",
            "End of 46,accuracy0.5\n",
            "End of 46,accuracy0.800000011920929\n"
          ]
        },
        {
          "output_type": "stream",
          "name": "stderr",
          "text": [
            "Epoch 46:  78%|███████▊  | 40/51 [00:00<00:00, 187.28batch/s]"
          ]
        },
        {
          "output_type": "stream",
          "name": "stdout",
          "text": [
            "End of 46,accuracy0.800000011920929\n",
            "End of 46,accuracy0.800000011920929\n",
            "End of 46,accuracy0.6000000238418579\n"
          ]
        },
        {
          "output_type": "stream",
          "name": "stderr",
          "text": [
            "Epoch 46:  90%|█████████ | 46/51 [00:00<00:00, 201.26batch/s]"
          ]
        },
        {
          "output_type": "stream",
          "name": "stdout",
          "text": [
            "End of 46,accuracy0.699999988079071\n",
            "End of 46,accuracy0.30000001192092896\n",
            "End of 46,accuracy0.699999988079071\n",
            "End of 46,accuracy0.6000000238418579\n",
            "End of 46,accuracy0.6000000238418579\n",
            "End of 46,accuracy0.800000011920929\n"
          ]
        },
        {
          "output_type": "stream",
          "name": "stderr",
          "text": [
            "Epoch 46:  96%|█████████▌| 49/51 [00:00<00:00, 194.91batch/s]"
          ]
        },
        {
          "output_type": "stream",
          "name": "stdout",
          "text": [
            "End of 46,accuracy0.800000011920929\n",
            "End of 46,accuracy0.5\n",
            "End of 46,accuracy0.4000000059604645\n"
          ]
        },
        {
          "output_type": "stream",
          "name": "stderr",
          "text": [
            "Epoch 46: 100%|██████████| 51/51 [00:00<00:00, 178.37batch/s]\n"
          ]
        },
        {
          "output_type": "stream",
          "name": "stdout",
          "text": [
            "End of 46,accuracy0.699999988079071\n",
            "End of 46,accuracy0.800000011920929\n"
          ]
        },
        {
          "output_type": "stream",
          "name": "stderr",
          "text": [
            "Epoch 47:   0%|          | 0/51 [00:00<?, ?batch/s]"
          ]
        },
        {
          "output_type": "stream",
          "name": "stdout",
          "text": [
            "End of 47,accuracy0.800000011920929"
          ]
        },
        {
          "output_type": "stream",
          "name": "stderr",
          "text": [
            "Epoch 47:   4%|▍         | 2/51 [00:00<00:00, 205.11batch/s]"
          ]
        },
        {
          "output_type": "stream",
          "name": "stdout",
          "text": [
            "\n",
            "End of 47,accuracy0.699999988079071\n"
          ]
        },
        {
          "output_type": "stream",
          "name": "stderr",
          "text": [
            "Epoch 47:  16%|█▌        | 8/51 [00:00<00:00, 196.95batch/s]"
          ]
        },
        {
          "output_type": "stream",
          "name": "stdout",
          "text": [
            "End of 47,accuracy0.8999999761581421\n",
            "End of 47,accuracy0.699999988079071\n",
            "End of 47,accuracy0.800000011920929\n",
            "End of 47,accuracy0.4000000059604645\n",
            "End of 47,accuracy0.6000000238418579\n",
            "End of 47,accuracy0.699999988079071\n"
          ]
        },
        {
          "output_type": "stream",
          "name": "stderr",
          "text": [
            "Epoch 47:  20%|█▉        | 10/51 [00:00<00:00, 168.39batch/s]"
          ]
        },
        {
          "output_type": "stream",
          "name": "stdout",
          "text": [
            "End of 47,accuracy0.800000011920929\n",
            "End of 47,accuracy0.699999988079071\n"
          ]
        },
        {
          "output_type": "stream",
          "name": "stderr",
          "text": [
            "Epoch 47:  31%|███▏      | 16/51 [00:00<00:00, 204.02batch/s]"
          ]
        },
        {
          "output_type": "stream",
          "name": "stdout",
          "text": [
            "End of 47,accuracy0.5\n",
            "End of 47,accuracy0.6000000238418579\n",
            "End of 47,accuracy0.8999999761581421\n",
            "End of 47,accuracy0.699999988079071\n",
            "End of 47,accuracy0.6000000238418579\n",
            "End of 47,accuracy0.800000011920929\n"
          ]
        },
        {
          "output_type": "stream",
          "name": "stderr",
          "text": [
            "Epoch 47:  41%|████      | 21/51 [00:00<00:00, 189.78batch/s]"
          ]
        },
        {
          "output_type": "stream",
          "name": "stdout",
          "text": [
            "End of 47,accuracy0.699999988079071\n",
            "End of 47,accuracy0.800000011920929\n",
            "End of 47,accuracy0.6000000238418579\n",
            "End of 47,accuracy0.8999999761581421\n",
            "End of 47,accuracy0.699999988079071\n"
          ]
        },
        {
          "output_type": "stream",
          "name": "stderr",
          "text": [
            "Epoch 47:  47%|████▋     | 24/51 [00:00<00:00, 194.27batch/s]"
          ]
        },
        {
          "output_type": "stream",
          "name": "stdout",
          "text": [
            "End of 47,accuracy0.800000011920929\n",
            "End of 47,accuracy0.800000011920929\n",
            "End of 47,accuracy0.800000011920929\n"
          ]
        },
        {
          "output_type": "stream",
          "name": "stderr",
          "text": [
            "Epoch 47:  59%|█████▉    | 30/51 [00:00<00:00, 207.22batch/s]"
          ]
        },
        {
          "output_type": "stream",
          "name": "stdout",
          "text": [
            "End of 47,accuracy0.6000000238418579\n",
            "End of 47,accuracy0.800000011920929\n",
            "End of 47,accuracy0.8999999761581421\n",
            "End of 47,accuracy0.5\n",
            "End of 47,accuracy0.8999999761581421\n",
            "End of 47,accuracy0.5\n"
          ]
        },
        {
          "output_type": "stream",
          "name": "stderr",
          "text": [
            "Epoch 47:  67%|██████▋   | 34/51 [00:00<00:00, 201.56batch/s]"
          ]
        },
        {
          "output_type": "stream",
          "name": "stdout",
          "text": [
            "End of 47,accuracy0.6000000238418579\n",
            "End of 47,accuracy0.4000000059604645\n",
            "End of 47,accuracy0.6000000238418579\n",
            "End of 47,accuracy0.4000000059604645\n"
          ]
        },
        {
          "output_type": "stream",
          "name": "stderr",
          "text": [
            "Epoch 47:  75%|███████▍  | 38/51 [00:00<00:00, 182.53batch/s]"
          ]
        },
        {
          "output_type": "stream",
          "name": "stdout",
          "text": [
            "End of 47,accuracy0.5\n",
            "End of 47,accuracy0.5\n",
            "End of 47,accuracy0.800000011920929\n",
            "End of 47,accuracy0.800000011920929\n"
          ]
        },
        {
          "output_type": "stream",
          "name": "stderr",
          "text": [
            "Epoch 47:  78%|███████▊  | 40/51 [00:00<00:00, 170.73batch/s]"
          ]
        },
        {
          "output_type": "stream",
          "name": "stdout",
          "text": [
            "End of 47,accuracy0.800000011920929\n",
            "End of 47,accuracy0.6000000238418579\n"
          ]
        },
        {
          "output_type": "stream",
          "name": "stderr",
          "text": [
            "Epoch 47:  90%|█████████ | 46/51 [00:00<00:00, 197.64batch/s]"
          ]
        },
        {
          "output_type": "stream",
          "name": "stdout",
          "text": [
            "End of 47,accuracy0.699999988079071\n",
            "End of 47,accuracy0.30000001192092896\n",
            "End of 47,accuracy0.699999988079071\n",
            "End of 47,accuracy0.6000000238418579\n",
            "End of 47,accuracy0.6000000238418579\n",
            "End of 47,accuracy0.800000011920929\n"
          ]
        },
        {
          "output_type": "stream",
          "name": "stderr",
          "text": [
            "Epoch 47:  96%|█████████▌| 49/51 [00:00<00:00, 206.71batch/s]"
          ]
        },
        {
          "output_type": "stream",
          "name": "stdout",
          "text": [
            "End of 47,accuracy0.800000011920929\n",
            "End of 47,accuracy0.5\n",
            "End of 47,accuracy0.4000000059604645\n"
          ]
        },
        {
          "output_type": "stream",
          "name": "stderr",
          "text": [
            "Epoch 47: 100%|██████████| 51/51 [00:00<00:00, 184.37batch/s]\n"
          ]
        },
        {
          "output_type": "stream",
          "name": "stdout",
          "text": [
            "End of 47,accuracy0.699999988079071\n",
            "End of 47,accuracy0.800000011920929\n"
          ]
        },
        {
          "output_type": "stream",
          "name": "stderr",
          "text": [
            "Epoch 48:   2%|▏         | 1/51 [00:00<00:00, 122.10batch/s]"
          ]
        },
        {
          "output_type": "stream",
          "name": "stdout",
          "text": [
            "End of 48,accuracy0.800000011920929\n"
          ]
        },
        {
          "output_type": "stream",
          "name": "stderr",
          "text": [
            "Epoch 48:  10%|▉         | 5/51 [00:00<00:00, 168.41batch/s]"
          ]
        },
        {
          "output_type": "stream",
          "name": "stdout",
          "text": [
            "End of 48,accuracy0.699999988079071\n",
            "End of 48,accuracy0.8999999761581421\n",
            "End of 48,accuracy0.699999988079071\n",
            "End of 48,accuracy0.800000011920929\n"
          ]
        },
        {
          "output_type": "stream",
          "name": "stderr",
          "text": [
            "Epoch 48:  16%|█▌        | 8/51 [00:00<00:00, 184.60batch/s]"
          ]
        },
        {
          "output_type": "stream",
          "name": "stdout",
          "text": [
            "End of 48,accuracy0.4000000059604645\n",
            "End of 48,accuracy0.6000000238418579\n",
            "End of 48,accuracy0.699999988079071\n"
          ]
        },
        {
          "output_type": "stream",
          "name": "stderr",
          "text": [
            "Epoch 48:  27%|██▋       | 14/51 [00:00<00:00, 202.07batch/s]"
          ]
        },
        {
          "output_type": "stream",
          "name": "stdout",
          "text": [
            "End of 48,accuracy0.800000011920929\n",
            "End of 48,accuracy0.699999988079071\n",
            "End of 48,accuracy0.5\n",
            "End of 48,accuracy0.6000000238418579\n",
            "End of 48,accuracy0.8999999761581421\n",
            "End of 48,accuracy0.699999988079071\n"
          ]
        },
        {
          "output_type": "stream",
          "name": "stderr",
          "text": [
            "Epoch 48:  35%|███▌      | 18/51 [00:00<00:00, 185.54batch/s]"
          ]
        },
        {
          "output_type": "stream",
          "name": "stdout",
          "text": [
            "End of 48,accuracy0.6000000238418579\n",
            "End of 48,accuracy0.800000011920929\n",
            "End of 48,accuracy0.699999988079071\n",
            "End of 48,accuracy0.800000011920929\n"
          ]
        },
        {
          "output_type": "stream",
          "name": "stderr",
          "text": [
            "Epoch 48:  41%|████      | 21/51 [00:00<00:00, 135.89batch/s]"
          ]
        },
        {
          "output_type": "stream",
          "name": "stdout",
          "text": [
            "End of 48,accuracy0.6000000238418579\n",
            "End of 48,accuracy0.8999999761581421\n",
            "End of 48,accuracy0.699999988079071\n"
          ]
        },
        {
          "output_type": "stream",
          "name": "stderr",
          "text": [
            "Epoch 48:  45%|████▌     | 23/51 [00:00<00:00, 155.33batch/s]"
          ]
        },
        {
          "output_type": "stream",
          "name": "stdout",
          "text": [
            "End of 48,accuracy0.800000011920929\n",
            "End of 48,accuracy0.800000011920929\n"
          ]
        },
        {
          "output_type": "stream",
          "name": "stderr",
          "text": [
            "Epoch 48:  55%|█████▍    | 28/51 [00:00<00:00, 155.78batch/s]"
          ]
        },
        {
          "output_type": "stream",
          "name": "stdout",
          "text": [
            "End of 48,accuracy0.800000011920929\n",
            "End of 48,accuracy0.6000000238418579\n",
            "End of 48,accuracy0.800000011920929\n",
            "End of 48,accuracy0.800000011920929\n",
            "End of 48,accuracy0.5\n"
          ]
        },
        {
          "output_type": "stream",
          "name": "stderr",
          "text": [
            "Epoch 48:  61%|██████    | 31/51 [00:00<00:00, 173.99batch/s]"
          ]
        },
        {
          "output_type": "stream",
          "name": "stdout",
          "text": [
            "End of 48,accuracy0.8999999761581421\n",
            "End of 48,accuracy0.5\n",
            "End of 48,accuracy0.6000000238418579\n"
          ]
        },
        {
          "output_type": "stream",
          "name": "stderr",
          "text": [
            "Epoch 48:  71%|███████   | 36/51 [00:00<00:00, 192.67batch/s]"
          ]
        },
        {
          "output_type": "stream",
          "name": "stdout",
          "text": [
            "End of 48,accuracy0.4000000059604645\n",
            "End of 48,accuracy0.6000000238418579\n",
            "End of 48,accuracy0.4000000059604645\n",
            "End of 48,accuracy0.5\n",
            "End of 48,accuracy0.5\n"
          ]
        },
        {
          "output_type": "stream",
          "name": "stderr",
          "text": [
            "\rEpoch 48:  73%|███████▎  | 37/51 [00:00<00:00, 190.89batch/s]"
          ]
        },
        {
          "output_type": "stream",
          "name": "stdout",
          "text": [
            "End of 48,accuracy0.800000011920929\n"
          ]
        },
        {
          "output_type": "stream",
          "name": "stderr",
          "text": [
            "Epoch 48:  80%|████████  | 41/51 [00:00<00:00, 191.13batch/s]"
          ]
        },
        {
          "output_type": "stream",
          "name": "stdout",
          "text": [
            "End of 48,accuracy0.800000011920929\n",
            "End of 48,accuracy0.800000011920929\n",
            "End of 48,accuracy0.6000000238418579\n",
            "End of 48,accuracy0.699999988079071\n"
          ]
        },
        {
          "output_type": "stream",
          "name": "stderr",
          "text": [
            "Epoch 48:  86%|████████▋ | 44/51 [00:00<00:00, 184.96batch/s]"
          ]
        },
        {
          "output_type": "stream",
          "name": "stdout",
          "text": [
            "End of 48,accuracy0.30000001192092896\n",
            "End of 48,accuracy0.699999988079071\n",
            "End of 48,accuracy0.6000000238418579\n"
          ]
        },
        {
          "output_type": "stream",
          "name": "stderr",
          "text": [
            "Epoch 48:  98%|█████████▊| 50/51 [00:00<00:00, 188.86batch/s]"
          ]
        },
        {
          "output_type": "stream",
          "name": "stdout",
          "text": [
            "End of 48,accuracy0.6000000238418579\n",
            "End of 48,accuracy0.800000011920929\n",
            "End of 48,accuracy0.800000011920929\n",
            "End of 48,accuracy0.5\n",
            "End of 48,accuracy0.4000000059604645\n",
            "End of 48,accuracy0.699999988079071\n"
          ]
        },
        {
          "output_type": "stream",
          "name": "stderr",
          "text": [
            "Epoch 48: 100%|██████████| 51/51 [00:00<00:00, 174.34batch/s]\n"
          ]
        },
        {
          "output_type": "stream",
          "name": "stdout",
          "text": [
            "End of 48,accuracy0.800000011920929\n"
          ]
        },
        {
          "output_type": "stream",
          "name": "stderr",
          "text": [
            "Epoch 49:   8%|▊         | 4/51 [00:00<00:00, 161.12batch/s]"
          ]
        },
        {
          "output_type": "stream",
          "name": "stdout",
          "text": [
            "End of 49,accuracy0.800000011920929\n",
            "End of 49,accuracy0.699999988079071\n",
            "End of 49,accuracy0.8999999761581421\n",
            "End of 49,accuracy0.699999988079071\n"
          ]
        },
        {
          "output_type": "stream",
          "name": "stderr",
          "text": [
            "Epoch 49:  12%|█▏        | 6/51 [00:00<00:00, 173.67batch/s]"
          ]
        },
        {
          "output_type": "stream",
          "name": "stdout",
          "text": [
            "End of 49,accuracy0.800000011920929\n",
            "End of 49,accuracy0.4000000059604645\n"
          ]
        },
        {
          "output_type": "stream",
          "name": "stderr",
          "text": [
            "Epoch 49:  24%|██▎       | 12/51 [00:00<00:00, 196.72batch/s]"
          ]
        },
        {
          "output_type": "stream",
          "name": "stdout",
          "text": [
            "End of 49,accuracy0.6000000238418579\n",
            "End of 49,accuracy0.699999988079071\n",
            "End of 49,accuracy0.800000011920929\n",
            "End of 49,accuracy0.699999988079071\n",
            "End of 49,accuracy0.5\n",
            "End of 49,accuracy0.6000000238418579\n"
          ]
        },
        {
          "output_type": "stream",
          "name": "stderr",
          "text": [
            "Epoch 49:  29%|██▉       | 15/51 [00:00<00:00, 197.24batch/s]"
          ]
        },
        {
          "output_type": "stream",
          "name": "stdout",
          "text": [
            "End of 49,accuracy0.8999999761581421\n",
            "End of 49,accuracy0.699999988079071\n",
            "End of 49,accuracy0.6000000238418579\n"
          ]
        },
        {
          "output_type": "stream",
          "name": "stderr",
          "text": [
            "Epoch 49:  39%|███▉      | 20/51 [00:00<00:00, 196.17batch/s]"
          ]
        },
        {
          "output_type": "stream",
          "name": "stdout",
          "text": [
            "End of 49,accuracy0.800000011920929\n",
            "End of 49,accuracy0.699999988079071\n",
            "End of 49,accuracy0.800000011920929\n",
            "End of 49,accuracy0.6000000238418579\n",
            "End of 49,accuracy0.8999999761581421\n"
          ]
        },
        {
          "output_type": "stream",
          "name": "stderr",
          "text": [
            "\rEpoch 49:  41%|████      | 21/51 [00:00<00:00, 197.55batch/s]"
          ]
        },
        {
          "output_type": "stream",
          "name": "stdout",
          "text": [
            "End of 49,accuracy0.699999988079071\n"
          ]
        },
        {
          "output_type": "stream",
          "name": "stderr",
          "text": [
            "Epoch 49:  51%|█████     | 26/51 [00:00<00:00, 196.59batch/s]"
          ]
        },
        {
          "output_type": "stream",
          "name": "stdout",
          "text": [
            "End of 49,accuracy0.800000011920929\n",
            "End of 49,accuracy0.800000011920929\n",
            "End of 49,accuracy0.800000011920929\n",
            "End of 49,accuracy0.6000000238418579\n",
            "End of 49,accuracy0.800000011920929\n"
          ]
        },
        {
          "output_type": "stream",
          "name": "stderr",
          "text": [
            "Epoch 49:  57%|█████▋    | 29/51 [00:00<00:00, 200.11batch/s]"
          ]
        },
        {
          "output_type": "stream",
          "name": "stdout",
          "text": [
            "End of 49,accuracy0.800000011920929\n",
            "End of 49,accuracy0.5\n",
            "End of 49,accuracy0.8999999761581421\n"
          ]
        },
        {
          "output_type": "stream",
          "name": "stderr",
          "text": [
            "Epoch 49:  71%|███████   | 36/51 [00:00<00:00, 233.92batch/s]"
          ]
        },
        {
          "output_type": "stream",
          "name": "stdout",
          "text": [
            "End of 49,accuracy0.5\n",
            "End of 49,accuracy0.6000000238418579\n",
            "End of 49,accuracy0.4000000059604645\n",
            "End of 49,accuracy0.6000000238418579\n",
            "End of 49,accuracy0.4000000059604645\n",
            "End of 49,accuracy0.5\n",
            "End of 49,accuracy0.5\n"
          ]
        },
        {
          "output_type": "stream",
          "name": "stderr",
          "text": [
            "Epoch 49:  78%|███████▊  | 40/51 [00:00<00:00, 204.44batch/s]"
          ]
        },
        {
          "output_type": "stream",
          "name": "stdout",
          "text": [
            "End of 49,accuracy0.800000011920929\n",
            "End of 49,accuracy0.800000011920929\n",
            "End of 49,accuracy0.800000011920929\n",
            "End of 49,accuracy0.6000000238418579\n"
          ]
        },
        {
          "output_type": "stream",
          "name": "stderr",
          "text": [
            "Epoch 49:  84%|████████▍ | 43/51 [00:00<00:00, 178.87batch/s]"
          ]
        },
        {
          "output_type": "stream",
          "name": "stdout",
          "text": [
            "End of 49,accuracy0.699999988079071\n",
            "End of 49,accuracy0.30000001192092896\n",
            "End of 49,accuracy0.699999988079071\n",
            "End of 49,accuracy0.6000000238418579\n"
          ]
        },
        {
          "output_type": "stream",
          "name": "stderr",
          "text": [
            "Epoch 49:  88%|████████▊ | 45/51 [00:00<00:00, 181.01batch/s]"
          ]
        },
        {
          "output_type": "stream",
          "name": "stdout",
          "text": [
            "End of 49,accuracy0.6000000238418579\n",
            "End of 49,accuracy0.800000011920929\n"
          ]
        },
        {
          "output_type": "stream",
          "name": "stderr",
          "text": [
            "Epoch 49: 100%|██████████| 51/51 [00:00<00:00, 178.18batch/s]"
          ]
        },
        {
          "output_type": "stream",
          "name": "stdout",
          "text": [
            "End of 49,accuracy0.800000011920929\n",
            "End of 49,accuracy0.5\n",
            "End of 49,accuracy0.4000000059604645\n",
            "End of 49,accuracy0.699999988079071\n",
            "End of 49,accuracy0.800000011920929\n"
          ]
        },
        {
          "output_type": "stream",
          "name": "stderr",
          "text": [
            "\rEpoch 49: 100%|██████████| 51/51 [00:00<00:00, 184.45batch/s]\n"
          ]
        }
      ]
    },
    {
      "cell_type": "code",
      "source": [],
      "metadata": {
        "id": "s7K5fEY_7YEa"
      },
      "execution_count": 26,
      "outputs": []
    }
  ]
}