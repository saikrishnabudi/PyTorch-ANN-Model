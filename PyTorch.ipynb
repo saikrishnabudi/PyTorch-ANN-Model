{
  "nbformat": 4,
  "nbformat_minor": 0,
  "metadata": {
    "colab": {
      "provenance": []
    },
    "kernelspec": {
      "name": "python3",
      "display_name": "Python 3"
    },
    "language_info": {
      "name": "python"
    }
  },
  "cells": [
    {
      "cell_type": "markdown",
      "source": [
        "We are using the PyTorch Library to build the Artificial Neural Netowrk model on Indian Diabeties classification dataset\n"
      ],
      "metadata": {
        "id": "lcSO6OZl12Y1"
      }
    },
    {
      "cell_type": "code",
      "source": [
        "# Importing the required libraries\n",
        "import numpy as np\n",
        "import torch\n",
        "import torch.nn as nn\n",
        "import torch.optim as optim\n",
        "import tqdm\n",
        "from sklearn.model_selection import train_test_split"
      ],
      "metadata": {
        "id": "24xaLMwH2Hvn"
      },
      "execution_count": 22,
      "outputs": []
    },
    {
      "cell_type": "code",
      "source": [
        "# Load and read the dataset\n",
        "data=np.loadtxt(\"/content/pima-indians-diabetes.data.csv\",delimiter=\",\")\n",
        "\n",
        "X=data[:,0:8]\n",
        "y=data[:,8]\n",
        "\n",
        "X=torch.tensor(X,dtype=torch.float32)\n",
        "y=torch.tensor(y,dtype=torch.float32).reshape(-1,1)\n",
        "X_train,X_test,y_train,y_test=train_test_split(X,y,test_size=0.33)\n",
        "\n",
        "model=nn.Sequential(nn.Linear(8,12),\n",
        "                    nn.ReLU(),\n",
        "                    nn.Linear(12,8),\n",
        "                    nn.Linear(8,1),\n",
        "                    nn.Sigmoid()\n",
        ")\n",
        "\n",
        "# Loss Function Optimizer\n",
        "loss_fn=nn.BCELoss()\n",
        "optimizer=optim.Adam(model.parameters(),lr=0.0001)\n",
        "\n",
        "n_epochs=50\n",
        "batch_size=10\n",
        "batches_per_epoch=len(X_train)//batch_size\n",
        "\n",
        "for epoch in range(n_epochs):\n",
        "  with tqdm.trange(batches_per_epoch,unit=\"batch\",mininterval=0) as bar:\n",
        "    bar.set_description(f\"Epoch {epoch}\")\n",
        "    for i in bar:\n",
        "\n",
        "      #Take a batch\n",
        "      start=i*batch_size\n",
        "      X_batch=X_train[start:start+batch_size]\n",
        "      y_batch=y_train[start:start+batch_size]\n",
        "\n",
        "      #Forward Pass\n",
        "      y_pred=model(X_batch)\n",
        "      loss=loss_fn(y_pred,y_batch)\n",
        "\n",
        "      #Backward Pass\n",
        "      optimizer.zero_grad()\n",
        "      loss.backward()\n",
        "\n",
        "      # Update weights\n",
        "      optimizer.step()\n",
        "\n",
        "      #Print Progress\n",
        "      acc=(y_pred.round() == y_batch).float().mean()\n",
        "      acc=float(acc)\n",
        "      print(f\"End of {epoch},accuracy{acc}\")\n",
        "\n"
      ],
      "metadata": {
        "colab": {
          "base_uri": "https://localhost:8080/"
        },
        "id": "fragggG32iKP",
        "outputId": "19d4fdb0-c9be-4900-8f56-fd89af75b1d9"
      },
      "execution_count": 21,
      "outputs": [
        {
          "output_type": "stream",
          "name": "stderr",
          "text": [
            "Epoch 0:  76%|███████▋  | 39/51 [00:00<00:00, 212.77batch/s]"
          ]
        },
        {
          "output_type": "stream",
          "name": "stdout",
          "text": [
            "End of 0,accuracy0.30000001192092896\n",
            "End of 0,accuracy0.10000000149011612\n",
            "End of 0,accuracy0.699999988079071\n",
            "End of 0,accuracy0.4000000059604645\n",
            "End of 0,accuracy0.30000001192092896\n",
            "End of 0,accuracy0.5\n",
            "End of 0,accuracy0.30000001192092896\n",
            "End of 0,accuracy0.30000001192092896\n",
            "End of 0,accuracy0.30000001192092896\n",
            "End of 0,accuracy0.20000000298023224\n",
            "End of 0,accuracy0.6000000238418579\n",
            "End of 0,accuracy0.30000001192092896\n",
            "End of 0,accuracy0.10000000149011612\n",
            "End of 0,accuracy0.4000000059604645\n",
            "End of 0,accuracy0.30000001192092896\n",
            "End of 0,accuracy0.5\n",
            "End of 0,accuracy0.30000001192092896\n",
            "End of 0,accuracy0.4000000059604645\n",
            "End of 0,accuracy0.5\n",
            "End of 0,accuracy0.4000000059604645\n",
            "End of 0,accuracy0.5\n",
            "End of 0,accuracy0.4000000059604645\n",
            "End of 0,accuracy0.20000000298023224\n",
            "End of 0,accuracy0.30000001192092896\n",
            "End of 0,accuracy0.30000001192092896\n",
            "End of 0,accuracy0.30000001192092896\n",
            "End of 0,accuracy0.30000001192092896\n",
            "End of 0,accuracy0.30000001192092896\n",
            "End of 0,accuracy0.6000000238418579\n",
            "End of 0,accuracy0.6000000238418579\n",
            "End of 0,accuracy0.10000000149011612\n",
            "End of 0,accuracy0.4000000059604645\n",
            "End of 0,accuracy0.30000001192092896\n",
            "End of 0,accuracy0.30000001192092896\n",
            "End of 0,accuracy0.20000000298023224\n",
            "End of 0,accuracy0.30000001192092896\n",
            "End of 0,accuracy0.6000000238418579\n",
            "End of 0,accuracy0.5\n",
            "End of 0,accuracy0.30000001192092896\n"
          ]
        },
        {
          "output_type": "stream",
          "name": "stderr",
          "text": [
            "Epoch 0: 100%|██████████| 51/51 [00:00<00:00, 192.33batch/s]\n"
          ]
        },
        {
          "output_type": "stream",
          "name": "stdout",
          "text": [
            "End of 0,accuracy0.6000000238418579\n",
            "End of 0,accuracy0.5\n",
            "End of 0,accuracy0.20000000298023224\n",
            "End of 0,accuracy0.4000000059604645\n",
            "End of 0,accuracy0.6000000238418579\n",
            "End of 0,accuracy0.4000000059604645\n",
            "End of 0,accuracy0.30000001192092896\n",
            "End of 0,accuracy0.4000000059604645\n",
            "End of 0,accuracy0.6000000238418579\n",
            "End of 0,accuracy0.8999999761581421\n",
            "End of 0,accuracy0.30000001192092896\n",
            "End of 0,accuracy0.6000000238418579\n"
          ]
        },
        {
          "output_type": "stream",
          "name": "stderr",
          "text": [
            "Epoch 1:  57%|█████▋    | 29/51 [00:00<00:00, 224.03batch/s]"
          ]
        },
        {
          "output_type": "stream",
          "name": "stdout",
          "text": [
            "End of 1,accuracy0.4000000059604645\n",
            "End of 1,accuracy0.30000001192092896\n",
            "End of 1,accuracy0.699999988079071\n",
            "End of 1,accuracy0.4000000059604645\n",
            "End of 1,accuracy0.4000000059604645\n",
            "End of 1,accuracy0.5\n",
            "End of 1,accuracy0.30000001192092896\n",
            "End of 1,accuracy0.4000000059604645\n",
            "End of 1,accuracy0.4000000059604645\n",
            "End of 1,accuracy0.20000000298023224\n",
            "End of 1,accuracy0.800000011920929\n",
            "End of 1,accuracy0.5\n",
            "End of 1,accuracy0.4000000059604645\n",
            "End of 1,accuracy0.4000000059604645\n",
            "End of 1,accuracy0.20000000298023224\n",
            "End of 1,accuracy0.6000000238418579\n",
            "End of 1,accuracy0.4000000059604645\n",
            "End of 1,accuracy0.6000000238418579\n",
            "End of 1,accuracy0.5\n",
            "End of 1,accuracy0.5\n",
            "End of 1,accuracy0.6000000238418579\n",
            "End of 1,accuracy0.5\n",
            "End of 1,accuracy0.4000000059604645\n",
            "End of 1,accuracy0.5\n",
            "End of 1,accuracy0.4000000059604645\n",
            "End of 1,accuracy0.6000000238418579\n",
            "End of 1,accuracy0.6000000238418579\n",
            "End of 1,accuracy0.5\n",
            "End of 1,accuracy0.4000000059604645\n"
          ]
        },
        {
          "output_type": "stream",
          "name": "stderr",
          "text": [
            "Epoch 1:  80%|████████  | 41/51 [00:00<00:00, 207.03batch/s]"
          ]
        },
        {
          "output_type": "stream",
          "name": "stdout",
          "text": [
            "End of 1,accuracy0.6000000238418579\n",
            "End of 1,accuracy0.20000000298023224\n",
            "End of 1,accuracy0.6000000238418579\n",
            "End of 1,accuracy0.4000000059604645\n",
            "End of 1,accuracy0.5\n",
            "End of 1,accuracy0.20000000298023224\n",
            "End of 1,accuracy0.4000000059604645\n",
            "End of 1,accuracy0.5\n",
            "End of 1,accuracy0.699999988079071\n",
            "End of 1,accuracy0.30000001192092896\n",
            "End of 1,accuracy0.699999988079071\n",
            "End of 1,accuracy0.5\n"
          ]
        },
        {
          "output_type": "stream",
          "name": "stderr",
          "text": [
            "Epoch 1: 100%|██████████| 51/51 [00:00<00:00, 198.24batch/s]\n"
          ]
        },
        {
          "output_type": "stream",
          "name": "stdout",
          "text": [
            "End of 1,accuracy0.30000001192092896\n",
            "End of 1,accuracy0.4000000059604645\n",
            "End of 1,accuracy0.6000000238418579\n",
            "End of 1,accuracy0.30000001192092896\n",
            "End of 1,accuracy0.30000001192092896\n",
            "End of 1,accuracy0.4000000059604645\n",
            "End of 1,accuracy0.5\n",
            "End of 1,accuracy0.6000000238418579\n",
            "End of 1,accuracy0.6000000238418579\n",
            "End of 1,accuracy0.6000000238418579\n"
          ]
        },
        {
          "output_type": "stream",
          "name": "stderr",
          "text": [
            "Epoch 2:  24%|██▎       | 12/51 [00:00<00:00, 198.08batch/s]"
          ]
        },
        {
          "output_type": "stream",
          "name": "stdout",
          "text": [
            "End of 2,accuracy0.4000000059604645\n",
            "End of 2,accuracy0.5\n",
            "End of 2,accuracy0.699999988079071\n",
            "End of 2,accuracy0.4000000059604645\n",
            "End of 2,accuracy0.5\n",
            "End of 2,accuracy0.4000000059604645\n",
            "End of 2,accuracy0.4000000059604645\n",
            "End of 2,accuracy0.30000001192092896\n",
            "End of 2,accuracy0.5\n",
            "End of 2,accuracy0.5\n",
            "End of 2,accuracy0.800000011920929\n",
            "End of 2,accuracy0.5\n",
            "End of 2,accuracy0.800000011920929"
          ]
        },
        {
          "output_type": "stream",
          "name": "stderr",
          "text": [
            "Epoch 2:  47%|████▋     | 24/51 [00:00<00:00, 172.12batch/s]"
          ]
        },
        {
          "output_type": "stream",
          "name": "stdout",
          "text": [
            "\n",
            "End of 2,accuracy0.30000001192092896\n",
            "End of 2,accuracy0.30000001192092896\n",
            "End of 2,accuracy0.5\n",
            "End of 2,accuracy0.6000000238418579\n",
            "End of 2,accuracy0.699999988079071\n",
            "End of 2,accuracy0.6000000238418579\n",
            "End of 2,accuracy0.6000000238418579\n",
            "End of 2,accuracy0.800000011920929\n",
            "End of 2,accuracy0.4000000059604645\n",
            "End of 2,accuracy0.6000000238418579\n",
            "End of 2,accuracy0.6000000238418579\n"
          ]
        },
        {
          "output_type": "stream",
          "name": "stderr",
          "text": [
            "Epoch 2:  67%|██████▋   | 34/51 [00:00<00:00, 177.35batch/s]"
          ]
        },
        {
          "output_type": "stream",
          "name": "stdout",
          "text": [
            "End of 2,accuracy0.4000000059604645\n",
            "End of 2,accuracy0.6000000238418579\n",
            "End of 2,accuracy0.800000011920929\n",
            "End of 2,accuracy0.800000011920929\n",
            "End of 2,accuracy0.6000000238418579\n",
            "End of 2,accuracy0.30000001192092896\n",
            "End of 2,accuracy0.5\n",
            "End of 2,accuracy0.699999988079071\n",
            "End of 2,accuracy0.20000000298023224\n",
            "End of 2,accuracy0.6000000238418579\n"
          ]
        },
        {
          "output_type": "stream",
          "name": "stderr",
          "text": [
            "Epoch 2:  96%|█████████▌| 49/51 [00:00<00:00, 206.46batch/s]"
          ]
        },
        {
          "output_type": "stream",
          "name": "stdout",
          "text": [
            "End of 2,accuracy0.30000001192092896\n",
            "End of 2,accuracy0.6000000238418579\n",
            "End of 2,accuracy0.4000000059604645\n",
            "End of 2,accuracy0.6000000238418579\n",
            "End of 2,accuracy0.6000000238418579\n",
            "End of 2,accuracy0.699999988079071\n",
            "End of 2,accuracy0.6000000238418579\n",
            "End of 2,accuracy0.4000000059604645\n",
            "End of 2,accuracy0.30000001192092896\n",
            "End of 2,accuracy0.6000000238418579\n",
            "End of 2,accuracy0.5\n",
            "End of 2,accuracy0.5\n",
            "End of 2,accuracy0.4000000059604645\n",
            "End of 2,accuracy0.5\n",
            "End of 2,accuracy0.699999988079071\n"
          ]
        },
        {
          "output_type": "stream",
          "name": "stderr",
          "text": [
            "Epoch 2: 100%|██████████| 51/51 [00:00<00:00, 173.82batch/s]\n"
          ]
        },
        {
          "output_type": "stream",
          "name": "stdout",
          "text": [
            "End of 2,accuracy0.699999988079071\n",
            "End of 2,accuracy0.800000011920929\n"
          ]
        },
        {
          "output_type": "stream",
          "name": "stderr",
          "text": [
            "Epoch 3:  18%|█▊        | 9/51 [00:00<00:00, 207.51batch/s]"
          ]
        },
        {
          "output_type": "stream",
          "name": "stdout",
          "text": [
            "End of 3,accuracy0.5\n",
            "End of 3,accuracy0.699999988079071\n",
            "End of 3,accuracy0.5\n",
            "End of 3,accuracy0.20000000298023224\n",
            "End of 3,accuracy0.699999988079071\n",
            "End of 3,accuracy0.6000000238418579\n",
            "End of 3,accuracy0.699999988079071\n",
            "End of 3,accuracy0.5\n",
            "End of 3,accuracy0.5\n",
            "End of 3,accuracy0.4000000059604645"
          ]
        },
        {
          "output_type": "stream",
          "name": "stderr",
          "text": [
            "Epoch 3:  39%|███▉      | 20/51 [00:00<00:00, 200.04batch/s]"
          ]
        },
        {
          "output_type": "stream",
          "name": "stdout",
          "text": [
            "\n",
            "End of 3,accuracy0.800000011920929\n",
            "End of 3,accuracy0.4000000059604645\n",
            "End of 3,accuracy0.800000011920929\n",
            "End of 3,accuracy0.4000000059604645\n",
            "End of 3,accuracy0.4000000059604645\n",
            "End of 3,accuracy0.4000000059604645\n",
            "End of 3,accuracy0.8999999761581421\n",
            "End of 3,accuracy0.8999999761581421\n",
            "End of 3,accuracy0.699999988079071\n",
            "End of 3,accuracy0.6000000238418579\n",
            "End of 3,accuracy0.800000011920929"
          ]
        },
        {
          "output_type": "stream",
          "name": "stderr",
          "text": [
            "Epoch 3:  71%|███████   | 36/51 [00:00<00:00, 202.89batch/s]"
          ]
        },
        {
          "output_type": "stream",
          "name": "stdout",
          "text": [
            "\n",
            "End of 3,accuracy0.6000000238418579\n",
            "End of 3,accuracy0.6000000238418579\n",
            "End of 3,accuracy0.5\n",
            "End of 3,accuracy0.4000000059604645\n",
            "End of 3,accuracy0.4000000059604645\n",
            "End of 3,accuracy0.699999988079071\n",
            "End of 3,accuracy0.8999999761581421\n",
            "End of 3,accuracy0.6000000238418579\n",
            "End of 3,accuracy0.20000000298023224\n",
            "End of 3,accuracy0.6000000238418579\n",
            "End of 3,accuracy0.800000011920929\n",
            "End of 3,accuracy0.4000000059604645\n",
            "End of 3,accuracy0.699999988079071\n",
            "End of 3,accuracy0.4000000059604645\n",
            "End of 3,accuracy0.699999988079071\n"
          ]
        },
        {
          "output_type": "stream",
          "name": "stderr",
          "text": [
            "Epoch 3:  80%|████████  | 41/51 [00:00<00:00, 187.69batch/s]"
          ]
        },
        {
          "output_type": "stream",
          "name": "stdout",
          "text": [
            "End of 3,accuracy0.5\n",
            "End of 3,accuracy0.6000000238418579\n",
            "End of 3,accuracy0.6000000238418579\n",
            "End of 3,accuracy0.8999999761581421\n",
            "End of 3,accuracy0.6000000238418579\n"
          ]
        },
        {
          "output_type": "stream",
          "name": "stderr",
          "text": [
            "Epoch 3:  96%|█████████▌| 49/51 [00:00<00:00, 193.26batch/s]"
          ]
        },
        {
          "output_type": "stream",
          "name": "stdout",
          "text": [
            "End of 3,accuracy0.5\n",
            "End of 3,accuracy0.30000001192092896\n",
            "End of 3,accuracy0.800000011920929\n",
            "End of 3,accuracy0.5\n",
            "End of 3,accuracy0.5\n",
            "End of 3,accuracy0.5\n",
            "End of 3,accuracy0.6000000238418579\n",
            "End of 3,accuracy0.6000000238418579\n"
          ]
        },
        {
          "output_type": "stream",
          "name": "stderr",
          "text": [
            "Epoch 3: 100%|██████████| 51/51 [00:00<00:00, 193.20batch/s]\n"
          ]
        },
        {
          "output_type": "stream",
          "name": "stdout",
          "text": [
            "End of 3,accuracy0.800000011920929\n",
            "End of 3,accuracy0.800000011920929\n"
          ]
        },
        {
          "output_type": "stream",
          "name": "stderr",
          "text": [
            "Epoch 4:  14%|█▎        | 7/51 [00:00<00:00, 208.29batch/s]"
          ]
        },
        {
          "output_type": "stream",
          "name": "stdout",
          "text": [
            "End of 4,accuracy0.5\n",
            "End of 4,accuracy0.699999988079071\n",
            "End of 4,accuracy0.5\n",
            "End of 4,accuracy0.20000000298023224\n",
            "End of 4,accuracy0.699999988079071\n",
            "End of 4,accuracy0.699999988079071\n",
            "End of 4,accuracy0.699999988079071\n",
            "End of 4,accuracy0.6000000238418579\n"
          ]
        },
        {
          "output_type": "stream",
          "name": "stderr",
          "text": [
            "Epoch 4:  45%|████▌     | 23/51 [00:00<00:00, 209.96batch/s]"
          ]
        },
        {
          "output_type": "stream",
          "name": "stdout",
          "text": [
            "End of 4,accuracy0.699999988079071\n",
            "End of 4,accuracy0.4000000059604645\n",
            "End of 4,accuracy0.6000000238418579\n",
            "End of 4,accuracy0.4000000059604645\n",
            "End of 4,accuracy0.800000011920929\n",
            "End of 4,accuracy0.4000000059604645\n",
            "End of 4,accuracy0.30000001192092896\n",
            "End of 4,accuracy0.4000000059604645\n",
            "End of 4,accuracy0.800000011920929\n",
            "End of 4,accuracy0.8999999761581421\n",
            "End of 4,accuracy0.699999988079071\n",
            "End of 4,accuracy0.4000000059604645\n",
            "End of 4,accuracy0.800000011920929\n",
            "End of 4,accuracy0.5\n",
            "End of 4,accuracy0.699999988079071\n"
          ]
        },
        {
          "output_type": "stream",
          "name": "stderr",
          "text": [
            "Epoch 4:  57%|█████▋    | 29/51 [00:00<00:00, 231.22batch/s]"
          ]
        },
        {
          "output_type": "stream",
          "name": "stdout",
          "text": [
            "End of 4,accuracy0.5\n",
            "End of 4,accuracy0.30000001192092896\n",
            "End of 4,accuracy0.5\n",
            "End of 4,accuracy0.699999988079071\n",
            "End of 4,accuracy0.8999999761581421\n",
            "End of 4,accuracy0.800000011920929\n"
          ]
        },
        {
          "output_type": "stream",
          "name": "stderr",
          "text": [
            "Epoch 4:  73%|███████▎  | 37/51 [00:00<00:00, 200.94batch/s]"
          ]
        },
        {
          "output_type": "stream",
          "name": "stdout",
          "text": [
            "End of 4,accuracy0.30000001192092896\n",
            "End of 4,accuracy0.699999988079071\n",
            "End of 4,accuracy0.800000011920929\n",
            "End of 4,accuracy0.6000000238418579\n",
            "End of 4,accuracy0.699999988079071\n",
            "End of 4,accuracy0.4000000059604645\n",
            "End of 4,accuracy0.800000011920929\n",
            "End of 4,accuracy0.5\n",
            "End of 4,accuracy0.699999988079071\n"
          ]
        },
        {
          "output_type": "stream",
          "name": "stderr",
          "text": [
            "Epoch 4:  78%|███████▊  | 40/51 [00:00<00:00, 203.86batch/s]"
          ]
        },
        {
          "output_type": "stream",
          "name": "stdout",
          "text": [
            "End of 4,accuracy0.699999988079071\n",
            "End of 4,accuracy0.800000011920929\n",
            "End of 4,accuracy0.6000000238418579\n"
          ]
        },
        {
          "output_type": "stream",
          "name": "stderr",
          "text": [
            "Epoch 4:  92%|█████████▏| 47/51 [00:00<00:00, 194.23batch/s]"
          ]
        },
        {
          "output_type": "stream",
          "name": "stdout",
          "text": [
            "End of 4,accuracy0.5\n",
            "End of 4,accuracy0.30000001192092896\n",
            "End of 4,accuracy0.699999988079071\n",
            "End of 4,accuracy0.30000001192092896\n",
            "End of 4,accuracy0.5\n",
            "End of 4,accuracy0.5\n"
          ]
        },
        {
          "output_type": "stream",
          "name": "stderr",
          "text": [
            "Epoch 4: 100%|██████████| 51/51 [00:00<00:00, 194.76batch/s]\n"
          ]
        },
        {
          "output_type": "stream",
          "name": "stdout",
          "text": [
            "End of 4,accuracy0.699999988079071\n",
            "End of 4,accuracy0.6000000238418579\n",
            "End of 4,accuracy0.800000011920929\n",
            "End of 4,accuracy0.800000011920929\n"
          ]
        },
        {
          "output_type": "stream",
          "name": "stderr",
          "text": [
            "Epoch 5:  20%|█▉        | 10/51 [00:00<00:00, 208.23batch/s]"
          ]
        },
        {
          "output_type": "stream",
          "name": "stdout",
          "text": [
            "End of 5,accuracy0.5\n",
            "End of 5,accuracy0.800000011920929\n",
            "End of 5,accuracy0.5\n",
            "End of 5,accuracy0.20000000298023224\n",
            "End of 5,accuracy0.699999988079071\n",
            "End of 5,accuracy0.699999988079071\n",
            "End of 5,accuracy0.699999988079071\n",
            "End of 5,accuracy0.6000000238418579\n",
            "End of 5,accuracy0.699999988079071\n",
            "End of 5,accuracy0.5\n"
          ]
        },
        {
          "output_type": "stream",
          "name": "stderr",
          "text": [
            "Epoch 5:  27%|██▋       | 14/51 [00:00<00:00, 163.86batch/s]"
          ]
        },
        {
          "output_type": "stream",
          "name": "stdout",
          "text": [
            "End of 5,accuracy0.6000000238418579\n",
            "End of 5,accuracy0.4000000059604645\n",
            "End of 5,accuracy0.8999999761581421\n",
            "End of 5,accuracy0.5\n"
          ]
        },
        {
          "output_type": "stream",
          "name": "stderr",
          "text": [
            "Epoch 5:  45%|████▌     | 23/51 [00:00<00:00, 201.00batch/s]"
          ]
        },
        {
          "output_type": "stream",
          "name": "stdout",
          "text": [
            "End of 5,accuracy0.5\n",
            "End of 5,accuracy0.4000000059604645\n",
            "End of 5,accuracy0.699999988079071\n",
            "End of 5,accuracy0.8999999761581421\n",
            "End of 5,accuracy0.699999988079071\n",
            "End of 5,accuracy0.5\n",
            "End of 5,accuracy0.800000011920929\n",
            "End of 5,accuracy0.4000000059604645\n",
            "End of 5,accuracy0.699999988079071\n"
          ]
        },
        {
          "output_type": "stream",
          "name": "stderr",
          "text": [
            "Epoch 5:  51%|█████     | 26/51 [00:00<00:00, 157.38batch/s]"
          ]
        },
        {
          "output_type": "stream",
          "name": "stdout",
          "text": [
            "End of 5,accuracy0.5\n",
            "End of 5,accuracy0.6000000238418579\n",
            "End of 5,accuracy0.6000000238418579\n"
          ]
        },
        {
          "output_type": "stream",
          "name": "stderr",
          "text": [
            "Epoch 5:  65%|██████▍   | 33/51 [00:00<00:00, 217.66batch/s]"
          ]
        },
        {
          "output_type": "stream",
          "name": "stdout",
          "text": [
            "End of 5,accuracy0.6000000238418579\n",
            "End of 5,accuracy0.8999999761581421\n",
            "End of 5,accuracy0.800000011920929\n",
            "End of 5,accuracy0.5\n",
            "End of 5,accuracy0.6000000238418579\n",
            "End of 5,accuracy0.8999999761581421\n",
            "End of 5,accuracy0.4000000059604645\n"
          ]
        },
        {
          "output_type": "stream",
          "name": "stderr",
          "text": [
            "Epoch 5:  75%|███████▍  | 38/51 [00:00<00:00, 186.27batch/s]"
          ]
        },
        {
          "output_type": "stream",
          "name": "stdout",
          "text": [
            "End of 5,accuracy0.699999988079071\n",
            "End of 5,accuracy0.6000000238418579\n",
            "End of 5,accuracy0.800000011920929\n",
            "End of 5,accuracy0.6000000238418579\n",
            "End of 5,accuracy0.6000000238418579\n"
          ]
        },
        {
          "output_type": "stream",
          "name": "stderr",
          "text": [
            "Epoch 5:  94%|█████████▍| 48/51 [00:00<00:00, 195.52batch/s]"
          ]
        },
        {
          "output_type": "stream",
          "name": "stdout",
          "text": [
            "End of 5,accuracy0.800000011920929\n",
            "End of 5,accuracy0.800000011920929\n",
            "End of 5,accuracy0.5\n",
            "End of 5,accuracy0.6000000238418579\n",
            "End of 5,accuracy0.5\n",
            "End of 5,accuracy0.699999988079071\n",
            "End of 5,accuracy0.30000001192092896\n",
            "End of 5,accuracy0.5\n",
            "End of 5,accuracy0.5\n",
            "End of 5,accuracy0.6000000238418579\n"
          ]
        },
        {
          "output_type": "stream",
          "name": "stderr",
          "text": [
            "Epoch 5: 100%|██████████| 51/51 [00:00<00:00, 186.52batch/s]\n"
          ]
        },
        {
          "output_type": "stream",
          "name": "stdout",
          "text": [
            "End of 5,accuracy0.5\n",
            "End of 5,accuracy1.0\n",
            "End of 5,accuracy0.800000011920929\n"
          ]
        },
        {
          "output_type": "stream",
          "name": "stderr",
          "text": [
            "Epoch 6:   2%|▏         | 1/51 [00:00<00:00, 238.23batch/s]"
          ]
        },
        {
          "output_type": "stream",
          "name": "stdout",
          "text": [
            "End of 6,accuracy0.699999988079071\n"
          ]
        },
        {
          "output_type": "stream",
          "name": "stderr",
          "text": [
            "Epoch 6:  12%|█▏        | 6/51 [00:00<00:00, 127.96batch/s]"
          ]
        },
        {
          "output_type": "stream",
          "name": "stdout",
          "text": [
            "End of 6,accuracy0.800000011920929\n",
            "End of 6,accuracy0.5\n",
            "End of 6,accuracy0.20000000298023224\n",
            "End of 6,accuracy1.0\n",
            "End of 6,accuracy0.6000000238418579\n"
          ]
        },
        {
          "output_type": "stream",
          "name": "stderr",
          "text": [
            "Epoch 6:  20%|█▉        | 10/51 [00:00<00:00, 165.63batch/s]"
          ]
        },
        {
          "output_type": "stream",
          "name": "stdout",
          "text": [
            "End of 6,accuracy0.800000011920929\n",
            "End of 6,accuracy0.6000000238418579\n",
            "End of 6,accuracy0.699999988079071\n",
            "End of 6,accuracy0.6000000238418579\n"
          ]
        },
        {
          "output_type": "stream",
          "name": "stderr",
          "text": [
            "Epoch 6:  31%|███▏      | 16/51 [00:00<00:00, 168.50batch/s]"
          ]
        },
        {
          "output_type": "stream",
          "name": "stdout",
          "text": [
            "End of 6,accuracy0.6000000238418579\n",
            "End of 6,accuracy0.4000000059604645\n",
            "End of 6,accuracy0.800000011920929\n",
            "End of 6,accuracy0.5\n",
            "End of 6,accuracy0.6000000238418579\n",
            "End of 6,accuracy0.4000000059604645\n"
          ]
        },
        {
          "output_type": "stream",
          "name": "stderr",
          "text": [
            "Epoch 6:  43%|████▎     | 22/51 [00:00<00:00, 196.82batch/s]"
          ]
        },
        {
          "output_type": "stream",
          "name": "stdout",
          "text": [
            "End of 6,accuracy0.699999988079071\n",
            "End of 6,accuracy0.800000011920929\n",
            "End of 6,accuracy0.800000011920929\n",
            "End of 6,accuracy0.6000000238418579\n",
            "End of 6,accuracy0.800000011920929\n",
            "End of 6,accuracy0.5\n"
          ]
        },
        {
          "output_type": "stream",
          "name": "stderr",
          "text": [
            "Epoch 6:  61%|██████    | 31/51 [00:00<00:00, 197.16batch/s]"
          ]
        },
        {
          "output_type": "stream",
          "name": "stdout",
          "text": [
            "End of 6,accuracy0.699999988079071\n",
            "End of 6,accuracy0.5\n",
            "End of 6,accuracy0.6000000238418579\n",
            "End of 6,accuracy0.800000011920929\n",
            "End of 6,accuracy0.800000011920929\n",
            "End of 6,accuracy1.0\n",
            "End of 6,accuracy0.699999988079071\n",
            "End of 6,accuracy0.6000000238418579\n",
            "End of 6,accuracy0.6000000238418579\n"
          ]
        },
        {
          "output_type": "stream",
          "name": "stderr",
          "text": [
            "Epoch 6:  69%|██████▊   | 35/51 [00:00<00:00, 203.19batch/s]"
          ]
        },
        {
          "output_type": "stream",
          "name": "stdout",
          "text": [
            "End of 6,accuracy0.8999999761581421\n",
            "End of 6,accuracy0.4000000059604645\n",
            "End of 6,accuracy0.699999988079071\n",
            "End of 6,accuracy0.5\n",
            "End of 6,accuracy0.699999988079071\n"
          ]
        },
        {
          "output_type": "stream",
          "name": "stderr",
          "text": [
            "Epoch 6:  73%|███████▎  | 37/51 [00:00<00:00, 194.93batch/s]"
          ]
        },
        {
          "output_type": "stream",
          "name": "stdout",
          "text": [
            "End of 6,accuracy0.5\n"
          ]
        },
        {
          "output_type": "stream",
          "name": "stderr",
          "text": [
            "Epoch 6:  88%|████████▊ | 45/51 [00:00<00:00, 206.10batch/s]"
          ]
        },
        {
          "output_type": "stream",
          "name": "stdout",
          "text": [
            "End of 6,accuracy0.6000000238418579\n",
            "End of 6,accuracy0.800000011920929\n",
            "End of 6,accuracy0.800000011920929\n",
            "End of 6,accuracy0.4000000059604645\n",
            "End of 6,accuracy0.699999988079071\n",
            "End of 6,accuracy0.5\n",
            "End of 6,accuracy0.5\n",
            "End of 6,accuracy0.30000001192092896\n"
          ]
        },
        {
          "output_type": "stream",
          "name": "stderr",
          "text": [
            "Epoch 6:  92%|█████████▏| 47/51 [00:00<00:00, 155.53batch/s]"
          ]
        },
        {
          "output_type": "stream",
          "name": "stdout",
          "text": [
            "End of 6,accuracy0.5\n",
            "End of 6,accuracy0.5\n",
            "End of 6,accuracy0.6000000238418579"
          ]
        },
        {
          "output_type": "stream",
          "name": "stderr",
          "text": [
            "Epoch 6: 100%|██████████| 51/51 [00:00<00:00, 139.68batch/s]"
          ]
        },
        {
          "output_type": "stream",
          "name": "stdout",
          "text": [
            "\n",
            "End of 6,accuracy0.5\n",
            "End of 6,accuracy0.800000011920929\n",
            "End of 6,accuracy0.800000011920929\n"
          ]
        },
        {
          "output_type": "stream",
          "name": "stderr",
          "text": [
            "Epoch 6: 100%|██████████| 51/51 [00:00<00:00, 168.79batch/s]\n",
            "Epoch 7:   6%|▌         | 3/51 [00:00<00:00, 146.34batch/s]"
          ]
        },
        {
          "output_type": "stream",
          "name": "stdout",
          "text": [
            "End of 7,accuracy0.6000000238418579\n",
            "End of 7,accuracy0.800000011920929\n",
            "End of 7,accuracy0.5\n"
          ]
        },
        {
          "output_type": "stream",
          "name": "stderr",
          "text": [
            "Epoch 7:  22%|██▏       | 11/51 [00:00<00:00, 140.54batch/s]"
          ]
        },
        {
          "output_type": "stream",
          "name": "stdout",
          "text": [
            "End of 7,accuracy0.4000000059604645\n",
            "End of 7,accuracy0.8999999761581421\n",
            "End of 7,accuracy0.6000000238418579\n",
            "End of 7,accuracy0.6000000238418579\n",
            "End of 7,accuracy0.699999988079071\n",
            "End of 7,accuracy0.699999988079071\n",
            "End of 7,accuracy0.6000000238418579\n",
            "End of 7,accuracy0.699999988079071\n",
            "End of 7,accuracy0.5\n"
          ]
        },
        {
          "output_type": "stream",
          "name": "stderr",
          "text": [
            "Epoch 7:  31%|███▏      | 16/51 [00:00<00:00, 195.43batch/s]"
          ]
        },
        {
          "output_type": "stream",
          "name": "stdout",
          "text": [
            "End of 7,accuracy0.800000011920929\n",
            "End of 7,accuracy0.4000000059604645\n",
            "End of 7,accuracy0.699999988079071\n",
            "End of 7,accuracy0.4000000059604645\n"
          ]
        },
        {
          "output_type": "stream",
          "name": "stderr",
          "text": [
            "\rEpoch 7:  33%|███▎      | 17/51 [00:00<00:00, 185.44batch/s]"
          ]
        },
        {
          "output_type": "stream",
          "name": "stdout",
          "text": [
            "End of 7,accuracy0.6000000238418579\n"
          ]
        },
        {
          "output_type": "stream",
          "name": "stderr",
          "text": [
            "Epoch 7:  47%|████▋     | 24/51 [00:00<00:00, 188.05batch/s]"
          ]
        },
        {
          "output_type": "stream",
          "name": "stdout",
          "text": [
            "End of 7,accuracy0.800000011920929\n",
            "End of 7,accuracy0.699999988079071\n",
            "End of 7,accuracy0.6000000238418579\n",
            "End of 7,accuracy0.800000011920929\n",
            "End of 7,accuracy0.5\n",
            "End of 7,accuracy0.699999988079071\n",
            "End of 7,accuracy0.5\n"
          ]
        },
        {
          "output_type": "stream",
          "name": "stderr",
          "text": [
            "Epoch 7:  55%|█████▍    | 28/51 [00:00<00:00, 195.96batch/s]"
          ]
        },
        {
          "output_type": "stream",
          "name": "stdout",
          "text": [
            "End of 7,accuracy0.6000000238418579\n",
            "End of 7,accuracy0.800000011920929\n",
            "End of 7,accuracy0.8999999761581421\n",
            "End of 7,accuracy1.0\n"
          ]
        },
        {
          "output_type": "stream",
          "name": "stderr",
          "text": [
            "Epoch 7:  69%|██████▊   | 35/51 [00:00<00:00, 137.93batch/s]"
          ]
        },
        {
          "output_type": "stream",
          "name": "stdout",
          "text": [
            "End of 7,accuracy0.699999988079071\n",
            "End of 7,accuracy0.6000000238418579\n",
            "End of 7,accuracy0.699999988079071\n",
            "End of 7,accuracy0.8999999761581421\n",
            "End of 7,accuracy0.4000000059604645\n",
            "End of 7,accuracy0.699999988079071\n",
            "End of 7,accuracy0.6000000238418579\n"
          ]
        },
        {
          "output_type": "stream",
          "name": "stderr",
          "text": [
            "Epoch 7:  76%|███████▋  | 39/51 [00:00<00:00, 173.40batch/s]"
          ]
        },
        {
          "output_type": "stream",
          "name": "stdout",
          "text": [
            "End of 7,accuracy0.6000000238418579\n",
            "End of 7,accuracy0.4000000059604645\n",
            "End of 7,accuracy0.5\n",
            "End of 7,accuracy0.800000011920929\n"
          ]
        },
        {
          "output_type": "stream",
          "name": "stderr",
          "text": [
            "Epoch 7:  98%|█████████▊| 50/51 [00:00<00:00, 196.36batch/s]"
          ]
        },
        {
          "output_type": "stream",
          "name": "stdout",
          "text": [
            "End of 7,accuracy0.800000011920929\n",
            "End of 7,accuracy0.4000000059604645\n",
            "End of 7,accuracy0.6000000238418579\n",
            "End of 7,accuracy0.699999988079071\n",
            "End of 7,accuracy0.5\n",
            "End of 7,accuracy0.4000000059604645\n",
            "End of 7,accuracy0.30000001192092896\n",
            "End of 7,accuracy0.5\n",
            "End of 7,accuracy0.6000000238418579\n",
            "End of 7,accuracy0.4000000059604645\n",
            "End of 7,accuracy0.800000011920929\n"
          ]
        },
        {
          "output_type": "stream",
          "name": "stderr",
          "text": [
            "Epoch 7: 100%|██████████| 51/51 [00:00<00:00, 175.51batch/s]\n"
          ]
        },
        {
          "output_type": "stream",
          "name": "stdout",
          "text": [
            "End of 7,accuracy0.699999988079071\n"
          ]
        },
        {
          "output_type": "stream",
          "name": "stderr",
          "text": [
            "Epoch 8:   2%|▏         | 1/51 [00:00<00:00, 275.05batch/s]"
          ]
        },
        {
          "output_type": "stream",
          "name": "stdout",
          "text": [
            "End of 8,accuracy0.6000000238418579\n"
          ]
        },
        {
          "output_type": "stream",
          "name": "stderr",
          "text": [
            "\rEpoch 8:   4%|▍         | 2/51 [00:00<00:00, 186.12batch/s]"
          ]
        },
        {
          "output_type": "stream",
          "name": "stdout",
          "text": [
            "End of 8,accuracy0.800000011920929\n"
          ]
        },
        {
          "output_type": "stream",
          "name": "stderr",
          "text": [
            "Epoch 8:  18%|█▊        | 9/51 [00:00<00:00, 200.90batch/s]"
          ]
        },
        {
          "output_type": "stream",
          "name": "stdout",
          "text": [
            "End of 8,accuracy0.6000000238418579\n",
            "End of 8,accuracy0.4000000059604645\n",
            "End of 8,accuracy0.8999999761581421\n",
            "End of 8,accuracy0.6000000238418579\n",
            "End of 8,accuracy0.5\n",
            "End of 8,accuracy0.699999988079071\n",
            "End of 8,accuracy0.699999988079071\n",
            "End of 8,accuracy0.699999988079071"
          ]
        },
        {
          "output_type": "stream",
          "name": "stderr",
          "text": [
            "Epoch 8:  25%|██▌       | 13/51 [00:00<00:00, 188.49batch/s]"
          ]
        },
        {
          "output_type": "stream",
          "name": "stdout",
          "text": [
            "\n",
            "End of 8,accuracy0.699999988079071\n",
            "End of 8,accuracy0.5\n",
            "End of 8,accuracy0.800000011920929\n"
          ]
        },
        {
          "output_type": "stream",
          "name": "stderr",
          "text": [
            "Epoch 8:  41%|████      | 21/51 [00:00<00:00, 198.86batch/s]"
          ]
        },
        {
          "output_type": "stream",
          "name": "stdout",
          "text": [
            "End of 8,accuracy0.4000000059604645\n",
            "End of 8,accuracy0.699999988079071\n",
            "End of 8,accuracy0.4000000059604645\n",
            "End of 8,accuracy0.5\n",
            "End of 8,accuracy0.800000011920929\n",
            "End of 8,accuracy0.6000000238418579\n",
            "End of 8,accuracy0.6000000238418579\n",
            "End of 8,accuracy0.800000011920929\n"
          ]
        },
        {
          "output_type": "stream",
          "name": "stderr",
          "text": [
            "Epoch 8:  47%|████▋     | 24/51 [00:00<00:00, 152.69batch/s]"
          ]
        },
        {
          "output_type": "stream",
          "name": "stdout",
          "text": [
            "End of 8,accuracy0.30000001192092896\n",
            "End of 8,accuracy0.699999988079071\n",
            "End of 8,accuracy0.5\n"
          ]
        },
        {
          "output_type": "stream",
          "name": "stderr",
          "text": [
            "Epoch 8:  63%|██████▎   | 32/51 [00:00<00:00, 148.17batch/s]"
          ]
        },
        {
          "output_type": "stream",
          "name": "stdout",
          "text": [
            "End of 8,accuracy0.6000000238418579\n",
            "End of 8,accuracy0.800000011920929\n",
            "End of 8,accuracy0.8999999761581421\n",
            "End of 8,accuracy1.0\n",
            "End of 8,accuracy0.6000000238418579\n",
            "End of 8,accuracy0.6000000238418579\n",
            "End of 8,accuracy0.800000011920929\n",
            "End of 8,accuracy0.8999999761581421\n"
          ]
        },
        {
          "output_type": "stream",
          "name": "stderr",
          "text": [
            "Epoch 8:  67%|██████▋   | 34/51 [00:00<00:00, 164.12batch/s]"
          ]
        },
        {
          "output_type": "stream",
          "name": "stdout",
          "text": [
            "End of 8,accuracy0.4000000059604645\n",
            "End of 8,accuracy0.6000000238418579\n",
            "End of 8,accuracy0.6000000238418579\n"
          ]
        },
        {
          "output_type": "stream",
          "name": "stderr",
          "text": [
            "\rEpoch 8:  69%|██████▊   | 35/51 [00:00<00:00, 172.11batch/s]"
          ]
        },
        {
          "output_type": "stream",
          "name": "stdout",
          "text": [
            "End of 8,accuracy0.6000000238418579\n"
          ]
        },
        {
          "output_type": "stream",
          "name": "stderr",
          "text": [
            "Epoch 8:  73%|███████▎  | 37/51 [00:00<00:00, 173.62batch/s]"
          ]
        },
        {
          "output_type": "stream",
          "name": "stdout",
          "text": [
            "End of 8,accuracy0.4000000059604645\n"
          ]
        },
        {
          "output_type": "stream",
          "name": "stderr",
          "text": [
            "Epoch 8:  82%|████████▏ | 42/51 [00:00<00:00, 152.91batch/s]"
          ]
        },
        {
          "output_type": "stream",
          "name": "stdout",
          "text": [
            "End of 8,accuracy0.6000000238418579\n",
            "End of 8,accuracy0.800000011920929\n",
            "End of 8,accuracy0.800000011920929\n",
            "End of 8,accuracy0.4000000059604645\n",
            "End of 8,accuracy0.4000000059604645\n"
          ]
        },
        {
          "output_type": "stream",
          "name": "stderr",
          "text": [
            "Epoch 8:  90%|█████████ | 46/51 [00:00<00:00, 177.38batch/s]"
          ]
        },
        {
          "output_type": "stream",
          "name": "stdout",
          "text": [
            "End of 8,accuracy0.699999988079071\n",
            "End of 8,accuracy0.5\n",
            "End of 8,accuracy0.4000000059604645\n",
            "End of 8,accuracy0.4000000059604645\n"
          ]
        },
        {
          "output_type": "stream",
          "name": "stderr",
          "text": [
            "Epoch 8: 100%|██████████| 51/51 [00:00<00:00, 168.89batch/s]\n"
          ]
        },
        {
          "output_type": "stream",
          "name": "stdout",
          "text": [
            "End of 8,accuracy0.6000000238418579\n",
            "End of 8,accuracy0.6000000238418579\n",
            "End of 8,accuracy0.4000000059604645\n",
            "End of 8,accuracy0.800000011920929\n",
            "End of 8,accuracy0.699999988079071\n"
          ]
        },
        {
          "output_type": "stream",
          "name": "stderr",
          "text": [
            "Epoch 9:   4%|▍         | 2/51 [00:00<00:00, 183.84batch/s]"
          ]
        },
        {
          "output_type": "stream",
          "name": "stdout",
          "text": [
            "End of 9,accuracy0.6000000238418579\n",
            "End of 9,accuracy0.800000011920929\n"
          ]
        },
        {
          "output_type": "stream",
          "name": "stderr",
          "text": [
            "Epoch 9:  12%|█▏        | 6/51 [00:00<00:00, 180.22batch/s]"
          ]
        },
        {
          "output_type": "stream",
          "name": "stdout",
          "text": [
            "End of 9,accuracy0.6000000238418579\n",
            "End of 9,accuracy0.4000000059604645\n",
            "End of 9,accuracy0.8999999761581421\n",
            "End of 9,accuracy0.5\n"
          ]
        },
        {
          "output_type": "stream",
          "name": "stderr",
          "text": [
            "Epoch 9:  31%|███▏      | 16/51 [00:00<00:00, 209.72batch/s]"
          ]
        },
        {
          "output_type": "stream",
          "name": "stdout",
          "text": [
            "End of 9,accuracy0.5\n",
            "End of 9,accuracy0.800000011920929\n",
            "End of 9,accuracy0.699999988079071\n",
            "End of 9,accuracy0.699999988079071\n",
            "End of 9,accuracy0.699999988079071\n",
            "End of 9,accuracy0.5\n",
            "End of 9,accuracy0.800000011920929\n",
            "End of 9,accuracy0.30000001192092896\n",
            "End of 9,accuracy0.699999988079071\n",
            "End of 9,accuracy0.5\n"
          ]
        },
        {
          "output_type": "stream",
          "name": "stderr",
          "text": [
            "Epoch 9:  37%|███▋      | 19/51 [00:00<00:00, 199.23batch/s]"
          ]
        },
        {
          "output_type": "stream",
          "name": "stdout",
          "text": [
            "End of 9,accuracy0.5\n",
            "End of 9,accuracy0.800000011920929\n",
            "End of 9,accuracy0.6000000238418579\n"
          ]
        },
        {
          "output_type": "stream",
          "name": "stderr",
          "text": [
            "\rEpoch 9:  39%|███▉      | 20/51 [00:00<00:00, 189.83batch/s]"
          ]
        },
        {
          "output_type": "stream",
          "name": "stdout",
          "text": [
            "End of 9,accuracy0.6000000238418579\n",
            "End of 9,accuracy0.800000011920929\n"
          ]
        },
        {
          "output_type": "stream",
          "name": "stderr",
          "text": [
            "Epoch 9:  49%|████▉     | 25/51 [00:00<00:00, 135.65batch/s]"
          ]
        },
        {
          "output_type": "stream",
          "name": "stdout",
          "text": [
            "End of 9,accuracy0.30000001192092896\n",
            "End of 9,accuracy0.699999988079071\n",
            "End of 9,accuracy0.5\n",
            "End of 9,accuracy0.699999988079071\n"
          ]
        },
        {
          "output_type": "stream",
          "name": "stderr",
          "text": [
            "Epoch 9:  53%|█████▎    | 27/51 [00:00<00:00, 110.52batch/s]"
          ]
        },
        {
          "output_type": "stream",
          "name": "stdout",
          "text": [
            "End of 9,accuracy0.800000011920929\n",
            "End of 9,accuracy0.8999999761581421\n"
          ]
        },
        {
          "output_type": "stream",
          "name": "stderr",
          "text": [
            "Epoch 9:  65%|██████▍   | 33/51 [00:00<00:00, 181.79batch/s]"
          ]
        },
        {
          "output_type": "stream",
          "name": "stdout",
          "text": [
            "End of 9,accuracy0.8999999761581421\n",
            "End of 9,accuracy0.6000000238418579\n",
            "End of 9,accuracy0.6000000238418579\n",
            "End of 9,accuracy0.6000000238418579\n",
            "End of 9,accuracy0.800000011920929\n",
            "End of 9,accuracy0.6000000238418579\n",
            "End of 9,accuracy0.6000000238418579"
          ]
        },
        {
          "output_type": "stream",
          "name": "stderr",
          "text": [
            "Epoch 9:  69%|██████▊   | 35/51 [00:00<00:00, 172.82batch/s]"
          ]
        },
        {
          "output_type": "stream",
          "name": "stdout",
          "text": [
            "\n",
            "End of 9,accuracy0.6000000238418579\n"
          ]
        },
        {
          "output_type": "stream",
          "name": "stderr",
          "text": [
            "Epoch 9:  76%|███████▋  | 39/51 [00:00<00:00, 175.99batch/s]"
          ]
        },
        {
          "output_type": "stream",
          "name": "stdout",
          "text": [
            "End of 9,accuracy0.6000000238418579\n",
            "End of 9,accuracy0.4000000059604645\n",
            "End of 9,accuracy0.6000000238418579\n",
            "End of 9,accuracy0.800000011920929\n"
          ]
        },
        {
          "output_type": "stream",
          "name": "stderr",
          "text": [
            "Epoch 9:  94%|█████████▍| 48/51 [00:00<00:00, 187.52batch/s]"
          ]
        },
        {
          "output_type": "stream",
          "name": "stdout",
          "text": [
            "End of 9,accuracy0.800000011920929\n",
            "End of 9,accuracy0.4000000059604645\n",
            "End of 9,accuracy0.4000000059604645\n",
            "End of 9,accuracy0.699999988079071\n",
            "End of 9,accuracy0.4000000059604645\n",
            "End of 9,accuracy0.4000000059604645\n",
            "End of 9,accuracy0.4000000059604645\n",
            "End of 9,accuracy0.6000000238418579\n",
            "End of 9,accuracy0.6000000238418579\n"
          ]
        },
        {
          "output_type": "stream",
          "name": "stderr",
          "text": [
            "Epoch 9: 100%|██████████| 51/51 [00:00<00:00, 176.63batch/s]"
          ]
        },
        {
          "output_type": "stream",
          "name": "stdout",
          "text": [
            "End of 9,accuracy0.4000000059604645\n",
            "End of 9,accuracy0.800000011920929\n",
            "End of 9,accuracy0.699999988079071\n"
          ]
        },
        {
          "output_type": "stream",
          "name": "stderr",
          "text": [
            "Epoch 9: 100%|██████████| 51/51 [00:00<00:00, 166.22batch/s]\n",
            "Epoch 10:   4%|▍         | 2/51 [00:00<00:00, 195.30batch/s]"
          ]
        },
        {
          "output_type": "stream",
          "name": "stdout",
          "text": [
            "End of 10,accuracy0.6000000238418579\n",
            "End of 10,accuracy0.800000011920929\n"
          ]
        },
        {
          "output_type": "stream",
          "name": "stderr",
          "text": [
            "Epoch 10:  14%|█▎        | 7/51 [00:00<00:00, 165.97batch/s]"
          ]
        },
        {
          "output_type": "stream",
          "name": "stdout",
          "text": [
            "End of 10,accuracy0.699999988079071\n",
            "End of 10,accuracy0.4000000059604645\n",
            "End of 10,accuracy0.8999999761581421\n",
            "End of 10,accuracy0.5\n",
            "End of 10,accuracy0.5\n"
          ]
        },
        {
          "output_type": "stream",
          "name": "stderr",
          "text": [
            "Epoch 10:  18%|█▊        | 9/51 [00:00<00:00, 133.68batch/s]"
          ]
        },
        {
          "output_type": "stream",
          "name": "stdout",
          "text": [
            "End of 10,accuracy0.800000011920929\n",
            "End of 10,accuracy0.699999988079071\n",
            "End of 10,accuracy0.699999988079071"
          ]
        },
        {
          "output_type": "stream",
          "name": "stderr",
          "text": [
            "Epoch 10:  27%|██▋       | 14/51 [00:00<00:00, 157.30batch/s]"
          ]
        },
        {
          "output_type": "stream",
          "name": "stdout",
          "text": [
            "\n",
            "End of 10,accuracy0.699999988079071\n",
            "End of 10,accuracy0.6000000238418579\n",
            "End of 10,accuracy0.8999999761581421\n",
            "End of 10,accuracy0.30000001192092896\n"
          ]
        },
        {
          "output_type": "stream",
          "name": "stderr",
          "text": [
            "Epoch 10:  31%|███▏      | 16/51 [00:00<00:00, 161.54batch/s]"
          ]
        },
        {
          "output_type": "stream",
          "name": "stdout",
          "text": [
            "End of 10,accuracy0.699999988079071\n",
            "End of 10,accuracy0.5\n",
            "End of 10,accuracy0.5\n"
          ]
        },
        {
          "output_type": "stream",
          "name": "stderr",
          "text": [
            "Epoch 10:  41%|████      | 21/51 [00:00<00:00, 175.43batch/s]"
          ]
        },
        {
          "output_type": "stream",
          "name": "stdout",
          "text": [
            "End of 10,accuracy0.800000011920929\n",
            "End of 10,accuracy0.6000000238418579\n",
            "End of 10,accuracy0.6000000238418579\n",
            "End of 10,accuracy0.800000011920929\n"
          ]
        },
        {
          "output_type": "stream",
          "name": "stderr",
          "text": [
            "Epoch 10:  55%|█████▍    | 28/51 [00:00<00:00, 173.46batch/s]"
          ]
        },
        {
          "output_type": "stream",
          "name": "stdout",
          "text": [
            "End of 10,accuracy0.30000001192092896\n",
            "End of 10,accuracy0.699999988079071\n",
            "End of 10,accuracy0.5\n",
            "End of 10,accuracy0.699999988079071\n",
            "End of 10,accuracy0.800000011920929\n",
            "End of 10,accuracy0.8999999761581421\n",
            "End of 10,accuracy0.8999999761581421\n",
            "End of 10,accuracy0.6000000238418579"
          ]
        },
        {
          "output_type": "stream",
          "name": "stderr",
          "text": [
            "Epoch 10:  67%|██████▋   | 34/51 [00:00<00:00, 202.13batch/s]"
          ]
        },
        {
          "output_type": "stream",
          "name": "stdout",
          "text": [
            "\n",
            "End of 10,accuracy0.6000000238418579\n",
            "End of 10,accuracy0.5\n",
            "End of 10,accuracy0.800000011920929\n",
            "End of 10,accuracy0.6000000238418579\n",
            "End of 10,accuracy0.6000000238418579\n",
            "End of 10,accuracy0.6000000238418579"
          ]
        },
        {
          "output_type": "stream",
          "name": "stderr",
          "text": [
            "Epoch 10:  71%|███████   | 36/51 [00:00<00:00, 197.92batch/s]"
          ]
        },
        {
          "output_type": "stream",
          "name": "stdout",
          "text": [
            "\n",
            "End of 10,accuracy0.6000000238418579\n",
            "End of 10,accuracy0.4000000059604645"
          ]
        },
        {
          "output_type": "stream",
          "name": "stderr",
          "text": [
            "Epoch 10:  80%|████████  | 41/51 [00:00<00:00, 176.49batch/s]"
          ]
        },
        {
          "output_type": "stream",
          "name": "stdout",
          "text": [
            "\n",
            "End of 10,accuracy0.6000000238418579\n",
            "End of 10,accuracy0.800000011920929\n",
            "End of 10,accuracy0.800000011920929\n",
            "End of 10,accuracy0.4000000059604645\n",
            "End of 10,accuracy0.4000000059604645"
          ]
        },
        {
          "output_type": "stream",
          "name": "stderr",
          "text": [
            "Epoch 10:  86%|████████▋ | 44/51 [00:00<00:00, 173.89batch/s]"
          ]
        },
        {
          "output_type": "stream",
          "name": "stdout",
          "text": [
            "\n",
            "End of 10,accuracy0.699999988079071\n",
            "End of 10,accuracy0.4000000059604645\n"
          ]
        },
        {
          "output_type": "stream",
          "name": "stderr",
          "text": [
            "Epoch 10:  98%|█████████▊| 50/51 [00:00<00:00, 186.02batch/s]"
          ]
        },
        {
          "output_type": "stream",
          "name": "stdout",
          "text": [
            "End of 10,accuracy0.4000000059604645\n",
            "End of 10,accuracy0.4000000059604645\n",
            "End of 10,accuracy0.6000000238418579\n",
            "End of 10,accuracy0.6000000238418579\n",
            "End of 10,accuracy0.4000000059604645\n",
            "End of 10,accuracy0.800000011920929\n"
          ]
        },
        {
          "output_type": "stream",
          "name": "stderr",
          "text": [
            "Epoch 10: 100%|██████████| 51/51 [00:00<00:00, 167.76batch/s]\n"
          ]
        },
        {
          "output_type": "stream",
          "name": "stdout",
          "text": [
            "End of 10,accuracy0.699999988079071\n"
          ]
        },
        {
          "output_type": "stream",
          "name": "stderr",
          "text": [
            "Epoch 11:   2%|▏         | 1/51 [00:00<00:00, 208.41batch/s]"
          ]
        },
        {
          "output_type": "stream",
          "name": "stdout",
          "text": [
            "End of 11,accuracy0.6000000238418579\n"
          ]
        },
        {
          "output_type": "stream",
          "name": "stderr",
          "text": [
            "Epoch 11:  10%|▉         | 5/51 [00:00<00:00, 179.38batch/s]"
          ]
        },
        {
          "output_type": "stream",
          "name": "stdout",
          "text": [
            "End of 11,accuracy0.800000011920929\n",
            "End of 11,accuracy0.699999988079071\n",
            "End of 11,accuracy0.4000000059604645\n",
            "End of 11,accuracy0.8999999761581421\n"
          ]
        },
        {
          "output_type": "stream",
          "name": "stderr",
          "text": [
            "Epoch 11:  24%|██▎       | 12/51 [00:00<00:00, 177.42batch/s]"
          ]
        },
        {
          "output_type": "stream",
          "name": "stdout",
          "text": [
            "End of 11,accuracy0.5\n",
            "End of 11,accuracy0.5\n",
            "End of 11,accuracy0.800000011920929\n",
            "End of 11,accuracy0.699999988079071\n",
            "End of 11,accuracy0.699999988079071\n",
            "End of 11,accuracy0.699999988079071\n",
            "End of 11,accuracy0.6000000238418579\n"
          ]
        },
        {
          "output_type": "stream",
          "name": "stderr",
          "text": [
            "Epoch 11:  31%|███▏      | 16/51 [00:00<00:00, 145.73batch/s]"
          ]
        },
        {
          "output_type": "stream",
          "name": "stdout",
          "text": [
            "End of 11,accuracy0.8999999761581421\n",
            "End of 11,accuracy0.30000001192092896\n",
            "End of 11,accuracy0.699999988079071\n",
            "End of 11,accuracy0.5\n"
          ]
        },
        {
          "output_type": "stream",
          "name": "stderr",
          "text": [
            "Epoch 11:  35%|███▌      | 18/51 [00:00<00:00, 155.71batch/s]"
          ]
        },
        {
          "output_type": "stream",
          "name": "stdout",
          "text": [
            "End of 11,accuracy0.5\n",
            "End of 11,accuracy0.800000011920929\n"
          ]
        },
        {
          "output_type": "stream",
          "name": "stderr",
          "text": [
            "Epoch 11:  45%|████▌     | 23/51 [00:00<00:00, 171.67batch/s]"
          ]
        },
        {
          "output_type": "stream",
          "name": "stdout",
          "text": [
            "End of 11,accuracy0.6000000238418579\n",
            "End of 11,accuracy0.6000000238418579\n",
            "End of 11,accuracy0.800000011920929\n",
            "End of 11,accuracy0.30000001192092896\n",
            "End of 11,accuracy0.699999988079071\n"
          ]
        },
        {
          "output_type": "stream",
          "name": "stderr",
          "text": [
            "Epoch 11:  51%|█████     | 26/51 [00:00<00:00, 183.11batch/s]"
          ]
        },
        {
          "output_type": "stream",
          "name": "stdout",
          "text": [
            "End of 11,accuracy0.5\n",
            "End of 11,accuracy0.699999988079071\n",
            "End of 11,accuracy0.800000011920929\n"
          ]
        },
        {
          "output_type": "stream",
          "name": "stderr",
          "text": [
            "Epoch 11:  63%|██████▎   | 32/51 [00:00<00:00, 174.87batch/s]"
          ]
        },
        {
          "output_type": "stream",
          "name": "stdout",
          "text": [
            "End of 11,accuracy0.8999999761581421\n",
            "End of 11,accuracy0.8999999761581421\n",
            "End of 11,accuracy0.6000000238418579\n",
            "End of 11,accuracy0.6000000238418579\n",
            "End of 11,accuracy0.5\n",
            "End of 11,accuracy0.800000011920929\n"
          ]
        },
        {
          "output_type": "stream",
          "name": "stderr",
          "text": [
            "Epoch 11:  69%|██████▊   | 35/51 [00:00<00:00, 182.61batch/s]"
          ]
        },
        {
          "output_type": "stream",
          "name": "stdout",
          "text": [
            "End of 11,accuracy0.6000000238418579\n",
            "End of 11,accuracy0.6000000238418579\n",
            "End of 11,accuracy0.6000000238418579\n"
          ]
        },
        {
          "output_type": "stream",
          "name": "stderr",
          "text": [
            "\rEpoch 11:  71%|███████   | 36/51 [00:00<00:00, 176.04batch/s]"
          ]
        },
        {
          "output_type": "stream",
          "name": "stdout",
          "text": [
            "End of 11,accuracy0.6000000238418579\n"
          ]
        },
        {
          "output_type": "stream",
          "name": "stderr",
          "text": [
            "Epoch 11:  78%|███████▊  | 40/51 [00:00<00:00, 193.71batch/s]"
          ]
        },
        {
          "output_type": "stream",
          "name": "stdout",
          "text": [
            "End of 11,accuracy0.4000000059604645\n",
            "End of 11,accuracy0.6000000238418579\n",
            "End of 11,accuracy0.800000011920929\n",
            "End of 11,accuracy0.800000011920929\n"
          ]
        },
        {
          "output_type": "stream",
          "name": "stderr",
          "text": [
            "Epoch 11:  92%|█████████▏| 47/51 [00:00<00:00, 186.43batch/s]"
          ]
        },
        {
          "output_type": "stream",
          "name": "stdout",
          "text": [
            "End of 11,accuracy0.4000000059604645\n",
            "End of 11,accuracy0.4000000059604645\n",
            "End of 11,accuracy0.699999988079071\n",
            "End of 11,accuracy0.30000001192092896\n",
            "End of 11,accuracy0.4000000059604645\n",
            "End of 11,accuracy0.4000000059604645\n",
            "End of 11,accuracy0.6000000238418579\n"
          ]
        },
        {
          "output_type": "stream",
          "name": "stderr",
          "text": [
            "Epoch 11: 100%|██████████| 51/51 [00:00<00:00, 174.07batch/s]\n"
          ]
        },
        {
          "output_type": "stream",
          "name": "stdout",
          "text": [
            "End of 11,accuracy0.6000000238418579\n",
            "End of 11,accuracy0.4000000059604645\n",
            "End of 11,accuracy0.800000011920929\n",
            "End of 11,accuracy0.699999988079071\n"
          ]
        },
        {
          "output_type": "stream",
          "name": "stderr",
          "text": [
            "Epoch 12:   4%|▍         | 2/51 [00:00<00:00, 176.30batch/s]"
          ]
        },
        {
          "output_type": "stream",
          "name": "stdout",
          "text": [
            "End of 12,accuracy0.6000000238418579\n",
            "End of 12,accuracy0.800000011920929\n"
          ]
        },
        {
          "output_type": "stream",
          "name": "stderr",
          "text": [
            "Epoch 12:  12%|█▏        | 6/51 [00:00<00:00, 178.71batch/s]"
          ]
        },
        {
          "output_type": "stream",
          "name": "stdout",
          "text": [
            "End of 12,accuracy0.699999988079071\n",
            "End of 12,accuracy0.4000000059604645\n",
            "End of 12,accuracy0.8999999761581421\n",
            "End of 12,accuracy0.5\n"
          ]
        },
        {
          "output_type": "stream",
          "name": "stderr",
          "text": [
            "Epoch 12:  18%|█▊        | 9/51 [00:00<00:00, 167.92batch/s]"
          ]
        },
        {
          "output_type": "stream",
          "name": "stdout",
          "text": [
            "End of 12,accuracy0.5\n",
            "End of 12,accuracy0.800000011920929\n",
            "End of 12,accuracy0.699999988079071\n"
          ]
        },
        {
          "output_type": "stream",
          "name": "stderr",
          "text": [
            "Epoch 12:  31%|███▏      | 16/51 [00:00<00:00, 193.94batch/s]"
          ]
        },
        {
          "output_type": "stream",
          "name": "stdout",
          "text": [
            "End of 12,accuracy0.6000000238418579\n",
            "End of 12,accuracy0.6000000238418579\n",
            "End of 12,accuracy0.6000000238418579\n",
            "End of 12,accuracy0.8999999761581421\n",
            "End of 12,accuracy0.30000001192092896\n",
            "End of 12,accuracy0.6000000238418579\n",
            "End of 12,accuracy0.5\n"
          ]
        },
        {
          "output_type": "stream",
          "name": "stderr",
          "text": [
            "Epoch 12:  37%|███▋      | 19/51 [00:00<00:00, 190.89batch/s]"
          ]
        },
        {
          "output_type": "stream",
          "name": "stdout",
          "text": [
            "End of 12,accuracy0.5\n",
            "End of 12,accuracy0.800000011920929\n",
            "End of 12,accuracy0.6000000238418579\n"
          ]
        },
        {
          "output_type": "stream",
          "name": "stderr",
          "text": [
            "\rEpoch 12:  39%|███▉      | 20/51 [00:00<00:00, 178.42batch/s]"
          ]
        },
        {
          "output_type": "stream",
          "name": "stdout",
          "text": [
            "End of 12,accuracy0.6000000238418579\n"
          ]
        },
        {
          "output_type": "stream",
          "name": "stderr",
          "text": [
            "Epoch 12:  47%|████▋     | 24/51 [00:00<00:00, 195.05batch/s]"
          ]
        },
        {
          "output_type": "stream",
          "name": "stdout",
          "text": [
            "End of 12,accuracy0.800000011920929\n",
            "End of 12,accuracy0.4000000059604645\n",
            "End of 12,accuracy0.699999988079071\n",
            "End of 12,accuracy0.5\n"
          ]
        },
        {
          "output_type": "stream",
          "name": "stderr",
          "text": [
            "Epoch 12:  61%|██████    | 31/51 [00:00<00:00, 198.66batch/s]"
          ]
        },
        {
          "output_type": "stream",
          "name": "stdout",
          "text": [
            "End of 12,accuracy0.699999988079071\n",
            "End of 12,accuracy0.800000011920929\n",
            "End of 12,accuracy0.8999999761581421\n",
            "End of 12,accuracy0.8999999761581421\n",
            "End of 12,accuracy0.699999988079071\n",
            "End of 12,accuracy0.6000000238418579\n",
            "End of 12,accuracy0.5\n"
          ]
        },
        {
          "output_type": "stream",
          "name": "stderr",
          "text": [
            "Epoch 12:  73%|███████▎  | 37/51 [00:00<00:00, 196.12batch/s]"
          ]
        },
        {
          "output_type": "stream",
          "name": "stdout",
          "text": [
            "End of 12,accuracy0.800000011920929\n",
            "End of 12,accuracy0.5\n",
            "End of 12,accuracy0.6000000238418579\n",
            "End of 12,accuracy0.6000000238418579\n",
            "End of 12,accuracy0.6000000238418579\n",
            "End of 12,accuracy0.5\n",
            "End of 12,accuracy0.6000000238418579\n"
          ]
        },
        {
          "output_type": "stream",
          "name": "stderr",
          "text": [
            "Epoch 12:  76%|███████▋  | 39/51 [00:00<00:00, 178.38batch/s]"
          ]
        },
        {
          "output_type": "stream",
          "name": "stdout",
          "text": [
            "End of 12,accuracy0.800000011920929\n",
            "End of 12,accuracy0.800000011920929\n"
          ]
        },
        {
          "output_type": "stream",
          "name": "stderr",
          "text": [
            "Epoch 12:  86%|████████▋ | 44/51 [00:00<00:00, 164.28batch/s]"
          ]
        },
        {
          "output_type": "stream",
          "name": "stdout",
          "text": [
            "End of 12,accuracy0.4000000059604645\n",
            "End of 12,accuracy0.5\n",
            "End of 12,accuracy0.699999988079071\n",
            "End of 12,accuracy0.4000000059604645\n",
            "End of 12,accuracy0.30000001192092896"
          ]
        },
        {
          "output_type": "stream",
          "name": "stderr",
          "text": [
            "Epoch 12:  90%|█████████ | 46/51 [00:00<00:00, 161.36batch/s]"
          ]
        },
        {
          "output_type": "stream",
          "name": "stdout",
          "text": [
            "\n",
            "End of 12,accuracy0.30000001192092896\n"
          ]
        },
        {
          "output_type": "stream",
          "name": "stderr",
          "text": [
            "Epoch 12: 100%|██████████| 51/51 [00:00<00:00, 177.30batch/s]\n"
          ]
        },
        {
          "output_type": "stream",
          "name": "stdout",
          "text": [
            "End of 12,accuracy0.6000000238418579\n",
            "End of 12,accuracy0.6000000238418579\n",
            "End of 12,accuracy0.4000000059604645\n",
            "End of 12,accuracy0.800000011920929\n",
            "End of 12,accuracy0.699999988079071\n"
          ]
        },
        {
          "output_type": "stream",
          "name": "stderr",
          "text": [
            "Epoch 13:   6%|▌         | 3/51 [00:00<00:00, 201.49batch/s]"
          ]
        },
        {
          "output_type": "stream",
          "name": "stdout",
          "text": [
            "End of 13,accuracy0.6000000238418579\n",
            "End of 13,accuracy0.800000011920929\n",
            "End of 13,accuracy0.699999988079071\n"
          ]
        },
        {
          "output_type": "stream",
          "name": "stderr",
          "text": [
            "\rEpoch 13:   8%|▊         | 4/51 [00:00<00:00, 182.04batch/s]"
          ]
        },
        {
          "output_type": "stream",
          "name": "stdout",
          "text": [
            "End of 13,accuracy0.4000000059604645\n"
          ]
        },
        {
          "output_type": "stream",
          "name": "stderr",
          "text": [
            "Epoch 13:  16%|█▌        | 8/51 [00:00<00:00, 190.36batch/s]"
          ]
        },
        {
          "output_type": "stream",
          "name": "stdout",
          "text": [
            "End of 13,accuracy0.8999999761581421\n",
            "End of 13,accuracy0.5\n",
            "End of 13,accuracy0.5\n",
            "End of 13,accuracy0.800000011920929\n"
          ]
        },
        {
          "output_type": "stream",
          "name": "stderr",
          "text": [
            "Epoch 13:  27%|██▋       | 14/51 [00:00<00:00, 178.73batch/s]"
          ]
        },
        {
          "output_type": "stream",
          "name": "stdout",
          "text": [
            "End of 13,accuracy0.699999988079071\n",
            "End of 13,accuracy0.6000000238418579\n",
            "End of 13,accuracy0.6000000238418579\n",
            "End of 13,accuracy0.5\n",
            "End of 13,accuracy0.8999999761581421\n",
            "End of 13,accuracy0.30000001192092896\n"
          ]
        },
        {
          "output_type": "stream",
          "name": "stderr",
          "text": [
            "Epoch 13:  39%|███▉      | 20/51 [00:00<00:00, 175.66batch/s]"
          ]
        },
        {
          "output_type": "stream",
          "name": "stdout",
          "text": [
            "End of 13,accuracy0.6000000238418579\n",
            "End of 13,accuracy0.5\n",
            "End of 13,accuracy0.5\n",
            "End of 13,accuracy0.800000011920929\n",
            "End of 13,accuracy0.6000000238418579\n",
            "End of 13,accuracy0.6000000238418579\n",
            "End of 13,accuracy0.800000011920929"
          ]
        },
        {
          "output_type": "stream",
          "name": "stderr",
          "text": [
            "Epoch 13:  45%|████▌     | 23/51 [00:00<00:00, 197.91batch/s]"
          ]
        },
        {
          "output_type": "stream",
          "name": "stdout",
          "text": [
            "\n",
            "End of 13,accuracy0.4000000059604645\n",
            "End of 13,accuracy0.699999988079071\n"
          ]
        },
        {
          "output_type": "stream",
          "name": "stderr",
          "text": [
            "Epoch 13:  53%|█████▎    | 27/51 [00:00<00:00, 185.99batch/s]"
          ]
        },
        {
          "output_type": "stream",
          "name": "stdout",
          "text": [
            "End of 13,accuracy0.5\n",
            "End of 13,accuracy0.699999988079071\n",
            "End of 13,accuracy0.800000011920929\n",
            "End of 13,accuracy0.8999999761581421\n",
            "End of 13,accuracy0.8999999761581421"
          ]
        },
        {
          "output_type": "stream",
          "name": "stderr",
          "text": [
            "Epoch 13:  57%|█████▋    | 29/51 [00:00<00:00, 180.57batch/s]"
          ]
        },
        {
          "output_type": "stream",
          "name": "stdout",
          "text": [
            "\n",
            "End of 13,accuracy0.699999988079071\n",
            "End of 13,accuracy0.6000000238418579"
          ]
        },
        {
          "output_type": "stream",
          "name": "stderr",
          "text": [
            "Epoch 13:  71%|███████   | 36/51 [00:00<00:00, 168.06batch/s]"
          ]
        },
        {
          "output_type": "stream",
          "name": "stdout",
          "text": [
            "\n",
            "End of 13,accuracy0.5\n",
            "End of 13,accuracy0.8999999761581421\n",
            "End of 13,accuracy0.5\n",
            "End of 13,accuracy0.6000000238418579\n",
            "End of 13,accuracy0.5\n",
            "End of 13,accuracy0.6000000238418579\n"
          ]
        },
        {
          "output_type": "stream",
          "name": "stderr",
          "text": [
            "\rEpoch 13:  73%|███████▎  | 37/51 [00:00<00:00, 143.83batch/s]"
          ]
        },
        {
          "output_type": "stream",
          "name": "stdout",
          "text": [
            "End of 13,accuracy0.5\n",
            "End of 13,accuracy0.6000000238418579"
          ]
        },
        {
          "output_type": "stream",
          "name": "stderr",
          "text": [
            "\rEpoch 13:  75%|███████▍  | 38/51 [00:00<00:00, 124.63batch/s]"
          ]
        },
        {
          "output_type": "stream",
          "name": "stdout",
          "text": [
            "\n"
          ]
        },
        {
          "output_type": "stream",
          "name": "stderr",
          "text": [
            "Epoch 13:  80%|████████  | 41/51 [00:00<00:00, 135.06batch/s]"
          ]
        },
        {
          "output_type": "stream",
          "name": "stdout",
          "text": [
            "End of 13,accuracy0.800000011920929\n",
            "End of 13,accuracy0.800000011920929\n",
            "End of 13,accuracy0.4000000059604645\n"
          ]
        },
        {
          "output_type": "stream",
          "name": "stderr",
          "text": [
            "Epoch 13:  92%|█████████▏| 47/51 [00:00<00:00, 177.66batch/s]"
          ]
        },
        {
          "output_type": "stream",
          "name": "stdout",
          "text": [
            "End of 13,accuracy0.5\n",
            "End of 13,accuracy0.699999988079071\n",
            "End of 13,accuracy0.4000000059604645\n",
            "End of 13,accuracy0.30000001192092896\n",
            "End of 13,accuracy0.30000001192092896\n",
            "End of 13,accuracy0.6000000238418579\n"
          ]
        },
        {
          "output_type": "stream",
          "name": "stderr",
          "text": [
            "Epoch 13: 100%|██████████| 51/51 [00:00<00:00, 167.03batch/s]\n"
          ]
        },
        {
          "output_type": "stream",
          "name": "stdout",
          "text": [
            "End of 13,accuracy0.6000000238418579\n",
            "End of 13,accuracy0.4000000059604645\n",
            "End of 13,accuracy0.800000011920929\n",
            "End of 13,accuracy0.699999988079071\n"
          ]
        },
        {
          "output_type": "stream",
          "name": "stderr",
          "text": [
            "Epoch 14:   2%|▏         | 1/51 [00:00<00:00, 206.29batch/s]"
          ]
        },
        {
          "output_type": "stream",
          "name": "stdout",
          "text": [
            "End of 14,accuracy0.6000000238418579\n"
          ]
        },
        {
          "output_type": "stream",
          "name": "stderr",
          "text": [
            "Epoch 14:   8%|▊         | 4/51 [00:00<00:00, 189.34batch/s]"
          ]
        },
        {
          "output_type": "stream",
          "name": "stdout",
          "text": [
            "End of 14,accuracy0.800000011920929\n",
            "End of 14,accuracy0.699999988079071\n",
            "End of 14,accuracy0.4000000059604645\n"
          ]
        },
        {
          "output_type": "stream",
          "name": "stderr",
          "text": [
            "Epoch 14:  16%|█▌        | 8/51 [00:00<00:00, 186.81batch/s]"
          ]
        },
        {
          "output_type": "stream",
          "name": "stdout",
          "text": [
            "End of 14,accuracy0.8999999761581421\n",
            "End of 14,accuracy0.5\n",
            "End of 14,accuracy0.5\n",
            "End of 14,accuracy0.800000011920929\n"
          ]
        },
        {
          "output_type": "stream",
          "name": "stderr",
          "text": [
            "Epoch 14:  20%|█▉        | 10/51 [00:00<00:00, 176.05batch/s]"
          ]
        },
        {
          "output_type": "stream",
          "name": "stdout",
          "text": [
            "End of 14,accuracy0.699999988079071\n",
            "End of 14,accuracy0.6000000238418579\n"
          ]
        },
        {
          "output_type": "stream",
          "name": "stderr",
          "text": [
            "Epoch 14:  35%|███▌      | 18/51 [00:00<00:00, 193.97batch/s]"
          ]
        },
        {
          "output_type": "stream",
          "name": "stdout",
          "text": [
            "End of 14,accuracy0.6000000238418579\n",
            "End of 14,accuracy0.5\n",
            "End of 14,accuracy0.8999999761581421\n",
            "End of 14,accuracy0.30000001192092896\n",
            "End of 14,accuracy0.6000000238418579\n",
            "End of 14,accuracy0.4000000059604645\n",
            "End of 14,accuracy0.5\n",
            "End of 14,accuracy0.800000011920929\n"
          ]
        },
        {
          "output_type": "stream",
          "name": "stderr",
          "text": [
            "Epoch 14:  39%|███▉      | 20/51 [00:00<00:00, 178.18batch/s]"
          ]
        },
        {
          "output_type": "stream",
          "name": "stdout",
          "text": [
            "End of 14,accuracy0.6000000238418579\n",
            "End of 14,accuracy0.5\n"
          ]
        },
        {
          "output_type": "stream",
          "name": "stderr",
          "text": [
            "\rEpoch 14:  41%|████      | 21/51 [00:00<00:00, 167.80batch/s]"
          ]
        },
        {
          "output_type": "stream",
          "name": "stdout",
          "text": [
            "End of 14,accuracy0.800000011920929\n"
          ]
        },
        {
          "output_type": "stream",
          "name": "stderr",
          "text": [
            "Epoch 14:  49%|████▉     | 25/51 [00:00<00:00, 186.05batch/s]"
          ]
        },
        {
          "output_type": "stream",
          "name": "stdout",
          "text": [
            "End of 14,accuracy0.4000000059604645\n",
            "End of 14,accuracy0.699999988079071\n",
            "End of 14,accuracy0.5\n",
            "End of 14,accuracy0.699999988079071\n"
          ]
        },
        {
          "output_type": "stream",
          "name": "stderr",
          "text": [
            "Epoch 14:  61%|██████    | 31/51 [00:00<00:00, 185.90batch/s]"
          ]
        },
        {
          "output_type": "stream",
          "name": "stdout",
          "text": [
            "End of 14,accuracy0.800000011920929\n",
            "End of 14,accuracy0.800000011920929\n",
            "End of 14,accuracy0.8999999761581421\n",
            "End of 14,accuracy0.699999988079071\n",
            "End of 14,accuracy0.6000000238418579\n",
            "End of 14,accuracy0.6000000238418579\n"
          ]
        },
        {
          "output_type": "stream",
          "name": "stderr",
          "text": [
            "Epoch 14:  71%|███████   | 36/51 [00:00<00:00, 178.06batch/s]"
          ]
        },
        {
          "output_type": "stream",
          "name": "stdout",
          "text": [
            "End of 14,accuracy0.8999999761581421\n",
            "End of 14,accuracy0.5\n",
            "End of 14,accuracy0.699999988079071\n",
            "End of 14,accuracy0.5\n",
            "End of 14,accuracy0.6000000238418579\n",
            "End of 14,accuracy0.5"
          ]
        },
        {
          "output_type": "stream",
          "name": "stderr",
          "text": [
            "\rEpoch 14:  73%|███████▎  | 37/51 [00:00<00:00, 173.19batch/s]"
          ]
        },
        {
          "output_type": "stream",
          "name": "stdout",
          "text": [
            "\n",
            "End of 14,accuracy0.6000000238418579"
          ]
        },
        {
          "output_type": "stream",
          "name": "stderr",
          "text": [
            "Epoch 14:  78%|███████▊  | 40/51 [00:00<00:00, 176.07batch/s]"
          ]
        },
        {
          "output_type": "stream",
          "name": "stdout",
          "text": [
            "\n",
            "End of 14,accuracy0.800000011920929\n",
            "End of 14,accuracy0.800000011920929\n"
          ]
        },
        {
          "output_type": "stream",
          "name": "stderr",
          "text": [
            "Epoch 14:  86%|████████▋ | 44/51 [00:00<00:00, 189.45batch/s]"
          ]
        },
        {
          "output_type": "stream",
          "name": "stdout",
          "text": [
            "End of 14,accuracy0.4000000059604645\n",
            "End of 14,accuracy0.5\n",
            "End of 14,accuracy0.699999988079071\n",
            "End of 14,accuracy0.4000000059604645\n",
            "End of 14,accuracy0.30000001192092896"
          ]
        },
        {
          "output_type": "stream",
          "name": "stderr",
          "text": [
            "Epoch 14:  90%|█████████ | 46/51 [00:00<00:00, 186.55batch/s]"
          ]
        },
        {
          "output_type": "stream",
          "name": "stdout",
          "text": [
            "\n",
            "End of 14,accuracy0.30000001192092896\n",
            "End of 14,accuracy0.5\n"
          ]
        },
        {
          "output_type": "stream",
          "name": "stderr",
          "text": [
            "Epoch 14: 100%|██████████| 51/51 [00:00<00:00, 178.93batch/s]\n"
          ]
        },
        {
          "output_type": "stream",
          "name": "stdout",
          "text": [
            "End of 14,accuracy0.6000000238418579\n",
            "End of 14,accuracy0.4000000059604645\n",
            "End of 14,accuracy0.800000011920929\n",
            "End of 14,accuracy0.699999988079071\n"
          ]
        },
        {
          "output_type": "stream",
          "name": "stderr",
          "text": [
            "Epoch 15:   4%|▍         | 2/51 [00:00<00:00, 198.64batch/s]"
          ]
        },
        {
          "output_type": "stream",
          "name": "stdout",
          "text": [
            "End of 15,accuracy0.6000000238418579\n",
            "End of 15,accuracy0.800000011920929\n"
          ]
        },
        {
          "output_type": "stream",
          "name": "stderr",
          "text": [
            "Epoch 15:  10%|▉         | 5/51 [00:00<00:00, 192.10batch/s]"
          ]
        },
        {
          "output_type": "stream",
          "name": "stdout",
          "text": [
            "End of 15,accuracy0.699999988079071\n",
            "End of 15,accuracy0.4000000059604645\n",
            "End of 15,accuracy0.8999999761581421\n"
          ]
        },
        {
          "output_type": "stream",
          "name": "stderr",
          "text": [
            "\rEpoch 15:  12%|█▏        | 6/51 [00:00<00:00, 188.38batch/s]"
          ]
        },
        {
          "output_type": "stream",
          "name": "stdout",
          "text": [
            "End of 15,accuracy0.5\n"
          ]
        },
        {
          "output_type": "stream",
          "name": "stderr",
          "text": [
            "Epoch 15:  20%|█▉        | 10/51 [00:00<00:00, 213.51batch/s]"
          ]
        },
        {
          "output_type": "stream",
          "name": "stdout",
          "text": [
            "End of 15,accuracy0.5\n",
            "End of 15,accuracy0.800000011920929\n",
            "End of 15,accuracy0.699999988079071\n",
            "End of 15,accuracy0.6000000238418579\n"
          ]
        },
        {
          "output_type": "stream",
          "name": "stderr",
          "text": [
            "Epoch 15:  31%|███▏      | 16/51 [00:00<00:00, 197.84batch/s]"
          ]
        },
        {
          "output_type": "stream",
          "name": "stdout",
          "text": [
            "End of 15,accuracy0.6000000238418579\n",
            "End of 15,accuracy0.5\n",
            "End of 15,accuracy0.8999999761581421\n",
            "End of 15,accuracy0.30000001192092896\n",
            "End of 15,accuracy0.6000000238418579\n",
            "End of 15,accuracy0.4000000059604645\n"
          ]
        },
        {
          "output_type": "stream",
          "name": "stderr",
          "text": [
            "Epoch 15:  39%|███▉      | 20/51 [00:00<00:00, 163.60batch/s]"
          ]
        },
        {
          "output_type": "stream",
          "name": "stdout",
          "text": [
            "End of 15,accuracy0.5\n",
            "End of 15,accuracy0.800000011920929\n",
            "End of 15,accuracy0.6000000238418579\n",
            "End of 15,accuracy0.5\n"
          ]
        },
        {
          "output_type": "stream",
          "name": "stderr",
          "text": [
            "Epoch 15:  43%|████▎     | 22/51 [00:00<00:00, 158.52batch/s]"
          ]
        },
        {
          "output_type": "stream",
          "name": "stdout",
          "text": [
            "End of 15,accuracy0.800000011920929\n",
            "End of 15,accuracy0.4000000059604645\n"
          ]
        },
        {
          "output_type": "stream",
          "name": "stderr",
          "text": [
            "Epoch 15:  47%|████▋     | 24/51 [00:00<00:00, 166.05batch/s]"
          ]
        },
        {
          "output_type": "stream",
          "name": "stdout",
          "text": [
            "End of 15,accuracy0.699999988079071\n",
            "End of 15,accuracy0.5\n"
          ]
        },
        {
          "output_type": "stream",
          "name": "stderr",
          "text": [
            "Epoch 15:  55%|█████▍    | 28/51 [00:00<00:00, 178.58batch/s]"
          ]
        },
        {
          "output_type": "stream",
          "name": "stdout",
          "text": [
            "End of 15,accuracy0.699999988079071\n",
            "End of 15,accuracy0.800000011920929\n",
            "End of 15,accuracy0.800000011920929\n",
            "End of 15,accuracy0.8999999761581421\n"
          ]
        },
        {
          "output_type": "stream",
          "name": "stderr",
          "text": [
            "Epoch 15:  61%|██████    | 31/51 [00:00<00:00, 197.21batch/s]"
          ]
        },
        {
          "output_type": "stream",
          "name": "stdout",
          "text": [
            "End of 15,accuracy0.699999988079071\n",
            "End of 15,accuracy0.6000000238418579\n",
            "End of 15,accuracy0.6000000238418579\n"
          ]
        },
        {
          "output_type": "stream",
          "name": "stderr",
          "text": [
            "Epoch 15:  75%|███████▍  | 38/51 [00:00<00:00, 219.45batch/s]"
          ]
        },
        {
          "output_type": "stream",
          "name": "stdout",
          "text": [
            "End of 15,accuracy0.8999999761581421\n",
            "End of 15,accuracy0.5\n",
            "End of 15,accuracy0.699999988079071\n",
            "End of 15,accuracy0.5\n",
            "End of 15,accuracy0.6000000238418579\n",
            "End of 15,accuracy0.5\n",
            "End of 15,accuracy0.6000000238418579\n"
          ]
        },
        {
          "output_type": "stream",
          "name": "stderr",
          "text": [
            "Epoch 15:  78%|███████▊  | 40/51 [00:00<00:00, 199.54batch/s]"
          ]
        },
        {
          "output_type": "stream",
          "name": "stdout",
          "text": [
            "End of 15,accuracy0.800000011920929\n",
            "End of 15,accuracy0.800000011920929\n"
          ]
        },
        {
          "output_type": "stream",
          "name": "stderr",
          "text": [
            "Epoch 15:  84%|████████▍ | 43/51 [00:00<00:00, 199.01batch/s]"
          ]
        },
        {
          "output_type": "stream",
          "name": "stdout",
          "text": [
            "End of 15,accuracy0.4000000059604645\n",
            "End of 15,accuracy0.6000000238418579\n",
            "End of 15,accuracy0.699999988079071\n"
          ]
        },
        {
          "output_type": "stream",
          "name": "stderr",
          "text": [
            "\rEpoch 15:  86%|████████▋ | 44/51 [00:00<00:00, 190.47batch/s]"
          ]
        },
        {
          "output_type": "stream",
          "name": "stdout",
          "text": [
            "End of 15,accuracy0.4000000059604645\n"
          ]
        },
        {
          "output_type": "stream",
          "name": "stderr",
          "text": [
            "Epoch 15:  92%|█████████▏| 47/51 [00:00<00:00, 197.81batch/s]"
          ]
        },
        {
          "output_type": "stream",
          "name": "stdout",
          "text": [
            "End of 15,accuracy0.30000001192092896\n",
            "End of 15,accuracy0.30000001192092896\n",
            "End of 15,accuracy0.5\n",
            "End of 15,accuracy0.6000000238418579\n"
          ]
        },
        {
          "output_type": "stream",
          "name": "stderr",
          "text": [
            "Epoch 15: 100%|██████████| 51/51 [00:00<00:00, 186.34batch/s]\n"
          ]
        },
        {
          "output_type": "stream",
          "name": "stdout",
          "text": [
            "End of 15,accuracy0.4000000059604645\n",
            "End of 15,accuracy0.800000011920929\n",
            "End of 15,accuracy0.699999988079071\n"
          ]
        },
        {
          "output_type": "stream",
          "name": "stderr",
          "text": [
            "Epoch 16:   4%|▍         | 2/51 [00:00<00:00, 240.30batch/s]"
          ]
        },
        {
          "output_type": "stream",
          "name": "stdout",
          "text": [
            "End of 16,accuracy0.6000000238418579\n",
            "End of 16,accuracy0.800000011920929\n"
          ]
        },
        {
          "output_type": "stream",
          "name": "stderr",
          "text": [
            "Epoch 16:  14%|█▎        | 7/51 [00:00<00:00, 182.47batch/s]"
          ]
        },
        {
          "output_type": "stream",
          "name": "stdout",
          "text": [
            "End of 16,accuracy0.6000000238418579\n",
            "End of 16,accuracy0.4000000059604645\n",
            "End of 16,accuracy0.8999999761581421\n",
            "End of 16,accuracy0.5\n",
            "End of 16,accuracy0.5\n"
          ]
        },
        {
          "output_type": "stream",
          "name": "stderr",
          "text": [
            "Epoch 16:  20%|█▉        | 10/51 [00:00<00:00, 199.93batch/s]"
          ]
        },
        {
          "output_type": "stream",
          "name": "stdout",
          "text": [
            "End of 16,accuracy0.800000011920929\n",
            "End of 16,accuracy0.699999988079071\n",
            "End of 16,accuracy0.5\n"
          ]
        },
        {
          "output_type": "stream",
          "name": "stderr",
          "text": [
            "Epoch 16:  24%|██▎       | 12/51 [00:00<00:00, 198.02batch/s]"
          ]
        },
        {
          "output_type": "stream",
          "name": "stdout",
          "text": [
            "End of 16,accuracy0.6000000238418579\n",
            "End of 16,accuracy0.5\n"
          ]
        },
        {
          "output_type": "stream",
          "name": "stderr",
          "text": [
            "Epoch 16:  31%|███▏      | 16/51 [00:00<00:00, 204.53batch/s]"
          ]
        },
        {
          "output_type": "stream",
          "name": "stdout",
          "text": [
            "End of 16,accuracy0.8999999761581421\n",
            "End of 16,accuracy0.30000001192092896\n",
            "End of 16,accuracy0.6000000238418579\n",
            "End of 16,accuracy0.5\n"
          ]
        },
        {
          "output_type": "stream",
          "name": "stderr",
          "text": [
            "Epoch 16:  35%|███▌      | 18/51 [00:00<00:00, 206.94batch/s]"
          ]
        },
        {
          "output_type": "stream",
          "name": "stdout",
          "text": [
            "End of 16,accuracy0.5\n",
            "End of 16,accuracy0.800000011920929\n",
            "End of 16,accuracy0.6000000238418579\n"
          ]
        },
        {
          "output_type": "stream",
          "name": "stderr",
          "text": [
            "Epoch 16:  49%|████▉     | 25/51 [00:00<00:00, 191.99batch/s]"
          ]
        },
        {
          "output_type": "stream",
          "name": "stdout",
          "text": [
            "End of 16,accuracy0.6000000238418579\n",
            "End of 16,accuracy0.800000011920929\n",
            "End of 16,accuracy0.5\n",
            "End of 16,accuracy0.699999988079071\n",
            "End of 16,accuracy0.5\n",
            "End of 16,accuracy0.699999988079071\n"
          ]
        },
        {
          "output_type": "stream",
          "name": "stderr",
          "text": [
            "Epoch 16:  53%|█████▎    | 27/51 [00:00<00:00, 193.51batch/s]"
          ]
        },
        {
          "output_type": "stream",
          "name": "stdout",
          "text": [
            "End of 16,accuracy0.800000011920929\n",
            "End of 16,accuracy0.699999988079071\n"
          ]
        },
        {
          "output_type": "stream",
          "name": "stderr",
          "text": [
            "Epoch 16:  57%|█████▋    | 29/51 [00:00<00:00, 159.07batch/s]"
          ]
        },
        {
          "output_type": "stream",
          "name": "stdout",
          "text": [
            "End of 16,accuracy0.8999999761581421\n",
            "End of 16,accuracy0.699999988079071\n"
          ]
        },
        {
          "output_type": "stream",
          "name": "stderr",
          "text": [
            "Epoch 16:  61%|██████    | 31/51 [00:00<00:00, 181.29batch/s]"
          ]
        },
        {
          "output_type": "stream",
          "name": "stdout",
          "text": [
            "End of 16,accuracy0.6000000238418579\n",
            "End of 16,accuracy0.6000000238418579\n"
          ]
        },
        {
          "output_type": "stream",
          "name": "stderr",
          "text": [
            "Epoch 16:  67%|██████▋   | 34/51 [00:00<00:00, 170.12batch/s]"
          ]
        },
        {
          "output_type": "stream",
          "name": "stdout",
          "text": [
            "End of 16,accuracy0.8999999761581421\n",
            "End of 16,accuracy0.5\n",
            "End of 16,accuracy0.699999988079071\n"
          ]
        },
        {
          "output_type": "stream",
          "name": "stderr",
          "text": [
            "Epoch 16:  75%|███████▍  | 38/51 [00:00<00:00, 175.56batch/s]"
          ]
        },
        {
          "output_type": "stream",
          "name": "stdout",
          "text": [
            "End of 16,accuracy0.5\n",
            "End of 16,accuracy0.6000000238418579\n",
            "End of 16,accuracy0.5\n",
            "End of 16,accuracy0.6000000238418579\n"
          ]
        },
        {
          "output_type": "stream",
          "name": "stderr",
          "text": [
            "Epoch 16:  78%|███████▊  | 40/51 [00:00<00:00, 192.14batch/s]"
          ]
        },
        {
          "output_type": "stream",
          "name": "stdout",
          "text": [
            "End of 16,accuracy0.800000011920929\n",
            "End of 16,accuracy0.800000011920929\n"
          ]
        },
        {
          "output_type": "stream",
          "name": "stderr",
          "text": [
            "Epoch 16:  86%|████████▋ | 44/51 [00:00<00:00, 138.97batch/s]"
          ]
        },
        {
          "output_type": "stream",
          "name": "stdout",
          "text": [
            "End of 16,accuracy0.4000000059604645\n",
            "End of 16,accuracy0.6000000238418579\n",
            "End of 16,accuracy0.699999988079071\n",
            "End of 16,accuracy0.4000000059604645\n"
          ]
        },
        {
          "output_type": "stream",
          "name": "stderr",
          "text": [
            "\rEpoch 16:  88%|████████▊ | 45/51 [00:00<00:00, 118.34batch/s]"
          ]
        },
        {
          "output_type": "stream",
          "name": "stdout",
          "text": [
            "End of 16,accuracy0.30000001192092896\n"
          ]
        },
        {
          "output_type": "stream",
          "name": "stderr",
          "text": [
            "Epoch 16:  92%|█████████▏| 47/51 [00:00<00:00, 137.16batch/s]"
          ]
        },
        {
          "output_type": "stream",
          "name": "stdout",
          "text": [
            "End of 16,accuracy0.30000001192092896\n",
            "End of 16,accuracy0.5\n"
          ]
        },
        {
          "output_type": "stream",
          "name": "stderr",
          "text": [
            "Epoch 16:  98%|█████████▊| 50/51 [00:00<00:00, 161.47batch/s]"
          ]
        },
        {
          "output_type": "stream",
          "name": "stdout",
          "text": [
            "End of 16,accuracy0.6000000238418579\n",
            "End of 16,accuracy0.4000000059604645\n",
            "End of 16,accuracy0.800000011920929\n"
          ]
        },
        {
          "output_type": "stream",
          "name": "stderr",
          "text": [
            "Epoch 16: 100%|██████████| 51/51 [00:00<00:00, 174.26batch/s]\n"
          ]
        },
        {
          "output_type": "stream",
          "name": "stdout",
          "text": [
            "End of 16,accuracy0.699999988079071\n"
          ]
        },
        {
          "output_type": "stream",
          "name": "stderr",
          "text": [
            "Epoch 17:   2%|▏         | 1/51 [00:00<00:00, 278.14batch/s]"
          ]
        },
        {
          "output_type": "stream",
          "name": "stdout",
          "text": [
            "End of 17,accuracy0.6000000238418579\n"
          ]
        },
        {
          "output_type": "stream",
          "name": "stderr",
          "text": [
            "Epoch 17:  14%|█▎        | 7/51 [00:00<00:00, 190.04batch/s]"
          ]
        },
        {
          "output_type": "stream",
          "name": "stdout",
          "text": [
            "End of 17,accuracy0.800000011920929\n",
            "End of 17,accuracy0.6000000238418579\n",
            "End of 17,accuracy0.4000000059604645\n",
            "End of 17,accuracy0.8999999761581421\n",
            "End of 17,accuracy0.5\n",
            "End of 17,accuracy0.6000000238418579\n"
          ]
        },
        {
          "output_type": "stream",
          "name": "stderr",
          "text": [
            "\rEpoch 17:  16%|█▌        | 8/51 [00:00<00:00, 183.32batch/s]"
          ]
        },
        {
          "output_type": "stream",
          "name": "stdout",
          "text": [
            "End of 17,accuracy0.699999988079071\n"
          ]
        },
        {
          "output_type": "stream",
          "name": "stderr",
          "text": [
            "Epoch 17:  20%|█▉        | 10/51 [00:00<00:00, 137.27batch/s]"
          ]
        },
        {
          "output_type": "stream",
          "name": "stdout",
          "text": [
            "End of 17,accuracy0.699999988079071\n",
            "End of 17,accuracy0.5\n"
          ]
        },
        {
          "output_type": "stream",
          "name": "stderr",
          "text": [
            "\rEpoch 17:  22%|██▏       | 11/51 [00:00<00:00, 140.48batch/s]"
          ]
        },
        {
          "output_type": "stream",
          "name": "stdout",
          "text": [
            "End of 17,accuracy0.6000000238418579\n"
          ]
        },
        {
          "output_type": "stream",
          "name": "stderr",
          "text": [
            "Epoch 17:  31%|███▏      | 16/51 [00:00<00:00, 192.37batch/s]"
          ]
        },
        {
          "output_type": "stream",
          "name": "stdout",
          "text": [
            "End of 17,accuracy0.6000000238418579\n",
            "End of 17,accuracy0.8999999761581421\n",
            "End of 17,accuracy0.30000001192092896\n",
            "End of 17,accuracy0.6000000238418579\n",
            "End of 17,accuracy0.5\n"
          ]
        },
        {
          "output_type": "stream",
          "name": "stderr",
          "text": [
            "Epoch 17:  37%|███▋      | 19/51 [00:00<00:00, 193.65batch/s]"
          ]
        },
        {
          "output_type": "stream",
          "name": "stdout",
          "text": [
            "End of 17,accuracy0.5\n",
            "End of 17,accuracy0.800000011920929\n",
            "End of 17,accuracy0.6000000238418579\n"
          ]
        },
        {
          "output_type": "stream",
          "name": "stderr",
          "text": [
            "Epoch 17:  41%|████      | 21/51 [00:00<00:00, 203.62batch/s]"
          ]
        },
        {
          "output_type": "stream",
          "name": "stdout",
          "text": [
            "End of 17,accuracy0.6000000238418579\n",
            "End of 17,accuracy0.800000011920929\n"
          ]
        },
        {
          "output_type": "stream",
          "name": "stderr",
          "text": [
            "Epoch 17:  55%|█████▍    | 28/51 [00:00<00:00, 190.06batch/s]"
          ]
        },
        {
          "output_type": "stream",
          "name": "stdout",
          "text": [
            "End of 17,accuracy0.5\n",
            "End of 17,accuracy0.699999988079071\n",
            "End of 17,accuracy0.5\n",
            "End of 17,accuracy0.699999988079071\n",
            "End of 17,accuracy0.800000011920929\n",
            "End of 17,accuracy0.699999988079071\n",
            "End of 17,accuracy0.8999999761581421\n"
          ]
        },
        {
          "output_type": "stream",
          "name": "stderr",
          "text": [
            "\rEpoch 17:  57%|█████▋    | 29/51 [00:00<00:00, 182.51batch/s]"
          ]
        },
        {
          "output_type": "stream",
          "name": "stdout",
          "text": [
            "End of 17,accuracy0.699999988079071\n"
          ]
        },
        {
          "output_type": "stream",
          "name": "stderr",
          "text": [
            "Epoch 17:  61%|██████    | 31/51 [00:00<00:00, 170.26batch/s]"
          ]
        },
        {
          "output_type": "stream",
          "name": "stdout",
          "text": [
            "End of 17,accuracy0.6000000238418579\n",
            "End of 17,accuracy0.6000000238418579\n"
          ]
        },
        {
          "output_type": "stream",
          "name": "stderr",
          "text": [
            "Epoch 17:  67%|██████▋   | 34/51 [00:00<00:00, 178.13batch/s]"
          ]
        },
        {
          "output_type": "stream",
          "name": "stdout",
          "text": [
            "End of 17,accuracy0.8999999761581421\n",
            "End of 17,accuracy0.5\n",
            "End of 17,accuracy0.699999988079071\n",
            "End of 17,accuracy0.5\n"
          ]
        },
        {
          "output_type": "stream",
          "name": "stderr",
          "text": [
            "Epoch 17:  71%|███████   | 36/51 [00:00<00:00, 174.18batch/s]"
          ]
        },
        {
          "output_type": "stream",
          "name": "stdout",
          "text": [
            "End of 17,accuracy0.6000000238418579\n"
          ]
        },
        {
          "output_type": "stream",
          "name": "stderr",
          "text": [
            "Epoch 17:  75%|███████▍  | 38/51 [00:00<00:00, 180.83batch/s]"
          ]
        },
        {
          "output_type": "stream",
          "name": "stdout",
          "text": [
            "End of 17,accuracy0.5\n",
            "End of 17,accuracy0.6000000238418579\n"
          ]
        },
        {
          "output_type": "stream",
          "name": "stderr",
          "text": [
            "Epoch 17:  84%|████████▍ | 43/51 [00:00<00:00, 185.37batch/s]"
          ]
        },
        {
          "output_type": "stream",
          "name": "stdout",
          "text": [
            "End of 17,accuracy0.800000011920929\n",
            "End of 17,accuracy0.699999988079071\n",
            "End of 17,accuracy0.4000000059604645\n",
            "End of 17,accuracy0.6000000238418579\n",
            "End of 17,accuracy0.699999988079071\n"
          ]
        },
        {
          "output_type": "stream",
          "name": "stderr",
          "text": [
            "Epoch 17:  90%|█████████ | 46/51 [00:00<00:00, 194.49batch/s]"
          ]
        },
        {
          "output_type": "stream",
          "name": "stdout",
          "text": [
            "End of 17,accuracy0.4000000059604645\n",
            "End of 17,accuracy0.30000001192092896\n",
            "End of 17,accuracy0.30000001192092896\n"
          ]
        },
        {
          "output_type": "stream",
          "name": "stderr",
          "text": [
            "Epoch 17:  96%|█████████▌| 49/51 [00:00<00:00, 197.88batch/s]"
          ]
        },
        {
          "output_type": "stream",
          "name": "stdout",
          "text": [
            "End of 17,accuracy0.5\n",
            "End of 17,accuracy0.6000000238418579\n",
            "End of 17,accuracy0.4000000059604645\n"
          ]
        },
        {
          "output_type": "stream",
          "name": "stderr",
          "text": [
            "\rEpoch 17:  98%|█████████▊| 50/51 [00:00<00:00, 193.12batch/s]"
          ]
        },
        {
          "output_type": "stream",
          "name": "stdout",
          "text": [
            "End of 17,accuracy0.800000011920929\n"
          ]
        },
        {
          "output_type": "stream",
          "name": "stderr",
          "text": [
            "Epoch 17: 100%|██████████| 51/51 [00:00<00:00, 179.53batch/s]\n"
          ]
        },
        {
          "output_type": "stream",
          "name": "stdout",
          "text": [
            "End of 17,accuracy0.699999988079071\n"
          ]
        },
        {
          "output_type": "stream",
          "name": "stderr",
          "text": [
            "Epoch 18:   2%|▏         | 1/51 [00:00<00:00, 215.63batch/s]"
          ]
        },
        {
          "output_type": "stream",
          "name": "stdout",
          "text": [
            "End of 18,accuracy0.6000000238418579\n"
          ]
        },
        {
          "output_type": "stream",
          "name": "stderr",
          "text": [
            "Epoch 18:   8%|▊         | 4/51 [00:00<00:00, 135.91batch/s]"
          ]
        },
        {
          "output_type": "stream",
          "name": "stdout",
          "text": [
            "End of 18,accuracy0.800000011920929\n",
            "End of 18,accuracy0.6000000238418579\n",
            "End of 18,accuracy0.4000000059604645\n",
            "End of 18,accuracy0.8999999761581421\n"
          ]
        },
        {
          "output_type": "stream",
          "name": "stderr",
          "text": [
            "Epoch 18:  24%|██▎       | 12/51 [00:00<00:00, 193.41batch/s]"
          ]
        },
        {
          "output_type": "stream",
          "name": "stdout",
          "text": [
            "End of 18,accuracy0.5\n",
            "End of 18,accuracy0.6000000238418579\n",
            "End of 18,accuracy0.699999988079071\n",
            "End of 18,accuracy0.699999988079071\n",
            "End of 18,accuracy0.5\n",
            "End of 18,accuracy0.6000000238418579\n",
            "End of 18,accuracy0.6000000238418579\n"
          ]
        },
        {
          "output_type": "stream",
          "name": "stderr",
          "text": [
            "\rEpoch 18:  25%|██▌       | 13/51 [00:00<00:00, 189.52batch/s]"
          ]
        },
        {
          "output_type": "stream",
          "name": "stdout",
          "text": [
            "End of 18,accuracy0.8999999761581421\n"
          ]
        },
        {
          "output_type": "stream",
          "name": "stderr",
          "text": [
            "\rEpoch 18:  27%|██▋       | 14/51 [00:00<00:00, 170.68batch/s]"
          ]
        },
        {
          "output_type": "stream",
          "name": "stdout",
          "text": [
            "End of 18,accuracy0.30000001192092896\n"
          ]
        },
        {
          "output_type": "stream",
          "name": "stderr",
          "text": [
            "Epoch 18:  33%|███▎      | 17/51 [00:00<00:00, 155.80batch/s]"
          ]
        },
        {
          "output_type": "stream",
          "name": "stdout",
          "text": [
            "End of 18,accuracy0.6000000238418579\n",
            "End of 18,accuracy0.5\n",
            "End of 18,accuracy0.5\n"
          ]
        },
        {
          "output_type": "stream",
          "name": "stderr",
          "text": [
            "Epoch 18:  37%|███▋      | 19/51 [00:00<00:00, 161.76batch/s]"
          ]
        },
        {
          "output_type": "stream",
          "name": "stdout",
          "text": [
            "End of 18,accuracy0.800000011920929\n",
            "End of 18,accuracy0.6000000238418579\n"
          ]
        },
        {
          "output_type": "stream",
          "name": "stderr",
          "text": [
            "\rEpoch 18:  39%|███▉      | 20/51 [00:00<00:00, 165.15batch/s]"
          ]
        },
        {
          "output_type": "stream",
          "name": "stdout",
          "text": [
            "End of 18,accuracy0.6000000238418579\n"
          ]
        },
        {
          "output_type": "stream",
          "name": "stderr",
          "text": [
            "Epoch 18:  49%|████▉     | 25/51 [00:00<00:00, 171.95batch/s]"
          ]
        },
        {
          "output_type": "stream",
          "name": "stdout",
          "text": [
            "End of 18,accuracy0.800000011920929\n",
            "End of 18,accuracy0.5\n",
            "End of 18,accuracy0.699999988079071\n",
            "End of 18,accuracy0.5\n",
            "End of 18,accuracy0.699999988079071\n"
          ]
        },
        {
          "output_type": "stream",
          "name": "stderr",
          "text": [
            "Epoch 18:  55%|█████▍    | 28/51 [00:00<00:00, 186.84batch/s]"
          ]
        },
        {
          "output_type": "stream",
          "name": "stdout",
          "text": [
            "End of 18,accuracy0.800000011920929\n",
            "End of 18,accuracy0.699999988079071\n",
            "End of 18,accuracy0.8999999761581421\n"
          ]
        },
        {
          "output_type": "stream",
          "name": "stderr",
          "text": [
            "Epoch 18:  61%|██████    | 31/51 [00:00<00:00, 189.71batch/s]"
          ]
        },
        {
          "output_type": "stream",
          "name": "stdout",
          "text": [
            "End of 18,accuracy0.699999988079071\n",
            "End of 18,accuracy0.6000000238418579\n",
            "End of 18,accuracy0.6000000238418579\n"
          ]
        },
        {
          "output_type": "stream",
          "name": "stderr",
          "text": [
            "\rEpoch 18:  63%|██████▎   | 32/51 [00:00<00:00, 196.65batch/s]"
          ]
        },
        {
          "output_type": "stream",
          "name": "stdout",
          "text": [
            "End of 18,accuracy0.8999999761581421\n"
          ]
        },
        {
          "output_type": "stream",
          "name": "stderr",
          "text": [
            "Epoch 18:  67%|██████▋   | 34/51 [00:00<00:00, 176.06batch/s]"
          ]
        },
        {
          "output_type": "stream",
          "name": "stdout",
          "text": [
            "End of 18,accuracy0.5\n",
            "End of 18,accuracy0.699999988079071\n"
          ]
        },
        {
          "output_type": "stream",
          "name": "stderr",
          "text": [
            "\rEpoch 18:  69%|██████▊   | 35/51 [00:00<00:00, 155.87batch/s]"
          ]
        },
        {
          "output_type": "stream",
          "name": "stdout",
          "text": [
            "End of 18,accuracy0.5\n"
          ]
        },
        {
          "output_type": "stream",
          "name": "stderr",
          "text": [
            "Epoch 18:  76%|███████▋  | 39/51 [00:00<00:00, 180.35batch/s]"
          ]
        },
        {
          "output_type": "stream",
          "name": "stdout",
          "text": [
            "End of 18,accuracy0.6000000238418579\n",
            "End of 18,accuracy0.5\n",
            "End of 18,accuracy0.6000000238418579\n",
            "End of 18,accuracy0.800000011920929\n"
          ]
        },
        {
          "output_type": "stream",
          "name": "stderr",
          "text": [
            "\rEpoch 18:  78%|███████▊  | 40/51 [00:00<00:00, 170.26batch/s]"
          ]
        },
        {
          "output_type": "stream",
          "name": "stdout",
          "text": [
            "End of 18,accuracy0.699999988079071\n"
          ]
        },
        {
          "output_type": "stream",
          "name": "stderr",
          "text": [
            "Epoch 18:  92%|█████████▏| 47/51 [00:00<00:00, 180.75batch/s]"
          ]
        },
        {
          "output_type": "stream",
          "name": "stdout",
          "text": [
            "End of 18,accuracy0.4000000059604645\n",
            "End of 18,accuracy0.6000000238418579\n",
            "End of 18,accuracy0.699999988079071\n",
            "End of 18,accuracy0.4000000059604645\n",
            "End of 18,accuracy0.30000001192092896\n",
            "End of 18,accuracy0.30000001192092896\n",
            "End of 18,accuracy0.5\n"
          ]
        },
        {
          "output_type": "stream",
          "name": "stderr",
          "text": [
            "\rEpoch 18:  94%|█████████▍| 48/51 [00:00<00:00, 182.22batch/s]"
          ]
        },
        {
          "output_type": "stream",
          "name": "stdout",
          "text": [
            "End of 18,accuracy0.6000000238418579\n"
          ]
        },
        {
          "output_type": "stream",
          "name": "stderr",
          "text": [
            "\rEpoch 18:  96%|█████████▌| 49/51 [00:00<00:00, 185.60batch/s]"
          ]
        },
        {
          "output_type": "stream",
          "name": "stdout",
          "text": [
            "End of 18,accuracy0.4000000059604645\n"
          ]
        },
        {
          "output_type": "stream",
          "name": "stderr",
          "text": [
            "Epoch 18: 100%|██████████| 51/51 [00:00<00:00, 169.12batch/s]\n"
          ]
        },
        {
          "output_type": "stream",
          "name": "stdout",
          "text": [
            "End of 18,accuracy0.800000011920929\n",
            "End of 18,accuracy0.699999988079071\n"
          ]
        },
        {
          "output_type": "stream",
          "name": "stderr",
          "text": [
            "Epoch 19:   4%|▍         | 2/51 [00:00<00:00, 160.21batch/s]"
          ]
        },
        {
          "output_type": "stream",
          "name": "stdout",
          "text": [
            "End of 19,accuracy0.6000000238418579\n",
            "End of 19,accuracy0.800000011920929\n"
          ]
        },
        {
          "output_type": "stream",
          "name": "stderr",
          "text": [
            "\rEpoch 19:   6%|▌         | 3/51 [00:00<00:00, 153.34batch/s]"
          ]
        },
        {
          "output_type": "stream",
          "name": "stdout",
          "text": [
            "End of 19,accuracy0.5\n"
          ]
        },
        {
          "output_type": "stream",
          "name": "stderr",
          "text": [
            "Epoch 19:  18%|█▊        | 9/51 [00:00<00:00, 203.46batch/s]"
          ]
        },
        {
          "output_type": "stream",
          "name": "stdout",
          "text": [
            "End of 19,accuracy0.4000000059604645\n",
            "End of 19,accuracy0.8999999761581421\n",
            "End of 19,accuracy0.5\n",
            "End of 19,accuracy0.6000000238418579\n",
            "End of 19,accuracy0.699999988079071\n",
            "End of 19,accuracy0.699999988079071\n"
          ]
        },
        {
          "output_type": "stream",
          "name": "stderr",
          "text": [
            "Epoch 19:  22%|██▏       | 11/51 [00:00<00:00, 196.32batch/s]"
          ]
        },
        {
          "output_type": "stream",
          "name": "stdout",
          "text": [
            "End of 19,accuracy0.5\n",
            "End of 19,accuracy0.6000000238418579\n"
          ]
        },
        {
          "output_type": "stream",
          "name": "stderr",
          "text": [
            "Epoch 19:  27%|██▋       | 14/51 [00:00<00:00, 191.57batch/s]"
          ]
        },
        {
          "output_type": "stream",
          "name": "stdout",
          "text": [
            "End of 19,accuracy0.6000000238418579\n",
            "End of 19,accuracy0.8999999761581421\n",
            "End of 19,accuracy0.4000000059604645\n",
            "End of 19,accuracy0.6000000238418579"
          ]
        },
        {
          "output_type": "stream",
          "name": "stderr",
          "text": [
            "Epoch 19:  31%|███▏      | 16/51 [00:00<00:00, 157.30batch/s]"
          ]
        },
        {
          "output_type": "stream",
          "name": "stdout",
          "text": [
            "\n",
            "End of 19,accuracy0.5\n"
          ]
        },
        {
          "output_type": "stream",
          "name": "stderr",
          "text": [
            "\rEpoch 19:  33%|███▎      | 17/51 [00:00<00:00, 155.66batch/s]"
          ]
        },
        {
          "output_type": "stream",
          "name": "stdout",
          "text": [
            "End of 19,accuracy0.5\n"
          ]
        },
        {
          "output_type": "stream",
          "name": "stderr",
          "text": [
            "Epoch 19:  41%|████      | 21/51 [00:00<00:00, 178.43batch/s]"
          ]
        },
        {
          "output_type": "stream",
          "name": "stdout",
          "text": [
            "End of 19,accuracy0.800000011920929\n",
            "End of 19,accuracy0.6000000238418579\n",
            "End of 19,accuracy0.6000000238418579\n",
            "End of 19,accuracy0.800000011920929\n",
            "End of 19,accuracy0.5\n"
          ]
        },
        {
          "output_type": "stream",
          "name": "stderr",
          "text": [
            "Epoch 19:  45%|████▌     | 23/51 [00:00<00:00, 182.39batch/s]"
          ]
        },
        {
          "output_type": "stream",
          "name": "stdout",
          "text": [
            "End of 19,accuracy0.699999988079071\n"
          ]
        },
        {
          "output_type": "stream",
          "name": "stderr",
          "text": [
            "Epoch 19:  57%|█████▋    | 29/51 [00:00<00:00, 181.01batch/s]"
          ]
        },
        {
          "output_type": "stream",
          "name": "stdout",
          "text": [
            "End of 19,accuracy0.5\n",
            "End of 19,accuracy0.699999988079071\n",
            "End of 19,accuracy0.800000011920929\n",
            "End of 19,accuracy0.699999988079071\n",
            "End of 19,accuracy0.8999999761581421\n",
            "End of 19,accuracy0.699999988079071\n"
          ]
        },
        {
          "output_type": "stream",
          "name": "stderr",
          "text": [
            "\rEpoch 19:  59%|█████▉    | 30/51 [00:00<00:00, 177.48batch/s]"
          ]
        },
        {
          "output_type": "stream",
          "name": "stdout",
          "text": [
            "End of 19,accuracy0.6000000238418579\n"
          ]
        },
        {
          "output_type": "stream",
          "name": "stderr",
          "text": [
            "\rEpoch 19:  61%|██████    | 31/51 [00:00<00:00, 183.12batch/s]"
          ]
        },
        {
          "output_type": "stream",
          "name": "stdout",
          "text": [
            "End of 19,accuracy0.6000000238418579\n"
          ]
        },
        {
          "output_type": "stream",
          "name": "stderr",
          "text": [
            "Epoch 19:  69%|██████▊   | 35/51 [00:00<00:00, 181.15batch/s]"
          ]
        },
        {
          "output_type": "stream",
          "name": "stdout",
          "text": [
            "End of 19,accuracy0.8999999761581421\n",
            "End of 19,accuracy0.5\n",
            "End of 19,accuracy0.699999988079071\n",
            "End of 19,accuracy0.5\n"
          ]
        },
        {
          "output_type": "stream",
          "name": "stderr",
          "text": [
            "Epoch 19:  73%|███████▎  | 37/51 [00:00<00:00, 166.37batch/s]"
          ]
        },
        {
          "output_type": "stream",
          "name": "stdout",
          "text": [
            "End of 19,accuracy0.6000000238418579\n",
            "End of 19,accuracy0.5\n"
          ]
        },
        {
          "output_type": "stream",
          "name": "stderr",
          "text": [
            "\rEpoch 19:  75%|███████▍  | 38/51 [00:00<00:00, 152.15batch/s]"
          ]
        },
        {
          "output_type": "stream",
          "name": "stdout",
          "text": [
            "End of 19,accuracy0.6000000238418579\n"
          ]
        },
        {
          "output_type": "stream",
          "name": "stderr",
          "text": [
            "Epoch 19:  86%|████████▋ | 44/51 [00:00<00:00, 174.84batch/s]"
          ]
        },
        {
          "output_type": "stream",
          "name": "stdout",
          "text": [
            "End of 19,accuracy0.800000011920929\n",
            "End of 19,accuracy0.699999988079071\n",
            "End of 19,accuracy0.4000000059604645\n",
            "End of 19,accuracy0.6000000238418579\n",
            "End of 19,accuracy0.699999988079071\n",
            "End of 19,accuracy0.4000000059604645\n"
          ]
        },
        {
          "output_type": "stream",
          "name": "stderr",
          "text": [
            "Epoch 19:  90%|█████████ | 46/51 [00:00<00:00, 178.86batch/s]"
          ]
        },
        {
          "output_type": "stream",
          "name": "stdout",
          "text": [
            "End of 19,accuracy0.30000001192092896\n",
            "End of 19,accuracy0.30000001192092896\n"
          ]
        },
        {
          "output_type": "stream",
          "name": "stderr",
          "text": [
            "Epoch 19:  96%|█████████▌| 49/51 [00:00<00:00, 173.08batch/s]"
          ]
        },
        {
          "output_type": "stream",
          "name": "stdout",
          "text": [
            "End of 19,accuracy0.5\n",
            "End of 19,accuracy0.6000000238418579\n",
            "End of 19,accuracy0.4000000059604645\n"
          ]
        },
        {
          "output_type": "stream",
          "name": "stderr",
          "text": [
            "Epoch 19: 100%|██████████| 51/51 [00:00<00:00, 168.84batch/s]\n"
          ]
        },
        {
          "output_type": "stream",
          "name": "stdout",
          "text": [
            "End of 19,accuracy0.800000011920929\n",
            "End of 19,accuracy0.699999988079071\n"
          ]
        },
        {
          "output_type": "stream",
          "name": "stderr",
          "text": [
            "Epoch 20:   4%|▍         | 2/51 [00:00<00:00, 166.94batch/s]"
          ]
        },
        {
          "output_type": "stream",
          "name": "stdout",
          "text": [
            "End of 20,accuracy0.6000000238418579\n",
            "End of 20,accuracy0.800000011920929\n"
          ]
        },
        {
          "output_type": "stream",
          "name": "stderr",
          "text": [
            "Epoch 20:  10%|▉         | 5/51 [00:00<00:00, 175.58batch/s]"
          ]
        },
        {
          "output_type": "stream",
          "name": "stdout",
          "text": [
            "End of 20,accuracy0.5\n",
            "End of 20,accuracy0.4000000059604645\n",
            "End of 20,accuracy1.0\n"
          ]
        },
        {
          "output_type": "stream",
          "name": "stderr",
          "text": [
            "Epoch 20:  20%|█▉        | 10/51 [00:00<00:00, 180.23batch/s]"
          ]
        },
        {
          "output_type": "stream",
          "name": "stdout",
          "text": [
            "End of 20,accuracy0.5\n",
            "End of 20,accuracy0.6000000238418579\n",
            "End of 20,accuracy0.699999988079071\n",
            "End of 20,accuracy0.699999988079071\n",
            "End of 20,accuracy0.5\n"
          ]
        },
        {
          "output_type": "stream",
          "name": "stderr",
          "text": [
            "\rEpoch 20:  22%|██▏       | 11/51 [00:00<00:00, 162.92batch/s]"
          ]
        },
        {
          "output_type": "stream",
          "name": "stdout",
          "text": [
            "End of 20,accuracy0.6000000238418579\n"
          ]
        },
        {
          "output_type": "stream",
          "name": "stderr",
          "text": [
            "\rEpoch 20:  24%|██▎       | 12/51 [00:00<00:00, 161.55batch/s]"
          ]
        },
        {
          "output_type": "stream",
          "name": "stdout",
          "text": [
            "End of 20,accuracy0.6000000238418579\n"
          ]
        },
        {
          "output_type": "stream",
          "name": "stderr",
          "text": [
            "Epoch 20:  31%|███▏      | 16/51 [00:00<00:00, 174.18batch/s]"
          ]
        },
        {
          "output_type": "stream",
          "name": "stdout",
          "text": [
            "End of 20,accuracy0.8999999761581421\n",
            "End of 20,accuracy0.4000000059604645\n",
            "End of 20,accuracy0.6000000238418579\n",
            "End of 20,accuracy0.5\n"
          ]
        },
        {
          "output_type": "stream",
          "name": "stderr",
          "text": [
            "Epoch 20:  35%|███▌      | 18/51 [00:00<00:00, 172.66batch/s]"
          ]
        },
        {
          "output_type": "stream",
          "name": "stdout",
          "text": [
            "End of 20,accuracy0.5\n",
            "End of 20,accuracy0.800000011920929\n"
          ]
        },
        {
          "output_type": "stream",
          "name": "stderr",
          "text": [
            "\rEpoch 20:  37%|███▋      | 19/51 [00:00<00:00, 168.56batch/s]"
          ]
        },
        {
          "output_type": "stream",
          "name": "stdout",
          "text": [
            "End of 20,accuracy0.6000000238418579\n"
          ]
        },
        {
          "output_type": "stream",
          "name": "stderr",
          "text": [
            "Epoch 20:  49%|████▉     | 25/51 [00:00<00:00, 175.06batch/s]"
          ]
        },
        {
          "output_type": "stream",
          "name": "stdout",
          "text": [
            "End of 20,accuracy0.6000000238418579\n",
            "End of 20,accuracy0.800000011920929\n",
            "End of 20,accuracy0.5\n",
            "End of 20,accuracy0.699999988079071\n",
            "End of 20,accuracy0.5\n",
            "End of 20,accuracy0.699999988079071\n"
          ]
        },
        {
          "output_type": "stream",
          "name": "stderr",
          "text": [
            "Epoch 20:  53%|█████▎    | 27/51 [00:00<00:00, 172.53batch/s]"
          ]
        },
        {
          "output_type": "stream",
          "name": "stdout",
          "text": [
            "End of 20,accuracy0.800000011920929\n",
            "End of 20,accuracy0.699999988079071\n"
          ]
        },
        {
          "output_type": "stream",
          "name": "stderr",
          "text": [
            "Epoch 20:  59%|█████▉    | 30/51 [00:00<00:00, 170.09batch/s]"
          ]
        },
        {
          "output_type": "stream",
          "name": "stdout",
          "text": [
            "End of 20,accuracy0.8999999761581421\n",
            "End of 20,accuracy0.699999988079071\n",
            "End of 20,accuracy0.6000000238418579\n"
          ]
        },
        {
          "output_type": "stream",
          "name": "stderr",
          "text": [
            "Epoch 20:  69%|██████▊   | 35/51 [00:00<00:00, 191.47batch/s]"
          ]
        },
        {
          "output_type": "stream",
          "name": "stdout",
          "text": [
            "End of 20,accuracy0.6000000238418579\n",
            "End of 20,accuracy0.8999999761581421\n",
            "End of 20,accuracy0.6000000238418579\n",
            "End of 20,accuracy0.699999988079071\n",
            "End of 20,accuracy0.5\n"
          ]
        },
        {
          "output_type": "stream",
          "name": "stderr",
          "text": [
            "Epoch 20:  75%|███████▍  | 38/51 [00:00<00:00, 196.02batch/s]"
          ]
        },
        {
          "output_type": "stream",
          "name": "stdout",
          "text": [
            "End of 20,accuracy0.6000000238418579\n",
            "End of 20,accuracy0.5\n",
            "End of 20,accuracy0.6000000238418579\n"
          ]
        },
        {
          "output_type": "stream",
          "name": "stderr",
          "text": [
            "Epoch 20:  80%|████████  | 41/51 [00:00<00:00, 197.89batch/s]"
          ]
        },
        {
          "output_type": "stream",
          "name": "stdout",
          "text": [
            "End of 20,accuracy0.800000011920929\n",
            "End of 20,accuracy0.699999988079071\n",
            "End of 20,accuracy0.4000000059604645\n"
          ]
        },
        {
          "output_type": "stream",
          "name": "stderr",
          "text": [
            "Epoch 20:  92%|█████████▏| 47/51 [00:00<00:00, 200.99batch/s]"
          ]
        },
        {
          "output_type": "stream",
          "name": "stdout",
          "text": [
            "End of 20,accuracy0.6000000238418579\n",
            "End of 20,accuracy0.699999988079071\n",
            "End of 20,accuracy0.4000000059604645\n",
            "End of 20,accuracy0.30000001192092896\n",
            "End of 20,accuracy0.30000001192092896\n",
            "End of 20,accuracy0.5\n"
          ]
        },
        {
          "output_type": "stream",
          "name": "stderr",
          "text": [
            "\rEpoch 20:  94%|█████████▍| 48/51 [00:00<00:00, 184.67batch/s]"
          ]
        },
        {
          "output_type": "stream",
          "name": "stdout",
          "text": [
            "End of 20,accuracy0.6000000238418579\n"
          ]
        },
        {
          "output_type": "stream",
          "name": "stderr",
          "text": [
            "\rEpoch 20:  96%|█████████▌| 49/51 [00:00<00:00, 178.34batch/s]"
          ]
        },
        {
          "output_type": "stream",
          "name": "stdout",
          "text": [
            "End of 20,accuracy0.4000000059604645\n"
          ]
        },
        {
          "output_type": "stream",
          "name": "stderr",
          "text": [
            "Epoch 20: 100%|██████████| 51/51 [00:00<00:00, 174.03batch/s]\n"
          ]
        },
        {
          "output_type": "stream",
          "name": "stdout",
          "text": [
            "End of 20,accuracy0.800000011920929\n",
            "End of 20,accuracy0.699999988079071\n"
          ]
        },
        {
          "output_type": "stream",
          "name": "stderr",
          "text": [
            "Epoch 21:   4%|▍         | 2/51 [00:00<00:00, 161.46batch/s]"
          ]
        },
        {
          "output_type": "stream",
          "name": "stdout",
          "text": [
            "End of 21,accuracy0.6000000238418579\n",
            "End of 21,accuracy0.800000011920929\n"
          ]
        },
        {
          "output_type": "stream",
          "name": "stderr",
          "text": [
            "\rEpoch 21:   6%|▌         | 3/51 [00:00<00:00, 171.35batch/s]"
          ]
        },
        {
          "output_type": "stream",
          "name": "stdout",
          "text": [
            "End of 21,accuracy0.5\n"
          ]
        },
        {
          "output_type": "stream",
          "name": "stderr",
          "text": [
            "Epoch 21:  18%|█▊        | 9/51 [00:00<00:00, 183.27batch/s]"
          ]
        },
        {
          "output_type": "stream",
          "name": "stdout",
          "text": [
            "End of 21,accuracy0.4000000059604645\n",
            "End of 21,accuracy1.0\n",
            "End of 21,accuracy0.5\n",
            "End of 21,accuracy0.6000000238418579\n",
            "End of 21,accuracy0.699999988079071\n",
            "End of 21,accuracy0.699999988079071\n"
          ]
        },
        {
          "output_type": "stream",
          "name": "stderr",
          "text": [
            "Epoch 21:  24%|██▎       | 12/51 [00:00<00:00, 184.08batch/s]"
          ]
        },
        {
          "output_type": "stream",
          "name": "stdout",
          "text": [
            "End of 21,accuracy0.5\n",
            "End of 21,accuracy0.6000000238418579\n",
            "End of 21,accuracy0.6000000238418579\n"
          ]
        },
        {
          "output_type": "stream",
          "name": "stderr",
          "text": [
            "Epoch 21:  29%|██▉       | 15/51 [00:00<00:00, 190.25batch/s]"
          ]
        },
        {
          "output_type": "stream",
          "name": "stdout",
          "text": [
            "End of 21,accuracy0.8999999761581421\n",
            "End of 21,accuracy0.4000000059604645\n",
            "End of 21,accuracy0.6000000238418579\n"
          ]
        },
        {
          "output_type": "stream",
          "name": "stderr",
          "text": [
            "Epoch 21:  37%|███▋      | 19/51 [00:00<00:00, 177.77batch/s]"
          ]
        },
        {
          "output_type": "stream",
          "name": "stdout",
          "text": [
            "End of 21,accuracy0.5\n",
            "End of 21,accuracy0.5\n",
            "End of 21,accuracy0.800000011920929\n",
            "End of 21,accuracy0.6000000238418579\n"
          ]
        },
        {
          "output_type": "stream",
          "name": "stderr",
          "text": [
            "Epoch 21:  43%|████▎     | 22/51 [00:00<00:00, 173.95batch/s]"
          ]
        },
        {
          "output_type": "stream",
          "name": "stdout",
          "text": [
            "End of 21,accuracy0.6000000238418579\n",
            "End of 21,accuracy0.800000011920929\n",
            "End of 21,accuracy0.5\n"
          ]
        },
        {
          "output_type": "stream",
          "name": "stderr",
          "text": [
            "Epoch 21:  49%|████▉     | 25/51 [00:00<00:00, 180.24batch/s]"
          ]
        },
        {
          "output_type": "stream",
          "name": "stdout",
          "text": [
            "End of 21,accuracy0.699999988079071\n",
            "End of 21,accuracy0.5\n",
            "End of 21,accuracy0.699999988079071\n"
          ]
        },
        {
          "output_type": "stream",
          "name": "stderr",
          "text": [
            "Epoch 21:  59%|█████▉    | 30/51 [00:00<00:00, 184.57batch/s]"
          ]
        },
        {
          "output_type": "stream",
          "name": "stdout",
          "text": [
            "End of 21,accuracy0.800000011920929\n",
            "End of 21,accuracy0.699999988079071\n",
            "End of 21,accuracy0.8999999761581421\n",
            "End of 21,accuracy0.699999988079071\n",
            "End of 21,accuracy0.6000000238418579\n"
          ]
        },
        {
          "output_type": "stream",
          "name": "stderr",
          "text": [
            "Epoch 21:  63%|██████▎   | 32/51 [00:00<00:00, 183.66batch/s]"
          ]
        },
        {
          "output_type": "stream",
          "name": "stdout",
          "text": [
            "End of 21,accuracy0.699999988079071\n",
            "End of 21,accuracy0.8999999761581421\n",
            "End of 21,accuracy0.6000000238418579"
          ]
        },
        {
          "output_type": "stream",
          "name": "stderr",
          "text": [
            "Epoch 21:  73%|███████▎  | 37/51 [00:00<00:00, 176.69batch/s]"
          ]
        },
        {
          "output_type": "stream",
          "name": "stdout",
          "text": [
            "\n",
            "End of 21,accuracy0.699999988079071\n",
            "End of 21,accuracy0.5\n",
            "End of 21,accuracy0.6000000238418579\n",
            "End of 21,accuracy0.5\n"
          ]
        },
        {
          "output_type": "stream",
          "name": "stderr",
          "text": [
            "\rEpoch 21:  75%|███████▍  | 38/51 [00:00<00:00, 160.58batch/s]"
          ]
        },
        {
          "output_type": "stream",
          "name": "stdout",
          "text": [
            "End of 21,accuracy0.6000000238418579\n"
          ]
        },
        {
          "output_type": "stream",
          "name": "stderr",
          "text": [
            "\rEpoch 21:  76%|███████▋  | 39/51 [00:00<00:00, 153.14batch/s]"
          ]
        },
        {
          "output_type": "stream",
          "name": "stdout",
          "text": [
            "End of 21,accuracy0.800000011920929\n"
          ]
        },
        {
          "output_type": "stream",
          "name": "stderr",
          "text": [
            "Epoch 21:  88%|████████▊ | 45/51 [00:00<00:00, 181.54batch/s]"
          ]
        },
        {
          "output_type": "stream",
          "name": "stdout",
          "text": [
            "End of 21,accuracy0.699999988079071\n",
            "End of 21,accuracy0.4000000059604645\n",
            "End of 21,accuracy0.6000000238418579\n",
            "End of 21,accuracy0.699999988079071\n",
            "End of 21,accuracy0.5\n",
            "End of 21,accuracy0.30000001192092896\n"
          ]
        },
        {
          "output_type": "stream",
          "name": "stderr",
          "text": [
            "Epoch 21:  92%|█████████▏| 47/51 [00:00<00:00, 173.06batch/s]"
          ]
        },
        {
          "output_type": "stream",
          "name": "stdout",
          "text": [
            "End of 21,accuracy0.30000001192092896\n",
            "End of 21,accuracy0.5\n"
          ]
        },
        {
          "output_type": "stream",
          "name": "stderr",
          "text": [
            "Epoch 21:  98%|█████████▊| 50/51 [00:00<00:00, 176.17batch/s]"
          ]
        },
        {
          "output_type": "stream",
          "name": "stdout",
          "text": [
            "End of 21,accuracy0.6000000238418579\n",
            "End of 21,accuracy0.4000000059604645\n",
            "End of 21,accuracy0.800000011920929\n"
          ]
        },
        {
          "output_type": "stream",
          "name": "stderr",
          "text": [
            "Epoch 21: 100%|██████████| 51/51 [00:00<00:00, 172.69batch/s]\n"
          ]
        },
        {
          "output_type": "stream",
          "name": "stdout",
          "text": [
            "End of 21,accuracy0.699999988079071\n"
          ]
        },
        {
          "output_type": "stream",
          "name": "stderr",
          "text": [
            "Epoch 22:   2%|▏         | 1/51 [00:00<00:00, 195.43batch/s]"
          ]
        },
        {
          "output_type": "stream",
          "name": "stdout",
          "text": [
            "End of 22,accuracy0.6000000238418579\n"
          ]
        },
        {
          "output_type": "stream",
          "name": "stderr",
          "text": [
            "Epoch 22:   6%|▌         | 3/51 [00:00<00:00, 121.36batch/s]"
          ]
        },
        {
          "output_type": "stream",
          "name": "stdout",
          "text": [
            "End of 22,accuracy0.800000011920929\n",
            "End of 22,accuracy0.5\n"
          ]
        },
        {
          "output_type": "stream",
          "name": "stderr",
          "text": [
            "Epoch 22:  10%|▉         | 5/51 [00:00<00:00, 143.33batch/s]"
          ]
        },
        {
          "output_type": "stream",
          "name": "stdout",
          "text": [
            "End of 22,accuracy0.4000000059604645\n",
            "End of 22,accuracy1.0\n",
            "End of 22,accuracy0.5\n"
          ]
        },
        {
          "output_type": "stream",
          "name": "stderr",
          "text": [
            "Epoch 22:  20%|█▉        | 10/51 [00:00<00:00, 162.33batch/s]"
          ]
        },
        {
          "output_type": "stream",
          "name": "stdout",
          "text": [
            "End of 22,accuracy0.6000000238418579\n",
            "End of 22,accuracy0.699999988079071\n",
            "End of 22,accuracy0.699999988079071\n",
            "End of 22,accuracy0.5\n",
            "End of 22,accuracy0.6000000238418579\n"
          ]
        },
        {
          "output_type": "stream",
          "name": "stderr",
          "text": [
            "Epoch 22:  24%|██▎       | 12/51 [00:00<00:00, 159.84batch/s]"
          ]
        },
        {
          "output_type": "stream",
          "name": "stdout",
          "text": [
            "End of 22,accuracy0.6000000238418579\n"
          ]
        },
        {
          "output_type": "stream",
          "name": "stderr",
          "text": [
            "Epoch 22:  35%|███▌      | 18/51 [00:00<00:00, 180.10batch/s]"
          ]
        },
        {
          "output_type": "stream",
          "name": "stdout",
          "text": [
            "End of 22,accuracy0.8999999761581421\n",
            "End of 22,accuracy0.4000000059604645\n",
            "End of 22,accuracy0.6000000238418579\n",
            "End of 22,accuracy0.5\n",
            "End of 22,accuracy0.5\n",
            "End of 22,accuracy0.800000011920929\n"
          ]
        },
        {
          "output_type": "stream",
          "name": "stderr",
          "text": [
            "\rEpoch 22:  37%|███▋      | 19/51 [00:00<00:00, 177.53batch/s]"
          ]
        },
        {
          "output_type": "stream",
          "name": "stdout",
          "text": [
            "End of 22,accuracy0.6000000238418579\n"
          ]
        },
        {
          "output_type": "stream",
          "name": "stderr",
          "text": [
            "\rEpoch 22:  39%|███▉      | 20/51 [00:00<00:00, 172.42batch/s]"
          ]
        },
        {
          "output_type": "stream",
          "name": "stdout",
          "text": [
            "End of 22,accuracy0.6000000238418579\n"
          ]
        },
        {
          "output_type": "stream",
          "name": "stderr",
          "text": [
            "Epoch 22:  51%|█████     | 26/51 [00:00<00:00, 182.37batch/s]"
          ]
        },
        {
          "output_type": "stream",
          "name": "stdout",
          "text": [
            "End of 22,accuracy0.800000011920929\n",
            "End of 22,accuracy0.5\n",
            "End of 22,accuracy0.699999988079071\n",
            "End of 22,accuracy0.5\n",
            "End of 22,accuracy0.6000000238418579\n",
            "End of 22,accuracy0.800000011920929\n"
          ]
        },
        {
          "output_type": "stream",
          "name": "stderr",
          "text": [
            "Epoch 22:  57%|█████▋    | 29/51 [00:00<00:00, 191.36batch/s]"
          ]
        },
        {
          "output_type": "stream",
          "name": "stdout",
          "text": [
            "End of 22,accuracy0.699999988079071\n",
            "End of 22,accuracy0.8999999761581421\n",
            "End of 22,accuracy0.699999988079071\n"
          ]
        },
        {
          "output_type": "stream",
          "name": "stderr",
          "text": [
            "Epoch 22:  63%|██████▎   | 32/51 [00:00<00:00, 191.47batch/s]"
          ]
        },
        {
          "output_type": "stream",
          "name": "stdout",
          "text": [
            "End of 22,accuracy0.6000000238418579\n",
            "End of 22,accuracy0.699999988079071\n",
            "End of 22,accuracy0.8999999761581421\n"
          ]
        },
        {
          "output_type": "stream",
          "name": "stderr",
          "text": [
            "Epoch 22:  69%|██████▊   | 35/51 [00:00<00:00, 196.87batch/s]"
          ]
        },
        {
          "output_type": "stream",
          "name": "stdout",
          "text": [
            "End of 22,accuracy0.6000000238418579\n",
            "End of 22,accuracy0.699999988079071\n",
            "End of 22,accuracy0.5\n"
          ]
        },
        {
          "output_type": "stream",
          "name": "stderr",
          "text": [
            "\rEpoch 22:  71%|███████   | 36/51 [00:00<00:00, 173.40batch/s]"
          ]
        },
        {
          "output_type": "stream",
          "name": "stdout",
          "text": [
            "End of 22,accuracy0.6000000238418579\n"
          ]
        },
        {
          "output_type": "stream",
          "name": "stderr",
          "text": [
            "Epoch 22:  76%|███████▋  | 39/51 [00:00<00:00, 175.19batch/s]"
          ]
        },
        {
          "output_type": "stream",
          "name": "stdout",
          "text": [
            "End of 22,accuracy0.5\n",
            "End of 22,accuracy0.6000000238418579\n",
            "End of 22,accuracy0.800000011920929\n"
          ]
        },
        {
          "output_type": "stream",
          "name": "stderr",
          "text": [
            "Epoch 22:  80%|████████  | 41/51 [00:00<00:00, 154.75batch/s]"
          ]
        },
        {
          "output_type": "stream",
          "name": "stdout",
          "text": [
            "End of 22,accuracy0.699999988079071\n",
            "End of 22,accuracy0.4000000059604645\n"
          ]
        },
        {
          "output_type": "stream",
          "name": "stderr",
          "text": [
            "Epoch 22:  92%|█████████▏| 47/51 [00:00<00:00, 178.35batch/s]"
          ]
        },
        {
          "output_type": "stream",
          "name": "stdout",
          "text": [
            "End of 22,accuracy0.6000000238418579\n",
            "End of 22,accuracy0.699999988079071\n",
            "End of 22,accuracy0.5\n",
            "End of 22,accuracy0.30000001192092896\n",
            "End of 22,accuracy0.30000001192092896\n",
            "End of 22,accuracy0.5\n"
          ]
        },
        {
          "output_type": "stream",
          "name": "stderr",
          "text": [
            "\rEpoch 22:  94%|█████████▍| 48/51 [00:00<00:00, 171.16batch/s]"
          ]
        },
        {
          "output_type": "stream",
          "name": "stdout",
          "text": [
            "End of 22,accuracy0.6000000238418579\n"
          ]
        },
        {
          "output_type": "stream",
          "name": "stderr",
          "text": [
            "Epoch 22: 100%|██████████| 51/51 [00:00<00:00, 166.68batch/s]\n"
          ]
        },
        {
          "output_type": "stream",
          "name": "stdout",
          "text": [
            "End of 22,accuracy0.4000000059604645\n",
            "End of 22,accuracy0.800000011920929\n",
            "End of 22,accuracy0.699999988079071\n"
          ]
        },
        {
          "output_type": "stream",
          "name": "stderr",
          "text": [
            "Epoch 23:   2%|▏         | 1/51 [00:00<00:00, 134.75batch/s]"
          ]
        },
        {
          "output_type": "stream",
          "name": "stdout",
          "text": [
            "End of 23,accuracy0.6000000238418579\n"
          ]
        },
        {
          "output_type": "stream",
          "name": "stderr",
          "text": [
            "\rEpoch 23:   4%|▍         | 2/51 [00:00<00:00, 151.00batch/s]"
          ]
        },
        {
          "output_type": "stream",
          "name": "stdout",
          "text": [
            "End of 23,accuracy0.800000011920929\n"
          ]
        },
        {
          "output_type": "stream",
          "name": "stderr",
          "text": [
            "Epoch 23:  16%|█▌        | 8/51 [00:00<00:00, 185.07batch/s]"
          ]
        },
        {
          "output_type": "stream",
          "name": "stdout",
          "text": [
            "End of 23,accuracy0.5\n",
            "End of 23,accuracy0.4000000059604645\n",
            "End of 23,accuracy0.8999999761581421\n",
            "End of 23,accuracy0.5\n",
            "End of 23,accuracy0.6000000238418579\n",
            "End of 23,accuracy0.699999988079071\n"
          ]
        },
        {
          "output_type": "stream",
          "name": "stderr",
          "text": [
            "Epoch 23:  20%|█▉        | 10/51 [00:00<00:00, 168.93batch/s]"
          ]
        },
        {
          "output_type": "stream",
          "name": "stdout",
          "text": [
            "End of 23,accuracy0.699999988079071\n",
            "End of 23,accuracy0.5\n",
            "End of 23,accuracy0.6000000238418579\n"
          ]
        },
        {
          "output_type": "stream",
          "name": "stderr",
          "text": [
            "Epoch 23:  27%|██▋       | 14/51 [00:00<00:00, 191.46batch/s]"
          ]
        },
        {
          "output_type": "stream",
          "name": "stdout",
          "text": [
            "End of 23,accuracy0.6000000238418579\n",
            "End of 23,accuracy0.8999999761581421\n",
            "End of 23,accuracy0.4000000059604645\n"
          ]
        },
        {
          "output_type": "stream",
          "name": "stderr",
          "text": [
            "Epoch 23:  33%|███▎      | 17/51 [00:00<00:00, 188.28batch/s]"
          ]
        },
        {
          "output_type": "stream",
          "name": "stdout",
          "text": [
            "End of 23,accuracy0.6000000238418579\n",
            "End of 23,accuracy0.5\n",
            "End of 23,accuracy0.5\n"
          ]
        },
        {
          "output_type": "stream",
          "name": "stderr",
          "text": [
            "\rEpoch 23:  35%|███▌      | 18/51 [00:00<00:00, 187.60batch/s]"
          ]
        },
        {
          "output_type": "stream",
          "name": "stdout",
          "text": [
            "End of 23,accuracy0.800000011920929\n"
          ]
        },
        {
          "output_type": "stream",
          "name": "stderr",
          "text": [
            "Epoch 23:  41%|████      | 21/51 [00:00<00:00, 198.43batch/s]"
          ]
        },
        {
          "output_type": "stream",
          "name": "stdout",
          "text": [
            "End of 23,accuracy0.6000000238418579\n",
            "End of 23,accuracy0.6000000238418579\n",
            "End of 23,accuracy0.800000011920929\n"
          ]
        },
        {
          "output_type": "stream",
          "name": "stderr",
          "text": [
            "Epoch 23:  45%|████▌     | 23/51 [00:00<00:00, 162.33batch/s]"
          ]
        },
        {
          "output_type": "stream",
          "name": "stdout",
          "text": [
            "End of 23,accuracy0.5\n",
            "End of 23,accuracy0.699999988079071\n"
          ]
        },
        {
          "output_type": "stream",
          "name": "stderr",
          "text": [
            "Epoch 23:  57%|█████▋    | 29/51 [00:00<00:00, 165.22batch/s]"
          ]
        },
        {
          "output_type": "stream",
          "name": "stdout",
          "text": [
            "End of 23,accuracy0.5\n",
            "End of 23,accuracy0.6000000238418579\n",
            "End of 23,accuracy0.800000011920929\n",
            "End of 23,accuracy0.699999988079071\n",
            "End of 23,accuracy0.8999999761581421\n",
            "End of 23,accuracy0.699999988079071\n"
          ]
        },
        {
          "output_type": "stream",
          "name": "stderr",
          "text": [
            "\rEpoch 23:  59%|█████▉    | 30/51 [00:00<00:00, 165.67batch/s]"
          ]
        },
        {
          "output_type": "stream",
          "name": "stdout",
          "text": [
            "End of 23,accuracy0.6000000238418579\n"
          ]
        },
        {
          "output_type": "stream",
          "name": "stderr",
          "text": [
            "Epoch 23:  71%|███████   | 36/51 [00:00<00:00, 183.67batch/s]"
          ]
        },
        {
          "output_type": "stream",
          "name": "stdout",
          "text": [
            "End of 23,accuracy0.699999988079071\n",
            "End of 23,accuracy0.8999999761581421\n",
            "End of 23,accuracy0.6000000238418579\n",
            "End of 23,accuracy0.699999988079071\n",
            "End of 23,accuracy0.5\n",
            "End of 23,accuracy0.6000000238418579\n"
          ]
        },
        {
          "output_type": "stream",
          "name": "stderr",
          "text": [
            "\rEpoch 23:  73%|███████▎  | 37/51 [00:00<00:00, 181.24batch/s]"
          ]
        },
        {
          "output_type": "stream",
          "name": "stdout",
          "text": [
            "End of 23,accuracy0.5\n"
          ]
        },
        {
          "output_type": "stream",
          "name": "stderr",
          "text": [
            "\rEpoch 23:  75%|███████▍  | 38/51 [00:00<00:00, 170.82batch/s]"
          ]
        },
        {
          "output_type": "stream",
          "name": "stdout",
          "text": [
            "End of 23,accuracy0.6000000238418579\n"
          ]
        },
        {
          "output_type": "stream",
          "name": "stderr",
          "text": [
            "Epoch 23:  88%|████████▊ | 45/51 [00:00<00:00, 198.34batch/s]"
          ]
        },
        {
          "output_type": "stream",
          "name": "stdout",
          "text": [
            "End of 23,accuracy0.800000011920929\n",
            "End of 23,accuracy0.699999988079071\n",
            "End of 23,accuracy0.4000000059604645\n",
            "End of 23,accuracy0.6000000238418579\n",
            "End of 23,accuracy0.699999988079071\n",
            "End of 23,accuracy0.5\n",
            "End of 23,accuracy0.30000001192092896\n"
          ]
        },
        {
          "output_type": "stream",
          "name": "stderr",
          "text": [
            "\rEpoch 23:  90%|█████████ | 46/51 [00:00<00:00, 187.01batch/s]"
          ]
        },
        {
          "output_type": "stream",
          "name": "stdout",
          "text": [
            "End of 23,accuracy0.30000001192092896\n"
          ]
        },
        {
          "output_type": "stream",
          "name": "stderr",
          "text": [
            "Epoch 23:  98%|█████████▊| 50/51 [00:00<00:00, 178.89batch/s]"
          ]
        },
        {
          "output_type": "stream",
          "name": "stdout",
          "text": [
            "End of 23,accuracy0.5\n",
            "End of 23,accuracy0.6000000238418579\n",
            "End of 23,accuracy0.4000000059604645\n",
            "End of 23,accuracy0.800000011920929\n"
          ]
        },
        {
          "output_type": "stream",
          "name": "stderr",
          "text": [
            "Epoch 23: 100%|██████████| 51/51 [00:00<00:00, 174.62batch/s]\n"
          ]
        },
        {
          "output_type": "stream",
          "name": "stdout",
          "text": [
            "End of 23,accuracy0.699999988079071\n"
          ]
        },
        {
          "output_type": "stream",
          "name": "stderr",
          "text": [
            "Epoch 24:   2%|▏         | 1/51 [00:00<00:00, 268.42batch/s]"
          ]
        },
        {
          "output_type": "stream",
          "name": "stdout",
          "text": [
            "End of 24,accuracy0.6000000238418579\n"
          ]
        },
        {
          "output_type": "stream",
          "name": "stderr",
          "text": [
            "\rEpoch 24:   4%|▍         | 2/51 [00:00<00:00, 271.04batch/s]"
          ]
        },
        {
          "output_type": "stream",
          "name": "stdout",
          "text": [
            "End of 24,accuracy0.800000011920929\n"
          ]
        },
        {
          "output_type": "stream",
          "name": "stderr",
          "text": [
            "Epoch 24:  10%|▉         | 5/51 [00:00<00:00, 210.44batch/s]"
          ]
        },
        {
          "output_type": "stream",
          "name": "stdout",
          "text": [
            "End of 24,accuracy0.5\n",
            "End of 24,accuracy0.4000000059604645\n",
            "End of 24,accuracy0.8999999761581421\n"
          ]
        },
        {
          "output_type": "stream",
          "name": "stderr",
          "text": [
            "Epoch 24:  14%|█▎        | 7/51 [00:00<00:00, 194.66batch/s]"
          ]
        },
        {
          "output_type": "stream",
          "name": "stdout",
          "text": [
            "End of 24,accuracy0.5\n",
            "End of 24,accuracy0.6000000238418579\n"
          ]
        },
        {
          "output_type": "stream",
          "name": "stderr",
          "text": [
            "Epoch 24:  27%|██▋       | 14/51 [00:00<00:00, 212.70batch/s]"
          ]
        },
        {
          "output_type": "stream",
          "name": "stdout",
          "text": [
            "End of 24,accuracy0.699999988079071\n",
            "End of 24,accuracy0.699999988079071\n",
            "End of 24,accuracy0.5\n",
            "End of 24,accuracy0.5\n",
            "End of 24,accuracy0.6000000238418579\n",
            "End of 24,accuracy0.8999999761581421\n",
            "End of 24,accuracy0.4000000059604645\n"
          ]
        },
        {
          "output_type": "stream",
          "name": "stderr",
          "text": [
            "\rEpoch 24:  29%|██▉       | 15/51 [00:00<00:00, 208.83batch/s]"
          ]
        },
        {
          "output_type": "stream",
          "name": "stdout",
          "text": [
            "End of 24,accuracy0.6000000238418579\n"
          ]
        },
        {
          "output_type": "stream",
          "name": "stderr",
          "text": [
            "Epoch 24:  41%|████      | 21/51 [00:00<00:00, 180.95batch/s]"
          ]
        },
        {
          "output_type": "stream",
          "name": "stdout",
          "text": [
            "End of 24,accuracy0.5\n",
            "End of 24,accuracy0.5\n",
            "End of 24,accuracy0.800000011920929\n",
            "End of 24,accuracy0.6000000238418579\n",
            "End of 24,accuracy0.6000000238418579\n",
            "End of 24,accuracy0.800000011920929\n"
          ]
        },
        {
          "output_type": "stream",
          "name": "stderr",
          "text": [
            "\rEpoch 24:  43%|████▎     | 22/51 [00:00<00:00, 155.87batch/s]"
          ]
        },
        {
          "output_type": "stream",
          "name": "stdout",
          "text": [
            "End of 24,accuracy0.5\n"
          ]
        },
        {
          "output_type": "stream",
          "name": "stderr",
          "text": [
            "\rEpoch 24:  45%|████▌     | 23/51 [00:00<00:00, 152.40batch/s]"
          ]
        },
        {
          "output_type": "stream",
          "name": "stdout",
          "text": [
            "End of 24,accuracy0.699999988079071\n"
          ]
        },
        {
          "output_type": "stream",
          "name": "stderr",
          "text": [
            "Epoch 24:  55%|█████▍    | 28/51 [00:00<00:00, 160.66batch/s]"
          ]
        },
        {
          "output_type": "stream",
          "name": "stdout",
          "text": [
            "End of 24,accuracy0.5\n",
            "End of 24,accuracy0.6000000238418579\n",
            "End of 24,accuracy0.800000011920929\n",
            "End of 24,accuracy0.699999988079071\n",
            "End of 24,accuracy0.8999999761581421\n",
            "End of 24,accuracy0.699999988079071\n"
          ]
        },
        {
          "output_type": "stream",
          "name": "stderr",
          "text": [
            "Epoch 24:  65%|██████▍   | 33/51 [00:00<00:00, 155.86batch/s]"
          ]
        },
        {
          "output_type": "stream",
          "name": "stdout",
          "text": [
            "End of 24,accuracy0.6000000238418579\n",
            "End of 24,accuracy0.699999988079071\n",
            "End of 24,accuracy0.8999999761581421\n",
            "End of 24,accuracy0.6000000238418579\n",
            "End of 24,accuracy0.699999988079071\n"
          ]
        },
        {
          "output_type": "stream",
          "name": "stderr",
          "text": [
            "Epoch 24:  69%|██████▊   | 35/51 [00:00<00:00, 115.50batch/s]"
          ]
        },
        {
          "output_type": "stream",
          "name": "stdout",
          "text": [
            "End of 24,accuracy0.6000000238418579\n"
          ]
        },
        {
          "output_type": "stream",
          "name": "stderr",
          "text": [
            "Epoch 24:  75%|███████▍  | 38/51 [00:00<00:00, 147.61batch/s]"
          ]
        },
        {
          "output_type": "stream",
          "name": "stdout",
          "text": [
            "End of 24,accuracy0.6000000238418579\n",
            "End of 24,accuracy0.5\n",
            "End of 24,accuracy0.6000000238418579\n"
          ]
        },
        {
          "output_type": "stream",
          "name": "stderr",
          "text": [
            "Epoch 24:  78%|███████▊  | 40/51 [00:00<00:00, 167.25batch/s]"
          ]
        },
        {
          "output_type": "stream",
          "name": "stdout",
          "text": [
            "End of 24,accuracy0.800000011920929\n",
            "End of 24,accuracy0.699999988079071\n"
          ]
        },
        {
          "output_type": "stream",
          "name": "stderr",
          "text": [
            "Epoch 24:  90%|█████████ | 46/51 [00:00<00:00, 187.80batch/s]"
          ]
        },
        {
          "output_type": "stream",
          "name": "stdout",
          "text": [
            "End of 24,accuracy0.4000000059604645\n",
            "End of 24,accuracy0.699999988079071\n",
            "End of 24,accuracy0.699999988079071\n",
            "End of 24,accuracy0.5\n",
            "End of 24,accuracy0.30000001192092896\n",
            "End of 24,accuracy0.30000001192092896\n"
          ]
        },
        {
          "output_type": "stream",
          "name": "stderr",
          "text": [
            "Epoch 24:  94%|█████████▍| 48/51 [00:00<00:00, 188.70batch/s]"
          ]
        },
        {
          "output_type": "stream",
          "name": "stdout",
          "text": [
            "End of 24,accuracy0.5\n",
            "End of 24,accuracy0.6000000238418579\n"
          ]
        },
        {
          "output_type": "stream",
          "name": "stderr",
          "text": [
            "Epoch 24: 100%|██████████| 51/51 [00:00<00:00, 167.56batch/s]\n"
          ]
        },
        {
          "output_type": "stream",
          "name": "stdout",
          "text": [
            "End of 24,accuracy0.4000000059604645\n",
            "End of 24,accuracy0.8999999761581421\n",
            "End of 24,accuracy0.699999988079071\n"
          ]
        },
        {
          "output_type": "stream",
          "name": "stderr",
          "text": [
            "Epoch 25:   4%|▍         | 2/51 [00:00<00:00, 129.54batch/s]"
          ]
        },
        {
          "output_type": "stream",
          "name": "stdout",
          "text": [
            "End of 25,accuracy0.6000000238418579\n",
            "End of 25,accuracy0.800000011920929\n"
          ]
        },
        {
          "output_type": "stream",
          "name": "stderr",
          "text": [
            "Epoch 25:   8%|▊         | 4/51 [00:00<00:00, 168.97batch/s]"
          ]
        },
        {
          "output_type": "stream",
          "name": "stdout",
          "text": [
            "End of 25,accuracy0.5\n",
            "End of 25,accuracy0.4000000059604645\n"
          ]
        },
        {
          "output_type": "stream",
          "name": "stderr",
          "text": [
            "Epoch 25:  20%|█▉        | 10/51 [00:00<00:00, 182.87batch/s]"
          ]
        },
        {
          "output_type": "stream",
          "name": "stdout",
          "text": [
            "End of 25,accuracy0.8999999761581421\n",
            "End of 25,accuracy0.5\n",
            "End of 25,accuracy0.6000000238418579\n",
            "End of 25,accuracy0.699999988079071\n",
            "End of 25,accuracy0.699999988079071\n",
            "End of 25,accuracy0.5\n"
          ]
        },
        {
          "output_type": "stream",
          "name": "stderr",
          "text": [
            "Epoch 25:  29%|██▉       | 15/51 [00:00<00:00, 160.22batch/s]"
          ]
        },
        {
          "output_type": "stream",
          "name": "stdout",
          "text": [
            "End of 25,accuracy0.5\n",
            "End of 25,accuracy0.6000000238418579\n",
            "End of 25,accuracy0.8999999761581421\n",
            "End of 25,accuracy0.4000000059604645\n",
            "End of 25,accuracy0.6000000238418579\n"
          ]
        },
        {
          "output_type": "stream",
          "name": "stderr",
          "text": [
            "Epoch 25:  33%|███▎      | 17/51 [00:00<00:00, 157.86batch/s]"
          ]
        },
        {
          "output_type": "stream",
          "name": "stdout",
          "text": [
            "End of 25,accuracy0.5\n",
            "End of 25,accuracy0.5\n"
          ]
        },
        {
          "output_type": "stream",
          "name": "stderr",
          "text": [
            "\rEpoch 25:  35%|███▌      | 18/51 [00:00<00:00, 161.92batch/s]"
          ]
        },
        {
          "output_type": "stream",
          "name": "stdout",
          "text": [
            "End of 25,accuracy0.800000011920929\n"
          ]
        },
        {
          "output_type": "stream",
          "name": "stderr",
          "text": [
            "Epoch 25:  39%|███▉      | 20/51 [00:00<00:00, 137.66batch/s]"
          ]
        },
        {
          "output_type": "stream",
          "name": "stdout",
          "text": [
            "End of 25,accuracy0.6000000238418579\n",
            "End of 25,accuracy0.6000000238418579\n"
          ]
        },
        {
          "output_type": "stream",
          "name": "stderr",
          "text": [
            "Epoch 25:  43%|████▎     | 22/51 [00:00<00:00, 153.94batch/s]"
          ]
        },
        {
          "output_type": "stream",
          "name": "stdout",
          "text": [
            "End of 25,accuracy0.800000011920929\n",
            "End of 25,accuracy0.5\n"
          ]
        },
        {
          "output_type": "stream",
          "name": "stderr",
          "text": [
            "Epoch 25:  55%|█████▍    | 28/51 [00:00<00:00, 188.21batch/s]"
          ]
        },
        {
          "output_type": "stream",
          "name": "stdout",
          "text": [
            "End of 25,accuracy0.699999988079071\n",
            "End of 25,accuracy0.5\n",
            "End of 25,accuracy0.6000000238418579\n",
            "End of 25,accuracy0.800000011920929\n",
            "End of 25,accuracy0.699999988079071\n",
            "End of 25,accuracy0.8999999761581421\n"
          ]
        },
        {
          "output_type": "stream",
          "name": "stderr",
          "text": [
            "Epoch 25:  59%|█████▉    | 30/51 [00:00<00:00, 183.53batch/s]"
          ]
        },
        {
          "output_type": "stream",
          "name": "stdout",
          "text": [
            "End of 25,accuracy0.699999988079071\n",
            "End of 25,accuracy0.6000000238418579\n"
          ]
        },
        {
          "output_type": "stream",
          "name": "stderr",
          "text": [
            "Epoch 25:  69%|██████▊   | 35/51 [00:00<00:00, 182.60batch/s]"
          ]
        },
        {
          "output_type": "stream",
          "name": "stdout",
          "text": [
            "End of 25,accuracy0.699999988079071\n",
            "End of 25,accuracy0.8999999761581421\n",
            "End of 25,accuracy0.6000000238418579\n",
            "End of 25,accuracy0.699999988079071\n",
            "End of 25,accuracy0.6000000238418579\n"
          ]
        },
        {
          "output_type": "stream",
          "name": "stderr",
          "text": [
            "Epoch 25:  73%|███████▎  | 37/51 [00:00<00:00, 186.73batch/s]"
          ]
        },
        {
          "output_type": "stream",
          "name": "stdout",
          "text": [
            "End of 25,accuracy0.6000000238418579\n",
            "End of 25,accuracy0.5\n"
          ]
        },
        {
          "output_type": "stream",
          "name": "stderr",
          "text": [
            "Epoch 25:  76%|███████▋  | 39/51 [00:00<00:00, 179.45batch/s]"
          ]
        },
        {
          "output_type": "stream",
          "name": "stdout",
          "text": [
            "End of 25,accuracy0.6000000238418579\n",
            "End of 25,accuracy0.800000011920929\n"
          ]
        },
        {
          "output_type": "stream",
          "name": "stderr",
          "text": [
            "Epoch 25:  88%|████████▊ | 45/51 [00:00<00:00, 196.99batch/s]"
          ]
        },
        {
          "output_type": "stream",
          "name": "stdout",
          "text": [
            "End of 25,accuracy0.699999988079071\n",
            "End of 25,accuracy0.4000000059604645\n",
            "End of 25,accuracy0.699999988079071\n",
            "End of 25,accuracy0.699999988079071\n",
            "End of 25,accuracy0.5\n",
            "End of 25,accuracy0.30000001192092896\n"
          ]
        },
        {
          "output_type": "stream",
          "name": "stderr",
          "text": [
            "Epoch 25: 100%|██████████| 51/51 [00:00<00:00, 174.71batch/s]"
          ]
        },
        {
          "output_type": "stream",
          "name": "stdout",
          "text": [
            "End of 25,accuracy0.30000001192092896\n",
            "End of 25,accuracy0.5\n",
            "End of 25,accuracy0.6000000238418579\n",
            "End of 25,accuracy0.4000000059604645\n",
            "End of 25,accuracy0.8999999761581421\n",
            "End of 25,accuracy0.699999988079071\n"
          ]
        },
        {
          "output_type": "stream",
          "name": "stderr",
          "text": [
            "Epoch 25: 100%|██████████| 51/51 [00:00<00:00, 169.40batch/s]\n",
            "Epoch 26:   2%|▏         | 1/51 [00:00<00:00, 201.80batch/s]"
          ]
        },
        {
          "output_type": "stream",
          "name": "stdout",
          "text": [
            "End of 26,accuracy0.6000000238418579\n"
          ]
        },
        {
          "output_type": "stream",
          "name": "stderr",
          "text": [
            "\rEpoch 26:   4%|▍         | 2/51 [00:00<00:00, 211.91batch/s]"
          ]
        },
        {
          "output_type": "stream",
          "name": "stdout",
          "text": [
            "End of 26,accuracy0.800000011920929\n"
          ]
        },
        {
          "output_type": "stream",
          "name": "stderr",
          "text": [
            "Epoch 26:   8%|▊         | 4/51 [00:00<00:00, 183.11batch/s]"
          ]
        },
        {
          "output_type": "stream",
          "name": "stdout",
          "text": [
            "End of 26,accuracy0.5\n",
            "End of 26,accuracy0.4000000059604645\n"
          ]
        },
        {
          "output_type": "stream",
          "name": "stderr",
          "text": [
            "Epoch 26:  12%|█▏        | 6/51 [00:00<00:00, 140.71batch/s]"
          ]
        },
        {
          "output_type": "stream",
          "name": "stdout",
          "text": [
            "End of 26,accuracy0.8999999761581421\n",
            "End of 26,accuracy0.5\n"
          ]
        },
        {
          "output_type": "stream",
          "name": "stderr",
          "text": [
            "Epoch 26:  22%|██▏       | 11/51 [00:00<00:00, 176.35batch/s]"
          ]
        },
        {
          "output_type": "stream",
          "name": "stdout",
          "text": [
            "End of 26,accuracy0.6000000238418579\n",
            "End of 26,accuracy0.699999988079071\n",
            "End of 26,accuracy0.699999988079071\n",
            "End of 26,accuracy0.5\n",
            "End of 26,accuracy0.5\n"
          ]
        },
        {
          "output_type": "stream",
          "name": "stderr",
          "text": [
            "Epoch 26:  25%|██▌       | 13/51 [00:00<00:00, 168.38batch/s]"
          ]
        },
        {
          "output_type": "stream",
          "name": "stdout",
          "text": [
            "End of 26,accuracy0.6000000238418579\n",
            "End of 26,accuracy0.8999999761581421\n"
          ]
        },
        {
          "output_type": "stream",
          "name": "stderr",
          "text": [
            "Epoch 26:  35%|███▌      | 18/51 [00:00<00:00, 195.23batch/s]"
          ]
        },
        {
          "output_type": "stream",
          "name": "stdout",
          "text": [
            "End of 26,accuracy0.4000000059604645\n",
            "End of 26,accuracy0.6000000238418579\n",
            "End of 26,accuracy0.5\n",
            "End of 26,accuracy0.5\n",
            "End of 26,accuracy0.800000011920929\n"
          ]
        },
        {
          "output_type": "stream",
          "name": "stderr",
          "text": [
            "Epoch 26:  39%|███▉      | 20/51 [00:00<00:00, 189.00batch/s]"
          ]
        },
        {
          "output_type": "stream",
          "name": "stdout",
          "text": [
            "End of 26,accuracy0.6000000238418579\n",
            "End of 26,accuracy0.6000000238418579\n"
          ]
        },
        {
          "output_type": "stream",
          "name": "stderr",
          "text": [
            "Epoch 26:  43%|████▎     | 22/51 [00:00<00:00, 187.30batch/s]"
          ]
        },
        {
          "output_type": "stream",
          "name": "stdout",
          "text": [
            "End of 26,accuracy0.800000011920929\n",
            "End of 26,accuracy0.5\n"
          ]
        },
        {
          "output_type": "stream",
          "name": "stderr",
          "text": [
            "Epoch 26:  55%|█████▍    | 28/51 [00:00<00:00, 193.05batch/s]"
          ]
        },
        {
          "output_type": "stream",
          "name": "stdout",
          "text": [
            "End of 26,accuracy0.699999988079071\n",
            "End of 26,accuracy0.5\n",
            "End of 26,accuracy0.6000000238418579\n",
            "End of 26,accuracy0.800000011920929\n",
            "End of 26,accuracy0.699999988079071\n",
            "End of 26,accuracy0.8999999761581421\n",
            "End of 26,accuracy0.699999988079071\n"
          ]
        },
        {
          "output_type": "stream",
          "name": "stderr",
          "text": [
            "Epoch 26:  73%|███████▎  | 37/51 [00:00<00:00, 204.64batch/s]"
          ]
        },
        {
          "output_type": "stream",
          "name": "stdout",
          "text": [
            "End of 26,accuracy0.6000000238418579\n",
            "End of 26,accuracy0.699999988079071\n",
            "End of 26,accuracy0.8999999761581421\n",
            "End of 26,accuracy0.6000000238418579\n",
            "End of 26,accuracy0.699999988079071\n",
            "End of 26,accuracy0.6000000238418579\n",
            "End of 26,accuracy0.6000000238418579\n",
            "End of 26,accuracy0.5\n"
          ]
        },
        {
          "output_type": "stream",
          "name": "stderr",
          "text": [
            "\rEpoch 26:  75%|███████▍  | 38/51 [00:00<00:00, 189.36batch/s]"
          ]
        },
        {
          "output_type": "stream",
          "name": "stdout",
          "text": [
            "End of 26,accuracy0.6000000238418579\n"
          ]
        },
        {
          "output_type": "stream",
          "name": "stderr",
          "text": [
            "\rEpoch 26:  76%|███████▋  | 39/51 [00:00<00:00, 181.04batch/s]"
          ]
        },
        {
          "output_type": "stream",
          "name": "stdout",
          "text": [
            "End of 26,accuracy0.800000011920929\n"
          ]
        },
        {
          "output_type": "stream",
          "name": "stderr",
          "text": [
            "Epoch 26:  80%|████████  | 41/51 [00:00<00:00, 162.34batch/s]"
          ]
        },
        {
          "output_type": "stream",
          "name": "stdout",
          "text": [
            "End of 26,accuracy0.800000011920929\n",
            "End of 26,accuracy0.4000000059604645\n"
          ]
        },
        {
          "output_type": "stream",
          "name": "stderr",
          "text": [
            "Epoch 26:  84%|████████▍ | 43/51 [00:00<00:00, 160.15batch/s]"
          ]
        },
        {
          "output_type": "stream",
          "name": "stdout",
          "text": [
            "End of 26,accuracy0.699999988079071\n",
            "End of 26,accuracy0.699999988079071\n"
          ]
        },
        {
          "output_type": "stream",
          "name": "stderr",
          "text": [
            "Epoch 26:  94%|█████████▍| 48/51 [00:00<00:00, 190.73batch/s]"
          ]
        },
        {
          "output_type": "stream",
          "name": "stdout",
          "text": [
            "End of 26,accuracy0.5\n",
            "End of 26,accuracy0.30000001192092896\n",
            "End of 26,accuracy0.30000001192092896\n",
            "End of 26,accuracy0.5\n",
            "End of 26,accuracy0.6000000238418579\n",
            "End of 26,accuracy0.4000000059604645"
          ]
        },
        {
          "output_type": "stream",
          "name": "stderr",
          "text": [
            "Epoch 26:  98%|█████████▊| 50/51 [00:00<00:00, 166.61batch/s]"
          ]
        },
        {
          "output_type": "stream",
          "name": "stdout",
          "text": [
            "\n",
            "End of 26,accuracy0.8999999761581421\n"
          ]
        },
        {
          "output_type": "stream",
          "name": "stderr",
          "text": [
            "Epoch 26: 100%|██████████| 51/51 [00:00<00:00, 176.25batch/s]\n"
          ]
        },
        {
          "output_type": "stream",
          "name": "stdout",
          "text": [
            "End of 26,accuracy0.699999988079071\n"
          ]
        },
        {
          "output_type": "stream",
          "name": "stderr",
          "text": [
            "Epoch 27:   4%|▍         | 2/51 [00:00<00:00, 126.41batch/s]"
          ]
        },
        {
          "output_type": "stream",
          "name": "stdout",
          "text": [
            "End of 27,accuracy0.6000000238418579\n",
            "End of 27,accuracy0.800000011920929\n"
          ]
        },
        {
          "output_type": "stream",
          "name": "stderr",
          "text": [
            "\rEpoch 27:   6%|▌         | 3/51 [00:00<00:00, 128.59batch/s]"
          ]
        },
        {
          "output_type": "stream",
          "name": "stdout",
          "text": [
            "End of 27,accuracy0.5\n"
          ]
        },
        {
          "output_type": "stream",
          "name": "stderr",
          "text": [
            "\rEpoch 27:   8%|▊         | 4/51 [00:00<00:00, 138.81batch/s]"
          ]
        },
        {
          "output_type": "stream",
          "name": "stdout",
          "text": [
            "End of 27,accuracy0.4000000059604645\n",
            "End of 27,accuracy0.8999999761581421"
          ]
        },
        {
          "output_type": "stream",
          "name": "stderr",
          "text": [
            "Epoch 27:  20%|█▉        | 10/51 [00:00<00:00, 172.27batch/s]"
          ]
        },
        {
          "output_type": "stream",
          "name": "stdout",
          "text": [
            "\n",
            "End of 27,accuracy0.5\n",
            "End of 27,accuracy0.699999988079071\n",
            "End of 27,accuracy0.699999988079071\n",
            "End of 27,accuracy0.699999988079071\n",
            "End of 27,accuracy0.5\n"
          ]
        },
        {
          "output_type": "stream",
          "name": "stderr",
          "text": [
            "Epoch 27:  37%|███▋      | 19/51 [00:00<00:00, 196.60batch/s]"
          ]
        },
        {
          "output_type": "stream",
          "name": "stdout",
          "text": [
            "End of 27,accuracy0.5\n",
            "End of 27,accuracy0.6000000238418579\n",
            "End of 27,accuracy0.8999999761581421\n",
            "End of 27,accuracy0.4000000059604645\n",
            "End of 27,accuracy0.6000000238418579\n",
            "End of 27,accuracy0.5\n",
            "End of 27,accuracy0.5\n",
            "End of 27,accuracy0.800000011920929\n",
            "End of 27,accuracy0.6000000238418579\n"
          ]
        },
        {
          "output_type": "stream",
          "name": "stderr",
          "text": [
            "\rEpoch 27:  39%|███▉      | 20/51 [00:00<00:00, 184.46batch/s]"
          ]
        },
        {
          "output_type": "stream",
          "name": "stdout",
          "text": [
            "End of 27,accuracy0.6000000238418579\n",
            "End of 27,accuracy0.800000011920929\n"
          ]
        },
        {
          "output_type": "stream",
          "name": "stderr",
          "text": [
            "Epoch 27:  45%|████▌     | 23/51 [00:00<00:00, 184.62batch/s]"
          ]
        },
        {
          "output_type": "stream",
          "name": "stdout",
          "text": [
            "End of 27,accuracy0.5\n",
            "End of 27,accuracy0.699999988079071\n"
          ]
        },
        {
          "output_type": "stream",
          "name": "stderr",
          "text": [
            "Epoch 27:  49%|████▉     | 25/51 [00:00<00:00, 160.34batch/s]"
          ]
        },
        {
          "output_type": "stream",
          "name": "stdout",
          "text": [
            "End of 27,accuracy0.5\n",
            "End of 27,accuracy0.6000000238418579\n"
          ]
        },
        {
          "output_type": "stream",
          "name": "stderr",
          "text": [
            "Epoch 27:  57%|█████▋    | 29/51 [00:00<00:00, 175.76batch/s]"
          ]
        },
        {
          "output_type": "stream",
          "name": "stdout",
          "text": [
            "End of 27,accuracy0.800000011920929\n",
            "End of 27,accuracy0.699999988079071\n",
            "End of 27,accuracy0.8999999761581421\n",
            "End of 27,accuracy0.699999988079071\n"
          ]
        },
        {
          "output_type": "stream",
          "name": "stderr",
          "text": [
            "Epoch 27:  61%|██████    | 31/51 [00:00<00:00, 163.89batch/s]"
          ]
        },
        {
          "output_type": "stream",
          "name": "stdout",
          "text": [
            "End of 27,accuracy0.6000000238418579\n",
            "End of 27,accuracy0.699999988079071\n"
          ]
        },
        {
          "output_type": "stream",
          "name": "stderr",
          "text": [
            "Epoch 27:  67%|██████▋   | 34/51 [00:00<00:00, 175.61batch/s]"
          ]
        },
        {
          "output_type": "stream",
          "name": "stdout",
          "text": [
            "End of 27,accuracy0.8999999761581421\n",
            "End of 27,accuracy0.6000000238418579\n",
            "End of 27,accuracy0.699999988079071\n"
          ]
        },
        {
          "output_type": "stream",
          "name": "stderr",
          "text": [
            "Epoch 27:  75%|███████▍  | 38/51 [00:00<00:00, 197.36batch/s]"
          ]
        },
        {
          "output_type": "stream",
          "name": "stdout",
          "text": [
            "End of 27,accuracy0.6000000238418579\n",
            "End of 27,accuracy0.6000000238418579\n",
            "End of 27,accuracy0.5\n",
            "End of 27,accuracy0.6000000238418579\n"
          ]
        },
        {
          "output_type": "stream",
          "name": "stderr",
          "text": [
            "\rEpoch 27:  76%|███████▋  | 39/51 [00:00<00:00, 190.20batch/s]"
          ]
        },
        {
          "output_type": "stream",
          "name": "stdout",
          "text": [
            "End of 27,accuracy0.800000011920929\n"
          ]
        },
        {
          "output_type": "stream",
          "name": "stderr",
          "text": [
            "\rEpoch 27:  78%|███████▊  | 40/51 [00:00<00:00, 181.14batch/s]"
          ]
        },
        {
          "output_type": "stream",
          "name": "stdout",
          "text": [
            "End of 27,accuracy0.800000011920929\n"
          ]
        },
        {
          "output_type": "stream",
          "name": "stderr",
          "text": [
            "Epoch 27:  90%|█████████ | 46/51 [00:00<00:00, 194.28batch/s]"
          ]
        },
        {
          "output_type": "stream",
          "name": "stdout",
          "text": [
            "End of 27,accuracy0.4000000059604645\n",
            "End of 27,accuracy0.699999988079071\n",
            "End of 27,accuracy0.699999988079071\n",
            "End of 27,accuracy0.5\n",
            "End of 27,accuracy0.30000001192092896\n",
            "End of 27,accuracy0.30000001192092896\n",
            "End of 27,accuracy0.5\n"
          ]
        },
        {
          "output_type": "stream",
          "name": "stderr",
          "text": [
            "Epoch 27: 100%|██████████| 51/51 [00:00<00:00, 170.28batch/s]\n"
          ]
        },
        {
          "output_type": "stream",
          "name": "stdout",
          "text": [
            "End of 27,accuracy0.6000000238418579\n",
            "End of 27,accuracy0.4000000059604645\n",
            "End of 27,accuracy0.8999999761581421\n",
            "End of 27,accuracy0.699999988079071\n"
          ]
        },
        {
          "output_type": "stream",
          "name": "stderr",
          "text": [
            "Epoch 28:   4%|▍         | 2/51 [00:00<00:00, 154.03batch/s]"
          ]
        },
        {
          "output_type": "stream",
          "name": "stdout",
          "text": [
            "End of 28,accuracy0.6000000238418579\n",
            "End of 28,accuracy0.800000011920929\n",
            "End of 28,accuracy0.5"
          ]
        },
        {
          "output_type": "stream",
          "name": "stderr",
          "text": [
            "\rEpoch 28:   6%|▌         | 3/51 [00:00<00:00, 142.11batch/s]"
          ]
        },
        {
          "output_type": "stream",
          "name": "stdout",
          "text": [
            "\n"
          ]
        },
        {
          "output_type": "stream",
          "name": "stderr",
          "text": [
            "Epoch 28:  12%|█▏        | 6/51 [00:00<00:00, 155.54batch/s]"
          ]
        },
        {
          "output_type": "stream",
          "name": "stdout",
          "text": [
            "End of 28,accuracy0.4000000059604645\n",
            "End of 28,accuracy0.8999999761581421\n",
            "End of 28,accuracy0.5\n"
          ]
        },
        {
          "output_type": "stream",
          "name": "stderr",
          "text": [
            "\rEpoch 28:  14%|█▎        | 7/51 [00:00<00:00, 152.00batch/s]"
          ]
        },
        {
          "output_type": "stream",
          "name": "stdout",
          "text": [
            "End of 28,accuracy0.699999988079071\n"
          ]
        },
        {
          "output_type": "stream",
          "name": "stderr",
          "text": [
            "Epoch 28:  22%|██▏       | 11/51 [00:00<00:00, 146.47batch/s]"
          ]
        },
        {
          "output_type": "stream",
          "name": "stdout",
          "text": [
            "End of 28,accuracy0.699999988079071\n",
            "End of 28,accuracy0.699999988079071\n",
            "End of 28,accuracy0.5\n",
            "End of 28,accuracy0.5\n"
          ]
        },
        {
          "output_type": "stream",
          "name": "stderr",
          "text": [
            "Epoch 28:  25%|██▌       | 13/51 [00:00<00:00, 155.04batch/s]"
          ]
        },
        {
          "output_type": "stream",
          "name": "stdout",
          "text": [
            "End of 28,accuracy0.6000000238418579\n",
            "End of 28,accuracy0.8999999761581421\n"
          ]
        },
        {
          "output_type": "stream",
          "name": "stderr",
          "text": [
            "Epoch 28:  31%|███▏      | 16/51 [00:00<00:00, 173.24batch/s]"
          ]
        },
        {
          "output_type": "stream",
          "name": "stdout",
          "text": [
            "End of 28,accuracy0.4000000059604645\n",
            "End of 28,accuracy0.6000000238418579\n",
            "End of 28,accuracy0.5\n"
          ]
        },
        {
          "output_type": "stream",
          "name": "stderr",
          "text": [
            "Epoch 28:  35%|███▌      | 18/51 [00:00<00:00, 153.16batch/s]"
          ]
        },
        {
          "output_type": "stream",
          "name": "stdout",
          "text": [
            "End of 28,accuracy0.5\n",
            "End of 28,accuracy0.800000011920929\n",
            "End of 28,accuracy0.6000000238418579\n"
          ]
        },
        {
          "output_type": "stream",
          "name": "stderr",
          "text": [
            "Epoch 28:  39%|███▉      | 20/51 [00:00<00:00, 155.53batch/s]"
          ]
        },
        {
          "output_type": "stream",
          "name": "stdout",
          "text": [
            "End of 28,accuracy0.6000000238418579\n"
          ]
        },
        {
          "output_type": "stream",
          "name": "stderr",
          "text": [
            "\rEpoch 28:  41%|████      | 21/51 [00:00<00:00, 158.85batch/s]"
          ]
        },
        {
          "output_type": "stream",
          "name": "stdout",
          "text": [
            "End of 28,accuracy0.800000011920929\n"
          ]
        },
        {
          "output_type": "stream",
          "name": "stderr",
          "text": [
            "Epoch 28:  51%|█████     | 26/51 [00:00<00:00, 160.19batch/s]"
          ]
        },
        {
          "output_type": "stream",
          "name": "stdout",
          "text": [
            "End of 28,accuracy0.5\n",
            "End of 28,accuracy0.699999988079071\n",
            "End of 28,accuracy0.5\n",
            "End of 28,accuracy0.6000000238418579\n",
            "End of 28,accuracy0.800000011920929\n"
          ]
        },
        {
          "output_type": "stream",
          "name": "stderr",
          "text": [
            "Epoch 28:  65%|██████▍   | 33/51 [00:00<00:00, 184.63batch/s]"
          ]
        },
        {
          "output_type": "stream",
          "name": "stdout",
          "text": [
            "End of 28,accuracy0.699999988079071\n",
            "End of 28,accuracy1.0\n",
            "End of 28,accuracy0.699999988079071\n",
            "End of 28,accuracy0.6000000238418579\n",
            "End of 28,accuracy0.699999988079071\n",
            "End of 28,accuracy0.8999999761581421\n",
            "End of 28,accuracy0.5\n"
          ]
        },
        {
          "output_type": "stream",
          "name": "stderr",
          "text": [
            "Epoch 28:  69%|██████▊   | 35/51 [00:00<00:00, 179.17batch/s]"
          ]
        },
        {
          "output_type": "stream",
          "name": "stdout",
          "text": [
            "End of 28,accuracy0.699999988079071\n",
            "End of 28,accuracy0.6000000238418579\n"
          ]
        },
        {
          "output_type": "stream",
          "name": "stderr",
          "text": [
            "Epoch 28:  73%|███████▎  | 37/51 [00:00<00:00, 177.68batch/s]"
          ]
        },
        {
          "output_type": "stream",
          "name": "stdout",
          "text": [
            "End of 28,accuracy0.6000000238418579\n",
            "End of 28,accuracy0.5\n"
          ]
        },
        {
          "output_type": "stream",
          "name": "stderr",
          "text": [
            "Epoch 28:  78%|███████▊  | 40/51 [00:00<00:00, 175.51batch/s]"
          ]
        },
        {
          "output_type": "stream",
          "name": "stdout",
          "text": [
            "End of 28,accuracy0.6000000238418579\n",
            "End of 28,accuracy0.800000011920929\n",
            "End of 28,accuracy0.800000011920929\n"
          ]
        },
        {
          "output_type": "stream",
          "name": "stderr",
          "text": [
            "Epoch 28:  82%|████████▏ | 42/51 [00:00<00:00, 184.78batch/s]"
          ]
        },
        {
          "output_type": "stream",
          "name": "stdout",
          "text": [
            "End of 28,accuracy0.4000000059604645\n",
            "End of 28,accuracy0.699999988079071\n"
          ]
        },
        {
          "output_type": "stream",
          "name": "stderr",
          "text": [
            "Epoch 28:  88%|████████▊ | 45/51 [00:00<00:00, 145.15batch/s]"
          ]
        },
        {
          "output_type": "stream",
          "name": "stdout",
          "text": [
            "End of 28,accuracy0.699999988079071\n",
            "End of 28,accuracy0.5\n",
            "End of 28,accuracy0.30000001192092896\n"
          ]
        },
        {
          "output_type": "stream",
          "name": "stderr",
          "text": [
            "Epoch 28:  92%|█████████▏| 47/51 [00:00<00:00, 146.37batch/s]"
          ]
        },
        {
          "output_type": "stream",
          "name": "stdout",
          "text": [
            "End of 28,accuracy0.30000001192092896\n",
            "End of 28,accuracy0.5\n"
          ]
        },
        {
          "output_type": "stream",
          "name": "stderr",
          "text": [
            "Epoch 28:  96%|█████████▌| 49/51 [00:00<00:00, 145.61batch/s]"
          ]
        },
        {
          "output_type": "stream",
          "name": "stdout",
          "text": [
            "End of 28,accuracy0.6000000238418579\n",
            "End of 28,accuracy0.4000000059604645\n"
          ]
        },
        {
          "output_type": "stream",
          "name": "stderr",
          "text": [
            "Epoch 28: 100%|██████████| 51/51 [00:00<00:00, 158.52batch/s]\n"
          ]
        },
        {
          "output_type": "stream",
          "name": "stdout",
          "text": [
            "End of 28,accuracy0.8999999761581421\n",
            "End of 28,accuracy0.699999988079071\n"
          ]
        },
        {
          "output_type": "stream",
          "name": "stderr",
          "text": [
            "Epoch 29:   2%|▏         | 1/51 [00:00<00:00, 125.67batch/s]"
          ]
        },
        {
          "output_type": "stream",
          "name": "stdout",
          "text": [
            "End of 29,accuracy0.6000000238418579\n"
          ]
        },
        {
          "output_type": "stream",
          "name": "stderr",
          "text": [
            "Epoch 29:  14%|█▎        | 7/51 [00:00<00:00, 193.25batch/s]"
          ]
        },
        {
          "output_type": "stream",
          "name": "stdout",
          "text": [
            "End of 29,accuracy0.800000011920929\n",
            "End of 29,accuracy0.5\n",
            "End of 29,accuracy0.4000000059604645\n",
            "End of 29,accuracy0.8999999761581421\n",
            "End of 29,accuracy0.5\n",
            "End of 29,accuracy0.699999988079071\n"
          ]
        },
        {
          "output_type": "stream",
          "name": "stderr",
          "text": [
            "Epoch 29:  27%|██▋       | 14/51 [00:00<00:00, 191.00batch/s]"
          ]
        },
        {
          "output_type": "stream",
          "name": "stdout",
          "text": [
            "End of 29,accuracy0.699999988079071\n",
            "End of 29,accuracy0.699999988079071\n",
            "End of 29,accuracy0.5\n",
            "End of 29,accuracy0.5\n",
            "End of 29,accuracy0.6000000238418579\n",
            "End of 29,accuracy0.8999999761581421\n",
            "End of 29,accuracy0.4000000059604645\n"
          ]
        },
        {
          "output_type": "stream",
          "name": "stderr",
          "text": [
            "Epoch 29:  31%|███▏      | 16/51 [00:00<00:00, 206.42batch/s]"
          ]
        },
        {
          "output_type": "stream",
          "name": "stdout",
          "text": [
            "End of 29,accuracy0.6000000238418579\n",
            "End of 29,accuracy0.5\n"
          ]
        },
        {
          "output_type": "stream",
          "name": "stderr",
          "text": [
            "Epoch 29:  37%|███▋      | 19/51 [00:00<00:00, 188.30batch/s]"
          ]
        },
        {
          "output_type": "stream",
          "name": "stdout",
          "text": [
            "End of 29,accuracy0.5\n",
            "End of 29,accuracy0.800000011920929\n",
            "End of 29,accuracy0.6000000238418579\n"
          ]
        },
        {
          "output_type": "stream",
          "name": "stderr",
          "text": [
            "Epoch 29:  43%|████▎     | 22/51 [00:00<00:00, 183.14batch/s]"
          ]
        },
        {
          "output_type": "stream",
          "name": "stdout",
          "text": [
            "End of 29,accuracy0.6000000238418579\n",
            "End of 29,accuracy0.800000011920929\n",
            "End of 29,accuracy0.5\n"
          ]
        },
        {
          "output_type": "stream",
          "name": "stderr",
          "text": [
            "Epoch 29:  47%|████▋     | 24/51 [00:00<00:00, 173.38batch/s]"
          ]
        },
        {
          "output_type": "stream",
          "name": "stdout",
          "text": [
            "End of 29,accuracy0.699999988079071\n",
            "End of 29,accuracy0.6000000238418579\n"
          ]
        },
        {
          "output_type": "stream",
          "name": "stderr",
          "text": [
            "Epoch 29:  53%|█████▎    | 27/51 [00:00<00:00, 158.16batch/s]"
          ]
        },
        {
          "output_type": "stream",
          "name": "stdout",
          "text": [
            "End of 29,accuracy0.6000000238418579\n",
            "End of 29,accuracy0.800000011920929\n",
            "End of 29,accuracy0.699999988079071\n"
          ]
        },
        {
          "output_type": "stream",
          "name": "stderr",
          "text": [
            "Epoch 29:  59%|█████▉    | 30/51 [00:00<00:00, 181.55batch/s]"
          ]
        },
        {
          "output_type": "stream",
          "name": "stdout",
          "text": [
            "End of 29,accuracy1.0\n",
            "End of 29,accuracy0.699999988079071\n",
            "End of 29,accuracy0.6000000238418579\n"
          ]
        },
        {
          "output_type": "stream",
          "name": "stderr",
          "text": [
            "Epoch 29:  63%|██████▎   | 32/51 [00:00<00:00, 181.50batch/s]"
          ]
        },
        {
          "output_type": "stream",
          "name": "stdout",
          "text": [
            "End of 29,accuracy0.699999988079071\n",
            "End of 29,accuracy0.8999999761581421\n"
          ]
        },
        {
          "output_type": "stream",
          "name": "stderr",
          "text": [
            "Epoch 29:  73%|███████▎  | 37/51 [00:00<00:00, 196.78batch/s]"
          ]
        },
        {
          "output_type": "stream",
          "name": "stdout",
          "text": [
            "End of 29,accuracy0.5\n",
            "End of 29,accuracy0.699999988079071\n",
            "End of 29,accuracy0.6000000238418579\n",
            "End of 29,accuracy0.6000000238418579\n",
            "End of 29,accuracy0.5\n"
          ]
        },
        {
          "output_type": "stream",
          "name": "stderr",
          "text": [
            "\rEpoch 29:  75%|███████▍  | 38/51 [00:00<00:00, 196.94batch/s]"
          ]
        },
        {
          "output_type": "stream",
          "name": "stdout",
          "text": [
            "End of 29,accuracy0.6000000238418579\n"
          ]
        },
        {
          "output_type": "stream",
          "name": "stderr",
          "text": [
            "Epoch 29:  86%|████████▋ | 44/51 [00:00<00:00, 193.96batch/s]"
          ]
        },
        {
          "output_type": "stream",
          "name": "stdout",
          "text": [
            "End of 29,accuracy0.800000011920929\n",
            "End of 29,accuracy0.800000011920929\n",
            "End of 29,accuracy0.4000000059604645\n",
            "End of 29,accuracy0.699999988079071\n",
            "End of 29,accuracy0.699999988079071\n",
            "End of 29,accuracy0.5\n"
          ]
        },
        {
          "output_type": "stream",
          "name": "stderr",
          "text": [
            "Epoch 29:  98%|█████████▊| 50/51 [00:00<00:00, 176.86batch/s]"
          ]
        },
        {
          "output_type": "stream",
          "name": "stdout",
          "text": [
            "End of 29,accuracy0.30000001192092896\n",
            "End of 29,accuracy0.30000001192092896\n",
            "End of 29,accuracy0.5\n",
            "End of 29,accuracy0.6000000238418579\n",
            "End of 29,accuracy0.4000000059604645\n",
            "End of 29,accuracy0.8999999761581421\n",
            "End of 29,accuracy0.699999988079071\n"
          ]
        },
        {
          "output_type": "stream",
          "name": "stderr",
          "text": [
            "Epoch 29: 100%|██████████| 51/51 [00:00<00:00, 176.23batch/s]\n",
            "Epoch 30:   2%|▏         | 1/51 [00:00<00:00, 109.62batch/s]"
          ]
        },
        {
          "output_type": "stream",
          "name": "stdout",
          "text": [
            "End of 30,accuracy0.6000000238418579\n"
          ]
        },
        {
          "output_type": "stream",
          "name": "stderr",
          "text": [
            "Epoch 30:  10%|▉         | 5/51 [00:00<00:00, 169.25batch/s]"
          ]
        },
        {
          "output_type": "stream",
          "name": "stdout",
          "text": [
            "End of 30,accuracy0.800000011920929\n",
            "End of 30,accuracy0.5\n",
            "End of 30,accuracy0.4000000059604645\n",
            "End of 30,accuracy0.8999999761581421\n"
          ]
        },
        {
          "output_type": "stream",
          "name": "stderr",
          "text": [
            "\rEpoch 30:  12%|█▏        | 6/51 [00:00<00:00, 162.10batch/s]"
          ]
        },
        {
          "output_type": "stream",
          "name": "stdout",
          "text": [
            "End of 30,accuracy0.5\n",
            "End of 30,accuracy0.699999988079071\n"
          ]
        },
        {
          "output_type": "stream",
          "name": "stderr",
          "text": [
            "Epoch 30:  20%|█▉        | 10/51 [00:00<00:00, 186.38batch/s]"
          ]
        },
        {
          "output_type": "stream",
          "name": "stdout",
          "text": [
            "End of 30,accuracy0.699999988079071\n",
            "End of 30,accuracy0.699999988079071\n",
            "End of 30,accuracy0.5\n"
          ]
        },
        {
          "output_type": "stream",
          "name": "stderr",
          "text": [
            "Epoch 30:  25%|██▌       | 13/51 [00:00<00:00, 192.94batch/s]"
          ]
        },
        {
          "output_type": "stream",
          "name": "stdout",
          "text": [
            "End of 30,accuracy0.5\n",
            "End of 30,accuracy0.6000000238418579\n",
            "End of 30,accuracy0.8999999761581421\n"
          ]
        },
        {
          "output_type": "stream",
          "name": "stderr",
          "text": [
            "Epoch 30:  31%|███▏      | 16/51 [00:00<00:00, 190.44batch/s]"
          ]
        },
        {
          "output_type": "stream",
          "name": "stdout",
          "text": [
            "End of 30,accuracy0.4000000059604645\n",
            "End of 30,accuracy0.6000000238418579\n",
            "End of 30,accuracy0.5\n"
          ]
        },
        {
          "output_type": "stream",
          "name": "stderr",
          "text": [
            "Epoch 30:  39%|███▉      | 20/51 [00:00<00:00, 184.73batch/s]"
          ]
        },
        {
          "output_type": "stream",
          "name": "stdout",
          "text": [
            "End of 30,accuracy0.5\n",
            "End of 30,accuracy0.800000011920929\n",
            "End of 30,accuracy0.6000000238418579\n",
            "End of 30,accuracy0.6000000238418579\n"
          ]
        },
        {
          "output_type": "stream",
          "name": "stderr",
          "text": [
            "\rEpoch 30:  41%|████      | 21/51 [00:00<00:00, 184.85batch/s]"
          ]
        },
        {
          "output_type": "stream",
          "name": "stdout",
          "text": [
            "End of 30,accuracy0.800000011920929\n"
          ]
        },
        {
          "output_type": "stream",
          "name": "stderr",
          "text": [
            "Epoch 30:  53%|█████▎    | 27/51 [00:00<00:00, 192.64batch/s]"
          ]
        },
        {
          "output_type": "stream",
          "name": "stdout",
          "text": [
            "End of 30,accuracy0.5\n",
            "End of 30,accuracy0.699999988079071\n",
            "End of 30,accuracy0.6000000238418579\n",
            "End of 30,accuracy0.6000000238418579\n",
            "End of 30,accuracy0.800000011920929\n",
            "End of 30,accuracy0.699999988079071\n"
          ]
        },
        {
          "output_type": "stream",
          "name": "stderr",
          "text": [
            "Epoch 30:  67%|██████▋   | 34/51 [00:00<00:00, 199.16batch/s]"
          ]
        },
        {
          "output_type": "stream",
          "name": "stdout",
          "text": [
            "End of 30,accuracy1.0\n",
            "End of 30,accuracy0.699999988079071\n",
            "End of 30,accuracy0.6000000238418579\n",
            "End of 30,accuracy0.699999988079071\n",
            "End of 30,accuracy0.8999999761581421\n",
            "End of 30,accuracy0.5\n",
            "End of 30,accuracy0.699999988079071\n"
          ]
        },
        {
          "output_type": "stream",
          "name": "stderr",
          "text": [
            "Epoch 30:  76%|███████▋  | 39/51 [00:00<00:00, 222.19batch/s]"
          ]
        },
        {
          "output_type": "stream",
          "name": "stdout",
          "text": [
            "End of 30,accuracy0.6000000238418579\n",
            "End of 30,accuracy0.6000000238418579\n",
            "End of 30,accuracy0.5\n",
            "End of 30,accuracy0.6000000238418579\n",
            "End of 30,accuracy0.800000011920929\n"
          ]
        },
        {
          "output_type": "stream",
          "name": "stderr",
          "text": [
            "Epoch 30:  84%|████████▍ | 43/51 [00:00<00:00, 178.54batch/s]"
          ]
        },
        {
          "output_type": "stream",
          "name": "stdout",
          "text": [
            "End of 30,accuracy0.800000011920929\n",
            "End of 30,accuracy0.4000000059604645\n",
            "End of 30,accuracy0.699999988079071\n",
            "End of 30,accuracy0.699999988079071\n"
          ]
        },
        {
          "output_type": "stream",
          "name": "stderr",
          "text": [
            "Epoch 30:  88%|████████▊ | 45/51 [00:00<00:00, 182.06batch/s]"
          ]
        },
        {
          "output_type": "stream",
          "name": "stdout",
          "text": [
            "End of 30,accuracy0.5\n",
            "End of 30,accuracy0.30000001192092896\n"
          ]
        },
        {
          "output_type": "stream",
          "name": "stderr",
          "text": [
            "Epoch 30:  94%|█████████▍| 48/51 [00:00<00:00, 188.45batch/s]"
          ]
        },
        {
          "output_type": "stream",
          "name": "stdout",
          "text": [
            "End of 30,accuracy0.30000001192092896\n",
            "End of 30,accuracy0.5\n",
            "End of 30,accuracy0.6000000238418579\n",
            "End of 30,accuracy0.4000000059604645\n"
          ]
        },
        {
          "output_type": "stream",
          "name": "stderr",
          "text": [
            "Epoch 30: 100%|██████████| 51/51 [00:00<00:00, 182.62batch/s]\n"
          ]
        },
        {
          "output_type": "stream",
          "name": "stdout",
          "text": [
            "End of 30,accuracy0.8999999761581421\n",
            "End of 30,accuracy0.699999988079071\n"
          ]
        },
        {
          "output_type": "stream",
          "name": "stderr",
          "text": [
            "Epoch 31:   2%|▏         | 1/51 [00:00<00:00, 265.11batch/s]"
          ]
        },
        {
          "output_type": "stream",
          "name": "stdout",
          "text": [
            "End of 31,accuracy0.6000000238418579\n"
          ]
        },
        {
          "output_type": "stream",
          "name": "stderr",
          "text": [
            "Epoch 31:  10%|▉         | 5/51 [00:00<00:00, 194.38batch/s]"
          ]
        },
        {
          "output_type": "stream",
          "name": "stdout",
          "text": [
            "End of 31,accuracy0.800000011920929\n",
            "End of 31,accuracy0.5\n",
            "End of 31,accuracy0.4000000059604645\n",
            "End of 31,accuracy0.8999999761581421\n"
          ]
        },
        {
          "output_type": "stream",
          "name": "stderr",
          "text": [
            "\rEpoch 31:  12%|█▏        | 6/51 [00:00<00:00, 209.05batch/s]"
          ]
        },
        {
          "output_type": "stream",
          "name": "stdout",
          "text": [
            "End of 31,accuracy0.5\n"
          ]
        },
        {
          "output_type": "stream",
          "name": "stderr",
          "text": [
            "Epoch 31:  24%|██▎       | 12/51 [00:00<00:00, 183.69batch/s]"
          ]
        },
        {
          "output_type": "stream",
          "name": "stdout",
          "text": [
            "End of 31,accuracy0.699999988079071\n",
            "End of 31,accuracy0.699999988079071\n",
            "End of 31,accuracy0.699999988079071\n",
            "End of 31,accuracy0.5\n",
            "End of 31,accuracy0.5\n",
            "End of 31,accuracy0.6000000238418579\n"
          ]
        },
        {
          "output_type": "stream",
          "name": "stderr",
          "text": [
            "Epoch 31:  37%|███▋      | 19/51 [00:00<00:00, 198.07batch/s]"
          ]
        },
        {
          "output_type": "stream",
          "name": "stdout",
          "text": [
            "End of 31,accuracy0.8999999761581421\n",
            "End of 31,accuracy0.4000000059604645\n",
            "End of 31,accuracy0.6000000238418579\n",
            "End of 31,accuracy0.5\n",
            "End of 31,accuracy0.5\n",
            "End of 31,accuracy0.800000011920929\n",
            "End of 31,accuracy0.6000000238418579\n"
          ]
        },
        {
          "output_type": "stream",
          "name": "stderr",
          "text": [
            "Epoch 31:  45%|████▌     | 23/51 [00:00<00:00, 172.28batch/s]"
          ]
        },
        {
          "output_type": "stream",
          "name": "stdout",
          "text": [
            "End of 31,accuracy0.6000000238418579\n",
            "End of 31,accuracy0.800000011920929\n",
            "End of 31,accuracy0.5\n",
            "End of 31,accuracy0.699999988079071\n"
          ]
        },
        {
          "output_type": "stream",
          "name": "stderr",
          "text": [
            "Epoch 31:  53%|█████▎    | 27/51 [00:00<00:00, 176.46batch/s]"
          ]
        },
        {
          "output_type": "stream",
          "name": "stdout",
          "text": [
            "End of 31,accuracy0.6000000238418579\n",
            "End of 31,accuracy0.6000000238418579\n",
            "End of 31,accuracy0.800000011920929\n",
            "End of 31,accuracy0.699999988079071\n"
          ]
        },
        {
          "output_type": "stream",
          "name": "stderr",
          "text": [
            "\rEpoch 31:  55%|█████▍    | 28/51 [00:00<00:00, 159.76batch/s]"
          ]
        },
        {
          "output_type": "stream",
          "name": "stdout",
          "text": [
            "End of 31,accuracy1.0\n",
            "End of 31,accuracy0.699999988079071\n"
          ]
        },
        {
          "output_type": "stream",
          "name": "stderr",
          "text": [
            "Epoch 31:  63%|██████▎   | 32/51 [00:00<00:00, 181.06batch/s]"
          ]
        },
        {
          "output_type": "stream",
          "name": "stdout",
          "text": [
            "End of 31,accuracy0.6000000238418579\n",
            "End of 31,accuracy0.699999988079071\n",
            "End of 31,accuracy0.8999999761581421\n"
          ]
        },
        {
          "output_type": "stream",
          "name": "stderr",
          "text": [
            "Epoch 31:  73%|███████▎  | 37/51 [00:00<00:00, 203.56batch/s]"
          ]
        },
        {
          "output_type": "stream",
          "name": "stdout",
          "text": [
            "End of 31,accuracy0.5\n",
            "End of 31,accuracy0.699999988079071\n",
            "End of 31,accuracy0.6000000238418579\n",
            "End of 31,accuracy0.6000000238418579\n",
            "End of 31,accuracy0.5\n"
          ]
        },
        {
          "output_type": "stream",
          "name": "stderr",
          "text": [
            "\rEpoch 31:  75%|███████▍  | 38/51 [00:00<00:00, 194.57batch/s]"
          ]
        },
        {
          "output_type": "stream",
          "name": "stdout",
          "text": [
            "End of 31,accuracy0.6000000238418579\n"
          ]
        },
        {
          "output_type": "stream",
          "name": "stderr",
          "text": [
            "Epoch 31:  80%|████████  | 41/51 [00:00<00:00, 166.90batch/s]"
          ]
        },
        {
          "output_type": "stream",
          "name": "stdout",
          "text": [
            "End of 31,accuracy0.800000011920929\n",
            "End of 31,accuracy0.800000011920929\n",
            "End of 31,accuracy0.4000000059604645\n"
          ]
        },
        {
          "output_type": "stream",
          "name": "stderr",
          "text": [
            "\rEpoch 31:  82%|████████▏ | 42/51 [00:00<00:00, 169.89batch/s]"
          ]
        },
        {
          "output_type": "stream",
          "name": "stdout",
          "text": [
            "End of 31,accuracy0.699999988079071\n"
          ]
        },
        {
          "output_type": "stream",
          "name": "stderr",
          "text": [
            "Epoch 31:  96%|█████████▌| 49/51 [00:00<00:00, 179.45batch/s]"
          ]
        },
        {
          "output_type": "stream",
          "name": "stdout",
          "text": [
            "End of 31,accuracy0.699999988079071\n",
            "End of 31,accuracy0.5\n",
            "End of 31,accuracy0.30000001192092896\n",
            "End of 31,accuracy0.30000001192092896\n",
            "End of 31,accuracy0.5\n",
            "End of 31,accuracy0.6000000238418579\n",
            "End of 31,accuracy0.4000000059604645\n"
          ]
        },
        {
          "output_type": "stream",
          "name": "stderr",
          "text": [
            "Epoch 31: 100%|██████████| 51/51 [00:00<00:00, 178.69batch/s]\n"
          ]
        },
        {
          "output_type": "stream",
          "name": "stdout",
          "text": [
            "End of 31,accuracy0.8999999761581421\n",
            "End of 31,accuracy0.699999988079071\n"
          ]
        },
        {
          "output_type": "stream",
          "name": "stderr",
          "text": [
            "Epoch 32:   2%|▏         | 1/51 [00:00<00:00, 96.17batch/s]"
          ]
        },
        {
          "output_type": "stream",
          "name": "stdout",
          "text": [
            "End of 32,accuracy0.6000000238418579\n"
          ]
        },
        {
          "output_type": "stream",
          "name": "stderr",
          "text": [
            "Epoch 32:  10%|▉         | 5/51 [00:00<00:00, 165.63batch/s]"
          ]
        },
        {
          "output_type": "stream",
          "name": "stdout",
          "text": [
            "End of 32,accuracy0.800000011920929\n",
            "End of 32,accuracy0.5\n",
            "End of 32,accuracy0.5\n",
            "End of 32,accuracy0.8999999761581421\n"
          ]
        },
        {
          "output_type": "stream",
          "name": "stderr",
          "text": [
            "Epoch 32:  18%|█▊        | 9/51 [00:00<00:00, 176.88batch/s]"
          ]
        },
        {
          "output_type": "stream",
          "name": "stdout",
          "text": [
            "End of 32,accuracy0.5\n",
            "End of 32,accuracy0.699999988079071\n",
            "End of 32,accuracy0.699999988079071\n",
            "End of 32,accuracy0.699999988079071\n"
          ]
        },
        {
          "output_type": "stream",
          "name": "stderr",
          "text": [
            "\rEpoch 32:  20%|█▉        | 10/51 [00:00<00:00, 148.21batch/s]"
          ]
        },
        {
          "output_type": "stream",
          "name": "stdout",
          "text": [
            "End of 32,accuracy0.5\n"
          ]
        },
        {
          "output_type": "stream",
          "name": "stderr",
          "text": [
            "Epoch 32:  27%|██▋       | 14/51 [00:00<00:00, 180.95batch/s]"
          ]
        },
        {
          "output_type": "stream",
          "name": "stdout",
          "text": [
            "End of 32,accuracy0.5\n",
            "End of 32,accuracy0.6000000238418579\n",
            "End of 32,accuracy0.8999999761581421\n",
            "End of 32,accuracy0.4000000059604645\n"
          ]
        },
        {
          "output_type": "stream",
          "name": "stderr",
          "text": [
            "Epoch 32:  37%|███▋      | 19/51 [00:00<00:00, 194.30batch/s]"
          ]
        },
        {
          "output_type": "stream",
          "name": "stdout",
          "text": [
            "End of 32,accuracy0.6000000238418579\n",
            "End of 32,accuracy0.5\n",
            "End of 32,accuracy0.5\n",
            "End of 32,accuracy0.800000011920929\n",
            "End of 32,accuracy0.6000000238418579\n"
          ]
        },
        {
          "output_type": "stream",
          "name": "stderr",
          "text": [
            "\rEpoch 32:  39%|███▉      | 20/51 [00:00<00:00, 176.40batch/s]"
          ]
        },
        {
          "output_type": "stream",
          "name": "stdout",
          "text": [
            "End of 32,accuracy0.6000000238418579\n"
          ]
        },
        {
          "output_type": "stream",
          "name": "stderr",
          "text": [
            "Epoch 32:  45%|████▌     | 23/51 [00:00<00:00, 173.21batch/s]"
          ]
        },
        {
          "output_type": "stream",
          "name": "stdout",
          "text": [
            "End of 32,accuracy0.800000011920929\n",
            "End of 32,accuracy0.5\n",
            "End of 32,accuracy0.699999988079071\n"
          ]
        },
        {
          "output_type": "stream",
          "name": "stderr",
          "text": [
            "\rEpoch 32:  47%|████▋     | 24/51 [00:00<00:00, 172.39batch/s]"
          ]
        },
        {
          "output_type": "stream",
          "name": "stdout",
          "text": [
            "End of 32,accuracy0.6000000238418579\n"
          ]
        },
        {
          "output_type": "stream",
          "name": "stderr",
          "text": [
            "Epoch 32:  61%|██████    | 31/51 [00:00<00:00, 184.47batch/s]"
          ]
        },
        {
          "output_type": "stream",
          "name": "stdout",
          "text": [
            "End of 32,accuracy0.6000000238418579\n",
            "End of 32,accuracy0.800000011920929\n",
            "End of 32,accuracy0.699999988079071\n",
            "End of 32,accuracy1.0\n",
            "End of 32,accuracy0.699999988079071\n",
            "End of 32,accuracy0.6000000238418579\n",
            "End of 32,accuracy0.699999988079071\n"
          ]
        },
        {
          "output_type": "stream",
          "name": "stderr",
          "text": [
            "Epoch 32:  71%|███████   | 36/51 [00:00<00:00, 196.74batch/s]"
          ]
        },
        {
          "output_type": "stream",
          "name": "stdout",
          "text": [
            "End of 32,accuracy0.8999999761581421\n",
            "End of 32,accuracy0.5\n",
            "End of 32,accuracy0.699999988079071\n",
            "End of 32,accuracy0.6000000238418579\n",
            "End of 32,accuracy0.6000000238418579\n"
          ]
        },
        {
          "output_type": "stream",
          "name": "stderr",
          "text": [
            "Epoch 32:  76%|███████▋  | 39/51 [00:00<00:00, 217.57batch/s]"
          ]
        },
        {
          "output_type": "stream",
          "name": "stdout",
          "text": [
            "End of 32,accuracy0.5\n",
            "End of 32,accuracy0.6000000238418579\n",
            "End of 32,accuracy0.800000011920929\n"
          ]
        },
        {
          "output_type": "stream",
          "name": "stderr",
          "text": [
            "Epoch 32:  82%|████████▏ | 42/51 [00:00<00:00, 197.64batch/s]"
          ]
        },
        {
          "output_type": "stream",
          "name": "stdout",
          "text": [
            "End of 32,accuracy0.800000011920929\n",
            "End of 32,accuracy0.4000000059604645\n",
            "End of 32,accuracy0.699999988079071\n"
          ]
        },
        {
          "output_type": "stream",
          "name": "stderr",
          "text": [
            "Epoch 32:  92%|█████████▏| 47/51 [00:00<00:00, 191.72batch/s]"
          ]
        },
        {
          "output_type": "stream",
          "name": "stdout",
          "text": [
            "End of 32,accuracy0.699999988079071\n",
            "End of 32,accuracy0.5\n",
            "End of 32,accuracy0.30000001192092896\n",
            "End of 32,accuracy0.30000001192092896\n",
            "End of 32,accuracy0.5\n"
          ]
        },
        {
          "output_type": "stream",
          "name": "stderr",
          "text": [
            "\rEpoch 32:  94%|█████████▍| 48/51 [00:00<00:00, 189.32batch/s]"
          ]
        },
        {
          "output_type": "stream",
          "name": "stdout",
          "text": [
            "End of 32,accuracy0.6000000238418579\n"
          ]
        },
        {
          "output_type": "stream",
          "name": "stderr",
          "text": [
            "Epoch 32: 100%|██████████| 51/51 [00:00<00:00, 176.54batch/s]"
          ]
        },
        {
          "output_type": "stream",
          "name": "stdout",
          "text": [
            "End of 32,accuracy0.4000000059604645\n",
            "End of 32,accuracy0.8999999761581421\n",
            "End of 32,accuracy0.699999988079071\n"
          ]
        },
        {
          "output_type": "stream",
          "name": "stderr",
          "text": [
            "\n",
            "Epoch 33:   6%|▌         | 3/51 [00:00<00:00, 195.20batch/s]"
          ]
        },
        {
          "output_type": "stream",
          "name": "stdout",
          "text": [
            "End of 33,accuracy0.6000000238418579\n",
            "End of 33,accuracy0.800000011920929\n",
            "End of 33,accuracy0.5\n"
          ]
        },
        {
          "output_type": "stream",
          "name": "stderr",
          "text": [
            "\rEpoch 33:   8%|▊         | 4/51 [00:00<00:00, 189.05batch/s]"
          ]
        },
        {
          "output_type": "stream",
          "name": "stdout",
          "text": [
            "End of 33,accuracy0.5\n"
          ]
        },
        {
          "output_type": "stream",
          "name": "stderr",
          "text": [
            "Epoch 33:  14%|█▎        | 7/51 [00:00<00:00, 183.79batch/s]"
          ]
        },
        {
          "output_type": "stream",
          "name": "stdout",
          "text": [
            "End of 33,accuracy0.8999999761581421\n",
            "End of 33,accuracy0.5\n",
            "End of 33,accuracy0.699999988079071\n",
            "End of 33,accuracy0.699999988079071\n"
          ]
        },
        {
          "output_type": "stream",
          "name": "stderr",
          "text": [
            "\rEpoch 33:  16%|█▌        | 8/51 [00:00<00:00, 177.03batch/s]"
          ]
        },
        {
          "output_type": "stream",
          "name": "stdout",
          "text": [
            "End of 33,accuracy0.699999988079071"
          ]
        },
        {
          "output_type": "stream",
          "name": "stderr",
          "text": [
            "Epoch 33:  33%|███▎      | 17/51 [00:00<00:00, 197.92batch/s]"
          ]
        },
        {
          "output_type": "stream",
          "name": "stdout",
          "text": [
            "\n",
            "End of 33,accuracy0.5\n",
            "End of 33,accuracy0.5\n",
            "End of 33,accuracy0.6000000238418579\n",
            "End of 33,accuracy0.8999999761581421\n",
            "End of 33,accuracy0.4000000059604645\n",
            "End of 33,accuracy0.6000000238418579\n",
            "End of 33,accuracy0.5\n",
            "End of 33,accuracy0.5\n"
          ]
        },
        {
          "output_type": "stream",
          "name": "stderr",
          "text": [
            "Epoch 33:  41%|████      | 21/51 [00:00<00:00, 171.96batch/s]"
          ]
        },
        {
          "output_type": "stream",
          "name": "stdout",
          "text": [
            "End of 33,accuracy0.800000011920929\n",
            "End of 33,accuracy0.6000000238418579\n",
            "End of 33,accuracy0.6000000238418579\n",
            "End of 33,accuracy0.800000011920929\n"
          ]
        },
        {
          "output_type": "stream",
          "name": "stderr",
          "text": [
            "Epoch 33:  45%|████▌     | 23/51 [00:00<00:00, 167.10batch/s]"
          ]
        },
        {
          "output_type": "stream",
          "name": "stdout",
          "text": [
            "End of 33,accuracy0.5\n",
            "End of 33,accuracy0.699999988079071\n"
          ]
        },
        {
          "output_type": "stream",
          "name": "stderr",
          "text": [
            "Epoch 33:  51%|█████     | 26/51 [00:00<00:00, 167.83batch/s]"
          ]
        },
        {
          "output_type": "stream",
          "name": "stdout",
          "text": [
            "End of 33,accuracy0.6000000238418579\n",
            "End of 33,accuracy0.6000000238418579\n",
            "End of 33,accuracy0.800000011920929\n"
          ]
        },
        {
          "output_type": "stream",
          "name": "stderr",
          "text": [
            "Epoch 33:  59%|█████▉    | 30/51 [00:00<00:00, 155.82batch/s]"
          ]
        },
        {
          "output_type": "stream",
          "name": "stdout",
          "text": [
            "End of 33,accuracy0.800000011920929\n",
            "End of 33,accuracy1.0\n",
            "End of 33,accuracy0.699999988079071\n",
            "End of 33,accuracy0.6000000238418579\n"
          ]
        },
        {
          "output_type": "stream",
          "name": "stderr",
          "text": [
            "\rEpoch 33:  61%|██████    | 31/51 [00:00<00:00, 158.35batch/s]"
          ]
        },
        {
          "output_type": "stream",
          "name": "stdout",
          "text": [
            "End of 33,accuracy0.699999988079071\n"
          ]
        },
        {
          "output_type": "stream",
          "name": "stderr",
          "text": [
            "Epoch 33:  71%|███████   | 36/51 [00:00<00:00, 187.26batch/s]"
          ]
        },
        {
          "output_type": "stream",
          "name": "stdout",
          "text": [
            "End of 33,accuracy0.8999999761581421\n",
            "End of 33,accuracy0.5\n",
            "End of 33,accuracy0.699999988079071\n",
            "End of 33,accuracy0.6000000238418579\n",
            "End of 33,accuracy0.6000000238418579\n"
          ]
        },
        {
          "output_type": "stream",
          "name": "stderr",
          "text": [
            "Epoch 33:  76%|███████▋  | 39/51 [00:00<00:00, 174.54batch/s]"
          ]
        },
        {
          "output_type": "stream",
          "name": "stdout",
          "text": [
            "End of 33,accuracy0.5\n",
            "End of 33,accuracy0.6000000238418579\n",
            "End of 33,accuracy0.800000011920929\n"
          ]
        },
        {
          "output_type": "stream",
          "name": "stderr",
          "text": [
            "\rEpoch 33:  78%|███████▊  | 40/51 [00:00<00:00, 171.90batch/s]"
          ]
        },
        {
          "output_type": "stream",
          "name": "stdout",
          "text": [
            "End of 33,accuracy0.800000011920929\n"
          ]
        },
        {
          "output_type": "stream",
          "name": "stderr",
          "text": [
            "Epoch 33:  82%|████████▏ | 42/51 [00:00<00:00, 143.36batch/s]"
          ]
        },
        {
          "output_type": "stream",
          "name": "stdout",
          "text": [
            "End of 33,accuracy0.4000000059604645\n",
            "End of 33,accuracy0.699999988079071\n"
          ]
        },
        {
          "output_type": "stream",
          "name": "stderr",
          "text": [
            "\rEpoch 33:  84%|████████▍ | 43/51 [00:00<00:00, 147.86batch/s]"
          ]
        },
        {
          "output_type": "stream",
          "name": "stdout",
          "text": [
            "End of 33,accuracy0.699999988079071\n"
          ]
        },
        {
          "output_type": "stream",
          "name": "stderr",
          "text": [
            "Epoch 33:  98%|█████████▊| 50/51 [00:00<00:00, 171.46batch/s]"
          ]
        },
        {
          "output_type": "stream",
          "name": "stdout",
          "text": [
            "End of 33,accuracy0.5\n",
            "End of 33,accuracy0.30000001192092896\n",
            "End of 33,accuracy0.30000001192092896\n",
            "End of 33,accuracy0.5\n",
            "End of 33,accuracy0.6000000238418579\n",
            "End of 33,accuracy0.4000000059604645\n",
            "End of 33,accuracy0.8999999761581421\n"
          ]
        },
        {
          "output_type": "stream",
          "name": "stderr",
          "text": [
            "Epoch 33: 100%|██████████| 51/51 [00:00<00:00, 171.48batch/s]\n"
          ]
        },
        {
          "output_type": "stream",
          "name": "stdout",
          "text": [
            "End of 33,accuracy0.699999988079071\n"
          ]
        },
        {
          "output_type": "stream",
          "name": "stderr",
          "text": [
            "Epoch 34:   4%|▍         | 2/51 [00:00<00:00, 143.20batch/s]"
          ]
        },
        {
          "output_type": "stream",
          "name": "stdout",
          "text": [
            "End of 34,accuracy0.6000000238418579\n",
            "End of 34,accuracy0.800000011920929\n"
          ]
        },
        {
          "output_type": "stream",
          "name": "stderr",
          "text": [
            "Epoch 34:   8%|▊         | 4/51 [00:00<00:00, 169.79batch/s]"
          ]
        },
        {
          "output_type": "stream",
          "name": "stdout",
          "text": [
            "End of 34,accuracy0.5\n",
            "End of 34,accuracy0.5\n"
          ]
        },
        {
          "output_type": "stream",
          "name": "stderr",
          "text": [
            "Epoch 34:  14%|█▎        | 7/51 [00:00<00:00, 163.76batch/s]"
          ]
        },
        {
          "output_type": "stream",
          "name": "stdout",
          "text": [
            "End of 34,accuracy0.8999999761581421\n",
            "End of 34,accuracy0.5\n",
            "End of 34,accuracy0.699999988079071\n"
          ]
        },
        {
          "output_type": "stream",
          "name": "stderr",
          "text": [
            "Epoch 34:  22%|██▏       | 11/51 [00:00<00:00, 176.48batch/s]"
          ]
        },
        {
          "output_type": "stream",
          "name": "stdout",
          "text": [
            "End of 34,accuracy0.699999988079071\n",
            "End of 34,accuracy0.699999988079071\n",
            "End of 34,accuracy0.5\n",
            "End of 34,accuracy0.5\n"
          ]
        },
        {
          "output_type": "stream",
          "name": "stderr",
          "text": [
            "\rEpoch 34:  24%|██▎       | 12/51 [00:00<00:00, 161.92batch/s]"
          ]
        },
        {
          "output_type": "stream",
          "name": "stdout",
          "text": [
            "End of 34,accuracy0.6000000238418579\n"
          ]
        },
        {
          "output_type": "stream",
          "name": "stderr",
          "text": [
            "Epoch 34:  35%|███▌      | 18/51 [00:00<00:00, 192.76batch/s]"
          ]
        },
        {
          "output_type": "stream",
          "name": "stdout",
          "text": [
            "End of 34,accuracy0.8999999761581421\n",
            "End of 34,accuracy0.4000000059604645\n",
            "End of 34,accuracy0.6000000238418579\n",
            "End of 34,accuracy0.5\n",
            "End of 34,accuracy0.5\n",
            "End of 34,accuracy0.800000011920929\n"
          ]
        },
        {
          "output_type": "stream",
          "name": "stderr",
          "text": [
            "Epoch 34:  41%|████      | 21/51 [00:00<00:00, 192.13batch/s]"
          ]
        },
        {
          "output_type": "stream",
          "name": "stdout",
          "text": [
            "End of 34,accuracy0.6000000238418579\n",
            "End of 34,accuracy0.6000000238418579\n",
            "End of 34,accuracy0.800000011920929\n"
          ]
        },
        {
          "output_type": "stream",
          "name": "stderr",
          "text": [
            "\rEpoch 34:  43%|████▎     | 22/51 [00:00<00:00, 183.05batch/s]"
          ]
        },
        {
          "output_type": "stream",
          "name": "stdout",
          "text": [
            "End of 34,accuracy0.5\n"
          ]
        },
        {
          "output_type": "stream",
          "name": "stderr",
          "text": [
            "Epoch 34:  49%|████▉     | 25/51 [00:00<00:00, 188.90batch/s]"
          ]
        },
        {
          "output_type": "stream",
          "name": "stdout",
          "text": [
            "End of 34,accuracy0.699999988079071\n",
            "End of 34,accuracy0.6000000238418579\n",
            "End of 34,accuracy0.6000000238418579\n"
          ]
        },
        {
          "output_type": "stream",
          "name": "stderr",
          "text": [
            "\rEpoch 34:  51%|█████     | 26/51 [00:00<00:00, 181.88batch/s]"
          ]
        },
        {
          "output_type": "stream",
          "name": "stdout",
          "text": [
            "End of 34,accuracy0.800000011920929\n"
          ]
        },
        {
          "output_type": "stream",
          "name": "stderr",
          "text": [
            "Epoch 34:  65%|██████▍   | 33/51 [00:00<00:00, 185.34batch/s]"
          ]
        },
        {
          "output_type": "stream",
          "name": "stdout",
          "text": [
            "End of 34,accuracy0.800000011920929\n",
            "End of 34,accuracy1.0\n",
            "End of 34,accuracy0.699999988079071\n",
            "End of 34,accuracy0.6000000238418579\n",
            "End of 34,accuracy0.699999988079071\n",
            "End of 34,accuracy0.8999999761581421\n",
            "End of 34,accuracy0.5\n"
          ]
        },
        {
          "output_type": "stream",
          "name": "stderr",
          "text": [
            "Epoch 34:  71%|███████   | 36/51 [00:00<00:00, 195.35batch/s]"
          ]
        },
        {
          "output_type": "stream",
          "name": "stdout",
          "text": [
            "End of 34,accuracy0.699999988079071\n",
            "End of 34,accuracy0.6000000238418579\n",
            "End of 34,accuracy0.699999988079071\n",
            "End of 34,accuracy0.5\n"
          ]
        },
        {
          "output_type": "stream",
          "name": "stderr",
          "text": [
            "Epoch 34:  75%|███████▍  | 38/51 [00:00<00:00, 194.47batch/s]"
          ]
        },
        {
          "output_type": "stream",
          "name": "stdout",
          "text": [
            "End of 34,accuracy0.6000000238418579\n",
            "End of 34,accuracy0.800000011920929\n"
          ]
        },
        {
          "output_type": "stream",
          "name": "stderr",
          "text": [
            "Epoch 34:  80%|████████  | 41/51 [00:00<00:00, 190.69batch/s]"
          ]
        },
        {
          "output_type": "stream",
          "name": "stdout",
          "text": [
            "End of 34,accuracy0.800000011920929\n",
            "End of 34,accuracy0.4000000059604645\n"
          ]
        },
        {
          "output_type": "stream",
          "name": "stderr",
          "text": [
            "Epoch 34:  88%|████████▊ | 45/51 [00:00<00:00, 194.93batch/s]"
          ]
        },
        {
          "output_type": "stream",
          "name": "stdout",
          "text": [
            "End of 34,accuracy0.699999988079071\n",
            "End of 34,accuracy0.699999988079071\n",
            "End of 34,accuracy0.5\n",
            "End of 34,accuracy0.30000001192092896\n"
          ]
        },
        {
          "output_type": "stream",
          "name": "stderr",
          "text": [
            "Epoch 34:  94%|█████████▍| 48/51 [00:00<00:00, 173.03batch/s]"
          ]
        },
        {
          "output_type": "stream",
          "name": "stdout",
          "text": [
            "End of 34,accuracy0.30000001192092896\n",
            "End of 34,accuracy0.5\n",
            "End of 34,accuracy0.6000000238418579\n"
          ]
        },
        {
          "output_type": "stream",
          "name": "stderr",
          "text": [
            "\rEpoch 34:  96%|█████████▌| 49/51 [00:00<00:00, 167.25batch/s]"
          ]
        },
        {
          "output_type": "stream",
          "name": "stdout",
          "text": [
            "End of 34,accuracy0.4000000059604645\n"
          ]
        },
        {
          "output_type": "stream",
          "name": "stderr",
          "text": [
            "Epoch 34: 100%|██████████| 51/51 [00:00<00:00, 174.75batch/s]\n"
          ]
        },
        {
          "output_type": "stream",
          "name": "stdout",
          "text": [
            "End of 34,accuracy0.8999999761581421\n",
            "End of 34,accuracy0.699999988079071\n"
          ]
        },
        {
          "output_type": "stream",
          "name": "stderr",
          "text": [
            "Epoch 35:   2%|▏         | 1/51 [00:00<00:00, 139.11batch/s]"
          ]
        },
        {
          "output_type": "stream",
          "name": "stdout",
          "text": [
            "End of 35,accuracy0.6000000238418579\n"
          ]
        },
        {
          "output_type": "stream",
          "name": "stderr",
          "text": [
            "Epoch 35:  10%|▉         | 5/51 [00:00<00:00, 197.86batch/s]"
          ]
        },
        {
          "output_type": "stream",
          "name": "stdout",
          "text": [
            "End of 35,accuracy0.800000011920929\n",
            "End of 35,accuracy0.5\n",
            "End of 35,accuracy0.5\n",
            "End of 35,accuracy0.8999999761581421\n"
          ]
        },
        {
          "output_type": "stream",
          "name": "stderr",
          "text": [
            "Epoch 35:  16%|█▌        | 8/51 [00:00<00:00, 172.66batch/s]"
          ]
        },
        {
          "output_type": "stream",
          "name": "stdout",
          "text": [
            "End of 35,accuracy0.5\n",
            "End of 35,accuracy0.699999988079071\n",
            "End of 35,accuracy0.699999988079071\n"
          ]
        },
        {
          "output_type": "stream",
          "name": "stderr",
          "text": [
            "\rEpoch 35:  18%|█▊        | 9/51 [00:00<00:00, 149.99batch/s]"
          ]
        },
        {
          "output_type": "stream",
          "name": "stdout",
          "text": [
            "End of 35,accuracy0.699999988079071\n"
          ]
        },
        {
          "output_type": "stream",
          "name": "stderr",
          "text": [
            "Epoch 35:  29%|██▉       | 15/51 [00:00<00:00, 196.18batch/s]"
          ]
        },
        {
          "output_type": "stream",
          "name": "stdout",
          "text": [
            "End of 35,accuracy0.5\n",
            "End of 35,accuracy0.5\n",
            "End of 35,accuracy0.6000000238418579\n",
            "End of 35,accuracy0.8999999761581421\n",
            "End of 35,accuracy0.4000000059604645\n",
            "End of 35,accuracy0.6000000238418579\n"
          ]
        },
        {
          "output_type": "stream",
          "name": "stderr",
          "text": [
            "Epoch 35:  35%|███▌      | 18/51 [00:00<00:00, 173.96batch/s]"
          ]
        },
        {
          "output_type": "stream",
          "name": "stdout",
          "text": [
            "End of 35,accuracy0.5\n",
            "End of 35,accuracy0.5\n",
            "End of 35,accuracy0.800000011920929\n"
          ]
        },
        {
          "output_type": "stream",
          "name": "stderr",
          "text": [
            "Epoch 35:  39%|███▉      | 20/51 [00:00<00:00, 173.88batch/s]"
          ]
        },
        {
          "output_type": "stream",
          "name": "stdout",
          "text": [
            "End of 35,accuracy0.6000000238418579\n",
            "End of 35,accuracy0.6000000238418579\n"
          ]
        },
        {
          "output_type": "stream",
          "name": "stderr",
          "text": [
            "Epoch 35:  45%|████▌     | 23/51 [00:00<00:00, 191.56batch/s]"
          ]
        },
        {
          "output_type": "stream",
          "name": "stdout",
          "text": [
            "End of 35,accuracy0.800000011920929\n",
            "End of 35,accuracy0.5\n",
            "End of 35,accuracy0.699999988079071\n"
          ]
        },
        {
          "output_type": "stream",
          "name": "stderr",
          "text": [
            "Epoch 35:  53%|█████▎    | 27/51 [00:00<00:00, 199.89batch/s]"
          ]
        },
        {
          "output_type": "stream",
          "name": "stdout",
          "text": [
            "End of 35,accuracy0.6000000238418579\n",
            "End of 35,accuracy0.6000000238418579\n",
            "End of 35,accuracy0.800000011920929\n",
            "End of 35,accuracy0.800000011920929\n",
            "End of 35,accuracy1.0\n"
          ]
        },
        {
          "output_type": "stream",
          "name": "stderr",
          "text": [
            "Epoch 35:  61%|██████    | 31/51 [00:00<00:00, 184.87batch/s]"
          ]
        },
        {
          "output_type": "stream",
          "name": "stdout",
          "text": [
            "End of 35,accuracy0.699999988079071\n",
            "End of 35,accuracy0.6000000238418579\n",
            "End of 35,accuracy0.699999988079071\n"
          ]
        },
        {
          "output_type": "stream",
          "name": "stderr",
          "text": [
            "\rEpoch 35:  63%|██████▎   | 32/51 [00:00<00:00, 183.44batch/s]"
          ]
        },
        {
          "output_type": "stream",
          "name": "stdout",
          "text": [
            "End of 35,accuracy0.8999999761581421\n"
          ]
        },
        {
          "output_type": "stream",
          "name": "stderr",
          "text": [
            "Epoch 35:  73%|███████▎  | 37/51 [00:00<00:00, 206.78batch/s]"
          ]
        },
        {
          "output_type": "stream",
          "name": "stdout",
          "text": [
            "End of 35,accuracy0.5\n",
            "End of 35,accuracy0.699999988079071\n",
            "End of 35,accuracy0.6000000238418579\n",
            "End of 35,accuracy0.699999988079071\n",
            "End of 35,accuracy0.5\n"
          ]
        },
        {
          "output_type": "stream",
          "name": "stderr",
          "text": [
            "Epoch 35:  80%|████████  | 41/51 [00:00<00:00, 174.66batch/s]"
          ]
        },
        {
          "output_type": "stream",
          "name": "stdout",
          "text": [
            "End of 35,accuracy0.6000000238418579\n",
            "End of 35,accuracy0.800000011920929\n",
            "End of 35,accuracy0.800000011920929\n",
            "End of 35,accuracy0.4000000059604645\n"
          ]
        },
        {
          "output_type": "stream",
          "name": "stderr",
          "text": [
            "Epoch 35:  86%|████████▋ | 44/51 [00:00<00:00, 162.44batch/s]"
          ]
        },
        {
          "output_type": "stream",
          "name": "stdout",
          "text": [
            "End of 35,accuracy0.699999988079071\n",
            "End of 35,accuracy0.699999988079071\n",
            "End of 35,accuracy0.5\n"
          ]
        },
        {
          "output_type": "stream",
          "name": "stderr",
          "text": [
            "Epoch 35:  90%|█████████ | 46/51 [00:00<00:00, 161.71batch/s]"
          ]
        },
        {
          "output_type": "stream",
          "name": "stdout",
          "text": [
            "End of 35,accuracy0.30000001192092896\n",
            "End of 35,accuracy0.30000001192092896\n"
          ]
        },
        {
          "output_type": "stream",
          "name": "stderr",
          "text": [
            "Epoch 35: 100%|██████████| 51/51 [00:00<00:00, 172.54batch/s]"
          ]
        },
        {
          "output_type": "stream",
          "name": "stdout",
          "text": [
            "End of 35,accuracy0.5\n",
            "End of 35,accuracy0.6000000238418579\n",
            "End of 35,accuracy0.4000000059604645\n",
            "End of 35,accuracy0.8999999761581421\n",
            "End of 35,accuracy0.699999988079071\n"
          ]
        },
        {
          "output_type": "stream",
          "name": "stderr",
          "text": [
            "\n",
            "Epoch 36:   4%|▍         | 2/51 [00:00<00:00, 140.52batch/s]"
          ]
        },
        {
          "output_type": "stream",
          "name": "stdout",
          "text": [
            "End of 36,accuracy0.6000000238418579\n",
            "End of 36,accuracy0.800000011920929\n"
          ]
        },
        {
          "output_type": "stream",
          "name": "stderr",
          "text": [
            "Epoch 36:  10%|▉         | 5/51 [00:00<00:00, 203.39batch/s]"
          ]
        },
        {
          "output_type": "stream",
          "name": "stdout",
          "text": [
            "End of 36,accuracy0.5\n",
            "End of 36,accuracy0.5\n",
            "End of 36,accuracy0.8999999761581421\n"
          ]
        },
        {
          "output_type": "stream",
          "name": "stderr",
          "text": [
            "Epoch 36:  16%|█▌        | 8/51 [00:00<00:00, 132.08batch/s]"
          ]
        },
        {
          "output_type": "stream",
          "name": "stdout",
          "text": [
            "End of 36,accuracy0.5\n",
            "End of 36,accuracy0.699999988079071\n",
            "End of 36,accuracy0.699999988079071\n"
          ]
        },
        {
          "output_type": "stream",
          "name": "stderr",
          "text": [
            "Epoch 36:  22%|██▏       | 11/51 [00:00<00:00, 171.81batch/s]"
          ]
        },
        {
          "output_type": "stream",
          "name": "stdout",
          "text": [
            "End of 36,accuracy0.699999988079071\n",
            "End of 36,accuracy0.5\n",
            "End of 36,accuracy0.5\n",
            "End of 36,accuracy0.6000000238418579\n"
          ]
        },
        {
          "output_type": "stream",
          "name": "stderr",
          "text": [
            "Epoch 36:  25%|██▌       | 13/51 [00:00<00:00, 142.96batch/s]"
          ]
        },
        {
          "output_type": "stream",
          "name": "stdout",
          "text": [
            "End of 36,accuracy0.8999999761581421\n"
          ]
        },
        {
          "output_type": "stream",
          "name": "stderr",
          "text": [
            "Epoch 36:  33%|███▎      | 17/51 [00:00<00:00, 184.64batch/s]"
          ]
        },
        {
          "output_type": "stream",
          "name": "stdout",
          "text": [
            "End of 36,accuracy0.4000000059604645\n",
            "End of 36,accuracy0.699999988079071\n",
            "End of 36,accuracy0.5\n",
            "End of 36,accuracy0.5\n"
          ]
        },
        {
          "output_type": "stream",
          "name": "stderr",
          "text": [
            "Epoch 36:  37%|███▋      | 19/51 [00:00<00:00, 194.52batch/s]"
          ]
        },
        {
          "output_type": "stream",
          "name": "stdout",
          "text": [
            "End of 36,accuracy0.800000011920929\n",
            "End of 36,accuracy0.6000000238418579\n"
          ]
        },
        {
          "output_type": "stream",
          "name": "stderr",
          "text": [
            "Epoch 36:  43%|████▎     | 22/51 [00:00<00:00, 197.42batch/s]"
          ]
        },
        {
          "output_type": "stream",
          "name": "stdout",
          "text": [
            "End of 36,accuracy0.6000000238418579\n",
            "End of 36,accuracy0.800000011920929\n",
            "End of 36,accuracy0.5\n"
          ]
        },
        {
          "output_type": "stream",
          "name": "stderr",
          "text": [
            "Epoch 36:  51%|█████     | 26/51 [00:00<00:00, 202.36batch/s]"
          ]
        },
        {
          "output_type": "stream",
          "name": "stdout",
          "text": [
            "End of 36,accuracy0.699999988079071\n",
            "End of 36,accuracy0.6000000238418579\n",
            "End of 36,accuracy0.6000000238418579\n",
            "End of 36,accuracy0.800000011920929\n"
          ]
        },
        {
          "output_type": "stream",
          "name": "stderr",
          "text": [
            "Epoch 36:  57%|█████▋    | 29/51 [00:00<00:00, 220.31batch/s]"
          ]
        },
        {
          "output_type": "stream",
          "name": "stdout",
          "text": [
            "End of 36,accuracy0.800000011920929\n",
            "End of 36,accuracy1.0\n",
            "End of 36,accuracy0.699999988079071\n"
          ]
        },
        {
          "output_type": "stream",
          "name": "stderr",
          "text": [
            "Epoch 36:  75%|███████▍  | 38/51 [00:00<00:00, 206.58batch/s]"
          ]
        },
        {
          "output_type": "stream",
          "name": "stdout",
          "text": [
            "End of 36,accuracy0.6000000238418579\n",
            "End of 36,accuracy0.699999988079071\n",
            "End of 36,accuracy0.8999999761581421\n",
            "End of 36,accuracy0.5\n",
            "End of 36,accuracy0.699999988079071\n",
            "End of 36,accuracy0.6000000238418579\n",
            "End of 36,accuracy0.699999988079071\n",
            "End of 36,accuracy0.5\n",
            "End of 36,accuracy0.6000000238418579\n"
          ]
        },
        {
          "output_type": "stream",
          "name": "stderr",
          "text": [
            "Epoch 36:  78%|███████▊  | 40/51 [00:00<00:00, 220.58batch/s]"
          ]
        },
        {
          "output_type": "stream",
          "name": "stdout",
          "text": [
            "End of 36,accuracy0.800000011920929\n",
            "End of 36,accuracy0.800000011920929\n"
          ]
        },
        {
          "output_type": "stream",
          "name": "stderr",
          "text": [
            "Epoch 36:  84%|████████▍ | 43/51 [00:00<00:00, 178.98batch/s]"
          ]
        },
        {
          "output_type": "stream",
          "name": "stdout",
          "text": [
            "End of 36,accuracy0.4000000059604645\n",
            "End of 36,accuracy0.699999988079071\n",
            "End of 36,accuracy0.699999988079071\n",
            "End of 36,accuracy0.5\n"
          ]
        },
        {
          "output_type": "stream",
          "name": "stderr",
          "text": [
            "Epoch 36:  92%|█████████▏| 47/51 [00:00<00:00, 199.99batch/s]"
          ]
        },
        {
          "output_type": "stream",
          "name": "stdout",
          "text": [
            "End of 36,accuracy0.30000001192092896\n",
            "End of 36,accuracy0.30000001192092896\n",
            "End of 36,accuracy0.5\n"
          ]
        },
        {
          "output_type": "stream",
          "name": "stderr",
          "text": [
            "Epoch 36: 100%|██████████| 51/51 [00:00<00:00, 183.32batch/s]"
          ]
        },
        {
          "output_type": "stream",
          "name": "stdout",
          "text": [
            "End of 36,accuracy0.6000000238418579\n",
            "End of 36,accuracy0.4000000059604645\n",
            "End of 36,accuracy0.8999999761581421\n",
            "End of 36,accuracy0.699999988079071\n"
          ]
        },
        {
          "output_type": "stream",
          "name": "stderr",
          "text": [
            "\n",
            "Epoch 37:   6%|▌         | 3/51 [00:00<00:00, 200.55batch/s]"
          ]
        },
        {
          "output_type": "stream",
          "name": "stdout",
          "text": [
            "End of 37,accuracy0.6000000238418579\n",
            "End of 37,accuracy0.800000011920929\n",
            "End of 37,accuracy0.5\n"
          ]
        },
        {
          "output_type": "stream",
          "name": "stderr",
          "text": [
            "Epoch 37:  10%|▉         | 5/51 [00:00<00:00, 194.97batch/s]"
          ]
        },
        {
          "output_type": "stream",
          "name": "stdout",
          "text": [
            "End of 37,accuracy0.5\n",
            "End of 37,accuracy0.8999999761581421\n"
          ]
        },
        {
          "output_type": "stream",
          "name": "stderr",
          "text": [
            "Epoch 37:  16%|█▌        | 8/51 [00:00<00:00, 203.79batch/s]"
          ]
        },
        {
          "output_type": "stream",
          "name": "stdout",
          "text": [
            "End of 37,accuracy0.5\n",
            "End of 37,accuracy0.699999988079071\n",
            "End of 37,accuracy0.699999988079071\n"
          ]
        },
        {
          "output_type": "stream",
          "name": "stderr",
          "text": [
            "Epoch 37:  25%|██▌       | 13/51 [00:00<00:00, 214.20batch/s]"
          ]
        },
        {
          "output_type": "stream",
          "name": "stdout",
          "text": [
            "End of 37,accuracy0.699999988079071\n",
            "End of 37,accuracy0.5\n",
            "End of 37,accuracy0.5\n",
            "End of 37,accuracy0.6000000238418579\n",
            "End of 37,accuracy0.8999999761581421\n"
          ]
        },
        {
          "output_type": "stream",
          "name": "stderr",
          "text": [
            "Epoch 37:  31%|███▏      | 16/51 [00:00<00:00, 219.85batch/s]"
          ]
        },
        {
          "output_type": "stream",
          "name": "stdout",
          "text": [
            "End of 37,accuracy0.4000000059604645\n",
            "End of 37,accuracy0.699999988079071\n",
            "End of 37,accuracy0.5\n"
          ]
        },
        {
          "output_type": "stream",
          "name": "stderr",
          "text": [
            "Epoch 37:  47%|████▋     | 24/51 [00:00<00:00, 210.01batch/s]"
          ]
        },
        {
          "output_type": "stream",
          "name": "stdout",
          "text": [
            "End of 37,accuracy0.5\n",
            "End of 37,accuracy0.800000011920929\n",
            "End of 37,accuracy0.6000000238418579\n",
            "End of 37,accuracy0.6000000238418579\n",
            "End of 37,accuracy0.800000011920929\n",
            "End of 37,accuracy0.5\n",
            "End of 37,accuracy0.699999988079071\n",
            "End of 37,accuracy0.6000000238418579\n",
            "End of 37,accuracy0.6000000238418579\n"
          ]
        },
        {
          "output_type": "stream",
          "name": "stderr",
          "text": [
            "Epoch 37:  51%|█████     | 26/51 [00:00<00:00, 225.57batch/s]"
          ]
        },
        {
          "output_type": "stream",
          "name": "stdout",
          "text": [
            "End of 37,accuracy0.800000011920929\n"
          ]
        },
        {
          "output_type": "stream",
          "name": "stderr",
          "text": [
            "Epoch 37:  59%|█████▉    | 30/51 [00:00<00:00, 209.30batch/s]"
          ]
        },
        {
          "output_type": "stream",
          "name": "stdout",
          "text": [
            "End of 37,accuracy0.800000011920929\n",
            "End of 37,accuracy1.0\n",
            "End of 37,accuracy0.699999988079071\n",
            "End of 37,accuracy0.6000000238418579\n"
          ]
        },
        {
          "output_type": "stream",
          "name": "stderr",
          "text": [
            "Epoch 37:  67%|██████▋   | 34/51 [00:00<00:00, 218.10batch/s]"
          ]
        },
        {
          "output_type": "stream",
          "name": "stdout",
          "text": [
            "End of 37,accuracy0.699999988079071\n",
            "End of 37,accuracy0.8999999761581421\n",
            "End of 37,accuracy0.5\n",
            "End of 37,accuracy0.699999988079071\n"
          ]
        },
        {
          "output_type": "stream",
          "name": "stderr",
          "text": [
            "Epoch 37:  82%|████████▏ | 42/51 [00:00<00:00, 235.41batch/s]"
          ]
        },
        {
          "output_type": "stream",
          "name": "stdout",
          "text": [
            "End of 37,accuracy0.6000000238418579\n",
            "End of 37,accuracy0.699999988079071\n",
            "End of 37,accuracy0.5\n",
            "End of 37,accuracy0.6000000238418579\n",
            "End of 37,accuracy0.800000011920929\n",
            "End of 37,accuracy0.800000011920929\n",
            "End of 37,accuracy0.4000000059604645\n",
            "End of 37,accuracy0.699999988079071\n"
          ]
        },
        {
          "output_type": "stream",
          "name": "stderr",
          "text": [
            "Epoch 37:  90%|█████████ | 46/51 [00:00<00:00, 229.61batch/s]"
          ]
        },
        {
          "output_type": "stream",
          "name": "stdout",
          "text": [
            "End of 37,accuracy0.699999988079071\n",
            "End of 37,accuracy0.5\n",
            "End of 37,accuracy0.30000001192092896\n",
            "End of 37,accuracy0.30000001192092896\n"
          ]
        },
        {
          "output_type": "stream",
          "name": "stderr",
          "text": [
            "\rEpoch 37:  92%|█████████▏| 47/51 [00:00<00:00, 185.14batch/s]"
          ]
        },
        {
          "output_type": "stream",
          "name": "stdout",
          "text": [
            "End of 37,accuracy0.5\n",
            "End of 37,accuracy0.6000000238418579\n"
          ]
        },
        {
          "output_type": "stream",
          "name": "stderr",
          "text": [
            "Epoch 37:  98%|█████████▊| 50/51 [00:00<00:00, 173.86batch/s]"
          ]
        },
        {
          "output_type": "stream",
          "name": "stdout",
          "text": [
            "End of 37,accuracy0.4000000059604645\n",
            "End of 37,accuracy0.8999999761581421\n"
          ]
        },
        {
          "output_type": "stream",
          "name": "stderr",
          "text": [
            "Epoch 37: 100%|██████████| 51/51 [00:00<00:00, 201.35batch/s]\n"
          ]
        },
        {
          "output_type": "stream",
          "name": "stdout",
          "text": [
            "End of 37,accuracy0.699999988079071\n"
          ]
        },
        {
          "output_type": "stream",
          "name": "stderr",
          "text": [
            "Epoch 38:   2%|▏         | 1/51 [00:00<00:00, 105.92batch/s]"
          ]
        },
        {
          "output_type": "stream",
          "name": "stdout",
          "text": [
            "End of 38,accuracy0.6000000238418579\n"
          ]
        },
        {
          "output_type": "stream",
          "name": "stderr",
          "text": [
            "\rEpoch 38:   4%|▍         | 2/51 [00:00<00:00, 103.10batch/s]"
          ]
        },
        {
          "output_type": "stream",
          "name": "stdout",
          "text": [
            "End of 38,accuracy0.800000011920929\n"
          ]
        },
        {
          "output_type": "stream",
          "name": "stderr",
          "text": [
            "Epoch 38:  22%|██▏       | 11/51 [00:00<00:00, 216.53batch/s]"
          ]
        },
        {
          "output_type": "stream",
          "name": "stdout",
          "text": [
            "End of 38,accuracy0.5\n",
            "End of 38,accuracy0.5\n",
            "End of 38,accuracy0.8999999761581421\n",
            "End of 38,accuracy0.5\n",
            "End of 38,accuracy0.699999988079071\n",
            "End of 38,accuracy0.699999988079071\n",
            "End of 38,accuracy0.699999988079071\n",
            "End of 38,accuracy0.5\n",
            "End of 38,accuracy0.5\n"
          ]
        },
        {
          "output_type": "stream",
          "name": "stderr",
          "text": [
            "Epoch 38:  25%|██▌       | 13/51 [00:00<00:00, 204.13batch/s]"
          ]
        },
        {
          "output_type": "stream",
          "name": "stdout",
          "text": [
            "End of 38,accuracy0.6000000238418579\n",
            "End of 38,accuracy0.8999999761581421\n"
          ]
        },
        {
          "output_type": "stream",
          "name": "stderr",
          "text": [
            "Epoch 38:  33%|███▎      | 17/51 [00:00<00:00, 213.58batch/s]"
          ]
        },
        {
          "output_type": "stream",
          "name": "stdout",
          "text": [
            "End of 38,accuracy0.4000000059604645\n",
            "End of 38,accuracy0.699999988079071\n",
            "End of 38,accuracy0.5\n",
            "End of 38,accuracy0.5\n"
          ]
        },
        {
          "output_type": "stream",
          "name": "stderr",
          "text": [
            "Epoch 38:  39%|███▉      | 20/51 [00:00<00:00, 175.97batch/s]"
          ]
        },
        {
          "output_type": "stream",
          "name": "stdout",
          "text": [
            "End of 38,accuracy0.800000011920929\n",
            "End of 38,accuracy0.6000000238418579\n",
            "End of 38,accuracy0.6000000238418579\n"
          ]
        },
        {
          "output_type": "stream",
          "name": "stderr",
          "text": [
            "Epoch 38:  53%|█████▎    | 27/51 [00:00<00:00, 188.43batch/s]"
          ]
        },
        {
          "output_type": "stream",
          "name": "stdout",
          "text": [
            "End of 38,accuracy0.800000011920929\n",
            "End of 38,accuracy0.5\n",
            "End of 38,accuracy0.699999988079071\n",
            "End of 38,accuracy0.6000000238418579\n",
            "End of 38,accuracy0.6000000238418579\n",
            "End of 38,accuracy0.800000011920929\n",
            "End of 38,accuracy0.800000011920929\n"
          ]
        },
        {
          "output_type": "stream",
          "name": "stderr",
          "text": [
            "Epoch 38:  61%|██████    | 31/51 [00:00<00:00, 204.07batch/s]"
          ]
        },
        {
          "output_type": "stream",
          "name": "stdout",
          "text": [
            "End of 38,accuracy1.0\n",
            "End of 38,accuracy0.699999988079071\n",
            "End of 38,accuracy0.6000000238418579\n",
            "End of 38,accuracy0.699999988079071\n"
          ]
        },
        {
          "output_type": "stream",
          "name": "stderr",
          "text": [
            "Epoch 38:  65%|██████▍   | 33/51 [00:00<00:00, 189.39batch/s]"
          ]
        },
        {
          "output_type": "stream",
          "name": "stdout",
          "text": [
            "End of 38,accuracy0.8999999761581421\n",
            "End of 38,accuracy0.5\n"
          ]
        },
        {
          "output_type": "stream",
          "name": "stderr",
          "text": [
            "Epoch 38:  71%|███████   | 36/51 [00:00<00:00, 199.24batch/s]"
          ]
        },
        {
          "output_type": "stream",
          "name": "stdout",
          "text": [
            "End of 38,accuracy0.699999988079071\n",
            "End of 38,accuracy0.6000000238418579\n",
            "End of 38,accuracy0.699999988079071\n"
          ]
        },
        {
          "output_type": "stream",
          "name": "stderr",
          "text": [
            "Epoch 38:  78%|███████▊  | 40/51 [00:00<00:00, 196.77batch/s]"
          ]
        },
        {
          "output_type": "stream",
          "name": "stdout",
          "text": [
            "End of 38,accuracy0.5\n",
            "End of 38,accuracy0.6000000238418579\n",
            "End of 38,accuracy0.800000011920929\n",
            "End of 38,accuracy0.800000011920929\n"
          ]
        },
        {
          "output_type": "stream",
          "name": "stderr",
          "text": [
            "Epoch 38:  82%|████████▏ | 42/51 [00:00<00:00, 196.79batch/s]"
          ]
        },
        {
          "output_type": "stream",
          "name": "stdout",
          "text": [
            "End of 38,accuracy0.4000000059604645\n",
            "End of 38,accuracy0.699999988079071\n"
          ]
        },
        {
          "output_type": "stream",
          "name": "stderr",
          "text": [
            "\rEpoch 38:  84%|████████▍ | 43/51 [00:00<00:00, 211.34batch/s]"
          ]
        },
        {
          "output_type": "stream",
          "name": "stdout",
          "text": [
            "End of 38,accuracy0.699999988079071\n"
          ]
        },
        {
          "output_type": "stream",
          "name": "stderr",
          "text": [
            "Epoch 38: 100%|██████████| 51/51 [00:00<00:00, 202.92batch/s]"
          ]
        },
        {
          "output_type": "stream",
          "name": "stdout",
          "text": [
            "End of 38,accuracy0.5\n",
            "End of 38,accuracy0.30000001192092896\n",
            "End of 38,accuracy0.30000001192092896\n",
            "End of 38,accuracy0.5\n",
            "End of 38,accuracy0.6000000238418579\n",
            "End of 38,accuracy0.4000000059604645\n",
            "End of 38,accuracy0.8999999761581421\n",
            "End of 38,accuracy0.699999988079071\n"
          ]
        },
        {
          "output_type": "stream",
          "name": "stderr",
          "text": [
            "Epoch 38: 100%|██████████| 51/51 [00:00<00:00, 188.12batch/s]\n",
            "Epoch 39:   4%|▍         | 2/51 [00:00<00:00, 154.50batch/s]"
          ]
        },
        {
          "output_type": "stream",
          "name": "stdout",
          "text": [
            "End of 39,accuracy0.6000000238418579\n",
            "End of 39,accuracy0.800000011920929\n"
          ]
        },
        {
          "output_type": "stream",
          "name": "stderr",
          "text": [
            "Epoch 39:  10%|▉         | 5/51 [00:00<00:00, 155.08batch/s]"
          ]
        },
        {
          "output_type": "stream",
          "name": "stdout",
          "text": [
            "End of 39,accuracy0.5\n",
            "End of 39,accuracy0.5\n",
            "End of 39,accuracy0.8999999761581421\n"
          ]
        },
        {
          "output_type": "stream",
          "name": "stderr",
          "text": [
            "Epoch 39:  24%|██▎       | 12/51 [00:00<00:00, 195.97batch/s]"
          ]
        },
        {
          "output_type": "stream",
          "name": "stdout",
          "text": [
            "End of 39,accuracy0.5\n",
            "End of 39,accuracy0.699999988079071\n",
            "End of 39,accuracy0.699999988079071\n",
            "End of 39,accuracy0.699999988079071\n",
            "End of 39,accuracy0.5\n",
            "End of 39,accuracy0.5\n",
            "End of 39,accuracy0.6000000238418579\n"
          ]
        },
        {
          "output_type": "stream",
          "name": "stderr",
          "text": [
            "Epoch 39:  31%|███▏      | 16/51 [00:00<00:00, 201.45batch/s]"
          ]
        },
        {
          "output_type": "stream",
          "name": "stdout",
          "text": [
            "End of 39,accuracy0.8999999761581421\n",
            "End of 39,accuracy0.4000000059604645\n",
            "End of 39,accuracy0.699999988079071\n",
            "End of 39,accuracy0.6000000238418579\n"
          ]
        },
        {
          "output_type": "stream",
          "name": "stderr",
          "text": [
            "Epoch 39:  35%|███▌      | 18/51 [00:00<00:00, 175.08batch/s]"
          ]
        },
        {
          "output_type": "stream",
          "name": "stdout",
          "text": [
            "End of 39,accuracy0.5\n",
            "End of 39,accuracy0.800000011920929\n"
          ]
        },
        {
          "output_type": "stream",
          "name": "stderr",
          "text": [
            "Epoch 39:  41%|████      | 21/51 [00:00<00:00, 183.16batch/s]"
          ]
        },
        {
          "output_type": "stream",
          "name": "stdout",
          "text": [
            "End of 39,accuracy0.6000000238418579\n",
            "End of 39,accuracy0.6000000238418579\n",
            "End of 39,accuracy0.800000011920929\n"
          ]
        },
        {
          "output_type": "stream",
          "name": "stderr",
          "text": [
            "Epoch 39:  47%|████▋     | 24/51 [00:00<00:00, 176.35batch/s]"
          ]
        },
        {
          "output_type": "stream",
          "name": "stdout",
          "text": [
            "End of 39,accuracy0.5\n",
            "End of 39,accuracy0.699999988079071\n",
            "End of 39,accuracy0.6000000238418579\n"
          ]
        },
        {
          "output_type": "stream",
          "name": "stderr",
          "text": [
            "\rEpoch 39:  49%|████▉     | 25/51 [00:00<00:00, 190.67batch/s]"
          ]
        },
        {
          "output_type": "stream",
          "name": "stdout",
          "text": [
            "End of 39,accuracy0.6000000238418579\n"
          ]
        },
        {
          "output_type": "stream",
          "name": "stderr",
          "text": [
            "Epoch 39:  53%|█████▎    | 27/51 [00:00<00:00, 182.93batch/s]"
          ]
        },
        {
          "output_type": "stream",
          "name": "stdout",
          "text": [
            "End of 39,accuracy0.800000011920929\n",
            "End of 39,accuracy0.800000011920929\n"
          ]
        },
        {
          "output_type": "stream",
          "name": "stderr",
          "text": [
            "Epoch 39:  75%|███████▍  | 38/51 [00:00<00:00, 212.27batch/s]"
          ]
        },
        {
          "output_type": "stream",
          "name": "stdout",
          "text": [
            "End of 39,accuracy1.0\n",
            "End of 39,accuracy0.699999988079071\n",
            "End of 39,accuracy0.6000000238418579\n",
            "End of 39,accuracy0.699999988079071\n",
            "End of 39,accuracy0.8999999761581421\n",
            "End of 39,accuracy0.5\n",
            "End of 39,accuracy0.699999988079071\n",
            "End of 39,accuracy0.6000000238418579\n",
            "End of 39,accuracy0.699999988079071\n",
            "End of 39,accuracy0.5\n",
            "End of 39,accuracy0.6000000238418579\n"
          ]
        },
        {
          "output_type": "stream",
          "name": "stderr",
          "text": [
            "Epoch 39:  78%|███████▊  | 40/51 [00:00<00:00, 181.28batch/s]"
          ]
        },
        {
          "output_type": "stream",
          "name": "stdout",
          "text": [
            "End of 39,accuracy0.800000011920929\n",
            "End of 39,accuracy0.800000011920929\n"
          ]
        },
        {
          "output_type": "stream",
          "name": "stderr",
          "text": [
            "Epoch 39:  86%|████████▋ | 44/51 [00:00<00:00, 217.32batch/s]"
          ]
        },
        {
          "output_type": "stream",
          "name": "stdout",
          "text": [
            "End of 39,accuracy0.4000000059604645\n",
            "End of 39,accuracy0.699999988079071\n",
            "End of 39,accuracy0.699999988079071\n",
            "End of 39,accuracy0.5\n"
          ]
        },
        {
          "output_type": "stream",
          "name": "stderr",
          "text": [
            "Epoch 39: 100%|██████████| 51/51 [00:00<00:00, 204.78batch/s]"
          ]
        },
        {
          "output_type": "stream",
          "name": "stdout",
          "text": [
            "End of 39,accuracy0.30000001192092896\n",
            "End of 39,accuracy0.30000001192092896\n",
            "End of 39,accuracy0.5\n",
            "End of 39,accuracy0.6000000238418579\n",
            "End of 39,accuracy0.4000000059604645\n",
            "End of 39,accuracy0.8999999761581421\n",
            "End of 39,accuracy0.699999988079071\n"
          ]
        },
        {
          "output_type": "stream",
          "name": "stderr",
          "text": [
            "Epoch 39: 100%|██████████| 51/51 [00:00<00:00, 183.90batch/s]\n",
            "Epoch 40:   2%|▏         | 1/51 [00:00<00:00, 155.68batch/s]"
          ]
        },
        {
          "output_type": "stream",
          "name": "stdout",
          "text": [
            "End of 40,accuracy0.6000000238418579\n"
          ]
        },
        {
          "output_type": "stream",
          "name": "stderr",
          "text": [
            "Epoch 40:   6%|▌         | 3/51 [00:00<00:00, 164.08batch/s]"
          ]
        },
        {
          "output_type": "stream",
          "name": "stdout",
          "text": [
            "End of 40,accuracy0.800000011920929\n",
            "End of 40,accuracy0.5\n"
          ]
        },
        {
          "output_type": "stream",
          "name": "stderr",
          "text": [
            "Epoch 40:  12%|█▏        | 6/51 [00:00<00:00, 168.84batch/s]"
          ]
        },
        {
          "output_type": "stream",
          "name": "stdout",
          "text": [
            "End of 40,accuracy0.5\n",
            "End of 40,accuracy0.8999999761581421\n",
            "End of 40,accuracy0.5\n"
          ]
        },
        {
          "output_type": "stream",
          "name": "stderr",
          "text": [
            "Epoch 40:  18%|█▊        | 9/51 [00:00<00:00, 182.99batch/s]"
          ]
        },
        {
          "output_type": "stream",
          "name": "stdout",
          "text": [
            "End of 40,accuracy0.699999988079071\n",
            "End of 40,accuracy0.699999988079071\n",
            "End of 40,accuracy0.699999988079071\n"
          ]
        },
        {
          "output_type": "stream",
          "name": "stderr",
          "text": [
            "\rEpoch 40:  20%|█▉        | 10/51 [00:00<00:00, 183.86batch/s]"
          ]
        },
        {
          "output_type": "stream",
          "name": "stdout",
          "text": [
            "End of 40,accuracy0.5\n"
          ]
        },
        {
          "output_type": "stream",
          "name": "stderr",
          "text": [
            "Epoch 40:  24%|██▎       | 12/51 [00:00<00:00, 171.58batch/s]"
          ]
        },
        {
          "output_type": "stream",
          "name": "stdout",
          "text": [
            "End of 40,accuracy0.5\n",
            "End of 40,accuracy0.6000000238418579\n"
          ]
        },
        {
          "output_type": "stream",
          "name": "stderr",
          "text": [
            "Epoch 40:  45%|████▌     | 23/51 [00:00<00:00, 206.23batch/s]"
          ]
        },
        {
          "output_type": "stream",
          "name": "stdout",
          "text": [
            "End of 40,accuracy0.8999999761581421\n",
            "End of 40,accuracy0.4000000059604645\n",
            "End of 40,accuracy0.699999988079071\n",
            "End of 40,accuracy0.6000000238418579\n",
            "End of 40,accuracy0.5\n",
            "End of 40,accuracy0.800000011920929\n",
            "End of 40,accuracy0.6000000238418579\n",
            "End of 40,accuracy0.6000000238418579\n",
            "End of 40,accuracy0.800000011920929\n",
            "End of 40,accuracy0.5\n",
            "End of 40,accuracy0.699999988079071\n"
          ]
        },
        {
          "output_type": "stream",
          "name": "stderr",
          "text": [
            "\rEpoch 40:  47%|████▋     | 24/51 [00:00<00:00, 184.72batch/s]"
          ]
        },
        {
          "output_type": "stream",
          "name": "stdout",
          "text": [
            "End of 40,accuracy0.6000000238418579\n"
          ]
        },
        {
          "output_type": "stream",
          "name": "stderr",
          "text": [
            "Epoch 40:  55%|█████▍    | 28/51 [00:00<00:00, 199.58batch/s]"
          ]
        },
        {
          "output_type": "stream",
          "name": "stdout",
          "text": [
            "End of 40,accuracy0.6000000238418579\n",
            "End of 40,accuracy0.800000011920929\n",
            "End of 40,accuracy0.800000011920929\n",
            "End of 40,accuracy1.0\n"
          ]
        },
        {
          "output_type": "stream",
          "name": "stderr",
          "text": [
            "Epoch 40:  75%|███████▍  | 38/51 [00:00<00:00, 202.95batch/s]"
          ]
        },
        {
          "output_type": "stream",
          "name": "stdout",
          "text": [
            "End of 40,accuracy0.699999988079071\n",
            "End of 40,accuracy0.6000000238418579\n",
            "End of 40,accuracy0.699999988079071\n",
            "End of 40,accuracy0.8999999761581421\n",
            "End of 40,accuracy0.5\n",
            "End of 40,accuracy0.699999988079071\n",
            "End of 40,accuracy0.6000000238418579\n",
            "End of 40,accuracy0.800000011920929\n",
            "End of 40,accuracy0.5\n",
            "End of 40,accuracy0.6000000238418579\n"
          ]
        },
        {
          "output_type": "stream",
          "name": "stderr",
          "text": [
            "\rEpoch 40:  76%|███████▋  | 39/51 [00:00<00:00, 193.67batch/s]"
          ]
        },
        {
          "output_type": "stream",
          "name": "stdout",
          "text": [
            "End of 40,accuracy0.800000011920929\n"
          ]
        },
        {
          "output_type": "stream",
          "name": "stderr",
          "text": [
            "Epoch 40:  82%|████████▏ | 42/51 [00:00<00:00, 188.23batch/s]"
          ]
        },
        {
          "output_type": "stream",
          "name": "stdout",
          "text": [
            "End of 40,accuracy0.800000011920929\n",
            "End of 40,accuracy0.4000000059604645\n",
            "End of 40,accuracy0.699999988079071\n"
          ]
        },
        {
          "output_type": "stream",
          "name": "stderr",
          "text": [
            "Epoch 40:  88%|████████▊ | 45/51 [00:00<00:00, 196.79batch/s]"
          ]
        },
        {
          "output_type": "stream",
          "name": "stdout",
          "text": [
            "End of 40,accuracy0.699999988079071\n",
            "End of 40,accuracy0.5\n",
            "End of 40,accuracy0.30000001192092896\n"
          ]
        },
        {
          "output_type": "stream",
          "name": "stderr",
          "text": [
            "Epoch 40:  94%|█████████▍| 48/51 [00:00<00:00, 198.58batch/s]"
          ]
        },
        {
          "output_type": "stream",
          "name": "stdout",
          "text": [
            "End of 40,accuracy0.30000001192092896\n",
            "End of 40,accuracy0.5\n",
            "End of 40,accuracy0.6000000238418579\n"
          ]
        },
        {
          "output_type": "stream",
          "name": "stderr",
          "text": [
            "\rEpoch 40:  96%|█████████▌| 49/51 [00:00<00:00, 192.71batch/s]"
          ]
        },
        {
          "output_type": "stream",
          "name": "stdout",
          "text": [
            "End of 40,accuracy0.4000000059604645\n"
          ]
        },
        {
          "output_type": "stream",
          "name": "stderr",
          "text": [
            "Epoch 40: 100%|██████████| 51/51 [00:00<00:00, 186.10batch/s]\n"
          ]
        },
        {
          "output_type": "stream",
          "name": "stdout",
          "text": [
            "End of 40,accuracy0.8999999761581421\n",
            "End of 40,accuracy0.699999988079071\n"
          ]
        },
        {
          "output_type": "stream",
          "name": "stderr",
          "text": [
            "Epoch 41:  16%|█▌        | 8/51 [00:00<00:00, 160.21batch/s]"
          ]
        },
        {
          "output_type": "stream",
          "name": "stdout",
          "text": [
            "End of 41,accuracy0.6000000238418579\n",
            "End of 41,accuracy0.800000011920929\n",
            "End of 41,accuracy0.5\n",
            "End of 41,accuracy0.5\n",
            "End of 41,accuracy0.8999999761581421\n",
            "End of 41,accuracy0.5\n",
            "End of 41,accuracy0.699999988079071\n",
            "End of 41,accuracy0.699999988079071\n"
          ]
        },
        {
          "output_type": "stream",
          "name": "stderr",
          "text": [
            "\rEpoch 41:  18%|█▊        | 9/51 [00:00<00:00, 164.05batch/s]"
          ]
        },
        {
          "output_type": "stream",
          "name": "stdout",
          "text": [
            "End of 41,accuracy0.699999988079071\n"
          ]
        },
        {
          "output_type": "stream",
          "name": "stderr",
          "text": [
            "Epoch 41:  24%|██▎       | 12/51 [00:00<00:00, 152.36batch/s]"
          ]
        },
        {
          "output_type": "stream",
          "name": "stdout",
          "text": [
            "End of 41,accuracy0.5\n",
            "End of 41,accuracy0.5\n",
            "End of 41,accuracy0.6000000238418579\n"
          ]
        },
        {
          "output_type": "stream",
          "name": "stderr",
          "text": [
            "Epoch 41:  41%|████      | 21/51 [00:00<00:00, 190.19batch/s]"
          ]
        },
        {
          "output_type": "stream",
          "name": "stdout",
          "text": [
            "End of 41,accuracy0.8999999761581421\n",
            "End of 41,accuracy0.4000000059604645\n",
            "End of 41,accuracy0.699999988079071\n",
            "End of 41,accuracy0.6000000238418579\n",
            "End of 41,accuracy0.5\n",
            "End of 41,accuracy0.800000011920929\n",
            "End of 41,accuracy0.6000000238418579\n",
            "End of 41,accuracy0.6000000238418579\n",
            "End of 41,accuracy0.800000011920929\n"
          ]
        },
        {
          "output_type": "stream",
          "name": "stderr",
          "text": [
            "\rEpoch 41:  43%|████▎     | 22/51 [00:00<00:00, 175.26batch/s]"
          ]
        },
        {
          "output_type": "stream",
          "name": "stdout",
          "text": [
            "End of 41,accuracy0.5\n"
          ]
        },
        {
          "output_type": "stream",
          "name": "stderr",
          "text": [
            "Epoch 41:  49%|████▉     | 25/51 [00:00<00:00, 182.64batch/s]"
          ]
        },
        {
          "output_type": "stream",
          "name": "stdout",
          "text": [
            "End of 41,accuracy0.699999988079071\n",
            "End of 41,accuracy0.6000000238418579\n",
            "End of 41,accuracy0.6000000238418579\n"
          ]
        },
        {
          "output_type": "stream",
          "name": "stderr",
          "text": [
            "Epoch 41:  53%|█████▎    | 27/51 [00:00<00:00, 158.37batch/s]"
          ]
        },
        {
          "output_type": "stream",
          "name": "stdout",
          "text": [
            "End of 41,accuracy0.800000011920929\n",
            "End of 41,accuracy0.800000011920929\n"
          ]
        },
        {
          "output_type": "stream",
          "name": "stderr",
          "text": [
            "Epoch 41:  59%|█████▉    | 30/51 [00:00<00:00, 175.28batch/s]"
          ]
        },
        {
          "output_type": "stream",
          "name": "stdout",
          "text": [
            "End of 41,accuracy1.0\n",
            "End of 41,accuracy0.699999988079071\n",
            "End of 41,accuracy0.6000000238418579\n"
          ]
        },
        {
          "output_type": "stream",
          "name": "stderr",
          "text": [
            "\rEpoch 41:  61%|██████    | 31/51 [00:00<00:00, 161.30batch/s]"
          ]
        },
        {
          "output_type": "stream",
          "name": "stdout",
          "text": [
            "End of 41,accuracy0.699999988079071\n"
          ]
        },
        {
          "output_type": "stream",
          "name": "stderr",
          "text": [
            "Epoch 41:  69%|██████▊   | 35/51 [00:00<00:00, 190.09batch/s]"
          ]
        },
        {
          "output_type": "stream",
          "name": "stdout",
          "text": [
            "End of 41,accuracy0.8999999761581421\n",
            "End of 41,accuracy0.5\n",
            "End of 41,accuracy0.699999988079071\n",
            "End of 41,accuracy0.6000000238418579\n"
          ]
        },
        {
          "output_type": "stream",
          "name": "stderr",
          "text": [
            "Epoch 41:  88%|████████▊ | 45/51 [00:00<00:00, 227.91batch/s]"
          ]
        },
        {
          "output_type": "stream",
          "name": "stdout",
          "text": [
            "End of 41,accuracy0.800000011920929\n",
            "End of 41,accuracy0.5\n",
            "End of 41,accuracy0.6000000238418579\n",
            "End of 41,accuracy0.800000011920929\n",
            "End of 41,accuracy0.800000011920929\n",
            "End of 41,accuracy0.4000000059604645\n",
            "End of 41,accuracy0.699999988079071\n",
            "End of 41,accuracy0.699999988079071\n",
            "End of 41,accuracy0.5\n",
            "End of 41,accuracy0.30000001192092896\n",
            "End of 41,accuracy0.30000001192092896\n"
          ]
        },
        {
          "output_type": "stream",
          "name": "stderr",
          "text": [
            "Epoch 41:  92%|█████████▏| 47/51 [00:00<00:00, 219.23batch/s]"
          ]
        },
        {
          "output_type": "stream",
          "name": "stdout",
          "text": [
            "End of 41,accuracy0.5\n"
          ]
        },
        {
          "output_type": "stream",
          "name": "stderr",
          "text": [
            "Epoch 41: 100%|██████████| 51/51 [00:00<00:00, 179.04batch/s]"
          ]
        },
        {
          "output_type": "stream",
          "name": "stdout",
          "text": [
            "End of 41,accuracy0.6000000238418579\n",
            "End of 41,accuracy0.4000000059604645\n",
            "End of 41,accuracy0.8999999761581421\n",
            "End of 41,accuracy0.699999988079071\n"
          ]
        },
        {
          "output_type": "stream",
          "name": "stderr",
          "text": [
            "\n",
            "Epoch 42:  14%|█▎        | 7/51 [00:00<00:00, 187.89batch/s]"
          ]
        },
        {
          "output_type": "stream",
          "name": "stdout",
          "text": [
            "End of 42,accuracy0.6000000238418579\n",
            "End of 42,accuracy0.800000011920929\n",
            "End of 42,accuracy0.5\n",
            "End of 42,accuracy0.5\n",
            "End of 42,accuracy0.8999999761581421\n",
            "End of 42,accuracy0.5\n",
            "End of 42,accuracy0.699999988079071\n"
          ]
        },
        {
          "output_type": "stream",
          "name": "stderr",
          "text": [
            "\rEpoch 42:  16%|█▌        | 8/51 [00:00<00:00, 182.06batch/s]"
          ]
        },
        {
          "output_type": "stream",
          "name": "stdout",
          "text": [
            "End of 42,accuracy0.699999988079071\n"
          ]
        },
        {
          "output_type": "stream",
          "name": "stderr",
          "text": [
            "Epoch 42:  20%|█▉        | 10/51 [00:00<00:00, 154.05batch/s]"
          ]
        },
        {
          "output_type": "stream",
          "name": "stdout",
          "text": [
            "End of 42,accuracy0.699999988079071\n",
            "End of 42,accuracy0.5\n"
          ]
        },
        {
          "output_type": "stream",
          "name": "stderr",
          "text": [
            "Epoch 42:  24%|██▎       | 12/51 [00:00<00:00, 161.40batch/s]"
          ]
        },
        {
          "output_type": "stream",
          "name": "stdout",
          "text": [
            "End of 42,accuracy0.5\n",
            "End of 42,accuracy0.6000000238418579\n"
          ]
        },
        {
          "output_type": "stream",
          "name": "stderr",
          "text": [
            "Epoch 42:  29%|██▉       | 15/51 [00:00<00:00, 177.26batch/s]"
          ]
        },
        {
          "output_type": "stream",
          "name": "stdout",
          "text": [
            "End of 42,accuracy0.8999999761581421\n",
            "End of 42,accuracy0.4000000059604645\n",
            "End of 42,accuracy0.699999988079071\n"
          ]
        },
        {
          "output_type": "stream",
          "name": "stderr",
          "text": [
            "Epoch 42:  33%|███▎      | 17/51 [00:00<00:00, 186.00batch/s]"
          ]
        },
        {
          "output_type": "stream",
          "name": "stdout",
          "text": [
            "End of 42,accuracy0.6000000238418579\n",
            "End of 42,accuracy0.5\n"
          ]
        },
        {
          "output_type": "stream",
          "name": "stderr",
          "text": [
            "Epoch 42:  39%|███▉      | 20/51 [00:00<00:00, 183.12batch/s]"
          ]
        },
        {
          "output_type": "stream",
          "name": "stdout",
          "text": [
            "End of 42,accuracy0.800000011920929\n",
            "End of 42,accuracy0.6000000238418579\n",
            "End of 42,accuracy0.6000000238418579\n"
          ]
        },
        {
          "output_type": "stream",
          "name": "stderr",
          "text": [
            "Epoch 42:  55%|█████▍    | 28/51 [00:00<00:00, 196.48batch/s]"
          ]
        },
        {
          "output_type": "stream",
          "name": "stdout",
          "text": [
            "End of 42,accuracy0.800000011920929\n",
            "End of 42,accuracy0.5\n",
            "End of 42,accuracy0.699999988079071\n",
            "End of 42,accuracy0.6000000238418579\n",
            "End of 42,accuracy0.6000000238418579\n",
            "End of 42,accuracy0.800000011920929\n",
            "End of 42,accuracy0.800000011920929\n",
            "End of 42,accuracy1.0\n"
          ]
        },
        {
          "output_type": "stream",
          "name": "stderr",
          "text": [
            "\rEpoch 42:  57%|█████▋    | 29/51 [00:00<00:00, 183.42batch/s]"
          ]
        },
        {
          "output_type": "stream",
          "name": "stdout",
          "text": [
            "End of 42,accuracy0.699999988079071\n"
          ]
        },
        {
          "output_type": "stream",
          "name": "stderr",
          "text": [
            "Epoch 42:  71%|███████   | 36/51 [00:00<00:00, 202.37batch/s]"
          ]
        },
        {
          "output_type": "stream",
          "name": "stdout",
          "text": [
            "End of 42,accuracy0.6000000238418579\n",
            "End of 42,accuracy0.699999988079071\n",
            "End of 42,accuracy0.8999999761581421\n",
            "End of 42,accuracy0.5\n",
            "End of 42,accuracy0.699999988079071\n",
            "End of 42,accuracy0.6000000238418579\n",
            "End of 42,accuracy0.800000011920929\n"
          ]
        },
        {
          "output_type": "stream",
          "name": "stderr",
          "text": [
            "Epoch 42:  84%|████████▍ | 43/51 [00:00<00:00, 197.13batch/s]"
          ]
        },
        {
          "output_type": "stream",
          "name": "stdout",
          "text": [
            "End of 42,accuracy0.5\n",
            "End of 42,accuracy0.6000000238418579\n",
            "End of 42,accuracy0.800000011920929\n",
            "End of 42,accuracy0.800000011920929\n",
            "End of 42,accuracy0.4000000059604645\n",
            "End of 42,accuracy0.699999988079071\n",
            "End of 42,accuracy0.699999988079071\n"
          ]
        },
        {
          "output_type": "stream",
          "name": "stderr",
          "text": [
            "\rEpoch 42:  86%|████████▋ | 44/51 [00:00<00:00, 188.60batch/s]"
          ]
        },
        {
          "output_type": "stream",
          "name": "stdout",
          "text": [
            "End of 42,accuracy0.5\n"
          ]
        },
        {
          "output_type": "stream",
          "name": "stderr",
          "text": [
            "Epoch 42:  92%|█████████▏| 47/51 [00:00<00:00, 183.37batch/s]"
          ]
        },
        {
          "output_type": "stream",
          "name": "stdout",
          "text": [
            "End of 42,accuracy0.30000001192092896\n",
            "End of 42,accuracy0.30000001192092896\n",
            "End of 42,accuracy0.5\n"
          ]
        },
        {
          "output_type": "stream",
          "name": "stderr",
          "text": [
            "Epoch 42:  96%|█████████▌| 49/51 [00:00<00:00, 184.01batch/s]"
          ]
        },
        {
          "output_type": "stream",
          "name": "stdout",
          "text": [
            "End of 42,accuracy0.6000000238418579\n",
            "End of 42,accuracy0.5\n"
          ]
        },
        {
          "output_type": "stream",
          "name": "stderr",
          "text": [
            "Epoch 42: 100%|██████████| 51/51 [00:00<00:00, 176.08batch/s]\n"
          ]
        },
        {
          "output_type": "stream",
          "name": "stdout",
          "text": [
            "End of 42,accuracy0.8999999761581421\n",
            "End of 42,accuracy0.699999988079071\n"
          ]
        },
        {
          "output_type": "stream",
          "name": "stderr",
          "text": [
            "Epoch 43:   6%|▌         | 3/51 [00:00<00:00, 150.89batch/s]"
          ]
        },
        {
          "output_type": "stream",
          "name": "stdout",
          "text": [
            "End of 43,accuracy0.6000000238418579\n",
            "End of 43,accuracy0.800000011920929\n",
            "End of 43,accuracy0.5\n"
          ]
        },
        {
          "output_type": "stream",
          "name": "stderr",
          "text": [
            "Epoch 43:  22%|██▏       | 11/51 [00:00<00:00, 179.75batch/s]"
          ]
        },
        {
          "output_type": "stream",
          "name": "stdout",
          "text": [
            "End of 43,accuracy0.5\n",
            "End of 43,accuracy0.8999999761581421\n",
            "End of 43,accuracy0.5\n",
            "End of 43,accuracy0.699999988079071\n",
            "End of 43,accuracy0.699999988079071\n",
            "End of 43,accuracy0.699999988079071\n",
            "End of 43,accuracy0.5\n",
            "End of 43,accuracy0.5\n",
            "End of 43,accuracy0.6000000238418579\n"
          ]
        },
        {
          "output_type": "stream",
          "name": "stderr",
          "text": [
            "Epoch 43:  25%|██▌       | 13/51 [00:00<00:00, 166.20batch/s]"
          ]
        },
        {
          "output_type": "stream",
          "name": "stdout",
          "text": [
            "End of 43,accuracy0.8999999761581421\n"
          ]
        },
        {
          "output_type": "stream",
          "name": "stderr",
          "text": [
            "Epoch 43:  37%|███▋      | 19/51 [00:00<00:00, 195.83batch/s]"
          ]
        },
        {
          "output_type": "stream",
          "name": "stdout",
          "text": [
            "End of 43,accuracy0.4000000059604645\n",
            "End of 43,accuracy0.699999988079071\n",
            "End of 43,accuracy0.6000000238418579\n",
            "End of 43,accuracy0.5\n",
            "End of 43,accuracy0.800000011920929\n",
            "End of 43,accuracy0.6000000238418579\n"
          ]
        },
        {
          "output_type": "stream",
          "name": "stderr",
          "text": [
            "Epoch 43:  53%|█████▎    | 27/51 [00:00<00:00, 205.81batch/s]"
          ]
        },
        {
          "output_type": "stream",
          "name": "stdout",
          "text": [
            "End of 43,accuracy0.6000000238418579\n",
            "End of 43,accuracy0.800000011920929\n",
            "End of 43,accuracy0.5\n",
            "End of 43,accuracy0.699999988079071\n",
            "End of 43,accuracy0.6000000238418579\n",
            "End of 43,accuracy0.6000000238418579\n",
            "End of 43,accuracy0.800000011920929\n",
            "End of 43,accuracy0.800000011920929\n"
          ]
        },
        {
          "output_type": "stream",
          "name": "stderr",
          "text": [
            "\rEpoch 43:  55%|█████▍    | 28/51 [00:00<00:00, 196.26batch/s]"
          ]
        },
        {
          "output_type": "stream",
          "name": "stdout",
          "text": [
            "End of 43,accuracy1.0\n"
          ]
        },
        {
          "output_type": "stream",
          "name": "stderr",
          "text": [
            "Epoch 43:  61%|██████    | 31/51 [00:00<00:00, 192.75batch/s]"
          ]
        },
        {
          "output_type": "stream",
          "name": "stdout",
          "text": [
            "End of 43,accuracy0.699999988079071\n",
            "End of 43,accuracy0.6000000238418579\n",
            "End of 43,accuracy0.699999988079071\n"
          ]
        },
        {
          "output_type": "stream",
          "name": "stderr",
          "text": [
            "Epoch 43:  65%|██████▍   | 33/51 [00:00<00:00, 185.64batch/s]"
          ]
        },
        {
          "output_type": "stream",
          "name": "stdout",
          "text": [
            "End of 43,accuracy0.8999999761581421\n",
            "End of 43,accuracy0.5\n"
          ]
        },
        {
          "output_type": "stream",
          "name": "stderr",
          "text": [
            "Epoch 43:  75%|███████▍  | 38/51 [00:00<00:00, 183.71batch/s]"
          ]
        },
        {
          "output_type": "stream",
          "name": "stdout",
          "text": [
            "End of 43,accuracy0.699999988079071\n",
            "End of 43,accuracy0.6000000238418579\n",
            "End of 43,accuracy0.800000011920929\n",
            "End of 43,accuracy0.5\n",
            "End of 43,accuracy0.6000000238418579\n"
          ]
        },
        {
          "output_type": "stream",
          "name": "stderr",
          "text": [
            "Epoch 43:  78%|███████▊  | 40/51 [00:00<00:00, 174.40batch/s]"
          ]
        },
        {
          "output_type": "stream",
          "name": "stdout",
          "text": [
            "End of 43,accuracy0.800000011920929\n",
            "End of 43,accuracy0.800000011920929\n"
          ]
        },
        {
          "output_type": "stream",
          "name": "stderr",
          "text": [
            "Epoch 43:  96%|█████████▌| 49/51 [00:00<00:00, 175.88batch/s]"
          ]
        },
        {
          "output_type": "stream",
          "name": "stdout",
          "text": [
            "End of 43,accuracy0.4000000059604645\n",
            "End of 43,accuracy0.699999988079071\n",
            "End of 43,accuracy0.699999988079071\n",
            "End of 43,accuracy0.5\n",
            "End of 43,accuracy0.30000001192092896\n",
            "End of 43,accuracy0.4000000059604645\n",
            "End of 43,accuracy0.5\n",
            "End of 43,accuracy0.6000000238418579\n",
            "End of 43,accuracy0.5\n",
            "End of 43,accuracy0.8999999761581421\n"
          ]
        },
        {
          "output_type": "stream",
          "name": "stderr",
          "text": [
            "Epoch 43: 100%|██████████| 51/51 [00:00<00:00, 176.72batch/s]\n"
          ]
        },
        {
          "output_type": "stream",
          "name": "stdout",
          "text": [
            "End of 43,accuracy0.699999988079071\n"
          ]
        },
        {
          "output_type": "stream",
          "name": "stderr",
          "text": [
            "Epoch 44:   6%|▌         | 3/51 [00:00<00:00, 206.23batch/s]"
          ]
        },
        {
          "output_type": "stream",
          "name": "stdout",
          "text": [
            "End of 44,accuracy0.6000000238418579\n",
            "End of 44,accuracy0.800000011920929\n",
            "End of 44,accuracy0.5\n"
          ]
        },
        {
          "output_type": "stream",
          "name": "stderr",
          "text": [
            "Epoch 44:  20%|█▉        | 10/51 [00:00<00:00, 185.53batch/s]"
          ]
        },
        {
          "output_type": "stream",
          "name": "stdout",
          "text": [
            "End of 44,accuracy0.5\n",
            "End of 44,accuracy0.8999999761581421\n",
            "End of 44,accuracy0.5\n",
            "End of 44,accuracy0.699999988079071\n",
            "End of 44,accuracy0.699999988079071\n",
            "End of 44,accuracy0.699999988079071\n",
            "End of 44,accuracy0.5\n"
          ]
        },
        {
          "output_type": "stream",
          "name": "stderr",
          "text": [
            "\rEpoch 44:  22%|██▏       | 11/51 [00:00<00:00, 168.54batch/s]"
          ]
        },
        {
          "output_type": "stream",
          "name": "stdout",
          "text": [
            "End of 44,accuracy0.5\n"
          ]
        },
        {
          "output_type": "stream",
          "name": "stderr",
          "text": [
            "Epoch 44:  27%|██▋       | 14/51 [00:00<00:00, 174.25batch/s]"
          ]
        },
        {
          "output_type": "stream",
          "name": "stdout",
          "text": [
            "End of 44,accuracy0.6000000238418579\n",
            "End of 44,accuracy0.8999999761581421\n",
            "End of 44,accuracy0.4000000059604645\n"
          ]
        },
        {
          "output_type": "stream",
          "name": "stderr",
          "text": [
            "Epoch 44:  31%|███▏      | 16/51 [00:00<00:00, 173.98batch/s]"
          ]
        },
        {
          "output_type": "stream",
          "name": "stdout",
          "text": [
            "End of 44,accuracy0.699999988079071\n",
            "End of 44,accuracy0.6000000238418579\n"
          ]
        },
        {
          "output_type": "stream",
          "name": "stderr",
          "text": [
            "Epoch 44:  43%|████▎     | 22/51 [00:00<00:00, 220.10batch/s]"
          ]
        },
        {
          "output_type": "stream",
          "name": "stdout",
          "text": [
            "End of 44,accuracy0.5\n",
            "End of 44,accuracy0.800000011920929\n",
            "End of 44,accuracy0.6000000238418579\n",
            "End of 44,accuracy0.6000000238418579\n",
            "End of 44,accuracy0.800000011920929\n",
            "End of 44,accuracy0.5\n"
          ]
        },
        {
          "output_type": "stream",
          "name": "stderr",
          "text": [
            "Epoch 44:  47%|████▋     | 24/51 [00:00<00:00, 180.94batch/s]"
          ]
        },
        {
          "output_type": "stream",
          "name": "stdout",
          "text": [
            "End of 44,accuracy0.699999988079071\n",
            "End of 44,accuracy0.6000000238418579\n"
          ]
        },
        {
          "output_type": "stream",
          "name": "stderr",
          "text": [
            "Epoch 44:  67%|██████▋   | 34/51 [00:00<00:00, 213.62batch/s]"
          ]
        },
        {
          "output_type": "stream",
          "name": "stdout",
          "text": [
            "End of 44,accuracy0.6000000238418579\n",
            "End of 44,accuracy0.800000011920929\n",
            "End of 44,accuracy0.800000011920929\n",
            "End of 44,accuracy1.0\n",
            "End of 44,accuracy0.699999988079071\n",
            "End of 44,accuracy0.6000000238418579\n",
            "End of 44,accuracy0.699999988079071\n",
            "End of 44,accuracy0.8999999761581421\n",
            "End of 44,accuracy0.5\n",
            "End of 44,accuracy0.699999988079071\n"
          ]
        },
        {
          "output_type": "stream",
          "name": "stderr",
          "text": [
            "\rEpoch 44:  69%|██████▊   | 35/51 [00:00<00:00, 203.75batch/s]"
          ]
        },
        {
          "output_type": "stream",
          "name": "stdout",
          "text": [
            "End of 44,accuracy0.699999988079071\n"
          ]
        },
        {
          "output_type": "stream",
          "name": "stderr",
          "text": [
            "Epoch 44:  75%|███████▍  | 38/51 [00:00<00:00, 169.65batch/s]"
          ]
        },
        {
          "output_type": "stream",
          "name": "stdout",
          "text": [
            "End of 44,accuracy0.800000011920929\n",
            "End of 44,accuracy0.5\n",
            "End of 44,accuracy0.6000000238418579\n"
          ]
        },
        {
          "output_type": "stream",
          "name": "stderr",
          "text": [
            "Epoch 44:  80%|████████  | 41/51 [00:00<00:00, 168.66batch/s]"
          ]
        },
        {
          "output_type": "stream",
          "name": "stdout",
          "text": [
            "End of 44,accuracy0.800000011920929\n",
            "End of 44,accuracy0.800000011920929\n",
            "End of 44,accuracy0.4000000059604645\n"
          ]
        },
        {
          "output_type": "stream",
          "name": "stderr",
          "text": [
            "Epoch 44:  92%|█████████▏| 47/51 [00:00<00:00, 186.94batch/s]"
          ]
        },
        {
          "output_type": "stream",
          "name": "stdout",
          "text": [
            "End of 44,accuracy0.699999988079071\n",
            "End of 44,accuracy0.699999988079071\n",
            "End of 44,accuracy0.5\n",
            "End of 44,accuracy0.30000001192092896\n",
            "End of 44,accuracy0.4000000059604645\n",
            "End of 44,accuracy0.5\n"
          ]
        },
        {
          "output_type": "stream",
          "name": "stderr",
          "text": [
            "Epoch 44:  96%|█████████▌| 49/51 [00:00<00:00, 187.39batch/s]"
          ]
        },
        {
          "output_type": "stream",
          "name": "stdout",
          "text": [
            "End of 44,accuracy0.6000000238418579\n",
            "End of 44,accuracy0.5\n"
          ]
        },
        {
          "output_type": "stream",
          "name": "stderr",
          "text": [
            "Epoch 44: 100%|██████████| 51/51 [00:00<00:00, 181.63batch/s]\n"
          ]
        },
        {
          "output_type": "stream",
          "name": "stdout",
          "text": [
            "End of 44,accuracy0.8999999761581421\n",
            "End of 44,accuracy0.699999988079071\n"
          ]
        },
        {
          "output_type": "stream",
          "name": "stderr",
          "text": [
            "Epoch 45:   8%|▊         | 4/51 [00:00<00:00, 167.01batch/s]"
          ]
        },
        {
          "output_type": "stream",
          "name": "stdout",
          "text": [
            "End of 45,accuracy0.6000000238418579\n",
            "End of 45,accuracy0.800000011920929\n",
            "End of 45,accuracy0.5\n",
            "End of 45,accuracy0.5\n"
          ]
        },
        {
          "output_type": "stream",
          "name": "stderr",
          "text": [
            "Epoch 45:  12%|█▏        | 6/51 [00:00<00:00, 162.32batch/s]"
          ]
        },
        {
          "output_type": "stream",
          "name": "stdout",
          "text": [
            "End of 45,accuracy0.8999999761581421\n",
            "End of 45,accuracy0.5\n"
          ]
        },
        {
          "output_type": "stream",
          "name": "stderr",
          "text": [
            "Epoch 45:  31%|███▏      | 16/51 [00:00<00:00, 203.91batch/s]"
          ]
        },
        {
          "output_type": "stream",
          "name": "stdout",
          "text": [
            "End of 45,accuracy0.699999988079071\n",
            "End of 45,accuracy0.699999988079071\n",
            "End of 45,accuracy0.699999988079071\n",
            "End of 45,accuracy0.6000000238418579\n",
            "End of 45,accuracy0.5\n",
            "End of 45,accuracy0.6000000238418579\n",
            "End of 45,accuracy0.8999999761581421\n",
            "End of 45,accuracy0.4000000059604645\n",
            "End of 45,accuracy0.699999988079071\n",
            "End of 45,accuracy0.6000000238418579\n"
          ]
        },
        {
          "output_type": "stream",
          "name": "stderr",
          "text": [
            "\rEpoch 45:  33%|███▎      | 17/51 [00:00<00:00, 187.73batch/s]"
          ]
        },
        {
          "output_type": "stream",
          "name": "stdout",
          "text": [
            "End of 45,accuracy0.5\n"
          ]
        },
        {
          "output_type": "stream",
          "name": "stderr",
          "text": [
            "Epoch 45:  41%|████      | 21/51 [00:00<00:00, 193.68batch/s]"
          ]
        },
        {
          "output_type": "stream",
          "name": "stdout",
          "text": [
            "End of 45,accuracy0.800000011920929\n",
            "End of 45,accuracy0.6000000238418579\n",
            "End of 45,accuracy0.6000000238418579\n",
            "End of 45,accuracy0.800000011920929\n"
          ]
        },
        {
          "output_type": "stream",
          "name": "stderr",
          "text": [
            "Epoch 45:  47%|████▋     | 24/51 [00:00<00:00, 183.68batch/s]"
          ]
        },
        {
          "output_type": "stream",
          "name": "stdout",
          "text": [
            "End of 45,accuracy0.5\n",
            "End of 45,accuracy0.699999988079071\n",
            "End of 45,accuracy0.6000000238418579\n"
          ]
        },
        {
          "output_type": "stream",
          "name": "stderr",
          "text": [
            "Epoch 45:  59%|█████▉    | 30/51 [00:00<00:00, 193.72batch/s]"
          ]
        },
        {
          "output_type": "stream",
          "name": "stdout",
          "text": [
            "End of 45,accuracy0.6000000238418579\n",
            "End of 45,accuracy0.800000011920929\n",
            "End of 45,accuracy0.800000011920929\n",
            "End of 45,accuracy1.0\n",
            "End of 45,accuracy0.699999988079071\n",
            "End of 45,accuracy0.6000000238418579\n"
          ]
        },
        {
          "output_type": "stream",
          "name": "stderr",
          "text": [
            "Epoch 45:  63%|██████▎   | 32/51 [00:00<00:00, 170.53batch/s]"
          ]
        },
        {
          "output_type": "stream",
          "name": "stdout",
          "text": [
            "End of 45,accuracy0.699999988079071\n",
            "End of 45,accuracy0.8999999761581421\n"
          ]
        },
        {
          "output_type": "stream",
          "name": "stderr",
          "text": [
            "Epoch 45:  73%|███████▎  | 37/51 [00:00<00:00, 152.12batch/s]"
          ]
        },
        {
          "output_type": "stream",
          "name": "stdout",
          "text": [
            "End of 45,accuracy0.5\n",
            "End of 45,accuracy0.699999988079071\n",
            "End of 45,accuracy0.699999988079071\n",
            "End of 45,accuracy0.800000011920929\n",
            "End of 45,accuracy0.5\n"
          ]
        },
        {
          "output_type": "stream",
          "name": "stderr",
          "text": [
            "Epoch 45:  78%|███████▊  | 40/51 [00:00<00:00, 152.72batch/s]"
          ]
        },
        {
          "output_type": "stream",
          "name": "stdout",
          "text": [
            "End of 45,accuracy0.6000000238418579\n",
            "End of 45,accuracy0.800000011920929\n",
            "End of 45,accuracy0.800000011920929\n"
          ]
        },
        {
          "output_type": "stream",
          "name": "stderr",
          "text": [
            "Epoch 45:  82%|████████▏ | 42/51 [00:00<00:00, 160.39batch/s]"
          ]
        },
        {
          "output_type": "stream",
          "name": "stdout",
          "text": [
            "End of 45,accuracy0.4000000059604645\n",
            "End of 45,accuracy0.699999988079071\n"
          ]
        },
        {
          "output_type": "stream",
          "name": "stderr",
          "text": [
            "Epoch 45: 100%|██████████| 51/51 [00:00<00:00, 176.14batch/s]\n"
          ]
        },
        {
          "output_type": "stream",
          "name": "stdout",
          "text": [
            "End of 45,accuracy0.699999988079071\n",
            "End of 45,accuracy0.5\n",
            "End of 45,accuracy0.30000001192092896\n",
            "End of 45,accuracy0.4000000059604645\n",
            "End of 45,accuracy0.5\n",
            "End of 45,accuracy0.6000000238418579\n",
            "End of 45,accuracy0.5\n",
            "End of 45,accuracy0.8999999761581421\n",
            "End of 45,accuracy0.699999988079071\n"
          ]
        },
        {
          "output_type": "stream",
          "name": "stderr",
          "text": [
            "Epoch 46:   6%|▌         | 3/51 [00:00<00:00, 170.99batch/s]"
          ]
        },
        {
          "output_type": "stream",
          "name": "stdout",
          "text": [
            "End of 46,accuracy0.6000000238418579\n",
            "End of 46,accuracy0.800000011920929\n",
            "End of 46,accuracy0.5\n"
          ]
        },
        {
          "output_type": "stream",
          "name": "stderr",
          "text": [
            "Epoch 46:  12%|█▏        | 6/51 [00:00<00:00, 188.06batch/s]"
          ]
        },
        {
          "output_type": "stream",
          "name": "stdout",
          "text": [
            "End of 46,accuracy0.5\n",
            "End of 46,accuracy0.8999999761581421\n",
            "End of 46,accuracy0.5\n"
          ]
        },
        {
          "output_type": "stream",
          "name": "stderr",
          "text": [
            "Epoch 46:  24%|██▎       | 12/51 [00:00<00:00, 174.72batch/s]"
          ]
        },
        {
          "output_type": "stream",
          "name": "stdout",
          "text": [
            "End of 46,accuracy0.699999988079071\n",
            "End of 46,accuracy0.699999988079071\n",
            "End of 46,accuracy0.699999988079071\n",
            "End of 46,accuracy0.6000000238418579\n",
            "End of 46,accuracy0.5\n",
            "End of 46,accuracy0.6000000238418579\n"
          ]
        },
        {
          "output_type": "stream",
          "name": "stderr",
          "text": [
            "Epoch 46:  27%|██▋       | 14/51 [00:00<00:00, 169.97batch/s]"
          ]
        },
        {
          "output_type": "stream",
          "name": "stdout",
          "text": [
            "End of 46,accuracy0.8999999761581421\n",
            "End of 46,accuracy0.4000000059604645\n"
          ]
        },
        {
          "output_type": "stream",
          "name": "stderr",
          "text": [
            "Epoch 46:  41%|████      | 21/51 [00:00<00:00, 201.00batch/s]"
          ]
        },
        {
          "output_type": "stream",
          "name": "stdout",
          "text": [
            "End of 46,accuracy0.699999988079071\n",
            "End of 46,accuracy0.6000000238418579\n",
            "End of 46,accuracy0.5\n",
            "End of 46,accuracy0.800000011920929\n",
            "End of 46,accuracy0.6000000238418579\n",
            "End of 46,accuracy0.6000000238418579\n",
            "End of 46,accuracy0.800000011920929\n"
          ]
        },
        {
          "output_type": "stream",
          "name": "stderr",
          "text": [
            "Epoch 46:  49%|████▉     | 25/51 [00:00<00:00, 189.42batch/s]"
          ]
        },
        {
          "output_type": "stream",
          "name": "stdout",
          "text": [
            "End of 46,accuracy0.5\n",
            "End of 46,accuracy0.699999988079071\n",
            "End of 46,accuracy0.6000000238418579\n",
            "End of 46,accuracy0.6000000238418579\n"
          ]
        },
        {
          "output_type": "stream",
          "name": "stderr",
          "text": [
            "Epoch 46:  53%|█████▎    | 27/51 [00:00<00:00, 190.91batch/s]"
          ]
        },
        {
          "output_type": "stream",
          "name": "stdout",
          "text": [
            "End of 46,accuracy0.800000011920929\n",
            "End of 46,accuracy0.800000011920929\n"
          ]
        },
        {
          "output_type": "stream",
          "name": "stderr",
          "text": [
            "Epoch 46:  75%|███████▍  | 38/51 [00:00<00:00, 209.44batch/s]"
          ]
        },
        {
          "output_type": "stream",
          "name": "stdout",
          "text": [
            "End of 46,accuracy1.0\n",
            "End of 46,accuracy0.699999988079071\n",
            "End of 46,accuracy0.6000000238418579\n",
            "End of 46,accuracy0.699999988079071\n",
            "End of 46,accuracy0.8999999761581421\n",
            "End of 46,accuracy0.5\n",
            "End of 46,accuracy0.699999988079071\n",
            "End of 46,accuracy0.699999988079071\n",
            "End of 46,accuracy0.800000011920929\n",
            "End of 46,accuracy0.5\n",
            "End of 46,accuracy0.6000000238418579\n"
          ]
        },
        {
          "output_type": "stream",
          "name": "stderr",
          "text": [
            "Epoch 46:  80%|████████  | 41/51 [00:00<00:00, 202.70batch/s]"
          ]
        },
        {
          "output_type": "stream",
          "name": "stdout",
          "text": [
            "End of 46,accuracy0.800000011920929\n",
            "End of 46,accuracy0.800000011920929\n",
            "End of 46,accuracy0.4000000059604645\n"
          ]
        },
        {
          "output_type": "stream",
          "name": "stderr",
          "text": [
            "Epoch 46:  86%|████████▋ | 44/51 [00:00<00:00, 192.61batch/s]"
          ]
        },
        {
          "output_type": "stream",
          "name": "stdout",
          "text": [
            "End of 46,accuracy0.699999988079071\n",
            "End of 46,accuracy0.6000000238418579\n",
            "End of 46,accuracy0.5\n"
          ]
        },
        {
          "output_type": "stream",
          "name": "stderr",
          "text": [
            "Epoch 46: 100%|██████████| 51/51 [00:00<00:00, 185.31batch/s]"
          ]
        },
        {
          "output_type": "stream",
          "name": "stdout",
          "text": [
            "End of 46,accuracy0.30000001192092896\n",
            "End of 46,accuracy0.4000000059604645\n",
            "End of 46,accuracy0.5\n",
            "End of 46,accuracy0.6000000238418579\n",
            "End of 46,accuracy0.5\n",
            "End of 46,accuracy0.8999999761581421\n",
            "End of 46,accuracy0.699999988079071\n"
          ]
        },
        {
          "output_type": "stream",
          "name": "stderr",
          "text": [
            "\n",
            "Epoch 47:  12%|█▏        | 6/51 [00:00<00:00, 191.80batch/s]"
          ]
        },
        {
          "output_type": "stream",
          "name": "stdout",
          "text": [
            "End of 47,accuracy0.6000000238418579\n",
            "End of 47,accuracy0.800000011920929\n",
            "End of 47,accuracy0.5\n",
            "End of 47,accuracy0.5\n",
            "End of 47,accuracy0.8999999761581421\n",
            "End of 47,accuracy0.5\n"
          ]
        },
        {
          "output_type": "stream",
          "name": "stderr",
          "text": [
            "Epoch 47:  22%|██▏       | 11/51 [00:00<00:00, 203.40batch/s]"
          ]
        },
        {
          "output_type": "stream",
          "name": "stdout",
          "text": [
            "End of 47,accuracy0.699999988079071\n",
            "End of 47,accuracy0.699999988079071\n",
            "End of 47,accuracy0.699999988079071\n",
            "End of 47,accuracy0.6000000238418579\n",
            "End of 47,accuracy0.5\n"
          ]
        },
        {
          "output_type": "stream",
          "name": "stderr",
          "text": [
            "Epoch 47:  25%|██▌       | 13/51 [00:00<00:00, 199.18batch/s]"
          ]
        },
        {
          "output_type": "stream",
          "name": "stdout",
          "text": [
            "End of 47,accuracy0.6000000238418579\n",
            "End of 47,accuracy0.8999999761581421\n"
          ]
        },
        {
          "output_type": "stream",
          "name": "stderr",
          "text": [
            "Epoch 47:  47%|████▋     | 24/51 [00:00<00:00, 184.64batch/s]"
          ]
        },
        {
          "output_type": "stream",
          "name": "stdout",
          "text": [
            "End of 47,accuracy0.4000000059604645\n",
            "End of 47,accuracy0.699999988079071\n",
            "End of 47,accuracy0.6000000238418579\n",
            "End of 47,accuracy0.5\n",
            "End of 47,accuracy0.800000011920929\n",
            "End of 47,accuracy0.6000000238418579\n",
            "End of 47,accuracy0.6000000238418579\n",
            "End of 47,accuracy0.800000011920929\n",
            "End of 47,accuracy0.5\n",
            "End of 47,accuracy0.699999988079071\n",
            "End of 47,accuracy0.6000000238418579\n"
          ]
        },
        {
          "output_type": "stream",
          "name": "stderr",
          "text": [
            "Epoch 47:  53%|█████▎    | 27/51 [00:00<00:00, 186.87batch/s]"
          ]
        },
        {
          "output_type": "stream",
          "name": "stdout",
          "text": [
            "End of 47,accuracy0.6000000238418579\n",
            "End of 47,accuracy0.800000011920929\n",
            "End of 47,accuracy0.800000011920929\n"
          ]
        },
        {
          "output_type": "stream",
          "name": "stderr",
          "text": [
            "Epoch 47:  59%|█████▉    | 30/51 [00:00<00:00, 199.82batch/s]"
          ]
        },
        {
          "output_type": "stream",
          "name": "stdout",
          "text": [
            "End of 47,accuracy1.0\n",
            "End of 47,accuracy0.699999988079071\n",
            "End of 47,accuracy0.6000000238418579\n"
          ]
        },
        {
          "output_type": "stream",
          "name": "stderr",
          "text": [
            "Epoch 47:  76%|███████▋  | 39/51 [00:00<00:00, 180.16batch/s]"
          ]
        },
        {
          "output_type": "stream",
          "name": "stdout",
          "text": [
            "End of 47,accuracy0.699999988079071\n",
            "End of 47,accuracy0.8999999761581421\n",
            "End of 47,accuracy0.6000000238418579\n",
            "End of 47,accuracy0.699999988079071\n",
            "End of 47,accuracy0.699999988079071\n",
            "End of 47,accuracy0.800000011920929\n",
            "End of 47,accuracy0.5\n",
            "End of 47,accuracy0.6000000238418579\n",
            "End of 47,accuracy0.800000011920929\n"
          ]
        },
        {
          "output_type": "stream",
          "name": "stderr",
          "text": [
            "Epoch 47:  88%|████████▊ | 45/51 [00:00<00:00, 175.56batch/s]"
          ]
        },
        {
          "output_type": "stream",
          "name": "stdout",
          "text": [
            "End of 47,accuracy0.800000011920929\n",
            "End of 47,accuracy0.4000000059604645\n",
            "End of 47,accuracy0.699999988079071\n",
            "End of 47,accuracy0.6000000238418579\n",
            "End of 47,accuracy0.5\n",
            "End of 47,accuracy0.4000000059604645\n"
          ]
        },
        {
          "output_type": "stream",
          "name": "stderr",
          "text": [
            "Epoch 47:  98%|█████████▊| 50/51 [00:00<00:00, 208.32batch/s]"
          ]
        },
        {
          "output_type": "stream",
          "name": "stdout",
          "text": [
            "End of 47,accuracy0.4000000059604645\n",
            "End of 47,accuracy0.5\n",
            "End of 47,accuracy0.6000000238418579\n",
            "End of 47,accuracy0.5\n",
            "End of 47,accuracy0.8999999761581421\n",
            "End of 47,accuracy0.699999988079071\n"
          ]
        },
        {
          "output_type": "stream",
          "name": "stderr",
          "text": [
            "Epoch 47: 100%|██████████| 51/51 [00:00<00:00, 190.32batch/s]\n",
            "Epoch 48:  18%|█▊        | 9/51 [00:00<00:00, 171.59batch/s]"
          ]
        },
        {
          "output_type": "stream",
          "name": "stdout",
          "text": [
            "End of 48,accuracy0.6000000238418579\n",
            "End of 48,accuracy0.800000011920929\n",
            "End of 48,accuracy0.6000000238418579\n",
            "End of 48,accuracy0.5\n",
            "End of 48,accuracy0.8999999761581421\n",
            "End of 48,accuracy0.5\n",
            "End of 48,accuracy0.699999988079071\n",
            "End of 48,accuracy0.699999988079071\n",
            "End of 48,accuracy0.699999988079071\n"
          ]
        },
        {
          "output_type": "stream",
          "name": "stderr",
          "text": [
            "Epoch 48:  22%|██▏       | 11/51 [00:00<00:00, 166.25batch/s]"
          ]
        },
        {
          "output_type": "stream",
          "name": "stdout",
          "text": [
            "End of 48,accuracy0.699999988079071\n",
            "End of 48,accuracy0.5\n"
          ]
        },
        {
          "output_type": "stream",
          "name": "stderr",
          "text": [
            "Epoch 48:  27%|██▋       | 14/51 [00:00<00:00, 174.57batch/s]"
          ]
        },
        {
          "output_type": "stream",
          "name": "stdout",
          "text": [
            "End of 48,accuracy0.6000000238418579\n",
            "End of 48,accuracy0.8999999761581421\n",
            "End of 48,accuracy0.4000000059604645\n"
          ]
        },
        {
          "output_type": "stream",
          "name": "stderr",
          "text": [
            "Epoch 48:  47%|████▋     | 24/51 [00:00<00:00, 209.22batch/s]"
          ]
        },
        {
          "output_type": "stream",
          "name": "stdout",
          "text": [
            "End of 48,accuracy0.6000000238418579\n",
            "End of 48,accuracy0.6000000238418579\n",
            "End of 48,accuracy0.5\n",
            "End of 48,accuracy0.800000011920929\n",
            "End of 48,accuracy0.6000000238418579\n",
            "End of 48,accuracy0.6000000238418579\n",
            "End of 48,accuracy0.800000011920929\n",
            "End of 48,accuracy0.5\n",
            "End of 48,accuracy0.699999988079071\n",
            "End of 48,accuracy0.6000000238418579\n"
          ]
        },
        {
          "output_type": "stream",
          "name": "stderr",
          "text": [
            "Epoch 48:  59%|█████▉    | 30/51 [00:00<00:00, 202.63batch/s]"
          ]
        },
        {
          "output_type": "stream",
          "name": "stdout",
          "text": [
            "End of 48,accuracy0.6000000238418579\n",
            "End of 48,accuracy0.800000011920929\n",
            "End of 48,accuracy0.800000011920929\n",
            "End of 48,accuracy1.0\n",
            "End of 48,accuracy0.699999988079071\n",
            "End of 48,accuracy0.6000000238418579\n"
          ]
        },
        {
          "output_type": "stream",
          "name": "stderr",
          "text": [
            "Epoch 48:  69%|██████▊   | 35/51 [00:00<00:00, 200.76batch/s]"
          ]
        },
        {
          "output_type": "stream",
          "name": "stdout",
          "text": [
            "End of 48,accuracy0.699999988079071\n",
            "End of 48,accuracy0.8999999761581421\n",
            "End of 48,accuracy0.6000000238418579\n",
            "End of 48,accuracy0.699999988079071\n",
            "End of 48,accuracy0.699999988079071\n"
          ]
        },
        {
          "output_type": "stream",
          "name": "stderr",
          "text": [
            "Epoch 48:  75%|███████▍  | 38/51 [00:00<00:00, 192.26batch/s]"
          ]
        },
        {
          "output_type": "stream",
          "name": "stdout",
          "text": [
            "End of 48,accuracy0.800000011920929\n",
            "End of 48,accuracy0.5\n",
            "End of 48,accuracy0.6000000238418579\n"
          ]
        },
        {
          "output_type": "stream",
          "name": "stderr",
          "text": [
            "Epoch 48:  92%|█████████▏| 47/51 [00:00<00:00, 190.93batch/s]"
          ]
        },
        {
          "output_type": "stream",
          "name": "stdout",
          "text": [
            "End of 48,accuracy0.800000011920929\n",
            "End of 48,accuracy0.800000011920929\n",
            "End of 48,accuracy0.4000000059604645\n",
            "End of 48,accuracy0.699999988079071\n",
            "End of 48,accuracy0.6000000238418579\n",
            "End of 48,accuracy0.5\n",
            "End of 48,accuracy0.4000000059604645\n",
            "End of 48,accuracy0.4000000059604645\n",
            "End of 48,accuracy0.5\n",
            "End of 48,accuracy0.6000000238418579\n"
          ]
        },
        {
          "output_type": "stream",
          "name": "stderr",
          "text": [
            "Epoch 48:  96%|█████████▌| 49/51 [00:00<00:00, 150.38batch/s]"
          ]
        },
        {
          "output_type": "stream",
          "name": "stdout",
          "text": [
            "End of 48,accuracy0.5\n"
          ]
        },
        {
          "output_type": "stream",
          "name": "stderr",
          "text": [
            "Epoch 48: 100%|██████████| 51/51 [00:00<00:00, 182.47batch/s]\n"
          ]
        },
        {
          "output_type": "stream",
          "name": "stdout",
          "text": [
            "End of 48,accuracy0.8999999761581421\n",
            "End of 48,accuracy0.699999988079071\n"
          ]
        },
        {
          "output_type": "stream",
          "name": "stderr",
          "text": [
            "Epoch 49:  14%|█▎        | 7/51 [00:00<00:00, 172.08batch/s]"
          ]
        },
        {
          "output_type": "stream",
          "name": "stdout",
          "text": [
            "End of 49,accuracy0.6000000238418579\n",
            "End of 49,accuracy0.800000011920929\n",
            "End of 49,accuracy0.6000000238418579\n",
            "End of 49,accuracy0.5\n",
            "End of 49,accuracy0.8999999761581421\n",
            "End of 49,accuracy0.5\n",
            "End of 49,accuracy0.699999988079071\n"
          ]
        },
        {
          "output_type": "stream",
          "name": "stderr",
          "text": [
            "Epoch 49:  24%|██▎       | 12/51 [00:00<00:00, 156.48batch/s]"
          ]
        },
        {
          "output_type": "stream",
          "name": "stdout",
          "text": [
            "End of 49,accuracy0.699999988079071\n",
            "End of 49,accuracy0.699999988079071\n",
            "End of 49,accuracy0.699999988079071\n",
            "End of 49,accuracy0.5\n",
            "End of 49,accuracy0.6000000238418579\n"
          ]
        },
        {
          "output_type": "stream",
          "name": "stderr",
          "text": [
            "Epoch 49:  33%|███▎      | 17/51 [00:00<00:00, 177.78batch/s]"
          ]
        },
        {
          "output_type": "stream",
          "name": "stdout",
          "text": [
            "End of 49,accuracy0.8999999761581421\n",
            "End of 49,accuracy0.4000000059604645\n",
            "End of 49,accuracy0.6000000238418579\n",
            "End of 49,accuracy0.6000000238418579\n",
            "End of 49,accuracy0.5\n"
          ]
        },
        {
          "output_type": "stream",
          "name": "stderr",
          "text": [
            "Epoch 49:  39%|███▉      | 20/51 [00:00<00:00, 188.81batch/s]"
          ]
        },
        {
          "output_type": "stream",
          "name": "stdout",
          "text": [
            "End of 49,accuracy0.800000011920929\n",
            "End of 49,accuracy0.6000000238418579\n",
            "End of 49,accuracy0.6000000238418579\n"
          ]
        },
        {
          "output_type": "stream",
          "name": "stderr",
          "text": [
            "Epoch 49:  63%|██████▎   | 32/51 [00:00<00:00, 204.68batch/s]"
          ]
        },
        {
          "output_type": "stream",
          "name": "stdout",
          "text": [
            "End of 49,accuracy0.800000011920929\n",
            "End of 49,accuracy0.5\n",
            "End of 49,accuracy0.699999988079071\n",
            "End of 49,accuracy0.6000000238418579\n",
            "End of 49,accuracy0.6000000238418579\n",
            "End of 49,accuracy0.800000011920929\n",
            "End of 49,accuracy0.800000011920929\n",
            "End of 49,accuracy1.0\n",
            "End of 49,accuracy0.699999988079071\n",
            "End of 49,accuracy0.6000000238418579\n",
            "End of 49,accuracy0.699999988079071\n",
            "End of 49,accuracy0.8999999761581421\n",
            "End of 49,accuracy0.6000000238418579"
          ]
        },
        {
          "output_type": "stream",
          "name": "stderr",
          "text": [
            "Epoch 49:  75%|███████▍  | 38/51 [00:00<00:00, 190.21batch/s]"
          ]
        },
        {
          "output_type": "stream",
          "name": "stdout",
          "text": [
            "\n",
            "End of 49,accuracy0.699999988079071\n",
            "End of 49,accuracy0.699999988079071\n",
            "End of 49,accuracy0.800000011920929\n",
            "End of 49,accuracy0.5\n",
            "End of 49,accuracy0.6000000238418579\n"
          ]
        },
        {
          "output_type": "stream",
          "name": "stderr",
          "text": [
            "Epoch 49:  86%|████████▋ | 44/51 [00:00<00:00, 168.20batch/s]"
          ]
        },
        {
          "output_type": "stream",
          "name": "stdout",
          "text": [
            "End of 49,accuracy0.800000011920929\n",
            "End of 49,accuracy0.800000011920929\n",
            "End of 49,accuracy0.4000000059604645\n",
            "End of 49,accuracy0.699999988079071\n",
            "End of 49,accuracy0.6000000238418579\n",
            "End of 49,accuracy0.5\n"
          ]
        },
        {
          "output_type": "stream",
          "name": "stderr",
          "text": [
            "Epoch 49:  98%|█████████▊| 50/51 [00:00<00:00, 188.03batch/s]"
          ]
        },
        {
          "output_type": "stream",
          "name": "stdout",
          "text": [
            "End of 49,accuracy0.4000000059604645\n",
            "End of 49,accuracy0.4000000059604645\n",
            "End of 49,accuracy0.5\n",
            "End of 49,accuracy0.6000000238418579\n",
            "End of 49,accuracy0.5\n",
            "End of 49,accuracy0.8999999761581421\n",
            "End of 49,accuracy0.699999988079071\n"
          ]
        },
        {
          "output_type": "stream",
          "name": "stderr",
          "text": [
            "Epoch 49: 100%|██████████| 51/51 [00:00<00:00, 176.70batch/s]\n"
          ]
        }
      ]
    },
    {
      "cell_type": "code",
      "source": [],
      "metadata": {
        "id": "s7K5fEY_7YEa"
      },
      "execution_count": 22,
      "outputs": []
    }
  ]
}